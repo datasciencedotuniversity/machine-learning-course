{
 "cells": [
  {
   "cell_type": "code",
   "execution_count": 1,
   "metadata": {},
   "outputs": [],
   "source": [
    "## 1 Getting the Data Ready\n",
    "## 2 Choosing Machine Learning Model\n",
    "## 3 Fit Model\n",
    "## 4 Evaluate Model\n",
    "## 5 Improve Model\n",
    "## 6 Saving the Model\n",
    "## 7 Summary"
   ]
  },
  {
   "cell_type": "code",
   "execution_count": 13,
   "metadata": {},
   "outputs": [],
   "source": [
    "from sklearn.metrics import r2_score,mean_absolute_error,mean_squared_error\n",
    "from sklearn.ensemble import RandomForestRegressor\n",
    "from sklearn.model_selection import train_test_split\n",
    "from sklearn.datasets import load_boston\n",
    "import numpy as np\n",
    "import pandas as pd\n",
    "np.random.seed(7)\n"
   ]
  },
  {
   "cell_type": "code",
   "execution_count": 3,
   "metadata": {},
   "outputs": [
    {
     "data": {
      "text/html": [
       "<div>\n",
       "<style scoped>\n",
       "    .dataframe tbody tr th:only-of-type {\n",
       "        vertical-align: middle;\n",
       "    }\n",
       "\n",
       "    .dataframe tbody tr th {\n",
       "        vertical-align: top;\n",
       "    }\n",
       "\n",
       "    .dataframe thead th {\n",
       "        text-align: right;\n",
       "    }\n",
       "</style>\n",
       "<table border=\"1\" class=\"dataframe\">\n",
       "  <thead>\n",
       "    <tr style=\"text-align: right;\">\n",
       "      <th></th>\n",
       "      <th>age</th>\n",
       "      <th>sex</th>\n",
       "      <th>cp</th>\n",
       "      <th>trestbps</th>\n",
       "      <th>chol</th>\n",
       "      <th>fbs</th>\n",
       "      <th>restecg</th>\n",
       "      <th>thalach</th>\n",
       "      <th>exang</th>\n",
       "      <th>oldpeak</th>\n",
       "      <th>slope</th>\n",
       "      <th>ca</th>\n",
       "      <th>thal</th>\n",
       "      <th>target</th>\n",
       "    </tr>\n",
       "  </thead>\n",
       "  <tbody>\n",
       "    <tr>\n",
       "      <th>0</th>\n",
       "      <td>63</td>\n",
       "      <td>1</td>\n",
       "      <td>3</td>\n",
       "      <td>145</td>\n",
       "      <td>233</td>\n",
       "      <td>1</td>\n",
       "      <td>0</td>\n",
       "      <td>150</td>\n",
       "      <td>0</td>\n",
       "      <td>2.3</td>\n",
       "      <td>0</td>\n",
       "      <td>0</td>\n",
       "      <td>1</td>\n",
       "      <td>1</td>\n",
       "    </tr>\n",
       "    <tr>\n",
       "      <th>1</th>\n",
       "      <td>37</td>\n",
       "      <td>1</td>\n",
       "      <td>2</td>\n",
       "      <td>130</td>\n",
       "      <td>250</td>\n",
       "      <td>0</td>\n",
       "      <td>1</td>\n",
       "      <td>187</td>\n",
       "      <td>0</td>\n",
       "      <td>3.5</td>\n",
       "      <td>0</td>\n",
       "      <td>0</td>\n",
       "      <td>2</td>\n",
       "      <td>1</td>\n",
       "    </tr>\n",
       "    <tr>\n",
       "      <th>2</th>\n",
       "      <td>41</td>\n",
       "      <td>0</td>\n",
       "      <td>1</td>\n",
       "      <td>130</td>\n",
       "      <td>204</td>\n",
       "      <td>0</td>\n",
       "      <td>0</td>\n",
       "      <td>172</td>\n",
       "      <td>0</td>\n",
       "      <td>1.4</td>\n",
       "      <td>2</td>\n",
       "      <td>0</td>\n",
       "      <td>2</td>\n",
       "      <td>1</td>\n",
       "    </tr>\n",
       "    <tr>\n",
       "      <th>3</th>\n",
       "      <td>56</td>\n",
       "      <td>1</td>\n",
       "      <td>1</td>\n",
       "      <td>120</td>\n",
       "      <td>236</td>\n",
       "      <td>0</td>\n",
       "      <td>1</td>\n",
       "      <td>178</td>\n",
       "      <td>0</td>\n",
       "      <td>0.8</td>\n",
       "      <td>2</td>\n",
       "      <td>0</td>\n",
       "      <td>2</td>\n",
       "      <td>1</td>\n",
       "    </tr>\n",
       "    <tr>\n",
       "      <th>4</th>\n",
       "      <td>57</td>\n",
       "      <td>0</td>\n",
       "      <td>0</td>\n",
       "      <td>120</td>\n",
       "      <td>354</td>\n",
       "      <td>0</td>\n",
       "      <td>1</td>\n",
       "      <td>163</td>\n",
       "      <td>1</td>\n",
       "      <td>0.6</td>\n",
       "      <td>2</td>\n",
       "      <td>0</td>\n",
       "      <td>2</td>\n",
       "      <td>1</td>\n",
       "    </tr>\n",
       "    <tr>\n",
       "      <th>...</th>\n",
       "      <td>...</td>\n",
       "      <td>...</td>\n",
       "      <td>...</td>\n",
       "      <td>...</td>\n",
       "      <td>...</td>\n",
       "      <td>...</td>\n",
       "      <td>...</td>\n",
       "      <td>...</td>\n",
       "      <td>...</td>\n",
       "      <td>...</td>\n",
       "      <td>...</td>\n",
       "      <td>...</td>\n",
       "      <td>...</td>\n",
       "      <td>...</td>\n",
       "    </tr>\n",
       "    <tr>\n",
       "      <th>298</th>\n",
       "      <td>57</td>\n",
       "      <td>0</td>\n",
       "      <td>0</td>\n",
       "      <td>140</td>\n",
       "      <td>241</td>\n",
       "      <td>0</td>\n",
       "      <td>1</td>\n",
       "      <td>123</td>\n",
       "      <td>1</td>\n",
       "      <td>0.2</td>\n",
       "      <td>1</td>\n",
       "      <td>0</td>\n",
       "      <td>3</td>\n",
       "      <td>0</td>\n",
       "    </tr>\n",
       "    <tr>\n",
       "      <th>299</th>\n",
       "      <td>45</td>\n",
       "      <td>1</td>\n",
       "      <td>3</td>\n",
       "      <td>110</td>\n",
       "      <td>264</td>\n",
       "      <td>0</td>\n",
       "      <td>1</td>\n",
       "      <td>132</td>\n",
       "      <td>0</td>\n",
       "      <td>1.2</td>\n",
       "      <td>1</td>\n",
       "      <td>0</td>\n",
       "      <td>3</td>\n",
       "      <td>0</td>\n",
       "    </tr>\n",
       "    <tr>\n",
       "      <th>300</th>\n",
       "      <td>68</td>\n",
       "      <td>1</td>\n",
       "      <td>0</td>\n",
       "      <td>144</td>\n",
       "      <td>193</td>\n",
       "      <td>1</td>\n",
       "      <td>1</td>\n",
       "      <td>141</td>\n",
       "      <td>0</td>\n",
       "      <td>3.4</td>\n",
       "      <td>1</td>\n",
       "      <td>2</td>\n",
       "      <td>3</td>\n",
       "      <td>0</td>\n",
       "    </tr>\n",
       "    <tr>\n",
       "      <th>301</th>\n",
       "      <td>57</td>\n",
       "      <td>1</td>\n",
       "      <td>0</td>\n",
       "      <td>130</td>\n",
       "      <td>131</td>\n",
       "      <td>0</td>\n",
       "      <td>1</td>\n",
       "      <td>115</td>\n",
       "      <td>1</td>\n",
       "      <td>1.2</td>\n",
       "      <td>1</td>\n",
       "      <td>1</td>\n",
       "      <td>3</td>\n",
       "      <td>0</td>\n",
       "    </tr>\n",
       "    <tr>\n",
       "      <th>302</th>\n",
       "      <td>57</td>\n",
       "      <td>0</td>\n",
       "      <td>1</td>\n",
       "      <td>130</td>\n",
       "      <td>236</td>\n",
       "      <td>0</td>\n",
       "      <td>0</td>\n",
       "      <td>174</td>\n",
       "      <td>0</td>\n",
       "      <td>0.0</td>\n",
       "      <td>1</td>\n",
       "      <td>1</td>\n",
       "      <td>2</td>\n",
       "      <td>0</td>\n",
       "    </tr>\n",
       "  </tbody>\n",
       "</table>\n",
       "<p>303 rows × 14 columns</p>\n",
       "</div>"
      ],
      "text/plain": [
       "     age  sex  cp  trestbps  chol  fbs  restecg  thalach  exang  oldpeak  \\\n",
       "0     63    1   3       145   233    1        0      150      0      2.3   \n",
       "1     37    1   2       130   250    0        1      187      0      3.5   \n",
       "2     41    0   1       130   204    0        0      172      0      1.4   \n",
       "3     56    1   1       120   236    0        1      178      0      0.8   \n",
       "4     57    0   0       120   354    0        1      163      1      0.6   \n",
       "..   ...  ...  ..       ...   ...  ...      ...      ...    ...      ...   \n",
       "298   57    0   0       140   241    0        1      123      1      0.2   \n",
       "299   45    1   3       110   264    0        1      132      0      1.2   \n",
       "300   68    1   0       144   193    1        1      141      0      3.4   \n",
       "301   57    1   0       130   131    0        1      115      1      1.2   \n",
       "302   57    0   1       130   236    0        0      174      0      0.0   \n",
       "\n",
       "     slope  ca  thal  target  \n",
       "0        0   0     1       1  \n",
       "1        0   0     2       1  \n",
       "2        2   0     2       1  \n",
       "3        2   0     2       1  \n",
       "4        2   0     2       1  \n",
       "..     ...  ..   ...     ...  \n",
       "298      1   0     3       0  \n",
       "299      1   0     3       0  \n",
       "300      1   2     3       0  \n",
       "301      1   1     3       0  \n",
       "302      1   1     2       0  \n",
       "\n",
       "[303 rows x 14 columns]"
      ]
     },
     "execution_count": 3,
     "metadata": {},
     "output_type": "execute_result"
    }
   ],
   "source": [
    "heart_disease = pd.read_csv('datasets_33180_43520_heart.csv')\n",
    "heart_disease"
   ]
  },
  {
   "cell_type": "code",
   "execution_count": 4,
   "metadata": {},
   "outputs": [
    {
     "data": {
      "text/plain": [
       "0      1\n",
       "1      1\n",
       "2      1\n",
       "3      1\n",
       "4      1\n",
       "      ..\n",
       "298    0\n",
       "299    0\n",
       "300    0\n",
       "301    0\n",
       "302    0\n",
       "Name: target, Length: 303, dtype: int64"
      ]
     },
     "execution_count": 4,
     "metadata": {},
     "output_type": "execute_result"
    }
   ],
   "source": [
    "# create X \n",
    "X = heart_disease.drop('target',axis=1)\n",
    "X\n",
    "# Create Y\n",
    "Y = heart_disease['target']\n",
    "Y"
   ]
  },
  {
   "cell_type": "code",
   "execution_count": 5,
   "metadata": {},
   "outputs": [
    {
     "data": {
      "text/plain": [
       "{'bootstrap': True,\n",
       " 'ccp_alpha': 0.0,\n",
       " 'class_weight': None,\n",
       " 'criterion': 'gini',\n",
       " 'max_depth': None,\n",
       " 'max_features': 'auto',\n",
       " 'max_leaf_nodes': None,\n",
       " 'max_samples': None,\n",
       " 'min_impurity_decrease': 0.0,\n",
       " 'min_impurity_split': None,\n",
       " 'min_samples_leaf': 1,\n",
       " 'min_samples_split': 2,\n",
       " 'min_weight_fraction_leaf': 0.0,\n",
       " 'n_estimators': 100,\n",
       " 'n_jobs': None,\n",
       " 'oob_score': False,\n",
       " 'random_state': None,\n",
       " 'verbose': 0,\n",
       " 'warm_start': False}"
      ]
     },
     "execution_count": 5,
     "metadata": {},
     "output_type": "execute_result"
    }
   ],
   "source": [
    "## 2 Choosing Machine Learning Model\n",
    "from sklearn.ensemble import RandomForestClassifier \n",
    "clf = RandomForestClassifier()\n",
    "\n",
    "clf.get_params()"
   ]
  },
  {
   "cell_type": "code",
   "execution_count": 6,
   "metadata": {},
   "outputs": [],
   "source": [
    "## 3 Fit Model\n",
    "from sklearn.model_selection import train_test_split\n",
    "X_train, X_test, Y_train, Y_test = train_test_split(X,Y,test_size=0.3)"
   ]
  },
  {
   "cell_type": "code",
   "execution_count": 7,
   "metadata": {},
   "outputs": [
    {
     "data": {
      "text/plain": [
       "RandomForestClassifier(bootstrap=True, ccp_alpha=0.0, class_weight=None,\n",
       "                       criterion='gini', max_depth=None, max_features='auto',\n",
       "                       max_leaf_nodes=None, max_samples=None,\n",
       "                       min_impurity_decrease=0.0, min_impurity_split=None,\n",
       "                       min_samples_leaf=1, min_samples_split=2,\n",
       "                       min_weight_fraction_leaf=0.0, n_estimators=100,\n",
       "                       n_jobs=None, oob_score=False, random_state=None,\n",
       "                       verbose=0, warm_start=False)"
      ]
     },
     "execution_count": 7,
     "metadata": {},
     "output_type": "execute_result"
    }
   ],
   "source": [
    "clf.fit(X_train,Y_train)"
   ]
  },
  {
   "cell_type": "code",
   "execution_count": 8,
   "metadata": {},
   "outputs": [
    {
     "data": {
      "text/plain": [
       "array([0, 1, 1, 0, 0, 1, 1, 1, 1, 1, 1, 1, 0, 0, 1, 1, 0, 1, 1, 1, 0, 1,\n",
       "       0, 1, 1, 1, 0, 0, 0, 0, 1, 0, 0, 0, 0, 1, 0, 0, 0, 0, 0, 1, 1, 0,\n",
       "       1, 1, 0, 0, 1, 1, 1, 0, 0, 0, 1, 1, 1, 0, 0, 0, 1, 1, 1, 1, 1, 1,\n",
       "       1, 1, 1, 1, 1, 1, 1, 0, 0, 1, 0, 1, 1, 1, 1, 0, 1, 1, 1, 1, 1, 1,\n",
       "       1, 1, 0], dtype=int64)"
      ]
     },
     "execution_count": 8,
     "metadata": {},
     "output_type": "execute_result"
    }
   ],
   "source": [
    "## 4 Evaluate Model\n",
    "predicted_y =clf.predict(X_test)\n",
    "predicted_y"
   ]
  },
  {
   "cell_type": "code",
   "execution_count": 9,
   "metadata": {},
   "outputs": [
    {
     "data": {
      "text/plain": [
       "1.0"
      ]
     },
     "execution_count": 9,
     "metadata": {},
     "output_type": "execute_result"
    }
   ],
   "source": [
    "clf.score(X_train,Y_train)"
   ]
  },
  {
   "cell_type": "code",
   "execution_count": 10,
   "metadata": {},
   "outputs": [
    {
     "data": {
      "text/plain": [
       "0.8241758241758241"
      ]
     },
     "execution_count": 10,
     "metadata": {},
     "output_type": "execute_result"
    }
   ],
   "source": [
    "clf.score(X_test,Y_test)"
   ]
  },
  {
   "cell_type": "code",
   "execution_count": 11,
   "metadata": {},
   "outputs": [],
   "source": [
    "## 5 Improve Model"
   ]
  },
  {
   "cell_type": "code",
   "execution_count": 12,
   "metadata": {},
   "outputs": [
    {
     "name": "stdout",
     "output_type": "stream",
     "text": [
      "Running Model with 10 estimators \n",
      "Accuratcy is :0.8131868131868132\n",
      "Running Model with 20 estimators \n",
      "Accuratcy is :0.8241758241758241\n",
      "Running Model with 30 estimators \n",
      "Accuratcy is :0.8241758241758241\n",
      "Running Model with 40 estimators \n",
      "Accuratcy is :0.8351648351648352\n",
      "Running Model with 50 estimators \n",
      "Accuratcy is :0.8351648351648352\n",
      "Running Model with 60 estimators \n",
      "Accuratcy is :0.8241758241758241\n",
      "Running Model with 70 estimators \n",
      "Accuratcy is :0.8241758241758241\n",
      "Running Model with 80 estimators \n",
      "Accuratcy is :0.8241758241758241\n",
      "Running Model with 90 estimators \n",
      "Accuratcy is :0.8241758241758241\n",
      "Running Model with 100 estimators \n",
      "Accuratcy is :0.8351648351648352\n",
      "Running Model with 110 estimators \n",
      "Accuratcy is :0.8131868131868132\n",
      "Running Model with 120 estimators \n",
      "Accuratcy is :0.8461538461538461\n",
      "Running Model with 130 estimators \n",
      "Accuratcy is :0.8241758241758241\n",
      "Running Model with 140 estimators \n",
      "Accuratcy is :0.8131868131868132\n",
      "Running Model with 150 estimators \n",
      "Accuratcy is :0.8131868131868132\n",
      "Running Model with 160 estimators \n",
      "Accuratcy is :0.8131868131868132\n",
      "Running Model with 170 estimators \n",
      "Accuratcy is :0.8241758241758241\n",
      "Running Model with 180 estimators \n",
      "Accuratcy is :0.8131868131868132\n",
      "Running Model with 190 estimators \n",
      "Accuratcy is :0.8241758241758241\n"
     ]
    }
   ],
   "source": [
    "for i in range(10,200,10):\n",
    "    print(f'Running Model with {i} estimators ')\n",
    "    clf = RandomForestClassifier(n_estimators=190).fit(X_train,Y_train)\n",
    "    print(f'Accuratcy is :{clf.score(X_test,Y_test)}')"
   ]
  },
  {
   "cell_type": "code",
   "execution_count": 13,
   "metadata": {},
   "outputs": [],
   "source": [
    "# Save model\n",
    "import pickle\n",
    "\n",
    "pickle.dump(clf,open('Heart Disear Predictor.pkl','wb'))"
   ]
  },
  {
   "cell_type": "code",
   "execution_count": 14,
   "metadata": {},
   "outputs": [
    {
     "data": {
      "text/plain": [
       "0.8241758241758241"
      ]
     },
     "execution_count": 14,
     "metadata": {},
     "output_type": "execute_result"
    }
   ],
   "source": [
    "load_model = pickle.load(open('Heart Disear Predictor.pkl','rb'))\n",
    "load_model.score(X_test,Y_test)"
   ]
  },
  {
   "cell_type": "code",
   "execution_count": 15,
   "metadata": {},
   "outputs": [],
   "source": [
    "sklearn_steps = [\n",
    "        \"1 Getting the Data Ready\",\n",
    "        \"2 Choosing Machine Learning Model\" ,\n",
    "        \"3 Fit Model\",\n",
    "        \"4 Evaluate Model\",\n",
    "        \"5 Improve Model\",\n",
    "        \"6 Saving the Model\",\n",
    "        \"7 Summary\",\n",
    "]"
   ]
  },
  {
   "cell_type": "code",
   "execution_count": 16,
   "metadata": {},
   "outputs": [
    {
     "data": {
      "text/plain": [
       "['1 Getting the Data Ready',\n",
       " '2 Choosing Machine Learning Model',\n",
       " '3 Fit Model',\n",
       " '4 Evaluate Model',\n",
       " '5 Improve Model',\n",
       " '6 Saving the Model',\n",
       " '7 Summary']"
      ]
     },
     "execution_count": 16,
     "metadata": {},
     "output_type": "execute_result"
    }
   ],
   "source": [
    "sklearn_steps"
   ]
  },
  {
   "cell_type": "markdown",
   "metadata": {},
   "source": [
    "# 1 Getting your Data Ready\n",
    "## 1.1 Split data into features and label,(independent vs dependent variable),X,y\n",
    "## 1.2 Converting data Types\n",
    "## 1.3 Filling missing values\n",
    "\n"
   ]
  },
  {
   "cell_type": "code",
   "execution_count": 17,
   "metadata": {},
   "outputs": [],
   "source": [
    "# standard Imports\n",
    "import numpy as np\n",
    "import pandas as pd\n",
    "import matplotlib.pyplot as plt\n",
    "%matplotlib inline"
   ]
  },
  {
   "cell_type": "code",
   "execution_count": 20,
   "metadata": {},
   "outputs": [
    {
     "data": {
      "text/html": [
       "<div>\n",
       "<style scoped>\n",
       "    .dataframe tbody tr th:only-of-type {\n",
       "        vertical-align: middle;\n",
       "    }\n",
       "\n",
       "    .dataframe tbody tr th {\n",
       "        vertical-align: top;\n",
       "    }\n",
       "\n",
       "    .dataframe thead th {\n",
       "        text-align: right;\n",
       "    }\n",
       "</style>\n",
       "<table border=\"1\" class=\"dataframe\">\n",
       "  <thead>\n",
       "    <tr style=\"text-align: right;\">\n",
       "      <th></th>\n",
       "      <th>age</th>\n",
       "      <th>sex</th>\n",
       "      <th>cp</th>\n",
       "      <th>trestbps</th>\n",
       "      <th>chol</th>\n",
       "      <th>fbs</th>\n",
       "      <th>restecg</th>\n",
       "      <th>thalach</th>\n",
       "      <th>exang</th>\n",
       "      <th>oldpeak</th>\n",
       "      <th>slope</th>\n",
       "      <th>ca</th>\n",
       "      <th>thal</th>\n",
       "      <th>target</th>\n",
       "    </tr>\n",
       "  </thead>\n",
       "  <tbody>\n",
       "    <tr>\n",
       "      <th>0</th>\n",
       "      <td>63</td>\n",
       "      <td>1</td>\n",
       "      <td>3</td>\n",
       "      <td>145</td>\n",
       "      <td>233</td>\n",
       "      <td>1</td>\n",
       "      <td>0</td>\n",
       "      <td>150</td>\n",
       "      <td>0</td>\n",
       "      <td>2.3</td>\n",
       "      <td>0</td>\n",
       "      <td>0</td>\n",
       "      <td>1</td>\n",
       "      <td>1</td>\n",
       "    </tr>\n",
       "    <tr>\n",
       "      <th>1</th>\n",
       "      <td>37</td>\n",
       "      <td>1</td>\n",
       "      <td>2</td>\n",
       "      <td>130</td>\n",
       "      <td>250</td>\n",
       "      <td>0</td>\n",
       "      <td>1</td>\n",
       "      <td>187</td>\n",
       "      <td>0</td>\n",
       "      <td>3.5</td>\n",
       "      <td>0</td>\n",
       "      <td>0</td>\n",
       "      <td>2</td>\n",
       "      <td>1</td>\n",
       "    </tr>\n",
       "    <tr>\n",
       "      <th>2</th>\n",
       "      <td>41</td>\n",
       "      <td>0</td>\n",
       "      <td>1</td>\n",
       "      <td>130</td>\n",
       "      <td>204</td>\n",
       "      <td>0</td>\n",
       "      <td>0</td>\n",
       "      <td>172</td>\n",
       "      <td>0</td>\n",
       "      <td>1.4</td>\n",
       "      <td>2</td>\n",
       "      <td>0</td>\n",
       "      <td>2</td>\n",
       "      <td>1</td>\n",
       "    </tr>\n",
       "    <tr>\n",
       "      <th>3</th>\n",
       "      <td>56</td>\n",
       "      <td>1</td>\n",
       "      <td>1</td>\n",
       "      <td>120</td>\n",
       "      <td>236</td>\n",
       "      <td>0</td>\n",
       "      <td>1</td>\n",
       "      <td>178</td>\n",
       "      <td>0</td>\n",
       "      <td>0.8</td>\n",
       "      <td>2</td>\n",
       "      <td>0</td>\n",
       "      <td>2</td>\n",
       "      <td>1</td>\n",
       "    </tr>\n",
       "    <tr>\n",
       "      <th>4</th>\n",
       "      <td>57</td>\n",
       "      <td>0</td>\n",
       "      <td>0</td>\n",
       "      <td>120</td>\n",
       "      <td>354</td>\n",
       "      <td>0</td>\n",
       "      <td>1</td>\n",
       "      <td>163</td>\n",
       "      <td>1</td>\n",
       "      <td>0.6</td>\n",
       "      <td>2</td>\n",
       "      <td>0</td>\n",
       "      <td>2</td>\n",
       "      <td>1</td>\n",
       "    </tr>\n",
       "  </tbody>\n",
       "</table>\n",
       "</div>"
      ],
      "text/plain": [
       "   age  sex  cp  trestbps  chol  fbs  restecg  thalach  exang  oldpeak  slope  \\\n",
       "0   63    1   3       145   233    1        0      150      0      2.3      0   \n",
       "1   37    1   2       130   250    0        1      187      0      3.5      0   \n",
       "2   41    0   1       130   204    0        0      172      0      1.4      2   \n",
       "3   56    1   1       120   236    0        1      178      0      0.8      2   \n",
       "4   57    0   0       120   354    0        1      163      1      0.6      2   \n",
       "\n",
       "   ca  thal  target  \n",
       "0   0     1       1  \n",
       "1   0     2       1  \n",
       "2   0     2       1  \n",
       "3   0     2       1  \n",
       "4   0     2       1  "
      ]
     },
     "execution_count": 20,
     "metadata": {},
     "output_type": "execute_result"
    }
   ],
   "source": [
    "heart_disease = pd.read_csv('datasets_33180_43520_heart.csv')\n",
    "heart_disease.head()"
   ]
  },
  {
   "cell_type": "code",
   "execution_count": 19,
   "metadata": {},
   "outputs": [],
   "source": [
    "X = heart_disease.drop('target', axis=1)"
   ]
  },
  {
   "cell_type": "code",
   "execution_count": 20,
   "metadata": {},
   "outputs": [],
   "source": [
    "y = heart_disease['target']"
   ]
  },
  {
   "cell_type": "code",
   "execution_count": 21,
   "metadata": {},
   "outputs": [
    {
     "data": {
      "text/html": [
       "<div>\n",
       "<style scoped>\n",
       "    .dataframe tbody tr th:only-of-type {\n",
       "        vertical-align: middle;\n",
       "    }\n",
       "\n",
       "    .dataframe tbody tr th {\n",
       "        vertical-align: top;\n",
       "    }\n",
       "\n",
       "    .dataframe thead th {\n",
       "        text-align: right;\n",
       "    }\n",
       "</style>\n",
       "<table border=\"1\" class=\"dataframe\">\n",
       "  <thead>\n",
       "    <tr style=\"text-align: right;\">\n",
       "      <th></th>\n",
       "      <th>age</th>\n",
       "      <th>sex</th>\n",
       "      <th>cp</th>\n",
       "      <th>trestbps</th>\n",
       "      <th>chol</th>\n",
       "      <th>fbs</th>\n",
       "      <th>restecg</th>\n",
       "      <th>thalach</th>\n",
       "      <th>exang</th>\n",
       "      <th>oldpeak</th>\n",
       "      <th>slope</th>\n",
       "      <th>ca</th>\n",
       "      <th>thal</th>\n",
       "    </tr>\n",
       "  </thead>\n",
       "  <tbody>\n",
       "    <tr>\n",
       "      <th>0</th>\n",
       "      <td>63</td>\n",
       "      <td>1</td>\n",
       "      <td>3</td>\n",
       "      <td>145</td>\n",
       "      <td>233</td>\n",
       "      <td>1</td>\n",
       "      <td>0</td>\n",
       "      <td>150</td>\n",
       "      <td>0</td>\n",
       "      <td>2.3</td>\n",
       "      <td>0</td>\n",
       "      <td>0</td>\n",
       "      <td>1</td>\n",
       "    </tr>\n",
       "    <tr>\n",
       "      <th>1</th>\n",
       "      <td>37</td>\n",
       "      <td>1</td>\n",
       "      <td>2</td>\n",
       "      <td>130</td>\n",
       "      <td>250</td>\n",
       "      <td>0</td>\n",
       "      <td>1</td>\n",
       "      <td>187</td>\n",
       "      <td>0</td>\n",
       "      <td>3.5</td>\n",
       "      <td>0</td>\n",
       "      <td>0</td>\n",
       "      <td>2</td>\n",
       "    </tr>\n",
       "    <tr>\n",
       "      <th>2</th>\n",
       "      <td>41</td>\n",
       "      <td>0</td>\n",
       "      <td>1</td>\n",
       "      <td>130</td>\n",
       "      <td>204</td>\n",
       "      <td>0</td>\n",
       "      <td>0</td>\n",
       "      <td>172</td>\n",
       "      <td>0</td>\n",
       "      <td>1.4</td>\n",
       "      <td>2</td>\n",
       "      <td>0</td>\n",
       "      <td>2</td>\n",
       "    </tr>\n",
       "    <tr>\n",
       "      <th>3</th>\n",
       "      <td>56</td>\n",
       "      <td>1</td>\n",
       "      <td>1</td>\n",
       "      <td>120</td>\n",
       "      <td>236</td>\n",
       "      <td>0</td>\n",
       "      <td>1</td>\n",
       "      <td>178</td>\n",
       "      <td>0</td>\n",
       "      <td>0.8</td>\n",
       "      <td>2</td>\n",
       "      <td>0</td>\n",
       "      <td>2</td>\n",
       "    </tr>\n",
       "    <tr>\n",
       "      <th>4</th>\n",
       "      <td>57</td>\n",
       "      <td>0</td>\n",
       "      <td>0</td>\n",
       "      <td>120</td>\n",
       "      <td>354</td>\n",
       "      <td>0</td>\n",
       "      <td>1</td>\n",
       "      <td>163</td>\n",
       "      <td>1</td>\n",
       "      <td>0.6</td>\n",
       "      <td>2</td>\n",
       "      <td>0</td>\n",
       "      <td>2</td>\n",
       "    </tr>\n",
       "  </tbody>\n",
       "</table>\n",
       "</div>"
      ],
      "text/plain": [
       "   age  sex  cp  trestbps  chol  fbs  restecg  thalach  exang  oldpeak  slope  \\\n",
       "0   63    1   3       145   233    1        0      150      0      2.3      0   \n",
       "1   37    1   2       130   250    0        1      187      0      3.5      0   \n",
       "2   41    0   1       130   204    0        0      172      0      1.4      2   \n",
       "3   56    1   1       120   236    0        1      178      0      0.8      2   \n",
       "4   57    0   0       120   354    0        1      163      1      0.6      2   \n",
       "\n",
       "   ca  thal  \n",
       "0   0     1  \n",
       "1   0     2  \n",
       "2   0     2  \n",
       "3   0     2  \n",
       "4   0     2  "
      ]
     },
     "execution_count": 21,
     "metadata": {},
     "output_type": "execute_result"
    }
   ],
   "source": [
    "X.head()"
   ]
  },
  {
   "cell_type": "code",
   "execution_count": 22,
   "metadata": {},
   "outputs": [
    {
     "data": {
      "text/plain": [
       "0    1\n",
       "1    1\n",
       "2    1\n",
       "3    1\n",
       "4    1\n",
       "Name: target, dtype: int64"
      ]
     },
     "execution_count": 22,
     "metadata": {},
     "output_type": "execute_result"
    }
   ],
   "source": [
    "y.head()"
   ]
  },
  {
   "cell_type": "code",
   "execution_count": 23,
   "metadata": {},
   "outputs": [],
   "source": [
    "from sklearn.model_selection import train_test_split\n",
    "X_train,X_test ,y_train,y_test =  train_test_split(X,y,test_size=0.25)"
   ]
  },
  {
   "cell_type": "code",
   "execution_count": 24,
   "metadata": {},
   "outputs": [
    {
     "data": {
      "text/plain": [
       "303"
      ]
     },
     "execution_count": 24,
     "metadata": {},
     "output_type": "execute_result"
    }
   ],
   "source": [
    "len(heart_disease)"
   ]
  },
  {
   "cell_type": "code",
   "execution_count": 25,
   "metadata": {},
   "outputs": [
    {
     "data": {
      "text/plain": [
       "((227, 13), (76, 13), (227,), (76,))"
      ]
     },
     "execution_count": 25,
     "metadata": {},
     "output_type": "execute_result"
    }
   ],
   "source": [
    "X_train.shape,X_test.shape,y_train.shape,y_test.shape"
   ]
  },
  {
   "cell_type": "code",
   "execution_count": 26,
   "metadata": {},
   "outputs": [
    {
     "data": {
      "text/plain": [
       "303"
      ]
     },
     "execution_count": 26,
     "metadata": {},
     "output_type": "execute_result"
    }
   ],
   "source": [
    "227+76"
   ]
  },
  {
   "cell_type": "code",
   "execution_count": 27,
   "metadata": {},
   "outputs": [
    {
     "data": {
      "text/plain": [
       "75.75"
      ]
     },
     "execution_count": 27,
     "metadata": {},
     "output_type": "execute_result"
    }
   ],
   "source": [
    "303*0.25"
   ]
  },
  {
   "cell_type": "code",
   "execution_count": 28,
   "metadata": {},
   "outputs": [
    {
     "data": {
      "text/plain": [
       "227.25"
      ]
     },
     "execution_count": 28,
     "metadata": {},
     "output_type": "execute_result"
    }
   ],
   "source": [
    "303*0.75"
   ]
  },
  {
   "cell_type": "code",
   "execution_count": 29,
   "metadata": {},
   "outputs": [
    {
     "data": {
      "text/plain": [
       "age           int64\n",
       "sex           int64\n",
       "cp            int64\n",
       "trestbps      int64\n",
       "chol          int64\n",
       "fbs           int64\n",
       "restecg       int64\n",
       "thalach       int64\n",
       "exang         int64\n",
       "oldpeak     float64\n",
       "slope         int64\n",
       "ca            int64\n",
       "thal          int64\n",
       "dtype: object"
      ]
     },
     "execution_count": 29,
     "metadata": {},
     "output_type": "execute_result"
    }
   ],
   "source": [
    "X_train.dtypes"
   ]
  },
  {
   "cell_type": "code",
   "execution_count": 30,
   "metadata": {},
   "outputs": [
    {
     "data": {
      "text/html": [
       "<div>\n",
       "<style scoped>\n",
       "    .dataframe tbody tr th:only-of-type {\n",
       "        vertical-align: middle;\n",
       "    }\n",
       "\n",
       "    .dataframe tbody tr th {\n",
       "        vertical-align: top;\n",
       "    }\n",
       "\n",
       "    .dataframe thead th {\n",
       "        text-align: right;\n",
       "    }\n",
       "</style>\n",
       "<table border=\"1\" class=\"dataframe\">\n",
       "  <thead>\n",
       "    <tr style=\"text-align: right;\">\n",
       "      <th></th>\n",
       "      <th>Make</th>\n",
       "      <th>Colour</th>\n",
       "      <th>Memory(kb)</th>\n",
       "      <th>Sim Cards</th>\n",
       "      <th>Price</th>\n",
       "    </tr>\n",
       "  </thead>\n",
       "  <tbody>\n",
       "    <tr>\n",
       "      <th>0</th>\n",
       "      <td>Iphone</td>\n",
       "      <td>Black</td>\n",
       "      <td>11179</td>\n",
       "      <td>5</td>\n",
       "      <td>$220.00</td>\n",
       "    </tr>\n",
       "    <tr>\n",
       "      <th>1</th>\n",
       "      <td>Motorolla</td>\n",
       "      <td>White</td>\n",
       "      <td>213095</td>\n",
       "      <td>4</td>\n",
       "      <td>$350.00</td>\n",
       "    </tr>\n",
       "    <tr>\n",
       "      <th>2</th>\n",
       "      <td>Nokia</td>\n",
       "      <td>Green</td>\n",
       "      <td>99213</td>\n",
       "      <td>4</td>\n",
       "      <td>$450.00</td>\n",
       "    </tr>\n",
       "    <tr>\n",
       "      <th>3</th>\n",
       "      <td>Ssamsung</td>\n",
       "      <td>Blue</td>\n",
       "      <td>45698</td>\n",
       "      <td>4</td>\n",
       "      <td>$750.00</td>\n",
       "    </tr>\n",
       "    <tr>\n",
       "      <th>4</th>\n",
       "      <td>Nokia</td>\n",
       "      <td>White</td>\n",
       "      <td>150043</td>\n",
       "      <td>4</td>\n",
       "      <td>$400.00</td>\n",
       "    </tr>\n",
       "    <tr>\n",
       "      <th>...</th>\n",
       "      <td>...</td>\n",
       "      <td>...</td>\n",
       "      <td>...</td>\n",
       "      <td>...</td>\n",
       "      <td>...</td>\n",
       "    </tr>\n",
       "    <tr>\n",
       "      <th>883</th>\n",
       "      <td>Nokia</td>\n",
       "      <td>Green</td>\n",
       "      <td>99213</td>\n",
       "      <td>4</td>\n",
       "      <td>$450.00</td>\n",
       "    </tr>\n",
       "    <tr>\n",
       "      <th>884</th>\n",
       "      <td>Ssamsung</td>\n",
       "      <td>Blue</td>\n",
       "      <td>45698</td>\n",
       "      <td>4</td>\n",
       "      <td>$750.00</td>\n",
       "    </tr>\n",
       "    <tr>\n",
       "      <th>885</th>\n",
       "      <td>Ssamsung</td>\n",
       "      <td>Blue</td>\n",
       "      <td>54738</td>\n",
       "      <td>4</td>\n",
       "      <td>$700.00</td>\n",
       "    </tr>\n",
       "    <tr>\n",
       "      <th>886</th>\n",
       "      <td>Nokia</td>\n",
       "      <td>White</td>\n",
       "      <td>60000</td>\n",
       "      <td>4</td>\n",
       "      <td>$625.00</td>\n",
       "    </tr>\n",
       "    <tr>\n",
       "      <th>887</th>\n",
       "      <td>Motorolla</td>\n",
       "      <td>White</td>\n",
       "      <td>31600</td>\n",
       "      <td>4</td>\n",
       "      <td>$970.00</td>\n",
       "    </tr>\n",
       "  </tbody>\n",
       "</table>\n",
       "<p>888 rows × 5 columns</p>\n",
       "</div>"
      ],
      "text/plain": [
       "          Make Colour  Memory(kb)  Sim Cards     Price\n",
       "0       Iphone  Black       11179          5  $220.00 \n",
       "1    Motorolla  White      213095          4  $350.00 \n",
       "2        Nokia  Green       99213          4  $450.00 \n",
       "3     Ssamsung   Blue       45698          4  $750.00 \n",
       "4        Nokia  White      150043          4  $400.00 \n",
       "..         ...    ...         ...        ...       ...\n",
       "883      Nokia  Green       99213          4  $450.00 \n",
       "884   Ssamsung   Blue       45698          4  $750.00 \n",
       "885   Ssamsung   Blue       54738          4  $700.00 \n",
       "886      Nokia  White       60000          4  $625.00 \n",
       "887  Motorolla  White       31600          4  $970.00 \n",
       "\n",
       "[888 rows x 5 columns]"
      ]
     },
     "execution_count": 30,
     "metadata": {},
     "output_type": "execute_result"
    }
   ],
   "source": [
    "phone = pd.read_csv(\"phone_data_large.csv\")\n",
    "phone"
   ]
  },
  {
   "cell_type": "code",
   "execution_count": 31,
   "metadata": {},
   "outputs": [
    {
     "data": {
      "text/plain": [
       "Make          object\n",
       "Colour        object\n",
       "Memory(kb)     int64\n",
       "Sim Cards      int64\n",
       "Price         object\n",
       "dtype: object"
      ]
     },
     "execution_count": 31,
     "metadata": {},
     "output_type": "execute_result"
    }
   ],
   "source": [
    "phone.dtypes"
   ]
  },
  {
   "cell_type": "code",
   "execution_count": 32,
   "metadata": {},
   "outputs": [],
   "source": [
    "phone['Price'] = phone['Price'].str[:-2]"
   ]
  },
  {
   "cell_type": "code",
   "execution_count": 33,
   "metadata": {},
   "outputs": [],
   "source": [
    "phone['Price'] = phone['Price'].str.replace(\"[\\$\\,\\.]\",\"\").astype(int)"
   ]
  },
  {
   "cell_type": "code",
   "execution_count": 34,
   "metadata": {},
   "outputs": [
    {
     "data": {
      "text/plain": [
       "['1 Getting the Data Ready',\n",
       " '2 Choosing Machine Learning Model',\n",
       " '3 Fit Model',\n",
       " '4 Evaluate Model',\n",
       " '5 Improve Model',\n",
       " '6 Saving the Model',\n",
       " '7 Summary']"
      ]
     },
     "execution_count": 34,
     "metadata": {},
     "output_type": "execute_result"
    }
   ],
   "source": [
    "sklearn_steps"
   ]
  },
  {
   "cell_type": "markdown",
   "metadata": {},
   "source": [
    "#https://scikit-learn.org/stable/tutorial/machine_learning_map/index.html"
   ]
  },
  {
   "cell_type": "markdown",
   "metadata": {},
   "source": [
    "# Picking up Model for Regression Problem"
   ]
  },
  {
   "cell_type": "markdown",
   "metadata": {},
   "source": [
    "# Importing data,Boston Housing"
   ]
  },
  {
   "cell_type": "code",
   "execution_count": 35,
   "metadata": {},
   "outputs": [],
   "source": [
    "from sklearn.datasets import load_boston\n",
    "boston = load_boston()\n",
    "boston;"
   ]
  },
  {
   "cell_type": "code",
   "execution_count": 36,
   "metadata": {},
   "outputs": [
    {
     "data": {
      "text/html": [
       "<div>\n",
       "<style scoped>\n",
       "    .dataframe tbody tr th:only-of-type {\n",
       "        vertical-align: middle;\n",
       "    }\n",
       "\n",
       "    .dataframe tbody tr th {\n",
       "        vertical-align: top;\n",
       "    }\n",
       "\n",
       "    .dataframe thead th {\n",
       "        text-align: right;\n",
       "    }\n",
       "</style>\n",
       "<table border=\"1\" class=\"dataframe\">\n",
       "  <thead>\n",
       "    <tr style=\"text-align: right;\">\n",
       "      <th></th>\n",
       "      <th>CRIM</th>\n",
       "      <th>ZN</th>\n",
       "      <th>INDUS</th>\n",
       "      <th>CHAS</th>\n",
       "      <th>NOX</th>\n",
       "      <th>RM</th>\n",
       "      <th>AGE</th>\n",
       "      <th>DIS</th>\n",
       "      <th>RAD</th>\n",
       "      <th>TAX</th>\n",
       "      <th>PTRATIO</th>\n",
       "      <th>B</th>\n",
       "      <th>LSTAT</th>\n",
       "      <th>target</th>\n",
       "    </tr>\n",
       "  </thead>\n",
       "  <tbody>\n",
       "    <tr>\n",
       "      <th>0</th>\n",
       "      <td>0.00632</td>\n",
       "      <td>18.0</td>\n",
       "      <td>2.31</td>\n",
       "      <td>0.0</td>\n",
       "      <td>0.538</td>\n",
       "      <td>6.575</td>\n",
       "      <td>65.2</td>\n",
       "      <td>4.0900</td>\n",
       "      <td>1.0</td>\n",
       "      <td>296.0</td>\n",
       "      <td>15.3</td>\n",
       "      <td>396.90</td>\n",
       "      <td>4.98</td>\n",
       "      <td>24.0</td>\n",
       "    </tr>\n",
       "    <tr>\n",
       "      <th>1</th>\n",
       "      <td>0.02731</td>\n",
       "      <td>0.0</td>\n",
       "      <td>7.07</td>\n",
       "      <td>0.0</td>\n",
       "      <td>0.469</td>\n",
       "      <td>6.421</td>\n",
       "      <td>78.9</td>\n",
       "      <td>4.9671</td>\n",
       "      <td>2.0</td>\n",
       "      <td>242.0</td>\n",
       "      <td>17.8</td>\n",
       "      <td>396.90</td>\n",
       "      <td>9.14</td>\n",
       "      <td>21.6</td>\n",
       "    </tr>\n",
       "    <tr>\n",
       "      <th>2</th>\n",
       "      <td>0.02729</td>\n",
       "      <td>0.0</td>\n",
       "      <td>7.07</td>\n",
       "      <td>0.0</td>\n",
       "      <td>0.469</td>\n",
       "      <td>7.185</td>\n",
       "      <td>61.1</td>\n",
       "      <td>4.9671</td>\n",
       "      <td>2.0</td>\n",
       "      <td>242.0</td>\n",
       "      <td>17.8</td>\n",
       "      <td>392.83</td>\n",
       "      <td>4.03</td>\n",
       "      <td>34.7</td>\n",
       "    </tr>\n",
       "    <tr>\n",
       "      <th>3</th>\n",
       "      <td>0.03237</td>\n",
       "      <td>0.0</td>\n",
       "      <td>2.18</td>\n",
       "      <td>0.0</td>\n",
       "      <td>0.458</td>\n",
       "      <td>6.998</td>\n",
       "      <td>45.8</td>\n",
       "      <td>6.0622</td>\n",
       "      <td>3.0</td>\n",
       "      <td>222.0</td>\n",
       "      <td>18.7</td>\n",
       "      <td>394.63</td>\n",
       "      <td>2.94</td>\n",
       "      <td>33.4</td>\n",
       "    </tr>\n",
       "    <tr>\n",
       "      <th>4</th>\n",
       "      <td>0.06905</td>\n",
       "      <td>0.0</td>\n",
       "      <td>2.18</td>\n",
       "      <td>0.0</td>\n",
       "      <td>0.458</td>\n",
       "      <td>7.147</td>\n",
       "      <td>54.2</td>\n",
       "      <td>6.0622</td>\n",
       "      <td>3.0</td>\n",
       "      <td>222.0</td>\n",
       "      <td>18.7</td>\n",
       "      <td>396.90</td>\n",
       "      <td>5.33</td>\n",
       "      <td>36.2</td>\n",
       "    </tr>\n",
       "  </tbody>\n",
       "</table>\n",
       "</div>"
      ],
      "text/plain": [
       "      CRIM    ZN  INDUS  CHAS    NOX     RM   AGE     DIS  RAD    TAX  \\\n",
       "0  0.00632  18.0   2.31   0.0  0.538  6.575  65.2  4.0900  1.0  296.0   \n",
       "1  0.02731   0.0   7.07   0.0  0.469  6.421  78.9  4.9671  2.0  242.0   \n",
       "2  0.02729   0.0   7.07   0.0  0.469  7.185  61.1  4.9671  2.0  242.0   \n",
       "3  0.03237   0.0   2.18   0.0  0.458  6.998  45.8  6.0622  3.0  222.0   \n",
       "4  0.06905   0.0   2.18   0.0  0.458  7.147  54.2  6.0622  3.0  222.0   \n",
       "\n",
       "   PTRATIO       B  LSTAT  target  \n",
       "0     15.3  396.90   4.98    24.0  \n",
       "1     17.8  396.90   9.14    21.6  \n",
       "2     17.8  392.83   4.03    34.7  \n",
       "3     18.7  394.63   2.94    33.4  \n",
       "4     18.7  396.90   5.33    36.2  "
      ]
     },
     "execution_count": 36,
     "metadata": {},
     "output_type": "execute_result"
    }
   ],
   "source": [
    "df_boston = pd.DataFrame(boston[\"data\"], columns=boston[\"feature_names\"])\n",
    "df_boston[\"target\"] = pd.Series(boston[\"target\"])\n",
    "df_boston.head()"
   ]
  },
  {
   "cell_type": "code",
   "execution_count": 37,
   "metadata": {},
   "outputs": [],
   "source": [
    "from sklearn.linear_model import Ridge\n",
    "import numpy as np\n",
    "from sklearn.model_selection import train_test_split\n",
    "\n",
    "#  To reporduce same result for fello ML Scientist\n",
    "\n",
    "np.random.seed(1)\n",
    "\n",
    "# Create Data\n",
    "X = df_boston.drop(\"target\", axis=1)\n",
    "y = df_boston[\"target\"]\n",
    "\n",
    "# Split into test and Train\n",
    "\n",
    "X_train,X_test,y_train, y_test = train_test_split(X,y,test_size=0.2)\n",
    "# Split into test and Train\n",
    "X_train,X_test,y_train, y_test = train_test_split(X,y,test_size=0.2)\n",
    "\n"
   ]
  },
  {
   "cell_type": "markdown",
   "metadata": {},
   "source": [
    "# Lets try Ridge regeression model\n"
   ]
  },
  {
   "cell_type": "markdown",
   "metadata": {},
   "source": [
    "# Fit the Model"
   ]
  },
  {
   "cell_type": "code",
   "execution_count": 38,
   "metadata": {},
   "outputs": [
    {
     "data": {
      "text/plain": [
       "['1 Getting the Data Ready',\n",
       " '2 Choosing Machine Learning Model',\n",
       " '3 Fit Model',\n",
       " '4 Evaluate Model',\n",
       " '5 Improve Model',\n",
       " '6 Saving the Model',\n",
       " '7 Summary']"
      ]
     },
     "execution_count": 38,
     "metadata": {},
     "output_type": "execute_result"
    }
   ],
   "source": [
    "sklearn_steps"
   ]
  },
  {
   "cell_type": "code",
   "execution_count": 39,
   "metadata": {},
   "outputs": [
    {
     "data": {
      "text/plain": [
       "0.6639471071797658"
      ]
     },
     "execution_count": 39,
     "metadata": {},
     "output_type": "execute_result"
    }
   ],
   "source": [
    "\n",
    "# Instatiate Ridge model\n",
    "reg_model = Ridge()\n",
    "reg_model.fit(X_train,y_train) # Training MOdel\n",
    "# Check the score of the model\n",
    "reg_model.score(X_test,y_test) # Comparing Predicted value"
   ]
  },
  {
   "cell_type": "code",
   "execution_count": 40,
   "metadata": {},
   "outputs": [
    {
     "data": {
      "text/html": [
       "<div>\n",
       "<style scoped>\n",
       "    .dataframe tbody tr th:only-of-type {\n",
       "        vertical-align: middle;\n",
       "    }\n",
       "\n",
       "    .dataframe tbody tr th {\n",
       "        vertical-align: top;\n",
       "    }\n",
       "\n",
       "    .dataframe thead th {\n",
       "        text-align: right;\n",
       "    }\n",
       "</style>\n",
       "<table border=\"1\" class=\"dataframe\">\n",
       "  <thead>\n",
       "    <tr style=\"text-align: right;\">\n",
       "      <th></th>\n",
       "      <th>CRIM</th>\n",
       "      <th>ZN</th>\n",
       "      <th>INDUS</th>\n",
       "      <th>CHAS</th>\n",
       "      <th>NOX</th>\n",
       "      <th>RM</th>\n",
       "      <th>AGE</th>\n",
       "      <th>DIS</th>\n",
       "      <th>RAD</th>\n",
       "      <th>TAX</th>\n",
       "      <th>PTRATIO</th>\n",
       "      <th>B</th>\n",
       "      <th>LSTAT</th>\n",
       "    </tr>\n",
       "  </thead>\n",
       "  <tbody>\n",
       "    <tr>\n",
       "      <th>0</th>\n",
       "      <td>0.00632</td>\n",
       "      <td>18.0</td>\n",
       "      <td>2.31</td>\n",
       "      <td>0.0</td>\n",
       "      <td>0.538</td>\n",
       "      <td>6.575</td>\n",
       "      <td>65.2</td>\n",
       "      <td>4.0900</td>\n",
       "      <td>1.0</td>\n",
       "      <td>296.0</td>\n",
       "      <td>15.3</td>\n",
       "      <td>396.90</td>\n",
       "      <td>4.98</td>\n",
       "    </tr>\n",
       "    <tr>\n",
       "      <th>1</th>\n",
       "      <td>0.02731</td>\n",
       "      <td>0.0</td>\n",
       "      <td>7.07</td>\n",
       "      <td>0.0</td>\n",
       "      <td>0.469</td>\n",
       "      <td>6.421</td>\n",
       "      <td>78.9</td>\n",
       "      <td>4.9671</td>\n",
       "      <td>2.0</td>\n",
       "      <td>242.0</td>\n",
       "      <td>17.8</td>\n",
       "      <td>396.90</td>\n",
       "      <td>9.14</td>\n",
       "    </tr>\n",
       "    <tr>\n",
       "      <th>2</th>\n",
       "      <td>0.02729</td>\n",
       "      <td>0.0</td>\n",
       "      <td>7.07</td>\n",
       "      <td>0.0</td>\n",
       "      <td>0.469</td>\n",
       "      <td>7.185</td>\n",
       "      <td>61.1</td>\n",
       "      <td>4.9671</td>\n",
       "      <td>2.0</td>\n",
       "      <td>242.0</td>\n",
       "      <td>17.8</td>\n",
       "      <td>392.83</td>\n",
       "      <td>4.03</td>\n",
       "    </tr>\n",
       "    <tr>\n",
       "      <th>3</th>\n",
       "      <td>0.03237</td>\n",
       "      <td>0.0</td>\n",
       "      <td>2.18</td>\n",
       "      <td>0.0</td>\n",
       "      <td>0.458</td>\n",
       "      <td>6.998</td>\n",
       "      <td>45.8</td>\n",
       "      <td>6.0622</td>\n",
       "      <td>3.0</td>\n",
       "      <td>222.0</td>\n",
       "      <td>18.7</td>\n",
       "      <td>394.63</td>\n",
       "      <td>2.94</td>\n",
       "    </tr>\n",
       "    <tr>\n",
       "      <th>4</th>\n",
       "      <td>0.06905</td>\n",
       "      <td>0.0</td>\n",
       "      <td>2.18</td>\n",
       "      <td>0.0</td>\n",
       "      <td>0.458</td>\n",
       "      <td>7.147</td>\n",
       "      <td>54.2</td>\n",
       "      <td>6.0622</td>\n",
       "      <td>3.0</td>\n",
       "      <td>222.0</td>\n",
       "      <td>18.7</td>\n",
       "      <td>396.90</td>\n",
       "      <td>5.33</td>\n",
       "    </tr>\n",
       "  </tbody>\n",
       "</table>\n",
       "</div>"
      ],
      "text/plain": [
       "      CRIM    ZN  INDUS  CHAS    NOX     RM   AGE     DIS  RAD    TAX  \\\n",
       "0  0.00632  18.0   2.31   0.0  0.538  6.575  65.2  4.0900  1.0  296.0   \n",
       "1  0.02731   0.0   7.07   0.0  0.469  6.421  78.9  4.9671  2.0  242.0   \n",
       "2  0.02729   0.0   7.07   0.0  0.469  7.185  61.1  4.9671  2.0  242.0   \n",
       "3  0.03237   0.0   2.18   0.0  0.458  6.998  45.8  6.0622  3.0  222.0   \n",
       "4  0.06905   0.0   2.18   0.0  0.458  7.147  54.2  6.0622  3.0  222.0   \n",
       "\n",
       "   PTRATIO       B  LSTAT  \n",
       "0     15.3  396.90   4.98  \n",
       "1     17.8  396.90   9.14  \n",
       "2     17.8  392.83   4.03  \n",
       "3     18.7  394.63   2.94  \n",
       "4     18.7  396.90   5.33  "
      ]
     },
     "execution_count": 40,
     "metadata": {},
     "output_type": "execute_result"
    }
   ],
   "source": [
    "X.head()"
   ]
  },
  {
   "cell_type": "code",
   "execution_count": 41,
   "metadata": {},
   "outputs": [
    {
     "data": {
      "text/plain": [
       "0    24.0\n",
       "1    21.6\n",
       "2    34.7\n",
       "3    33.4\n",
       "4    36.2\n",
       "Name: target, dtype: float64"
      ]
     },
     "execution_count": 41,
     "metadata": {},
     "output_type": "execute_result"
    }
   ],
   "source": [
    "y.head()"
   ]
  },
  {
   "cell_type": "markdown",
   "metadata": {},
   "source": [
    "# Make Prediction"
   ]
  },
  {
   "cell_type": "code",
   "execution_count": 42,
   "metadata": {},
   "outputs": [],
   "source": [
    "# 2 wasy we can run the prediction\n",
    "# predict()\n",
    "# predict_proba()\n"
   ]
  },
  {
   "cell_type": "code",
   "execution_count": 43,
   "metadata": {},
   "outputs": [
    {
     "data": {
      "text/html": [
       "<div>\n",
       "<style scoped>\n",
       "    .dataframe tbody tr th:only-of-type {\n",
       "        vertical-align: middle;\n",
       "    }\n",
       "\n",
       "    .dataframe tbody tr th {\n",
       "        vertical-align: top;\n",
       "    }\n",
       "\n",
       "    .dataframe thead th {\n",
       "        text-align: right;\n",
       "    }\n",
       "</style>\n",
       "<table border=\"1\" class=\"dataframe\">\n",
       "  <thead>\n",
       "    <tr style=\"text-align: right;\">\n",
       "      <th></th>\n",
       "      <th>age</th>\n",
       "      <th>sex</th>\n",
       "      <th>cp</th>\n",
       "      <th>trestbps</th>\n",
       "      <th>chol</th>\n",
       "      <th>fbs</th>\n",
       "      <th>restecg</th>\n",
       "      <th>thalach</th>\n",
       "      <th>exang</th>\n",
       "      <th>oldpeak</th>\n",
       "      <th>slope</th>\n",
       "      <th>ca</th>\n",
       "      <th>thal</th>\n",
       "      <th>target</th>\n",
       "    </tr>\n",
       "  </thead>\n",
       "  <tbody>\n",
       "    <tr>\n",
       "      <th>0</th>\n",
       "      <td>63</td>\n",
       "      <td>1</td>\n",
       "      <td>3</td>\n",
       "      <td>145</td>\n",
       "      <td>233</td>\n",
       "      <td>1</td>\n",
       "      <td>0</td>\n",
       "      <td>150</td>\n",
       "      <td>0</td>\n",
       "      <td>2.3</td>\n",
       "      <td>0</td>\n",
       "      <td>0</td>\n",
       "      <td>1</td>\n",
       "      <td>1</td>\n",
       "    </tr>\n",
       "    <tr>\n",
       "      <th>1</th>\n",
       "      <td>37</td>\n",
       "      <td>1</td>\n",
       "      <td>2</td>\n",
       "      <td>130</td>\n",
       "      <td>250</td>\n",
       "      <td>0</td>\n",
       "      <td>1</td>\n",
       "      <td>187</td>\n",
       "      <td>0</td>\n",
       "      <td>3.5</td>\n",
       "      <td>0</td>\n",
       "      <td>0</td>\n",
       "      <td>2</td>\n",
       "      <td>1</td>\n",
       "    </tr>\n",
       "    <tr>\n",
       "      <th>2</th>\n",
       "      <td>41</td>\n",
       "      <td>0</td>\n",
       "      <td>1</td>\n",
       "      <td>130</td>\n",
       "      <td>204</td>\n",
       "      <td>0</td>\n",
       "      <td>0</td>\n",
       "      <td>172</td>\n",
       "      <td>0</td>\n",
       "      <td>1.4</td>\n",
       "      <td>2</td>\n",
       "      <td>0</td>\n",
       "      <td>2</td>\n",
       "      <td>1</td>\n",
       "    </tr>\n",
       "    <tr>\n",
       "      <th>3</th>\n",
       "      <td>56</td>\n",
       "      <td>1</td>\n",
       "      <td>1</td>\n",
       "      <td>120</td>\n",
       "      <td>236</td>\n",
       "      <td>0</td>\n",
       "      <td>1</td>\n",
       "      <td>178</td>\n",
       "      <td>0</td>\n",
       "      <td>0.8</td>\n",
       "      <td>2</td>\n",
       "      <td>0</td>\n",
       "      <td>2</td>\n",
       "      <td>1</td>\n",
       "    </tr>\n",
       "    <tr>\n",
       "      <th>4</th>\n",
       "      <td>57</td>\n",
       "      <td>0</td>\n",
       "      <td>0</td>\n",
       "      <td>120</td>\n",
       "      <td>354</td>\n",
       "      <td>0</td>\n",
       "      <td>1</td>\n",
       "      <td>163</td>\n",
       "      <td>1</td>\n",
       "      <td>0.6</td>\n",
       "      <td>2</td>\n",
       "      <td>0</td>\n",
       "      <td>2</td>\n",
       "      <td>1</td>\n",
       "    </tr>\n",
       "  </tbody>\n",
       "</table>\n",
       "</div>"
      ],
      "text/plain": [
       "   age  sex  cp  trestbps  chol  fbs  restecg  thalach  exang  oldpeak  slope  \\\n",
       "0   63    1   3       145   233    1        0      150      0      2.3      0   \n",
       "1   37    1   2       130   250    0        1      187      0      3.5      0   \n",
       "2   41    0   1       130   204    0        0      172      0      1.4      2   \n",
       "3   56    1   1       120   236    0        1      178      0      0.8      2   \n",
       "4   57    0   0       120   354    0        1      163      1      0.6      2   \n",
       "\n",
       "   ca  thal  target  \n",
       "0   0     1       1  \n",
       "1   0     2       1  \n",
       "2   0     2       1  \n",
       "3   0     2       1  \n",
       "4   0     2       1  "
      ]
     },
     "execution_count": 43,
     "metadata": {},
     "output_type": "execute_result"
    }
   ],
   "source": [
    "# Step-1\n",
    "heart_disease = pd.read_csv(\"datasets_33180_43520_heart.csv\")\n",
    "heart_disease.head()"
   ]
  },
  {
   "cell_type": "code",
   "execution_count": 44,
   "metadata": {},
   "outputs": [],
   "source": [
    "X = heart_disease.drop(\"target\", axis=1)\n",
    "y = heart_disease[\"target\"]\n"
   ]
  },
  {
   "cell_type": "code",
   "execution_count": 45,
   "metadata": {},
   "outputs": [
    {
     "ename": "ValueError",
     "evalue": "Unknown label type: 'continuous'",
     "output_type": "error",
     "traceback": [
      "\u001b[1;31m---------------------------------------------------------------------------\u001b[0m",
      "\u001b[1;31mValueError\u001b[0m                                Traceback (most recent call last)",
      "\u001b[1;32m<ipython-input-45-84a1cf856475>\u001b[0m in \u001b[0;36m<module>\u001b[1;34m\u001b[0m\n\u001b[0;32m      1\u001b[0m \u001b[1;31m# Choosing Machine Learning MOdel\u001b[0m\u001b[1;33m\u001b[0m\u001b[1;33m\u001b[0m\u001b[1;33m\u001b[0m\u001b[0m\n\u001b[0;32m      2\u001b[0m \u001b[1;32mfrom\u001b[0m \u001b[0msklearn\u001b[0m\u001b[1;33m.\u001b[0m\u001b[0mensemble\u001b[0m \u001b[1;32mimport\u001b[0m \u001b[0mRandomForestClassifier\u001b[0m\u001b[1;33m\u001b[0m\u001b[1;33m\u001b[0m\u001b[0m\n\u001b[1;32m----> 3\u001b[1;33m \u001b[0mclf\u001b[0m \u001b[1;33m=\u001b[0m \u001b[0mRandomForestClassifier\u001b[0m\u001b[1;33m(\u001b[0m\u001b[1;33m)\u001b[0m\u001b[1;33m.\u001b[0m\u001b[0mfit\u001b[0m\u001b[1;33m(\u001b[0m\u001b[0mX_train\u001b[0m\u001b[1;33m,\u001b[0m\u001b[0my_train\u001b[0m\u001b[1;33m)\u001b[0m\u001b[1;33m\u001b[0m\u001b[1;33m\u001b[0m\u001b[0m\n\u001b[0m",
      "\u001b[1;32m~\\Desktop\\ml_project\\venv\\lib\\site-packages\\sklearn\\ensemble\\_forest.py\u001b[0m in \u001b[0;36mfit\u001b[1;34m(self, X, y, sample_weight)\u001b[0m\n\u001b[0;32m    319\u001b[0m         \u001b[0mself\u001b[0m\u001b[1;33m.\u001b[0m\u001b[0mn_outputs_\u001b[0m \u001b[1;33m=\u001b[0m \u001b[0my\u001b[0m\u001b[1;33m.\u001b[0m\u001b[0mshape\u001b[0m\u001b[1;33m[\u001b[0m\u001b[1;36m1\u001b[0m\u001b[1;33m]\u001b[0m\u001b[1;33m\u001b[0m\u001b[1;33m\u001b[0m\u001b[0m\n\u001b[0;32m    320\u001b[0m \u001b[1;33m\u001b[0m\u001b[0m\n\u001b[1;32m--> 321\u001b[1;33m         \u001b[0my\u001b[0m\u001b[1;33m,\u001b[0m \u001b[0mexpanded_class_weight\u001b[0m \u001b[1;33m=\u001b[0m \u001b[0mself\u001b[0m\u001b[1;33m.\u001b[0m\u001b[0m_validate_y_class_weight\u001b[0m\u001b[1;33m(\u001b[0m\u001b[0my\u001b[0m\u001b[1;33m)\u001b[0m\u001b[1;33m\u001b[0m\u001b[1;33m\u001b[0m\u001b[0m\n\u001b[0m\u001b[0;32m    322\u001b[0m \u001b[1;33m\u001b[0m\u001b[0m\n\u001b[0;32m    323\u001b[0m         \u001b[1;32mif\u001b[0m \u001b[0mgetattr\u001b[0m\u001b[1;33m(\u001b[0m\u001b[0my\u001b[0m\u001b[1;33m,\u001b[0m \u001b[1;34m\"dtype\"\u001b[0m\u001b[1;33m,\u001b[0m \u001b[1;32mNone\u001b[0m\u001b[1;33m)\u001b[0m \u001b[1;33m!=\u001b[0m \u001b[0mDOUBLE\u001b[0m \u001b[1;32mor\u001b[0m \u001b[1;32mnot\u001b[0m \u001b[0my\u001b[0m\u001b[1;33m.\u001b[0m\u001b[0mflags\u001b[0m\u001b[1;33m.\u001b[0m\u001b[0mcontiguous\u001b[0m\u001b[1;33m:\u001b[0m\u001b[1;33m\u001b[0m\u001b[1;33m\u001b[0m\u001b[0m\n",
      "\u001b[1;32m~\\Desktop\\ml_project\\venv\\lib\\site-packages\\sklearn\\ensemble\\_forest.py\u001b[0m in \u001b[0;36m_validate_y_class_weight\u001b[1;34m(self, y)\u001b[0m\n\u001b[0;32m    539\u001b[0m \u001b[1;33m\u001b[0m\u001b[0m\n\u001b[0;32m    540\u001b[0m     \u001b[1;32mdef\u001b[0m \u001b[0m_validate_y_class_weight\u001b[0m\u001b[1;33m(\u001b[0m\u001b[0mself\u001b[0m\u001b[1;33m,\u001b[0m \u001b[0my\u001b[0m\u001b[1;33m)\u001b[0m\u001b[1;33m:\u001b[0m\u001b[1;33m\u001b[0m\u001b[1;33m\u001b[0m\u001b[0m\n\u001b[1;32m--> 541\u001b[1;33m         \u001b[0mcheck_classification_targets\u001b[0m\u001b[1;33m(\u001b[0m\u001b[0my\u001b[0m\u001b[1;33m)\u001b[0m\u001b[1;33m\u001b[0m\u001b[1;33m\u001b[0m\u001b[0m\n\u001b[0m\u001b[0;32m    542\u001b[0m \u001b[1;33m\u001b[0m\u001b[0m\n\u001b[0;32m    543\u001b[0m         \u001b[0my\u001b[0m \u001b[1;33m=\u001b[0m \u001b[0mnp\u001b[0m\u001b[1;33m.\u001b[0m\u001b[0mcopy\u001b[0m\u001b[1;33m(\u001b[0m\u001b[0my\u001b[0m\u001b[1;33m)\u001b[0m\u001b[1;33m\u001b[0m\u001b[1;33m\u001b[0m\u001b[0m\n",
      "\u001b[1;32m~\\Desktop\\ml_project\\venv\\lib\\site-packages\\sklearn\\utils\\multiclass.py\u001b[0m in \u001b[0;36mcheck_classification_targets\u001b[1;34m(y)\u001b[0m\n\u001b[0;32m    167\u001b[0m     if y_type not in ['binary', 'multiclass', 'multiclass-multioutput',\n\u001b[0;32m    168\u001b[0m                       'multilabel-indicator', 'multilabel-sequences']:\n\u001b[1;32m--> 169\u001b[1;33m         \u001b[1;32mraise\u001b[0m \u001b[0mValueError\u001b[0m\u001b[1;33m(\u001b[0m\u001b[1;34m\"Unknown label type: %r\"\u001b[0m \u001b[1;33m%\u001b[0m \u001b[0my_type\u001b[0m\u001b[1;33m)\u001b[0m\u001b[1;33m\u001b[0m\u001b[1;33m\u001b[0m\u001b[0m\n\u001b[0m\u001b[0;32m    170\u001b[0m \u001b[1;33m\u001b[0m\u001b[0m\n\u001b[0;32m    171\u001b[0m \u001b[1;33m\u001b[0m\u001b[0m\n",
      "\u001b[1;31mValueError\u001b[0m: Unknown label type: 'continuous'"
     ]
    }
   ],
   "source": [
    "# Choosing Machine Learning MOdel\n",
    "from sklearn.ensemble import RandomForestClassifier \n",
    "clf = RandomForestClassifier().fit(X_train,y_train)\n"
   ]
  },
  {
   "cell_type": "code",
   "execution_count": null,
   "metadata": {},
   "outputs": [],
   "source": [
    "# Split data into test and Train\n",
    "from sklearn.model_selection import train_test_split\n",
    "X_train,X_test,y_train,y_test = train_test_split(X,y,test_size=0.2)\n"
   ]
  },
  {
   "cell_type": "code",
   "execution_count": null,
   "metadata": {},
   "outputs": [],
   "source": [
    "# Evaluating Model\n",
    "\n",
    "y_predicted = clf.predict(X_test) # to run the prediction\n",
    "y_predicted # Predicted Values"
   ]
  },
  {
   "cell_type": "code",
   "execution_count": null,
   "metadata": {},
   "outputs": [],
   "source": [
    "np.array(y_test) # Groudn Reality, Karwa Sach"
   ]
  },
  {
   "cell_type": "code",
   "execution_count": null,
   "metadata": {},
   "outputs": [],
   "source": [
    "np.mean(y_predicted == y_test) # Method-1"
   ]
  },
  {
   "cell_type": "code",
   "execution_count": null,
   "metadata": {},
   "outputs": [],
   "source": [
    "clf.score(X_test,y_test) # Method-2"
   ]
  },
  {
   "cell_type": "code",
   "execution_count": null,
   "metadata": {},
   "outputs": [],
   "source": [
    "from sklearn.metrics import accuracy_score\n",
    "accuracy_score(y_test,y_predicted) # Method-3"
   ]
  },
  {
   "cell_type": "markdown",
   "metadata": {},
   "source": [
    "# predict_proba()"
   ]
  },
  {
   "cell_type": "code",
   "execution_count": null,
   "metadata": {},
   "outputs": [],
   "source": [
    "clf.predict(X_test)[:5]"
   ]
  },
  {
   "cell_type": "code",
   "execution_count": null,
   "metadata": {},
   "outputs": [],
   "source": [
    "clf.predict_proba(X_test)[:5]"
   ]
  },
  {
   "cell_type": "markdown",
   "metadata": {},
   "source": [
    "# Making Prdiction on regression problem\n"
   ]
  },
  {
   "cell_type": "code",
   "execution_count": null,
   "metadata": {},
   "outputs": [],
   "source": [
    "df_boston"
   ]
  },
  {
   "cell_type": "code",
   "execution_count": null,
   "metadata": {},
   "outputs": [],
   "source": [
    "from sklearn.ensemble import RandomForestRegressor\n",
    "np.random.seed(1)\n",
    "# Create data\n",
    "X = df_boston.drop('target', axis=1)\n",
    "y = df_boston[\"target\"]\n",
    "# Split into test and train\n",
    "X_train,X_test,y_train,y_test = train_test_split(X,y,test_size=0.2)\n",
    "# Instatiate Model\n",
    "Regression_model = RandomForestRegressor().fit(X_train,y_train)\n",
    "# Make Prediction\n",
    "predicted_y = Regression_model.predict(X_test)\n"
   ]
  },
  {
   "cell_type": "code",
   "execution_count": null,
   "metadata": {},
   "outputs": [],
   "source": [
    "predicted_y[:5] # predicted value"
   ]
  },
  {
   "cell_type": "code",
   "execution_count": null,
   "metadata": {},
   "outputs": [],
   "source": [
    "np.array(y_test[:5]) # Ground reality, karwa sach"
   ]
  },
  {
   "cell_type": "code",
   "execution_count": null,
   "metadata": {},
   "outputs": [],
   "source": [
    "# Comprae the prediction with grouind reality\n",
    "from sklearn.metrics import mean_absolute_error\n",
    "mean_absolute_error(y_test,predicted_y)"
   ]
  },
  {
   "cell_type": "code",
   "execution_count": null,
   "metadata": {},
   "outputs": [],
   "source": [
    "sklearn_steps\n"
   ]
  },
  {
   "cell_type": "markdown",
   "metadata": {},
   "source": [
    "# Evaluating Machine Learning Models\n",
    "\n",
    "## Three ways to evaluate sklearn Models/estimator\n",
    "### 1-Estimator 'Score' Methods\n",
    "### 2-The Scoring Parameters\n",
    "### 3-Problem-specific metric Function"
   ]
  },
  {
   "cell_type": "code",
   "execution_count": null,
   "metadata": {},
   "outputs": [],
   "source": [
    "from sklearn.ensemble import RandomForestClassifier\n",
    "\n",
    "np.random.seed(1)\n",
    "\n",
    "# SPlitting Data\n",
    "\n",
    "X = heart_disease.drop(\"target\", axis=1)\n",
    "y = heart_disease[\"target\"]\n",
    "\n",
    "X_train,X_test,y_train,y_test = train_test_split(X,y,test_size=0.2)\n",
    "\n",
    "clf = RandomForestClassifier().fit(X_train,y_train)\n",
    "\n",
    "clf"
   ]
  },
  {
   "cell_type": "code",
   "execution_count": null,
   "metadata": {},
   "outputs": [],
   "source": [
    "clf.score(X_train,y_train) # Can only run this after fitting the model"
   ]
  },
  {
   "cell_type": "code",
   "execution_count": null,
   "metadata": {},
   "outputs": [],
   "source": [
    "clf.score(X_test,y_test) # Can only run this after fitting the model"
   ]
  },
  {
   "cell_type": "markdown",
   "metadata": {},
   "source": [
    "# Lets apply on regression prblem"
   ]
  },
  {
   "cell_type": "code",
   "execution_count": 98,
   "metadata": {},
   "outputs": [],
   "source": [
    "from sklearn.ensemble import RandomForestRegressor\n",
    "np.random.seed(4)\n",
    "# crate data\n",
    "\n",
    "X = df_boston.drop(\"target\",axis=1)\n",
    "y = df_boston[\"target\"]\n",
    "\n",
    "# split into test and train\n",
    "X_train,X_test,y_train,y_test = train_test_split(X,y,test_size = 0.2)\n",
    "# instatiate model and fit \n",
    "\n",
    "boston_model = RandomForestRegressor().fit(X_train,y_train)\n"
   ]
  },
  {
   "cell_type": "code",
   "execution_count": null,
   "metadata": {},
   "outputs": [],
   "source": [
    "boston_model.score(X_test,y_test)"
   ]
  },
  {
   "cell_type": "code",
   "execution_count": null,
   "metadata": {},
   "outputs": [],
   "source": [
    "\n",
    "\n",
    "from sklearn.ensemble import RandomForestClassifier\n",
    "np.random.seed(4)\n",
    "# crate data\n",
    "\n",
    "X = heart_disease.drop(\"target\",axis=1)\n",
    "y = heart_disease[\"target\"]\n",
    "\n",
    "# split into test and train\n",
    "X_train,X_test,y_train,y_test = train_test_split(X,y,test_size = 0.2)\n",
    "# instatiate model and fit \n",
    "\n",
    "heart_model = RandomForestClassifier().fit(X_train,y_train)\n"
   ]
  },
  {
   "cell_type": "code",
   "execution_count": null,
   "metadata": {},
   "outputs": [],
   "source": [
    "heart_model.score(X_test,y_test) # Normal Score Method"
   ]
  },
  {
   "cell_type": "code",
   "execution_count": null,
   "metadata": {},
   "outputs": [],
   "source": [
    "from sklearn.model_selection import cross_val_score\n",
    "cross_val_score(heart_model,X,y,cv=5, scoring=None)"
   ]
  },
  {
   "cell_type": "code",
   "execution_count": null,
   "metadata": {},
   "outputs": [],
   "source": [
    "heart_model.score(X_test,y_test),np.mean(cross_val_score(heart_model,X,y,cv=5))"
   ]
  },
  {
   "cell_type": "markdown",
   "metadata": {},
   "source": [
    "# Classification Model Evaluation"
   ]
  },
  {
   "cell_type": "markdown",
   "metadata": {},
   "source": [
    "# 1 Accuracy\n",
    "# 2 Area Under the Curve ROC \n",
    "# 3 Confusion Matrix\n",
    "# 4 Classification report"
   ]
  },
  {
   "cell_type": "markdown",
   "metadata": {},
   "source": [
    "# Accuracy"
   ]
  },
  {
   "cell_type": "code",
   "execution_count": 60,
   "metadata": {},
   "outputs": [],
   "source": [
    "from sklearn.model_selection import cross_val_score\n",
    "from sklearn.ensemble import RandomForestClassifier\n",
    "import numpy as np\n",
    "np.random.seed(4)\n",
    "# crate data\n",
    "\n",
    "X = heart_disease.drop(\"target\",axis=1)\n",
    "y = heart_disease[\"target\"]\n",
    "\n",
    "# split into test and train\n",
    "X_train,X_test,y_train,y_test = train_test_split(X,y,test_size = 0.2)\n",
    "# instatiate model and fit \n",
    "\n",
    "heart_model = RandomForestClassifier().fit(X_train,y_train)\n",
    "\n"
   ]
  },
  {
   "cell_type": "code",
   "execution_count": 61,
   "metadata": {},
   "outputs": [
    {
     "data": {
      "text/plain": [
       "array([0.78688525, 0.8852459 , 0.80327869, 0.8       , 0.78333333])"
      ]
     },
     "execution_count": 61,
     "metadata": {},
     "output_type": "execute_result"
    }
   ],
   "source": [
    "cross_val_score(heart_model,X,y,cv=5, scoring=None)"
   ]
  },
  {
   "cell_type": "code",
   "execution_count": 62,
   "metadata": {},
   "outputs": [
    {
     "data": {
      "text/plain": [
       "0.8183060109289617"
      ]
     },
     "execution_count": 62,
     "metadata": {},
     "output_type": "execute_result"
    }
   ],
   "source": [
    "np.mean(cross_val_score(heart_model,X,y,cv=5, scoring=None))"
   ]
  },
  {
   "cell_type": "code",
   "execution_count": 63,
   "metadata": {},
   "outputs": [
    {
     "name": "stdout",
     "output_type": "stream",
     "text": [
      "Heart Disease Cross Validation Accuracy:80.17%\n"
     ]
    }
   ],
   "source": [
    "print(f'Heart Disease Cross Validation Accuracy:{np.mean(cross_val_score(heart_model,X,y,cv=5, scoring=None))*100:.2f}%')"
   ]
  },
  {
   "cell_type": "markdown",
   "metadata": {},
   "source": [
    "# 2 Area Under the Curve(AUC)\n",
    "# 2 Reciever Operating Characteristic Curve(ROC)\n"
   ]
  },
  {
   "cell_type": "code",
   "execution_count": 64,
   "metadata": {},
   "outputs": [],
   "source": [
    "# Create test train data\n",
    "from sklearn.metrics import roc_curve\n",
    "X_train,X_test,y_train,y_test = train_test_split(X,y,test_size = 0.2)\n",
    "# Fir the model\n",
    "clf.fit(X_train,y_train)\n",
    "# Make prediction using predict_proba()\n",
    "\n",
    "y_proba =  clf.predict_proba(X_test)\n",
    "\n"
   ]
  },
  {
   "cell_type": "code",
   "execution_count": 65,
   "metadata": {},
   "outputs": [],
   "source": [
    "y_prob_positve = y_proba[:,1]"
   ]
  },
  {
   "cell_type": "code",
   "execution_count": 66,
   "metadata": {},
   "outputs": [],
   "source": [
    "# Case-1:True Positive : Truth = 1 and Model = 1\n",
    "# Case-2:False Positive: Truth = 0 and Model = 1\n",
    "# Case-3:True Negative : Truth = 0 and Model = 0\n",
    "# Case-4:False Negative: Truth = 1 and Model = 0"
   ]
  },
  {
   "cell_type": "code",
   "execution_count": 91,
   "metadata": {},
   "outputs": [],
   "source": [
    "# calculate fpr,tpr, threshold\n",
    "\n",
    "fpr,tpr,threshold = roc_curve(y_test,y_prob_positve)"
   ]
  },
  {
   "cell_type": "code",
   "execution_count": 92,
   "metadata": {},
   "outputs": [
    {
     "data": {
      "text/plain": [
       "array([0.        , 0.        , 0.        , 0.        , 0.        ,\n",
       "       0.03846154, 0.03846154, 0.03846154, 0.07692308, 0.07692308,\n",
       "       0.07692308, 0.11538462, 0.15384615, 0.15384615, 0.19230769,\n",
       "       0.19230769, 0.26923077, 0.26923077, 0.30769231, 0.30769231,\n",
       "       0.34615385, 0.34615385, 0.34615385, 0.38461538, 0.46153846,\n",
       "       0.80769231, 0.88461538, 1.        ])"
      ]
     },
     "execution_count": 92,
     "metadata": {},
     "output_type": "execute_result"
    }
   ],
   "source": [
    "fpr"
   ]
  },
  {
   "cell_type": "code",
   "execution_count": 93,
   "metadata": {},
   "outputs": [
    {
     "data": {
      "image/png": "[encoded data removed]",
      "text/plain": [
       "<Figure size 432x288 with 1 Axes>"
      ]
     },
     "metadata": {
      "needs_background": "light"
     },
     "output_type": "display_data"
    }
   ],
   "source": [
    "# Create a fucntion for plotting using Matplot lib\n",
    "import matplotlib.pyplot as plt\n",
    "\n",
    "def plot_roc(fpr,tpr):\n",
    "    \n",
    "    # Plot roc curve \n",
    "    plt.plot(fpr,tpr, color=\"red\", label=\"AUC\")\n",
    "    \n",
    "    # Customize the plot\n",
    "    plt.title(\"Area Under the ROC Curve\")\n",
    "    plt.xlabel('False Positive Rate(fpr)')\n",
    "    plt.ylabel('True Positive Rate(tpr)')\n",
    "    plt.legend()\n",
    "    plt.show()\n",
    "    \n",
    "plot_roc(fpr,tpr)\n",
    "    \n",
    "\n",
    "    "
   ]
  },
  {
   "cell_type": "code",
   "execution_count": 94,
   "metadata": {},
   "outputs": [
    {
     "data": {
      "text/plain": [
       "0.878021978021978"
      ]
     },
     "execution_count": 94,
     "metadata": {},
     "output_type": "execute_result"
    }
   ],
   "source": [
    "from sklearn.metrics import roc_auc_score\n",
    "roc_auc_score(y_test,y_prob_positve)"
   ]
  },
  {
   "cell_type": "code",
   "execution_count": 95,
   "metadata": {},
   "outputs": [
    {
     "data": {
      "image/png": "[encoded data removed]",
      "text/plain": [
       "<Figure size 432x288 with 1 Axes>"
      ]
     },
     "metadata": {
      "needs_background": "light"
     },
     "output_type": "display_data"
    }
   ],
   "source": [
    "fpr,tpr,threshold = roc_curve(y_test,y_test)\n",
    "plot_roc(fpr,tpr)"
   ]
  },
  {
   "cell_type": "markdown",
   "metadata": {},
   "source": [
    "# 3 Confusion Matrix"
   ]
  },
  {
   "cell_type": "code",
   "execution_count": 96,
   "metadata": {},
   "outputs": [],
   "source": [
    "# Confusion Matrix tells where your model is Confused or Has lost its mind\n",
    "## Case-1 YES    :True Positive  : Truth = 1 and Model = 1 : Model Got it Right\n",
    "## Case-2 Opps   :False Positive : Truth = 0 and Model = 1 : Model Lost its Mind\n",
    "## Case-3 YES    :True Negative  : Truth = 0 and Model = 0 : Model Got it Right\n",
    "## Case-4 Opps   :False Negative : Truth = 1 and Model = 0 : Model Lost it Mind"
   ]
  },
  {
   "cell_type": "code",
   "execution_count": 97,
   "metadata": {},
   "outputs": [
    {
     "data": {
      "text/plain": [
       "array([[26,  0],\n",
       "       [ 0, 35]], dtype=int64)"
      ]
     },
     "execution_count": 97,
     "metadata": {},
     "output_type": "execute_result"
    }
   ],
   "source": [
    "from sklearn.metrics import confusion_matrix\n",
    "\n",
    "y_predicted =  heart_model.predict(X_test)\n",
    "confusion_matrix(y_test, y_predicted)"
   ]
  },
  {
   "cell_type": "code",
   "execution_count": 89,
   "metadata": {},
   "outputs": [
    {
     "data": {
      "text/plain": [
       "61"
      ]
     },
     "execution_count": 89,
     "metadata": {},
     "output_type": "execute_result"
    }
   ],
   "source": [
    "len(y_test)"
   ]
  },
  {
   "cell_type": "code",
   "execution_count": 90,
   "metadata": {},
   "outputs": [
    {
     "data": {
      "text/html": [
       "<div>\n",
       "<style scoped>\n",
       "    .dataframe tbody tr th:only-of-type {\n",
       "        vertical-align: middle;\n",
       "    }\n",
       "\n",
       "    .dataframe tbody tr th {\n",
       "        vertical-align: top;\n",
       "    }\n",
       "\n",
       "    .dataframe thead th {\n",
       "        text-align: right;\n",
       "    }\n",
       "</style>\n",
       "<table border=\"1\" class=\"dataframe\">\n",
       "  <thead>\n",
       "    <tr style=\"text-align: right;\">\n",
       "      <th>Predicted</th>\n",
       "      <th>0</th>\n",
       "      <th>1</th>\n",
       "    </tr>\n",
       "    <tr>\n",
       "      <th>Truth</th>\n",
       "      <th></th>\n",
       "      <th></th>\n",
       "    </tr>\n",
       "  </thead>\n",
       "  <tbody>\n",
       "    <tr>\n",
       "      <th>0</th>\n",
       "      <td>26</td>\n",
       "      <td>0</td>\n",
       "    </tr>\n",
       "    <tr>\n",
       "      <th>1</th>\n",
       "      <td>0</td>\n",
       "      <td>35</td>\n",
       "    </tr>\n",
       "  </tbody>\n",
       "</table>\n",
       "</div>"
      ],
      "text/plain": [
       "Predicted   0   1\n",
       "Truth            \n",
       "0          26   0\n",
       "1           0  35"
      ]
     },
     "execution_count": 90,
     "metadata": {},
     "output_type": "execute_result"
    }
   ],
   "source": [
    "# TO Visualize it Better\n",
    "pd.crosstab(y_test,\n",
    "           y_predicted,\n",
    "           rownames=[\"Truth\"],\n",
    "           colnames=[\"Predicted\"])"
   ]
  },
  {
   "cell_type": "code",
   "execution_count": 76,
   "metadata": {},
   "outputs": [
    {
     "name": "stdout",
     "output_type": "stream",
     "text": [
      "Collecting package metadata (current_repodata.json): ...working... done\n",
      "Solving environment: ...working... done\n",
      "\n",
      "# All requested packages already installed.\n"
     ]
    },
    {
     "name": "stderr",
     "output_type": "stream",
     "text": [
      "\n",
      "\n",
      "==> WARNING: A newer version of conda exists. <==\n",
      "  current version: 4.8.2\n",
      "  latest version: 4.8.3\n",
      "\n",
      "Please update conda by running\n",
      "\n",
      "    $ conda update -n base -c defaults conda\n",
      "\n",
      "\n"
     ]
    },
    {
     "name": "stdout",
     "output_type": "stream",
     "text": [
      "\n"
     ]
    }
   ],
   "source": [
    "# Installing within Conda Envirnment\n",
    "#import sys\n",
    "#!conda install --yes --prefix {sys.prefix} seaborn "
   ]
  },
  {
   "cell_type": "code",
   "execution_count": 80,
   "metadata": {},
   "outputs": [],
   "source": [
    "import seaborn as sns\n",
    "import matplotlib.pyplot as plt\n",
    "conf_mat = confusion_matrix(y_test, y_predicted)\n",
    "\n",
    "def plot_confmatrix(conf_mat):\n",
    "    \n",
    "    \"\"\"\n",
    "    This Function Plots confusion Matirx\n",
    "    \"\"\"\n",
    "    fig, ax = plt.subplots(figsize=(3,3))\n",
    "    ax = sns.heatmap(conf_mat,\n",
    "                    annot=True, # Annotate\n",
    "                    cbar=False)\n",
    "    plt.xlabel(\"Truth\")\n",
    "    plt.ylabel(\"Predicted\")\n",
    "\n"
   ]
  },
  {
   "cell_type": "code",
   "execution_count": 81,
   "metadata": {},
   "outputs": [
    {
     "data": {
      "image/png": "[encoded data removed]",
      "text/plain": [
       "<Figure size 216x216 with 1 Axes>"
      ]
     },
     "metadata": {
      "needs_background": "light"
     },
     "output_type": "display_data"
    }
   ],
   "source": [
    "plot_confmatrix(conf_mat)\n",
    "\n",
    "# Confusion matrix Tells you where your model lost its mind\n",
    "\n",
    "## Case-1 : True Positive : Truth = 1 and Model = 1 : Model Got it Right\n",
    "## Case-2 : False Positve: Truth = 0 and Model = 1: Model Lost its mind\n",
    "## Case-3 : True Negative : Truth = 0 and Model = 0: Model got it right\n",
    "## Case-4 : False negative : Truth = 1 and Model = 0: Model Lost its mind"
   ]
  },
  {
   "cell_type": "markdown",
   "metadata": {},
   "source": [
    "** 4 Classification Report**\n",
    "\n"
   ]
  },
  {
   "cell_type": "code",
   "execution_count": 82,
   "metadata": {},
   "outputs": [],
   "source": [
    "# 1 Class Imbalance\n",
    "\n",
    "# 2 Recall\n",
    "#                      terrorist correctly identified\n",
    "#--------------------------------------------------------------------------------   or (TP/TP+FN)\n",
    "#terrorist correctly identified  + terrorist incoreectly label as not terrorist\n",
    "\n",
    "# 3 Precision\n",
    "#                      terrorist correctly identified\n",
    "#--------------------------------------------------------------------------------   or (TP/TP+FP)\n",
    "#terrorist correctly identified  + inocents labled as terristis\n",
    "# 4 F1\n",
    "#combination of Precision and recall"
   ]
  },
  {
   "cell_type": "code",
   "execution_count": 79,
   "metadata": {},
   "outputs": [
    {
     "name": "stdout",
     "output_type": "stream",
     "text": [
      "              precision    recall  f1-score   support\n",
      "\n",
      "           0       1.00      1.00      1.00        26\n",
      "           1       1.00      1.00      1.00        35\n",
      "\n",
      "    accuracy                           1.00        61\n",
      "   macro avg       1.00      1.00      1.00        61\n",
      "weighted avg       1.00      1.00      1.00        61\n",
      "\n"
     ]
    }
   ],
   "source": [
    "from sklearn.metrics import classification_report\n",
    "print(classification_report(y_test,y_predicted))"
   ]
  },
  {
   "cell_type": "markdown",
   "metadata": {},
   "source": [
    "# Regresssion model evaluation metrics\n",
    "## 1 R^2 \n",
    "### Compares Your Model Prediction to the mean for your target \n",
    "## **2 Mean Absolute Error(MSE)**\n",
    "## **3  Mean Squared Error (MSE)**\n",
    "https://scikit-learn.org/stable/modules/model_evaluation.html"
   ]
  },
  {
   "cell_type": "markdown",
   "metadata": {},
   "source": [
    "# R^2"
   ]
  },
  {
   "cell_type": "code",
   "execution_count": 139,
   "metadata": {},
   "outputs": [
    {
     "data": {
      "text/plain": [
       "0.9103126580548283"
      ]
     },
     "execution_count": 139,
     "metadata": {},
     "output_type": "execute_result"
    }
   ],
   "source": [
    "from sklearn.ensemble import RandomForestRegressor\n",
    "\n",
    "np.random.seed(1)\n",
    "\n",
    "X = df_boston.drop('target', axis=1)\n",
    "y = df_boston[\"target\"]\n",
    "# SPlit into test and train data\n",
    "X_train,X_test,y_train,y_test = train_test_split(X,y,test_size=0.20)\n",
    "\n",
    "boston_model = RandomForestRegressor()\n",
    "boston_model.fit(X_train,y_train)\n",
    "boston_model.score(X_test,y_test)\n",
    "##### Maximize R^2"
   ]
  },
  {
   "cell_type": "code",
   "execution_count": null,
   "metadata": {},
   "outputs": [],
   "source": [
    "# MAE : Is the average of the absolute(plus) difference between predicted and actual"
   ]
  },
  {
   "cell_type": "code",
   "execution_count": 144,
   "metadata": {},
   "outputs": [
    {
     "data": {
      "text/plain": [
       "2.3109117647058848"
      ]
     },
     "execution_count": 144,
     "metadata": {},
     "output_type": "execute_result"
    }
   ],
   "source": [
    "# MAE\n",
    "\n",
    "from sklearn.metrics import mean_absolute_error\n",
    "\n",
    "y_predicted = boston_model.predict(X_test)\n",
    "\n",
    "mae = mean_absolute_error(y_test,y_predicted)\n",
    "mae"
   ]
  },
  {
   "cell_type": "code",
   "execution_count": 147,
   "metadata": {},
   "outputs": [
    {
     "data": {
      "text/html": [
       "<div>\n",
       "<style scoped>\n",
       "    .dataframe tbody tr th:only-of-type {\n",
       "        vertical-align: middle;\n",
       "    }\n",
       "\n",
       "    .dataframe tbody tr th {\n",
       "        vertical-align: top;\n",
       "    }\n",
       "\n",
       "    .dataframe thead th {\n",
       "        text-align: right;\n",
       "    }\n",
       "</style>\n",
       "<table border=\"1\" class=\"dataframe\">\n",
       "  <thead>\n",
       "    <tr style=\"text-align: right;\">\n",
       "      <th></th>\n",
       "      <th>actual values</th>\n",
       "      <th>predicted values</th>\n",
       "      <th>differences</th>\n",
       "    </tr>\n",
       "  </thead>\n",
       "  <tbody>\n",
       "    <tr>\n",
       "      <th>307</th>\n",
       "      <td>28.2</td>\n",
       "      <td>29.928</td>\n",
       "      <td>-1.728</td>\n",
       "    </tr>\n",
       "    <tr>\n",
       "      <th>343</th>\n",
       "      <td>23.9</td>\n",
       "      <td>26.982</td>\n",
       "      <td>-3.082</td>\n",
       "    </tr>\n",
       "    <tr>\n",
       "      <th>47</th>\n",
       "      <td>16.6</td>\n",
       "      <td>20.298</td>\n",
       "      <td>-3.698</td>\n",
       "    </tr>\n",
       "    <tr>\n",
       "      <th>67</th>\n",
       "      <td>22.0</td>\n",
       "      <td>20.610</td>\n",
       "      <td>1.390</td>\n",
       "    </tr>\n",
       "    <tr>\n",
       "      <th>362</th>\n",
       "      <td>20.8</td>\n",
       "      <td>19.804</td>\n",
       "      <td>0.996</td>\n",
       "    </tr>\n",
       "    <tr>\n",
       "      <th>...</th>\n",
       "      <td>...</td>\n",
       "      <td>...</td>\n",
       "      <td>...</td>\n",
       "    </tr>\n",
       "    <tr>\n",
       "      <th>92</th>\n",
       "      <td>22.9</td>\n",
       "      <td>23.624</td>\n",
       "      <td>-0.724</td>\n",
       "    </tr>\n",
       "    <tr>\n",
       "      <th>224</th>\n",
       "      <td>44.8</td>\n",
       "      <td>42.206</td>\n",
       "      <td>2.594</td>\n",
       "    </tr>\n",
       "    <tr>\n",
       "      <th>110</th>\n",
       "      <td>21.7</td>\n",
       "      <td>20.295</td>\n",
       "      <td>1.405</td>\n",
       "    </tr>\n",
       "    <tr>\n",
       "      <th>426</th>\n",
       "      <td>10.2</td>\n",
       "      <td>15.735</td>\n",
       "      <td>-5.535</td>\n",
       "    </tr>\n",
       "    <tr>\n",
       "      <th>443</th>\n",
       "      <td>15.4</td>\n",
       "      <td>15.662</td>\n",
       "      <td>-0.262</td>\n",
       "    </tr>\n",
       "  </tbody>\n",
       "</table>\n",
       "<p>102 rows × 3 columns</p>\n",
       "</div>"
      ],
      "text/plain": [
       "     actual values  predicted values  differences\n",
       "307           28.2            29.928       -1.728\n",
       "343           23.9            26.982       -3.082\n",
       "47            16.6            20.298       -3.698\n",
       "67            22.0            20.610        1.390\n",
       "362           20.8            19.804        0.996\n",
       "..             ...               ...          ...\n",
       "92            22.9            23.624       -0.724\n",
       "224           44.8            42.206        2.594\n",
       "110           21.7            20.295        1.405\n",
       "426           10.2            15.735       -5.535\n",
       "443           15.4            15.662       -0.262\n",
       "\n",
       "[102 rows x 3 columns]"
      ]
     },
     "execution_count": 147,
     "metadata": {},
     "output_type": "execute_result"
    }
   ],
   "source": [
    "df = pd.DataFrame(data={\"actual values\": y_test,\n",
    "                       \"predicted values\": y_predicted})\n",
    "\n",
    "df[\"differences\"] = df['actual values'] - df['predicted values']\n",
    "df\n",
    "# How Wrong our Model is\n",
    "# Minimize this value"
   ]
  },
  {
   "cell_type": "markdown",
   "metadata": {},
   "source": [
    "# Mean Squared Error\n"
   ]
  },
  {
   "cell_type": "code",
   "execution_count": 148,
   "metadata": {},
   "outputs": [
    {
     "data": {
      "text/plain": [
       "8.863565872549033"
      ]
     },
     "execution_count": 148,
     "metadata": {},
     "output_type": "execute_result"
    }
   ],
   "source": [
    "from sklearn.metrics import mean_squared_error\n",
    "\n",
    "y_preds = boston_model.predict(X_test)\n",
    "mse = mean_squared_error(y_test,y_preds)\n",
    "mse\n"
   ]
  },
  {
   "cell_type": "code",
   "execution_count": 149,
   "metadata": {},
   "outputs": [
    {
     "data": {
      "text/plain": [
       "8.863565872549033"
      ]
     },
     "execution_count": 149,
     "metadata": {},
     "output_type": "execute_result"
    }
   ],
   "source": [
    "# Manually calculate\n",
    "mse_manual = np.square(df['differences']) \n",
    "mse_manual.mean()"
   ]
  },
  {
   "cell_type": "markdown",
   "metadata": {},
   "source": [
    "# Comming  Back to Scoring\n"
   ]
  },
  {
   "cell_type": "code",
   "execution_count": 158,
   "metadata": {},
   "outputs": [],
   "source": [
    "# For Classification Problem"
   ]
  },
  {
   "cell_type": "code",
   "execution_count": 154,
   "metadata": {},
   "outputs": [
    {
     "data": {
      "text/plain": [
       "0.8051912568306012"
      ]
     },
     "execution_count": 154,
     "metadata": {},
     "output_type": "execute_result"
    }
   ],
   "source": [
    "from sklearn.model_selection import cross_val_score\n",
    "from sklearn.ensemble import RandomForestClassifier\n",
    "np.random.seed(7)\n",
    "\n",
    "X = heart_disease.drop('target', axis=1)\n",
    "y = heart_disease[\"target\"]\n",
    "\n",
    "clf = RandomForestClassifier()\n",
    "cross_acc = cross_val_score(clf,X,y,cv=5, scoring=None)\n",
    "cross_acc.mean()\n"
   ]
  },
  {
   "cell_type": "code",
   "execution_count": 153,
   "metadata": {},
   "outputs": [
    {
     "data": {
      "text/plain": [
       "0.8282513661202187"
      ]
     },
     "execution_count": 153,
     "metadata": {},
     "output_type": "execute_result"
    }
   ],
   "source": [
    "# Accuracy\n",
    "cross_acc = cross_val_score(clf,X,y,cv=5, scoring=\"accuracy\")\n",
    "cross_acc.mean()"
   ]
  },
  {
   "cell_type": "code",
   "execution_count": 155,
   "metadata": {},
   "outputs": [
    {
     "data": {
      "text/plain": [
       "0.8290595030514385"
      ]
     },
     "execution_count": 155,
     "metadata": {},
     "output_type": "execute_result"
    }
   ],
   "source": [
    "# Precision\n",
    "cross_acc = cross_val_score(clf,X,y,cv=5, scoring=\"precision\")\n",
    "cross_acc.mean()"
   ]
  },
  {
   "cell_type": "code",
   "execution_count": 156,
   "metadata": {},
   "outputs": [
    {
     "data": {
      "text/plain": [
       "0.8545454545454545"
      ]
     },
     "execution_count": 156,
     "metadata": {},
     "output_type": "execute_result"
    }
   ],
   "source": [
    "# recall\n",
    "cross_acc = cross_val_score(clf,X,y,cv=5, scoring=\"recall\")\n",
    "cross_acc.mean()"
   ]
  },
  {
   "cell_type": "code",
   "execution_count": 157,
   "metadata": {},
   "outputs": [
    {
     "data": {
      "text/plain": [
       "0.847229763700352"
      ]
     },
     "execution_count": 157,
     "metadata": {},
     "output_type": "execute_result"
    }
   ],
   "source": [
    "# f1\n",
    "cross_acc = cross_val_score(clf,X,y,cv=5, scoring=\"f1\")\n",
    "cross_acc.mean()"
   ]
  },
  {
   "cell_type": "code",
   "execution_count": 159,
   "metadata": {},
   "outputs": [],
   "source": [
    "# For regression Problem"
   ]
  },
  {
   "cell_type": "code",
   "execution_count": 161,
   "metadata": {},
   "outputs": [
    {
     "data": {
      "text/plain": [
       "0.6221977611294366"
      ]
     },
     "execution_count": 161,
     "metadata": {},
     "output_type": "execute_result"
    }
   ],
   "source": [
    "from sklearn.model_selection import cross_val_score\n",
    "from sklearn.ensemble import RandomForestRegressor\n",
    "np.random.seed(7)\n",
    "\n",
    "X = df_boston.drop('target', axis=1)\n",
    "y = df_boston[\"target\"]\n",
    "\n",
    "clf = RandomForestRegressor()\n",
    "cross_acc = cross_val_score(clf,X,y,cv=5, scoring=None)\n",
    "cross_acc.mean()"
   ]
  },
  {
   "cell_type": "code",
   "execution_count": 165,
   "metadata": {},
   "outputs": [
    {
     "data": {
      "text/plain": [
       "0.6221977611294366"
      ]
     },
     "execution_count": 165,
     "metadata": {},
     "output_type": "execute_result"
    }
   ],
   "source": [
    "np.random.seed(7)\n",
    "cv_r2 = cross_val_score(clf, X,y,cv=5,scoring='r2')\n",
    "cv_r2.mean()"
   ]
  },
  {
   "cell_type": "code",
   "execution_count": 170,
   "metadata": {},
   "outputs": [
    {
     "data": {
      "text/plain": [
       "array([-2.06430392, -2.55389109, -3.26293069, -3.8349802 , -3.17605941])"
      ]
     },
     "execution_count": 170,
     "metadata": {},
     "output_type": "execute_result"
    }
   ],
   "source": [
    "# Mean Aboslute Error\n",
    "np.random.seed(7)\n",
    "cv_r2 = cross_val_score(clf, X,y,cv=5,scoring='neg_mean_absolute_error')\n",
    "cv_r2"
   ]
  },
  {
   "cell_type": "code",
   "execution_count": 171,
   "metadata": {},
   "outputs": [
    {
     "data": {
      "text/plain": [
       "array([ -7.76474828, -12.95808245, -20.30706069, -47.54923951,\n",
       "       -19.30756238])"
      ]
     },
     "execution_count": 171,
     "metadata": {},
     "output_type": "execute_result"
    }
   ],
   "source": [
    "# Mean Squared Error\n",
    "np.random.seed(7)\n",
    "cv_r2 = cross_val_score(clf, X,y,cv=5,scoring='neg_mean_squared_error')\n",
    "cv_r2"
   ]
  },
  {
   "cell_type": "markdown",
   "metadata": {},
   "source": [
    "# Using Different Evaluation Matrics as Sklearn Functions\n",
    "\n",
    "## Classification Problem"
   ]
  },
  {
   "cell_type": "code",
   "execution_count": 4,
   "metadata": {},
   "outputs": [
    {
     "name": "stdout",
     "output_type": "stream",
     "text": [
      "Model Evaluation Using Sklearn Functoins\n",
      ":Accuracy score: 0.7213114754098361\n",
      ":Precision Score: 0.6842105263157895\n",
      ":Recall Score: 0.8387096774193549\n",
      ":f1 Score: 0.7536231884057972\n"
     ]
    }
   ],
   "source": [
    "from sklearn.metrics import accuracy_score,precision_score,recall_score,f1_score\n",
    "from sklearn.ensemble import RandomForestClassifier\n",
    "from sklearn.model_selection import train_test_split\n",
    "import numpy as np\n",
    "import pandas as pd\n",
    "np.random.seed(7)\n",
    "# Loading Data\n",
    "heart_disease = pd.read_csv(\"datasets_33180_43520_heart.csv\")\n",
    "# Spliting data\n",
    "X = heart_disease.drop('target', axis=1)\n",
    "y = heart_disease['target']\n",
    "# Make test and train sets\n",
    "X_train,X_test,y_train,y_test = train_test_split(X,y,test_size=0.20)\n",
    "#Instatiate the model\n",
    "clf = RandomForestClassifier()\n",
    "# Fit the model\n",
    "clf.fit(X_train,y_train)\n",
    "# Lets Make Predictions\n",
    "y_predicted  = clf.predict(X_test)\n",
    "# EValuating the Model using Sklearn Functions \n",
    "print(\"Model Evaluation Using Sklearn Functoins\")\n",
    "print(f':Accuracy score: {accuracy_score(y_test,y_predicted)}')\n",
    "print(f':Precision Score: {precision_score(y_test,y_predicted)}')\n",
    "print(f':Recall Score: {recall_score(y_test,y_predicted)}')\n",
    "print(f':f1 Score: {f1_score(y_test,y_predicted)}')"
   ]
  },
  {
   "cell_type": "markdown",
   "metadata": {},
   "source": [
    "## Regression Evaluation Functions"
   ]
  },
  {
   "cell_type": "code",
   "execution_count": 1,
   "metadata": {},
   "outputs": [
    {
     "data": {
      "text/html": [
       "<div>\n",
       "<style scoped>\n",
       "    .dataframe tbody tr th:only-of-type {\n",
       "        vertical-align: middle;\n",
       "    }\n",
       "\n",
       "    .dataframe tbody tr th {\n",
       "        vertical-align: top;\n",
       "    }\n",
       "\n",
       "    .dataframe thead th {\n",
       "        text-align: right;\n",
       "    }\n",
       "</style>\n",
       "<table border=\"1\" class=\"dataframe\">\n",
       "  <thead>\n",
       "    <tr style=\"text-align: right;\">\n",
       "      <th></th>\n",
       "      <th>CRIM</th>\n",
       "      <th>ZN</th>\n",
       "      <th>INDUS</th>\n",
       "      <th>CHAS</th>\n",
       "      <th>NOX</th>\n",
       "      <th>RM</th>\n",
       "      <th>AGE</th>\n",
       "      <th>DIS</th>\n",
       "      <th>RAD</th>\n",
       "      <th>TAX</th>\n",
       "      <th>PTRATIO</th>\n",
       "      <th>B</th>\n",
       "      <th>LSTAT</th>\n",
       "      <th>target</th>\n",
       "    </tr>\n",
       "  </thead>\n",
       "  <tbody>\n",
       "    <tr>\n",
       "      <th>0</th>\n",
       "      <td>0.00632</td>\n",
       "      <td>18.0</td>\n",
       "      <td>2.31</td>\n",
       "      <td>0.0</td>\n",
       "      <td>0.538</td>\n",
       "      <td>6.575</td>\n",
       "      <td>65.2</td>\n",
       "      <td>4.0900</td>\n",
       "      <td>1.0</td>\n",
       "      <td>296.0</td>\n",
       "      <td>15.3</td>\n",
       "      <td>396.90</td>\n",
       "      <td>4.98</td>\n",
       "      <td>24.0</td>\n",
       "    </tr>\n",
       "    <tr>\n",
       "      <th>1</th>\n",
       "      <td>0.02731</td>\n",
       "      <td>0.0</td>\n",
       "      <td>7.07</td>\n",
       "      <td>0.0</td>\n",
       "      <td>0.469</td>\n",
       "      <td>6.421</td>\n",
       "      <td>78.9</td>\n",
       "      <td>4.9671</td>\n",
       "      <td>2.0</td>\n",
       "      <td>242.0</td>\n",
       "      <td>17.8</td>\n",
       "      <td>396.90</td>\n",
       "      <td>9.14</td>\n",
       "      <td>21.6</td>\n",
       "    </tr>\n",
       "    <tr>\n",
       "      <th>2</th>\n",
       "      <td>0.02729</td>\n",
       "      <td>0.0</td>\n",
       "      <td>7.07</td>\n",
       "      <td>0.0</td>\n",
       "      <td>0.469</td>\n",
       "      <td>7.185</td>\n",
       "      <td>61.1</td>\n",
       "      <td>4.9671</td>\n",
       "      <td>2.0</td>\n",
       "      <td>242.0</td>\n",
       "      <td>17.8</td>\n",
       "      <td>392.83</td>\n",
       "      <td>4.03</td>\n",
       "      <td>34.7</td>\n",
       "    </tr>\n",
       "    <tr>\n",
       "      <th>3</th>\n",
       "      <td>0.03237</td>\n",
       "      <td>0.0</td>\n",
       "      <td>2.18</td>\n",
       "      <td>0.0</td>\n",
       "      <td>0.458</td>\n",
       "      <td>6.998</td>\n",
       "      <td>45.8</td>\n",
       "      <td>6.0622</td>\n",
       "      <td>3.0</td>\n",
       "      <td>222.0</td>\n",
       "      <td>18.7</td>\n",
       "      <td>394.63</td>\n",
       "      <td>2.94</td>\n",
       "      <td>33.4</td>\n",
       "    </tr>\n",
       "    <tr>\n",
       "      <th>4</th>\n",
       "      <td>0.06905</td>\n",
       "      <td>0.0</td>\n",
       "      <td>2.18</td>\n",
       "      <td>0.0</td>\n",
       "      <td>0.458</td>\n",
       "      <td>7.147</td>\n",
       "      <td>54.2</td>\n",
       "      <td>6.0622</td>\n",
       "      <td>3.0</td>\n",
       "      <td>222.0</td>\n",
       "      <td>18.7</td>\n",
       "      <td>396.90</td>\n",
       "      <td>5.33</td>\n",
       "      <td>36.2</td>\n",
       "    </tr>\n",
       "  </tbody>\n",
       "</table>\n",
       "</div>"
      ],
      "text/plain": [
       "      CRIM    ZN  INDUS  CHAS    NOX     RM   AGE     DIS  RAD    TAX  \\\n",
       "0  0.00632  18.0   2.31   0.0  0.538  6.575  65.2  4.0900  1.0  296.0   \n",
       "1  0.02731   0.0   7.07   0.0  0.469  6.421  78.9  4.9671  2.0  242.0   \n",
       "2  0.02729   0.0   7.07   0.0  0.469  7.185  61.1  4.9671  2.0  242.0   \n",
       "3  0.03237   0.0   2.18   0.0  0.458  6.998  45.8  6.0622  3.0  222.0   \n",
       "4  0.06905   0.0   2.18   0.0  0.458  7.147  54.2  6.0622  3.0  222.0   \n",
       "\n",
       "   PTRATIO       B  LSTAT  target  \n",
       "0     15.3  396.90   4.98    24.0  \n",
       "1     17.8  396.90   9.14    21.6  \n",
       "2     17.8  392.83   4.03    34.7  \n",
       "3     18.7  394.63   2.94    33.4  \n",
       "4     18.7  396.90   5.33    36.2  "
      ]
     },
     "execution_count": 1,
     "metadata": {},
     "output_type": "execute_result"
    }
   ],
   "source": [
    "from sklearn.metrics import r2_score,mean_absolute_error,mean_squared_error\n",
    "from sklearn.ensemble import RandomForestRegressor\n",
    "from sklearn.model_selection import train_test_split\n",
    "from sklearn.datasets import load_boston\n",
    "import numpy as np\n",
    "import pandas as pd\n",
    "np.random.seed(7)\n",
    "boston = load_boston()\n",
    "df_boston = pd.DataFrame(boston['data'],columns=boston[\"feature_names\"])\n",
    "df_boston['target'] = pd.Series(boston['target'])\n",
    "df_boston.head() "
   ]
  },
  {
   "cell_type": "code",
   "execution_count": 2,
   "metadata": {},
   "outputs": [
    {
     "name": "stdout",
     "output_type": "stream",
     "text": [
      "Regression Model Metrics on Test Set\n",
      "R2 Score is:0.8057804816873887\n",
      "Mean Absolute Error(MAE):2.3439313725490187\n",
      "Mean Squared Error(MSE):15.694152911764695\n"
     ]
    }
   ],
   "source": [
    "# Load \n",
    "# Split data into test and tain\n",
    "\n",
    "X = df_boston.drop('target', axis=1)\n",
    "y = df_boston['target']\n",
    "X_train,X_test,y_train,y_test =train_test_split(X,y,test_size=0.20)\n",
    "# Create Model Instance\n",
    "\n",
    "boston_model = RandomForestRegressor()\n",
    "# fit\n",
    "boston_model.fit(X_train,y_train)\n",
    "# Make Prediction\n",
    "\n",
    "y_predicted = boston_model.predict(X_test)\n",
    "\n",
    "# We RUn the Regression evaluation function\n",
    "print(\"Regression Model Metrics on Test Set\")\n",
    "print(f\"R2 Score is:{r2_score(y_test,y_predicted)}\")\n",
    "print(f\"Mean Absolute Error(MAE):{mean_absolute_error(y_test,y_predicted)}\")\n",
    "print(f\"Mean Squared Error(MSE):{mean_squared_error(y_test,y_predicted)}\")\n",
    "\n",
    "\n",
    "\n"
   ]
  },
  {
   "cell_type": "code",
   "execution_count": 3,
   "metadata": {},
   "outputs": [],
   "source": [
    "## 1 Getting the Data Ready\n",
    "## 2 Choosing Machine Learning Model\n",
    "## 3 Fit Model\n",
    "## 4 Evaluate Model\n",
    "## 5 Improve Model\n",
    "## 6 Saving the Model\n",
    "## 7 Summary"
   ]
  },
  {
   "cell_type": "code",
   "execution_count": 4,
   "metadata": {},
   "outputs": [],
   "source": [
    "\n",
    "from sklearn.ensemble import RandomForestClassifier\n",
    "\n",
    "clf = RandomForestClassifier()\n"
   ]
  },
  {
   "cell_type": "code",
   "execution_count": 5,
   "metadata": {},
   "outputs": [
    {
     "data": {
      "text/plain": [
       "{'bootstrap': True,\n",
       " 'ccp_alpha': 0.0,\n",
       " 'class_weight': None,\n",
       " 'criterion': 'gini',\n",
       " 'max_depth': None,\n",
       " 'max_features': 'auto',\n",
       " 'max_leaf_nodes': None,\n",
       " 'max_samples': None,\n",
       " 'min_impurity_decrease': 0.0,\n",
       " 'min_impurity_split': None,\n",
       " 'min_samples_leaf': 1,\n",
       " 'min_samples_split': 2,\n",
       " 'min_weight_fraction_leaf': 0.0,\n",
       " 'n_estimators': 100,\n",
       " 'n_jobs': None,\n",
       " 'oob_score': False,\n",
       " 'random_state': None,\n",
       " 'verbose': 0,\n",
       " 'warm_start': False}"
      ]
     },
     "execution_count": 5,
     "metadata": {},
     "output_type": "execute_result"
    }
   ],
   "source": [
    "clf.get_params()"
   ]
  },
  {
   "cell_type": "markdown",
   "metadata": {},
   "source": [
    "## Hyperparameters\n",
    "### 1 Manually\n",
    "### 2 Randomly with RandomSearchCV\n",
    "### 3 Exhaustively GridSearchCV\n",
    "\n",
    "# Task 1\n",
    "### SPlit data into TEST,TRAIN, VALIDATION sets\n",
    "\n",
    "# Task 2\n",
    "### The parameters we are going to use\n",
    "* max_depth\n",
    "* max_features\n",
    "* min_samples_split\n",
    "* min_samples_leaf\n",
    "* n_estimators\n"
   ]
  },
  {
   "cell_type": "markdown",
   "metadata": {},
   "source": [
    "# Task 1"
   ]
  },
  {
   "cell_type": "code",
   "execution_count": 6,
   "metadata": {},
   "outputs": [],
   "source": [
    "from sklearn.metrics import accuracy_score,precision_score,recall_score,f1_score\n",
    "def evaluate_hyper_metrics(y_true,y_predicted):\n",
    "    \"\"\"This function return the Evaluation Metrics\"\"\"\n",
    "    \n",
    "    accuracy = accuracy_score(y_true,y_predicted)\n",
    "    precision = precision_score(y_true,y_predicted)\n",
    "    recall = recall_score(y_true,y_predicted)\n",
    "    f1 = f1_score(y_true,y_predicted)\n",
    "    \n",
    "    metrics_dict = {\"Accuracy\": accuracy,\n",
    "                    \"precision\":precision,\n",
    "                    \"recall\":recall,\n",
    "                    \"f1\":f1}\n",
    "\n",
    "    \n",
    "    print(f\"Accuracy:{round(accuracy,2)}\")\n",
    "    print(f\"precision:{round(precision,2)}\")\n",
    "    print(f\"Recall:{round(recall,2)}\")\n",
    "    print(f\"f1:{round(f1,2)}\")\n",
    "    \n",
    "    return metrics_dict\n",
    "    \n"
   ]
  },
  {
   "cell_type": "code",
   "execution_count": 9,
   "metadata": {},
   "outputs": [],
   "source": [
    "# Train\n",
    "# Validate\n",
    "# Test\n",
    "heart_disease = pd.read_csv(\"datasets_33180_43520_heart.csv\")\n",
    "mixed_heart_disease = heart_disease.sample(frac=1)\n",
    "# SPlit X,y\n",
    "X = mixed_heart_disease.drop('target', axis=1)\n",
    "y = mixed_heart_disease['target']\n",
    "# SPlitting data into three parts Now: Train =70%,Validate=15%,Test=15%\n",
    "train_split = round(0.7*len(mixed_heart_disease))\n",
    "valid_split = round(train_split + 0.15*len(mixed_heart_disease))\n",
    "\n",
    "X_train,y_train = X[:train_split],y[:train_split]\n",
    "X_valid,y_valid =X[train_split:valid_split],y[train_split:valid_split]\n",
    "X_test,y_test = X[valid_split:],y[valid_split:]\n",
    "\n",
    "\n"
   ]
  },
  {
   "cell_type": "code",
   "execution_count": 10,
   "metadata": {},
   "outputs": [
    {
     "data": {
      "text/plain": [
       "303"
      ]
     },
     "execution_count": 10,
     "metadata": {},
     "output_type": "execute_result"
    }
   ],
   "source": [
    "len(mixed_heart_disease)"
   ]
  },
  {
   "cell_type": "code",
   "execution_count": 11,
   "metadata": {},
   "outputs": [
    {
     "data": {
      "text/plain": [
       "(212, 45, 46)"
      ]
     },
     "execution_count": 11,
     "metadata": {},
     "output_type": "execute_result"
    }
   ],
   "source": [
    "len(X_train),len(X_valid),len(X_test)"
   ]
  },
  {
   "cell_type": "code",
   "execution_count": 12,
   "metadata": {},
   "outputs": [
    {
     "name": "stdout",
     "output_type": "stream",
     "text": [
      "Accuracy:0.76\n",
      "precision:0.64\n",
      "Recall:0.82\n",
      "f1:0.72\n"
     ]
    },
    {
     "data": {
      "text/plain": [
       "{'Accuracy': 0.7555555555555555,\n",
       " 'precision': 0.6363636363636364,\n",
       " 'recall': 0.8235294117647058,\n",
       " 'f1': 0.717948717948718}"
      ]
     },
     "execution_count": 12,
     "metadata": {},
     "output_type": "execute_result"
    }
   ],
   "source": [
    "# First Model results\n",
    "np.random.seed(7)\n",
    "clf = RandomForestClassifier()\n",
    "clf.fit(X_train,y_train)\n",
    "# Baseline Prediction\n",
    "y_predicted = clf.predict(X_valid)\n",
    "# EValuating the model\n",
    "first_result = evaluate_hyper_metrics(y_valid,y_predicted)\n",
    "first_result\n",
    "\n",
    "\n",
    "\n"
   ]
  },
  {
   "cell_type": "code",
   "execution_count": 13,
   "metadata": {},
   "outputs": [
    {
     "name": "stdout",
     "output_type": "stream",
     "text": [
      "Accuracy:0.8\n",
      "precision:0.68\n",
      "Recall:0.88\n",
      "f1:0.77\n"
     ]
    },
    {
     "data": {
      "text/plain": [
       "{'Accuracy': 0.8,\n",
       " 'precision': 0.6818181818181818,\n",
       " 'recall': 0.8823529411764706,\n",
       " 'f1': 0.7692307692307693}"
      ]
     },
     "execution_count": 13,
     "metadata": {},
     "output_type": "execute_result"
    }
   ],
   "source": [
    "\n",
    "# Second Model results\n",
    "np.random.seed(7)\n",
    "clf2 = RandomForestClassifier(n_estimators=10)\n",
    "clf2.fit(X_train,y_train)\n",
    "# Baseline Prediction\n",
    "y_predicted = clf2.predict(X_valid)\n",
    "# EValuating the model\n",
    "second_result = evaluate_hyper_metrics(y_valid,y_predicted)\n",
    "second_result\n",
    "\n"
   ]
  },
  {
   "cell_type": "code",
   "execution_count": 15,
   "metadata": {},
   "outputs": [
    {
     "ename": "ValueError",
     "evalue": "n_estimators must be an integer, got <class 'list'>.",
     "output_type": "error",
     "traceback": [
      "\u001b[1;31m---------------------------------------------------------------------------\u001b[0m",
      "\u001b[1;31mValueError\u001b[0m                                Traceback (most recent call last)",
      "\u001b[1;32m<ipython-input-15-6342a8d14e2f>\u001b[0m in \u001b[0;36m<module>\u001b[1;34m\u001b[0m\n\u001b[0;32m      3\u001b[0m \u001b[0mnp\u001b[0m\u001b[1;33m.\u001b[0m\u001b[0mrandom\u001b[0m\u001b[1;33m.\u001b[0m\u001b[0mseed\u001b[0m\u001b[1;33m(\u001b[0m\u001b[1;36m7\u001b[0m\u001b[1;33m)\u001b[0m\u001b[1;33m\u001b[0m\u001b[1;33m\u001b[0m\u001b[0m\n\u001b[0;32m      4\u001b[0m \u001b[0mclf3\u001b[0m \u001b[1;33m=\u001b[0m \u001b[0mRandomForestClassifier\u001b[0m\u001b[1;33m(\u001b[0m\u001b[0mn_estimators\u001b[0m\u001b[1;33m=\u001b[0m\u001b[1;33m[\u001b[0m\u001b[1;36m10\u001b[0m\u001b[1;33m,\u001b[0m\u001b[1;36m100\u001b[0m\u001b[1;33m,\u001b[0m\u001b[1;36m200\u001b[0m\u001b[1;33m,\u001b[0m\u001b[1;36m500\u001b[0m\u001b[1;33m]\u001b[0m\u001b[1;33m,\u001b[0m\u001b[0mmax_depth\u001b[0m\u001b[1;33m=\u001b[0m\u001b[1;33m[\u001b[0m\u001b[1;32mNone\u001b[0m\u001b[1;33m,\u001b[0m\u001b[1;36m5\u001b[0m\u001b[1;33m,\u001b[0m\u001b[1;36m10\u001b[0m\u001b[1;33m,\u001b[0m\u001b[1;36m20\u001b[0m\u001b[1;33m,\u001b[0m\u001b[1;36m30\u001b[0m\u001b[1;33m]\u001b[0m\u001b[1;33m)\u001b[0m\u001b[1;33m\u001b[0m\u001b[1;33m\u001b[0m\u001b[0m\n\u001b[1;32m----> 5\u001b[1;33m \u001b[0mclf3\u001b[0m\u001b[1;33m.\u001b[0m\u001b[0mfit\u001b[0m\u001b[1;33m(\u001b[0m\u001b[0mX_train\u001b[0m\u001b[1;33m,\u001b[0m\u001b[0my_train\u001b[0m\u001b[1;33m)\u001b[0m\u001b[1;33m\u001b[0m\u001b[1;33m\u001b[0m\u001b[0m\n\u001b[0m\u001b[0;32m      6\u001b[0m \u001b[1;31m# Baseline Prediction\u001b[0m\u001b[1;33m\u001b[0m\u001b[1;33m\u001b[0m\u001b[1;33m\u001b[0m\u001b[0m\n\u001b[0;32m      7\u001b[0m \u001b[0my_predicted\u001b[0m \u001b[1;33m=\u001b[0m \u001b[0mclf3\u001b[0m\u001b[1;33m.\u001b[0m\u001b[0mpredict\u001b[0m\u001b[1;33m(\u001b[0m\u001b[0mX_valid\u001b[0m\u001b[1;33m)\u001b[0m\u001b[1;33m\u001b[0m\u001b[1;33m\u001b[0m\u001b[0m\n",
      "\u001b[1;32m~\\Desktop\\ml_project\\venv\\lib\\site-packages\\sklearn\\ensemble\\_forest.py\u001b[0m in \u001b[0;36mfit\u001b[1;34m(self, X, y, sample_weight)\u001b[0m\n\u001b[0;32m    337\u001b[0m \u001b[1;33m\u001b[0m\u001b[0m\n\u001b[0;32m    338\u001b[0m         \u001b[1;31m# Check parameters\u001b[0m\u001b[1;33m\u001b[0m\u001b[1;33m\u001b[0m\u001b[1;33m\u001b[0m\u001b[0m\n\u001b[1;32m--> 339\u001b[1;33m         \u001b[0mself\u001b[0m\u001b[1;33m.\u001b[0m\u001b[0m_validate_estimator\u001b[0m\u001b[1;33m(\u001b[0m\u001b[1;33m)\u001b[0m\u001b[1;33m\u001b[0m\u001b[1;33m\u001b[0m\u001b[0m\n\u001b[0m\u001b[0;32m    340\u001b[0m \u001b[1;33m\u001b[0m\u001b[0m\n\u001b[0;32m    341\u001b[0m         \u001b[1;32mif\u001b[0m \u001b[1;32mnot\u001b[0m \u001b[0mself\u001b[0m\u001b[1;33m.\u001b[0m\u001b[0mbootstrap\u001b[0m \u001b[1;32mand\u001b[0m \u001b[0mself\u001b[0m\u001b[1;33m.\u001b[0m\u001b[0moob_score\u001b[0m\u001b[1;33m:\u001b[0m\u001b[1;33m\u001b[0m\u001b[1;33m\u001b[0m\u001b[0m\n",
      "\u001b[1;32m~\\Desktop\\ml_project\\venv\\lib\\site-packages\\sklearn\\ensemble\\_base.py\u001b[0m in \u001b[0;36m_validate_estimator\u001b[1;34m(self, default)\u001b[0m\n\u001b[0;32m    124\u001b[0m         \"\"\"\n\u001b[0;32m    125\u001b[0m         \u001b[1;32mif\u001b[0m \u001b[1;32mnot\u001b[0m \u001b[0misinstance\u001b[0m\u001b[1;33m(\u001b[0m\u001b[0mself\u001b[0m\u001b[1;33m.\u001b[0m\u001b[0mn_estimators\u001b[0m\u001b[1;33m,\u001b[0m \u001b[0mnumbers\u001b[0m\u001b[1;33m.\u001b[0m\u001b[0mIntegral\u001b[0m\u001b[1;33m)\u001b[0m\u001b[1;33m:\u001b[0m\u001b[1;33m\u001b[0m\u001b[1;33m\u001b[0m\u001b[0m\n\u001b[1;32m--> 126\u001b[1;33m             raise ValueError(\"n_estimators must be an integer, \"\n\u001b[0m\u001b[0;32m    127\u001b[0m                              \"got {0}.\".format(type(self.n_estimators)))\n\u001b[0;32m    128\u001b[0m \u001b[1;33m\u001b[0m\u001b[0m\n",
      "\u001b[1;31mValueError\u001b[0m: n_estimators must be an integer, got <class 'list'>."
     ]
    }
   ],
   "source": [
    "## Just for example no need to run\n",
    "# Third Model results\n",
    "np.random.seed(7)\n",
    "clf3 = RandomForestClassifier(n_estimators=[10,100,200,500],max_depth=[None,5,10,20,30])\n",
    "clf3.fit(X_train,y_train)\n",
    "# Baseline Prediction\n",
    "y_predicted = clf3.predict(X_valid)\n",
    "# EValuating the model\n",
    "third_result = evaluate_hyper_metrics(y_valid,y_predicted)\n",
    "third_result\n",
    "\n"
   ]
  },
  {
   "cell_type": "markdown",
   "metadata": {},
   "source": [
    "\n"
   ]
  },
  {
   "cell_type": "markdown",
   "metadata": {},
   "source": [
    "# Tuning Hyperparameters using Randomized Search CV(RSCV)\n"
   ]
  },
  {
   "cell_type": "markdown",
   "metadata": {},
   "source": [
    "* \"max_depth\":[None,5,10,20,30]\n",
    "* \"n_estimators\":[10,100,200,500,1000,12000]\n",
    "* \"min_samples_split\":[2,4,6]\n",
    "* \"min_samples_leaf\":[1,2,4]\n",
    "* \"max_features\":[\"auto\",\"sqrt\"]\n",
    "* \"n_jobs\"\n"
   ]
  },
  {
   "cell_type": "code",
   "execution_count": 16,
   "metadata": {},
   "outputs": [],
   "source": [
    "hparams = {\"max_depth\":[None,5,10,20,30],\n",
    "           \"n_estimators\":[10,100,200,500,1000,12000],\n",
    "           \"min_samples_split\":[2,4,6],\n",
    "           \"min_samples_leaf\":[1,2,4],\n",
    "           \"max_features\":[\"auto\",\"sqrt\"]}\n",
    "# Split into X and y\n",
    "X = mixed_heart_disease.drop(\"target\",axis=1)\n",
    "y = mixed_heart_disease[\"target\"]\n",
    "# Split into test and train\n",
    "X_train,X_test,y_train,y_test = train_test_split(X,y,test_size=0.2)\n",
    "\n",
    "clf = RandomForestClassifier(n_jobs=1)"
   ]
  },
  {
   "cell_type": "code",
   "execution_count": 17,
   "metadata": {},
   "outputs": [],
   "source": [
    "from sklearn.model_selection import RandomizedSearchCV\n",
    "\n",
    "rscv_clf = RandomizedSearchCV(estimator=clf,\n",
    "                             param_distributions=hparams,\n",
    "                             n_iter=10,\n",
    "                             cv=5,\n",
    "                             verbose=2)"
   ]
  },
  {
   "cell_type": "code",
   "execution_count": 18,
   "metadata": {},
   "outputs": [
    {
     "name": "stdout",
     "output_type": "stream",
     "text": [
      "Fitting 5 folds for each of 10 candidates, totalling 50 fits\n",
      "[CV] n_estimators=200, min_samples_split=4, min_samples_leaf=1, max_features=auto, max_depth=10 \n"
     ]
    },
    {
     "name": "stderr",
     "output_type": "stream",
     "text": [
      "[Parallel(n_jobs=1)]: Using backend SequentialBackend with 1 concurrent workers.\n"
     ]
    },
    {
     "name": "stdout",
     "output_type": "stream",
     "text": [
      "[CV]  n_estimators=200, min_samples_split=4, min_samples_leaf=1, max_features=auto, max_depth=10, total=   0.4s\n",
      "[CV] n_estimators=200, min_samples_split=4, min_samples_leaf=1, max_features=auto, max_depth=10 \n"
     ]
    },
    {
     "name": "stderr",
     "output_type": "stream",
     "text": [
      "[Parallel(n_jobs=1)]: Done   1 out of   1 | elapsed:    0.3s remaining:    0.0s\n"
     ]
    },
    {
     "name": "stdout",
     "output_type": "stream",
     "text": [
      "[CV]  n_estimators=200, min_samples_split=4, min_samples_leaf=1, max_features=auto, max_depth=10, total=   0.3s\n",
      "[CV] n_estimators=200, min_samples_split=4, min_samples_leaf=1, max_features=auto, max_depth=10 \n",
      "[CV]  n_estimators=200, min_samples_split=4, min_samples_leaf=1, max_features=auto, max_depth=10, total=   0.3s\n",
      "[CV] n_estimators=200, min_samples_split=4, min_samples_leaf=1, max_features=auto, max_depth=10 \n",
      "[CV]  n_estimators=200, min_samples_split=4, min_samples_leaf=1, max_features=auto, max_depth=10, total=   0.3s\n",
      "[CV] n_estimators=200, min_samples_split=4, min_samples_leaf=1, max_features=auto, max_depth=10 \n",
      "[CV]  n_estimators=200, min_samples_split=4, min_samples_leaf=1, max_features=auto, max_depth=10, total=   0.3s\n",
      "[CV] n_estimators=500, min_samples_split=2, min_samples_leaf=4, max_features=sqrt, max_depth=30 \n",
      "[CV]  n_estimators=500, min_samples_split=2, min_samples_leaf=4, max_features=sqrt, max_depth=30, total=   1.6s\n",
      "[CV] n_estimators=500, min_samples_split=2, min_samples_leaf=4, max_features=sqrt, max_depth=30 \n",
      "[CV]  n_estimators=500, min_samples_split=2, min_samples_leaf=4, max_features=sqrt, max_depth=30, total=   0.7s\n",
      "[CV] n_estimators=500, min_samples_split=2, min_samples_leaf=4, max_features=sqrt, max_depth=30 \n",
      "[CV]  n_estimators=500, min_samples_split=2, min_samples_leaf=4, max_features=sqrt, max_depth=30, total=   0.7s\n",
      "[CV] n_estimators=500, min_samples_split=2, min_samples_leaf=4, max_features=sqrt, max_depth=30 \n",
      "[CV]  n_estimators=500, min_samples_split=2, min_samples_leaf=4, max_features=sqrt, max_depth=30, total=   1.1s\n",
      "[CV] n_estimators=500, min_samples_split=2, min_samples_leaf=4, max_features=sqrt, max_depth=30 \n",
      "[CV]  n_estimators=500, min_samples_split=2, min_samples_leaf=4, max_features=sqrt, max_depth=30, total=   1.9s\n",
      "[CV] n_estimators=12000, min_samples_split=6, min_samples_leaf=1, max_features=sqrt, max_depth=5 \n",
      "[CV]  n_estimators=12000, min_samples_split=6, min_samples_leaf=1, max_features=sqrt, max_depth=5, total=  18.6s\n",
      "[CV] n_estimators=12000, min_samples_split=6, min_samples_leaf=1, max_features=sqrt, max_depth=5 \n",
      "[CV]  n_estimators=12000, min_samples_split=6, min_samples_leaf=1, max_features=sqrt, max_depth=5, total=  15.6s\n",
      "[CV] n_estimators=12000, min_samples_split=6, min_samples_leaf=1, max_features=sqrt, max_depth=5 \n",
      "[CV]  n_estimators=12000, min_samples_split=6, min_samples_leaf=1, max_features=sqrt, max_depth=5, total=  16.0s\n",
      "[CV] n_estimators=12000, min_samples_split=6, min_samples_leaf=1, max_features=sqrt, max_depth=5 \n",
      "[CV]  n_estimators=12000, min_samples_split=6, min_samples_leaf=1, max_features=sqrt, max_depth=5, total=  21.6s\n",
      "[CV] n_estimators=12000, min_samples_split=6, min_samples_leaf=1, max_features=sqrt, max_depth=5 \n",
      "[CV]  n_estimators=12000, min_samples_split=6, min_samples_leaf=1, max_features=sqrt, max_depth=5, total=  23.7s\n",
      "[CV] n_estimators=10, min_samples_split=2, min_samples_leaf=1, max_features=auto, max_depth=5 \n",
      "[CV]  n_estimators=10, min_samples_split=2, min_samples_leaf=1, max_features=auto, max_depth=5, total=   0.1s\n",
      "[CV] n_estimators=10, min_samples_split=2, min_samples_leaf=1, max_features=auto, max_depth=5 \n",
      "[CV]  n_estimators=10, min_samples_split=2, min_samples_leaf=1, max_features=auto, max_depth=5, total=   0.0s\n",
      "[CV] n_estimators=10, min_samples_split=2, min_samples_leaf=1, max_features=auto, max_depth=5 \n",
      "[CV]  n_estimators=10, min_samples_split=2, min_samples_leaf=1, max_features=auto, max_depth=5, total=   0.0s\n",
      "[CV] n_estimators=10, min_samples_split=2, min_samples_leaf=1, max_features=auto, max_depth=5 \n",
      "[CV]  n_estimators=10, min_samples_split=2, min_samples_leaf=1, max_features=auto, max_depth=5, total=   0.0s\n",
      "[CV] n_estimators=10, min_samples_split=2, min_samples_leaf=1, max_features=auto, max_depth=5 \n",
      "[CV]  n_estimators=10, min_samples_split=2, min_samples_leaf=1, max_features=auto, max_depth=5, total=   0.0s\n",
      "[CV] n_estimators=100, min_samples_split=6, min_samples_leaf=1, max_features=sqrt, max_depth=30 \n",
      "[CV]  n_estimators=100, min_samples_split=6, min_samples_leaf=1, max_features=sqrt, max_depth=30, total=   0.5s\n",
      "[CV] n_estimators=100, min_samples_split=6, min_samples_leaf=1, max_features=sqrt, max_depth=30 \n",
      "[CV]  n_estimators=100, min_samples_split=6, min_samples_leaf=1, max_features=sqrt, max_depth=30, total=   0.2s\n",
      "[CV] n_estimators=100, min_samples_split=6, min_samples_leaf=1, max_features=sqrt, max_depth=30 \n",
      "[CV]  n_estimators=100, min_samples_split=6, min_samples_leaf=1, max_features=sqrt, max_depth=30, total=   0.3s\n",
      "[CV] n_estimators=100, min_samples_split=6, min_samples_leaf=1, max_features=sqrt, max_depth=30 \n",
      "[CV]  n_estimators=100, min_samples_split=6, min_samples_leaf=1, max_features=sqrt, max_depth=30, total=   0.4s\n",
      "[CV] n_estimators=100, min_samples_split=6, min_samples_leaf=1, max_features=sqrt, max_depth=30 \n",
      "[CV]  n_estimators=100, min_samples_split=6, min_samples_leaf=1, max_features=sqrt, max_depth=30, total=   0.4s\n",
      "[CV] n_estimators=200, min_samples_split=6, min_samples_leaf=1, max_features=auto, max_depth=20 \n",
      "[CV]  n_estimators=200, min_samples_split=6, min_samples_leaf=1, max_features=auto, max_depth=20, total=   0.4s\n",
      "[CV] n_estimators=200, min_samples_split=6, min_samples_leaf=1, max_features=auto, max_depth=20 \n",
      "[CV]  n_estimators=200, min_samples_split=6, min_samples_leaf=1, max_features=auto, max_depth=20, total=   0.6s\n",
      "[CV] n_estimators=200, min_samples_split=6, min_samples_leaf=1, max_features=auto, max_depth=20 \n",
      "[CV]  n_estimators=200, min_samples_split=6, min_samples_leaf=1, max_features=auto, max_depth=20, total=   0.5s\n",
      "[CV] n_estimators=200, min_samples_split=6, min_samples_leaf=1, max_features=auto, max_depth=20 \n",
      "[CV]  n_estimators=200, min_samples_split=6, min_samples_leaf=1, max_features=auto, max_depth=20, total=   0.3s\n",
      "[CV] n_estimators=200, min_samples_split=6, min_samples_leaf=1, max_features=auto, max_depth=20 \n",
      "[CV]  n_estimators=200, min_samples_split=6, min_samples_leaf=1, max_features=auto, max_depth=20, total=   0.3s\n",
      "[CV] n_estimators=100, min_samples_split=6, min_samples_leaf=2, max_features=auto, max_depth=30 \n",
      "[CV]  n_estimators=100, min_samples_split=6, min_samples_leaf=2, max_features=auto, max_depth=30, total=   0.2s\n",
      "[CV] n_estimators=100, min_samples_split=6, min_samples_leaf=2, max_features=auto, max_depth=30 \n",
      "[CV]  n_estimators=100, min_samples_split=6, min_samples_leaf=2, max_features=auto, max_depth=30, total=   0.4s\n",
      "[CV] n_estimators=100, min_samples_split=6, min_samples_leaf=2, max_features=auto, max_depth=30 \n",
      "[CV]  n_estimators=100, min_samples_split=6, min_samples_leaf=2, max_features=auto, max_depth=30, total=   0.4s\n",
      "[CV] n_estimators=100, min_samples_split=6, min_samples_leaf=2, max_features=auto, max_depth=30 \n",
      "[CV]  n_estimators=100, min_samples_split=6, min_samples_leaf=2, max_features=auto, max_depth=30, total=   0.2s\n",
      "[CV] n_estimators=100, min_samples_split=6, min_samples_leaf=2, max_features=auto, max_depth=30 \n",
      "[CV]  n_estimators=100, min_samples_split=6, min_samples_leaf=2, max_features=auto, max_depth=30, total=   0.2s\n",
      "[CV] n_estimators=12000, min_samples_split=2, min_samples_leaf=1, max_features=sqrt, max_depth=5 \n",
      "[CV]  n_estimators=12000, min_samples_split=2, min_samples_leaf=1, max_features=sqrt, max_depth=5, total=  20.1s\n",
      "[CV] n_estimators=12000, min_samples_split=2, min_samples_leaf=1, max_features=sqrt, max_depth=5 \n",
      "[CV]  n_estimators=12000, min_samples_split=2, min_samples_leaf=1, max_features=sqrt, max_depth=5, total=  19.4s\n",
      "[CV] n_estimators=12000, min_samples_split=2, min_samples_leaf=1, max_features=sqrt, max_depth=5 \n",
      "[CV]  n_estimators=12000, min_samples_split=2, min_samples_leaf=1, max_features=sqrt, max_depth=5, total=  29.6s\n",
      "[CV] n_estimators=12000, min_samples_split=2, min_samples_leaf=1, max_features=sqrt, max_depth=5 \n",
      "[CV]  n_estimators=12000, min_samples_split=2, min_samples_leaf=1, max_features=sqrt, max_depth=5, total=  38.4s\n",
      "[CV] n_estimators=12000, min_samples_split=2, min_samples_leaf=1, max_features=sqrt, max_depth=5 \n",
      "[CV]  n_estimators=12000, min_samples_split=2, min_samples_leaf=1, max_features=sqrt, max_depth=5, total=  40.6s\n",
      "[CV] n_estimators=12000, min_samples_split=4, min_samples_leaf=2, max_features=sqrt, max_depth=20 \n",
      "[CV]  n_estimators=12000, min_samples_split=4, min_samples_leaf=2, max_features=sqrt, max_depth=20, total=  35.0s\n",
      "[CV] n_estimators=12000, min_samples_split=4, min_samples_leaf=2, max_features=sqrt, max_depth=20 \n"
     ]
    },
    {
     "name": "stdout",
     "output_type": "stream",
     "text": [
      "[CV]  n_estimators=12000, min_samples_split=4, min_samples_leaf=2, max_features=sqrt, max_depth=20, total=  18.8s\n",
      "[CV] n_estimators=12000, min_samples_split=4, min_samples_leaf=2, max_features=sqrt, max_depth=20 \n",
      "[CV]  n_estimators=12000, min_samples_split=4, min_samples_leaf=2, max_features=sqrt, max_depth=20, total=  23.7s\n",
      "[CV] n_estimators=12000, min_samples_split=4, min_samples_leaf=2, max_features=sqrt, max_depth=20 \n",
      "[CV]  n_estimators=12000, min_samples_split=4, min_samples_leaf=2, max_features=sqrt, max_depth=20, total=  26.8s\n",
      "[CV] n_estimators=12000, min_samples_split=4, min_samples_leaf=2, max_features=sqrt, max_depth=20 \n",
      "[CV]  n_estimators=12000, min_samples_split=4, min_samples_leaf=2, max_features=sqrt, max_depth=20, total=  32.9s\n",
      "[CV] n_estimators=200, min_samples_split=2, min_samples_leaf=4, max_features=auto, max_depth=5 \n",
      "[CV]  n_estimators=200, min_samples_split=2, min_samples_leaf=4, max_features=auto, max_depth=5, total=   0.3s\n",
      "[CV] n_estimators=200, min_samples_split=2, min_samples_leaf=4, max_features=auto, max_depth=5 \n",
      "[CV]  n_estimators=200, min_samples_split=2, min_samples_leaf=4, max_features=auto, max_depth=5, total=   0.3s\n",
      "[CV] n_estimators=200, min_samples_split=2, min_samples_leaf=4, max_features=auto, max_depth=5 \n",
      "[CV]  n_estimators=200, min_samples_split=2, min_samples_leaf=4, max_features=auto, max_depth=5, total=   0.3s\n",
      "[CV] n_estimators=200, min_samples_split=2, min_samples_leaf=4, max_features=auto, max_depth=5 \n",
      "[CV]  n_estimators=200, min_samples_split=2, min_samples_leaf=4, max_features=auto, max_depth=5, total=   0.3s\n",
      "[CV] n_estimators=200, min_samples_split=2, min_samples_leaf=4, max_features=auto, max_depth=5 \n",
      "[CV]  n_estimators=200, min_samples_split=2, min_samples_leaf=4, max_features=auto, max_depth=5, total=   0.4s\n"
     ]
    },
    {
     "name": "stderr",
     "output_type": "stream",
     "text": [
      "[Parallel(n_jobs=1)]: Done  50 out of  50 | elapsed:  6.6min finished\n"
     ]
    },
    {
     "data": {
      "text/plain": [
       "RandomizedSearchCV(cv=5, error_score=nan,\n",
       "                   estimator=RandomForestClassifier(bootstrap=True,\n",
       "                                                    ccp_alpha=0.0,\n",
       "                                                    class_weight=None,\n",
       "                                                    criterion='gini',\n",
       "                                                    max_depth=None,\n",
       "                                                    max_features='auto',\n",
       "                                                    max_leaf_nodes=None,\n",
       "                                                    max_samples=None,\n",
       "                                                    min_impurity_decrease=0.0,\n",
       "                                                    min_impurity_split=None,\n",
       "                                                    min_samples_leaf=1,\n",
       "                                                    min_samples_split=2,\n",
       "                                                    min_weight_fraction_leaf=0.0,\n",
       "                                                    n_estimators=100, n_jobs...\n",
       "                                                    random_state=None,\n",
       "                                                    verbose=0,\n",
       "                                                    warm_start=False),\n",
       "                   iid='deprecated', n_iter=10, n_jobs=None,\n",
       "                   param_distributions={'max_depth': [None, 5, 10, 20, 30],\n",
       "                                        'max_features': ['auto', 'sqrt'],\n",
       "                                        'min_samples_leaf': [1, 2, 4],\n",
       "                                        'min_samples_split': [2, 4, 6],\n",
       "                                        'n_estimators': [10, 100, 200, 500,\n",
       "                                                         1000, 12000]},\n",
       "                   pre_dispatch='2*n_jobs', random_state=None, refit=True,\n",
       "                   return_train_score=False, scoring=None, verbose=2)"
      ]
     },
     "execution_count": 18,
     "metadata": {},
     "output_type": "execute_result"
    }
   ],
   "source": [
    "rscv_clf.fit(X_train,y_train)"
   ]
  },
  {
   "cell_type": "code",
   "execution_count": 19,
   "metadata": {
    "scrolled": true
   },
   "outputs": [
    {
     "data": {
      "text/plain": [
       "{'n_estimators': 200,\n",
       " 'min_samples_split': 4,\n",
       " 'min_samples_leaf': 1,\n",
       " 'max_features': 'auto',\n",
       " 'max_depth': 10}"
      ]
     },
     "execution_count": 19,
     "metadata": {},
     "output_type": "execute_result"
    }
   ],
   "source": [
    "rscv_clf.best_params_"
   ]
  },
  {
   "cell_type": "code",
   "execution_count": 23,
   "metadata": {},
   "outputs": [
    {
     "name": "stdout",
     "output_type": "stream",
     "text": [
      "Accuracy:0.9\n",
      "precision:0.86\n",
      "Recall:0.97\n",
      "f1:0.91\n"
     ]
    },
    {
     "data": {
      "text/plain": [
       "{'Accuracy': 0.9016393442622951,\n",
       " 'precision': 0.8611111111111112,\n",
       " 'recall': 0.96875,\n",
       " 'f1': 0.911764705882353}"
      ]
     },
     "execution_count": 23,
     "metadata": {},
     "output_type": "execute_result"
    }
   ],
   "source": [
    "# Running Predictions\n",
    "rscv_y_predicted = rscv_clf.predict(X_test)\n",
    "# Evalaute the Predictions\n",
    "fourth_result = evaluate_hyper_metrics(y_test,rscv_y_predicted)\n",
    "fourth_result"
   ]
  },
  {
   "cell_type": "markdown",
   "metadata": {},
   "source": [
    "# WIthout RSCV\n",
    "* Accuracy:0.8\n",
    "* precision:0.91\n",
    "* Recall:0.74\n",
    "* f1:0.82"
   ]
  },
  {
   "cell_type": "code",
   "execution_count": 24,
   "metadata": {},
   "outputs": [
    {
     "data": {
      "text/plain": [
       "2700"
      ]
     },
     "execution_count": 24,
     "metadata": {},
     "output_type": "execute_result"
    }
   ],
   "source": [
    "(5*6*3*3*2)*5"
   ]
  },
  {
   "cell_type": "code",
   "execution_count": 25,
   "metadata": {},
   "outputs": [
    {
     "data": {
      "text/plain": [
       "50"
      ]
     },
     "execution_count": 25,
     "metadata": {},
     "output_type": "execute_result"
    }
   ],
   "source": [
    "10*5"
   ]
  },
  {
   "cell_type": "markdown",
   "metadata": {},
   "source": [
    "# Tuning the Hyper parameters using Grid Search Cross Validation(GSCV)"
   ]
  },
  {
   "cell_type": "code",
   "execution_count": 26,
   "metadata": {},
   "outputs": [
    {
     "name": "stdout",
     "output_type": "stream",
     "text": [
      "Fitting 5 folds for each of 72 candidates, totalling 360 fits\n",
      "[CV] max_depth=10, max_features=auto, min_samples_leaf=1, min_samples_split=2, n_estimators=100 \n"
     ]
    },
    {
     "name": "stderr",
     "output_type": "stream",
     "text": [
      "[Parallel(n_jobs=1)]: Using backend SequentialBackend with 1 concurrent workers.\n"
     ]
    },
    {
     "name": "stdout",
     "output_type": "stream",
     "text": [
      "[CV]  max_depth=10, max_features=auto, min_samples_leaf=1, min_samples_split=2, n_estimators=100, total=   0.2s\n",
      "[CV] max_depth=10, max_features=auto, min_samples_leaf=1, min_samples_split=2, n_estimators=100 \n",
      "[CV]  max_depth=10, max_features=auto, min_samples_leaf=1, min_samples_split=2, n_estimators=100, total=   0.2s\n",
      "[CV] max_depth=10, max_features=auto, min_samples_leaf=1, min_samples_split=2, n_estimators=100 \n"
     ]
    },
    {
     "name": "stderr",
     "output_type": "stream",
     "text": [
      "[Parallel(n_jobs=1)]: Done   1 out of   1 | elapsed:    0.1s remaining:    0.0s\n"
     ]
    },
    {
     "name": "stdout",
     "output_type": "stream",
     "text": [
      "[CV]  max_depth=10, max_features=auto, min_samples_leaf=1, min_samples_split=2, n_estimators=100, total=   0.2s\n",
      "[CV] max_depth=10, max_features=auto, min_samples_leaf=1, min_samples_split=2, n_estimators=100 \n",
      "[CV]  max_depth=10, max_features=auto, min_samples_leaf=1, min_samples_split=2, n_estimators=100, total=   0.1s\n",
      "[CV] max_depth=10, max_features=auto, min_samples_leaf=1, min_samples_split=2, n_estimators=100 \n",
      "[CV]  max_depth=10, max_features=auto, min_samples_leaf=1, min_samples_split=2, n_estimators=100, total=   0.2s\n",
      "[CV] max_depth=10, max_features=auto, min_samples_leaf=1, min_samples_split=2, n_estimators=200 \n",
      "[CV]  max_depth=10, max_features=auto, min_samples_leaf=1, min_samples_split=2, n_estimators=200, total=   0.3s\n",
      "[CV] max_depth=10, max_features=auto, min_samples_leaf=1, min_samples_split=2, n_estimators=200 \n",
      "[CV]  max_depth=10, max_features=auto, min_samples_leaf=1, min_samples_split=2, n_estimators=200, total=   0.8s\n",
      "[CV] max_depth=10, max_features=auto, min_samples_leaf=1, min_samples_split=2, n_estimators=200 \n",
      "[CV]  max_depth=10, max_features=auto, min_samples_leaf=1, min_samples_split=2, n_estimators=200, total=   0.4s\n",
      "[CV] max_depth=10, max_features=auto, min_samples_leaf=1, min_samples_split=2, n_estimators=200 \n",
      "[CV]  max_depth=10, max_features=auto, min_samples_leaf=1, min_samples_split=2, n_estimators=200, total=   0.3s\n",
      "[CV] max_depth=10, max_features=auto, min_samples_leaf=1, min_samples_split=2, n_estimators=200 \n",
      "[CV]  max_depth=10, max_features=auto, min_samples_leaf=1, min_samples_split=2, n_estimators=200, total=   0.4s\n",
      "[CV] max_depth=10, max_features=auto, min_samples_leaf=1, min_samples_split=2, n_estimators=500 \n",
      "[CV]  max_depth=10, max_features=auto, min_samples_leaf=1, min_samples_split=2, n_estimators=500, total=   0.7s\n",
      "[CV] max_depth=10, max_features=auto, min_samples_leaf=1, min_samples_split=2, n_estimators=500 \n",
      "[CV]  max_depth=10, max_features=auto, min_samples_leaf=1, min_samples_split=2, n_estimators=500, total=   0.8s\n",
      "[CV] max_depth=10, max_features=auto, min_samples_leaf=1, min_samples_split=2, n_estimators=500 \n",
      "[CV]  max_depth=10, max_features=auto, min_samples_leaf=1, min_samples_split=2, n_estimators=500, total=   0.7s\n",
      "[CV] max_depth=10, max_features=auto, min_samples_leaf=1, min_samples_split=2, n_estimators=500 \n",
      "[CV]  max_depth=10, max_features=auto, min_samples_leaf=1, min_samples_split=2, n_estimators=500, total=   0.8s\n",
      "[CV] max_depth=10, max_features=auto, min_samples_leaf=1, min_samples_split=2, n_estimators=500 \n",
      "[CV]  max_depth=10, max_features=auto, min_samples_leaf=1, min_samples_split=2, n_estimators=500, total=   0.8s\n",
      "[CV] max_depth=10, max_features=auto, min_samples_leaf=1, min_samples_split=4, n_estimators=100 \n",
      "[CV]  max_depth=10, max_features=auto, min_samples_leaf=1, min_samples_split=4, n_estimators=100, total=   0.2s\n",
      "[CV] max_depth=10, max_features=auto, min_samples_leaf=1, min_samples_split=4, n_estimators=100 \n",
      "[CV]  max_depth=10, max_features=auto, min_samples_leaf=1, min_samples_split=4, n_estimators=100, total=   0.2s\n",
      "[CV] max_depth=10, max_features=auto, min_samples_leaf=1, min_samples_split=4, n_estimators=100 \n",
      "[CV]  max_depth=10, max_features=auto, min_samples_leaf=1, min_samples_split=4, n_estimators=100, total=   0.2s\n",
      "[CV] max_depth=10, max_features=auto, min_samples_leaf=1, min_samples_split=4, n_estimators=100 \n",
      "[CV]  max_depth=10, max_features=auto, min_samples_leaf=1, min_samples_split=4, n_estimators=100, total=   0.2s\n",
      "[CV] max_depth=10, max_features=auto, min_samples_leaf=1, min_samples_split=4, n_estimators=100 \n",
      "[CV]  max_depth=10, max_features=auto, min_samples_leaf=1, min_samples_split=4, n_estimators=100, total=   0.2s\n",
      "[CV] max_depth=10, max_features=auto, min_samples_leaf=1, min_samples_split=4, n_estimators=200 \n",
      "[CV]  max_depth=10, max_features=auto, min_samples_leaf=1, min_samples_split=4, n_estimators=200, total=   0.4s\n",
      "[CV] max_depth=10, max_features=auto, min_samples_leaf=1, min_samples_split=4, n_estimators=200 \n",
      "[CV]  max_depth=10, max_features=auto, min_samples_leaf=1, min_samples_split=4, n_estimators=200, total=   0.4s\n",
      "[CV] max_depth=10, max_features=auto, min_samples_leaf=1, min_samples_split=4, n_estimators=200 \n",
      "[CV]  max_depth=10, max_features=auto, min_samples_leaf=1, min_samples_split=4, n_estimators=200, total=   0.4s\n",
      "[CV] max_depth=10, max_features=auto, min_samples_leaf=1, min_samples_split=4, n_estimators=200 \n",
      "[CV]  max_depth=10, max_features=auto, min_samples_leaf=1, min_samples_split=4, n_estimators=200, total=   0.5s\n",
      "[CV] max_depth=10, max_features=auto, min_samples_leaf=1, min_samples_split=4, n_estimators=200 \n",
      "[CV]  max_depth=10, max_features=auto, min_samples_leaf=1, min_samples_split=4, n_estimators=200, total=   0.5s\n",
      "[CV] max_depth=10, max_features=auto, min_samples_leaf=1, min_samples_split=4, n_estimators=500 \n",
      "[CV]  max_depth=10, max_features=auto, min_samples_leaf=1, min_samples_split=4, n_estimators=500, total=   0.9s\n",
      "[CV] max_depth=10, max_features=auto, min_samples_leaf=1, min_samples_split=4, n_estimators=500 \n",
      "[CV]  max_depth=10, max_features=auto, min_samples_leaf=1, min_samples_split=4, n_estimators=500, total=   1.0s\n",
      "[CV] max_depth=10, max_features=auto, min_samples_leaf=1, min_samples_split=4, n_estimators=500 \n",
      "[CV]  max_depth=10, max_features=auto, min_samples_leaf=1, min_samples_split=4, n_estimators=500, total=   0.9s\n",
      "[CV] max_depth=10, max_features=auto, min_samples_leaf=1, min_samples_split=4, n_estimators=500 \n",
      "[CV]  max_depth=10, max_features=auto, min_samples_leaf=1, min_samples_split=4, n_estimators=500, total=   0.9s\n",
      "[CV] max_depth=10, max_features=auto, min_samples_leaf=1, min_samples_split=4, n_estimators=500 \n",
      "[CV]  max_depth=10, max_features=auto, min_samples_leaf=1, min_samples_split=4, n_estimators=500, total=   0.9s\n",
      "[CV] max_depth=10, max_features=auto, min_samples_leaf=2, min_samples_split=2, n_estimators=100 \n",
      "[CV]  max_depth=10, max_features=auto, min_samples_leaf=2, min_samples_split=2, n_estimators=100, total=   0.2s\n",
      "[CV] max_depth=10, max_features=auto, min_samples_leaf=2, min_samples_split=2, n_estimators=100 \n",
      "[CV]  max_depth=10, max_features=auto, min_samples_leaf=2, min_samples_split=2, n_estimators=100, total=   0.2s\n",
      "[CV] max_depth=10, max_features=auto, min_samples_leaf=2, min_samples_split=2, n_estimators=100 \n",
      "[CV]  max_depth=10, max_features=auto, min_samples_leaf=2, min_samples_split=2, n_estimators=100, total=   0.2s\n",
      "[CV] max_depth=10, max_features=auto, min_samples_leaf=2, min_samples_split=2, n_estimators=100 \n",
      "[CV]  max_depth=10, max_features=auto, min_samples_leaf=2, min_samples_split=2, n_estimators=100, total=   0.2s\n",
      "[CV] max_depth=10, max_features=auto, min_samples_leaf=2, min_samples_split=2, n_estimators=100 \n",
      "[CV]  max_depth=10, max_features=auto, min_samples_leaf=2, min_samples_split=2, n_estimators=100, total=   0.3s\n",
      "[CV] max_depth=10, max_features=auto, min_samples_leaf=2, min_samples_split=2, n_estimators=200 \n",
      "[CV]  max_depth=10, max_features=auto, min_samples_leaf=2, min_samples_split=2, n_estimators=200, total=   0.5s\n",
      "[CV] max_depth=10, max_features=auto, min_samples_leaf=2, min_samples_split=2, n_estimators=200 \n",
      "[CV]  max_depth=10, max_features=auto, min_samples_leaf=2, min_samples_split=2, n_estimators=200, total=   0.5s\n",
      "[CV] max_depth=10, max_features=auto, min_samples_leaf=2, min_samples_split=2, n_estimators=200 \n",
      "[CV]  max_depth=10, max_features=auto, min_samples_leaf=2, min_samples_split=2, n_estimators=200, total=   0.4s\n",
      "[CV] max_depth=10, max_features=auto, min_samples_leaf=2, min_samples_split=2, n_estimators=200 \n",
      "[CV]  max_depth=10, max_features=auto, min_samples_leaf=2, min_samples_split=2, n_estimators=200, total=   0.4s\n",
      "[CV] max_depth=10, max_features=auto, min_samples_leaf=2, min_samples_split=2, n_estimators=200 \n",
      "[CV]  max_depth=10, max_features=auto, min_samples_leaf=2, min_samples_split=2, n_estimators=200, total=   0.4s\n",
      "[CV] max_depth=10, max_features=auto, min_samples_leaf=2, min_samples_split=2, n_estimators=500 \n",
      "[CV]  max_depth=10, max_features=auto, min_samples_leaf=2, min_samples_split=2, n_estimators=500, total=   1.4s\n",
      "[CV] max_depth=10, max_features=auto, min_samples_leaf=2, min_samples_split=2, n_estimators=500 \n",
      "[CV]  max_depth=10, max_features=auto, min_samples_leaf=2, min_samples_split=2, n_estimators=500, total=   1.0s\n",
      "[CV] max_depth=10, max_features=auto, min_samples_leaf=2, min_samples_split=2, n_estimators=500 \n"
     ]
    },
    {
     "name": "stdout",
     "output_type": "stream",
     "text": [
      "[CV]  max_depth=10, max_features=auto, min_samples_leaf=2, min_samples_split=2, n_estimators=500, total=   0.9s\n",
      "[CV] max_depth=10, max_features=auto, min_samples_leaf=2, min_samples_split=2, n_estimators=500 \n",
      "[CV]  max_depth=10, max_features=auto, min_samples_leaf=2, min_samples_split=2, n_estimators=500, total=   1.0s\n",
      "[CV] max_depth=10, max_features=auto, min_samples_leaf=2, min_samples_split=2, n_estimators=500 \n",
      "[CV]  max_depth=10, max_features=auto, min_samples_leaf=2, min_samples_split=2, n_estimators=500, total=   0.9s\n",
      "[CV] max_depth=10, max_features=auto, min_samples_leaf=2, min_samples_split=4, n_estimators=100 \n",
      "[CV]  max_depth=10, max_features=auto, min_samples_leaf=2, min_samples_split=4, n_estimators=100, total=   0.2s\n",
      "[CV] max_depth=10, max_features=auto, min_samples_leaf=2, min_samples_split=4, n_estimators=100 \n",
      "[CV]  max_depth=10, max_features=auto, min_samples_leaf=2, min_samples_split=4, n_estimators=100, total=   0.2s\n",
      "[CV] max_depth=10, max_features=auto, min_samples_leaf=2, min_samples_split=4, n_estimators=100 \n",
      "[CV]  max_depth=10, max_features=auto, min_samples_leaf=2, min_samples_split=4, n_estimators=100, total=   0.2s\n",
      "[CV] max_depth=10, max_features=auto, min_samples_leaf=2, min_samples_split=4, n_estimators=100 \n",
      "[CV]  max_depth=10, max_features=auto, min_samples_leaf=2, min_samples_split=4, n_estimators=100, total=   0.2s\n",
      "[CV] max_depth=10, max_features=auto, min_samples_leaf=2, min_samples_split=4, n_estimators=100 \n",
      "[CV]  max_depth=10, max_features=auto, min_samples_leaf=2, min_samples_split=4, n_estimators=100, total=   0.2s\n",
      "[CV] max_depth=10, max_features=auto, min_samples_leaf=2, min_samples_split=4, n_estimators=200 \n",
      "[CV]  max_depth=10, max_features=auto, min_samples_leaf=2, min_samples_split=4, n_estimators=200, total=   0.5s\n",
      "[CV] max_depth=10, max_features=auto, min_samples_leaf=2, min_samples_split=4, n_estimators=200 \n",
      "[CV]  max_depth=10, max_features=auto, min_samples_leaf=2, min_samples_split=4, n_estimators=200, total=   0.4s\n",
      "[CV] max_depth=10, max_features=auto, min_samples_leaf=2, min_samples_split=4, n_estimators=200 \n",
      "[CV]  max_depth=10, max_features=auto, min_samples_leaf=2, min_samples_split=4, n_estimators=200, total=   0.4s\n",
      "[CV] max_depth=10, max_features=auto, min_samples_leaf=2, min_samples_split=4, n_estimators=200 \n",
      "[CV]  max_depth=10, max_features=auto, min_samples_leaf=2, min_samples_split=4, n_estimators=200, total=   0.4s\n",
      "[CV] max_depth=10, max_features=auto, min_samples_leaf=2, min_samples_split=4, n_estimators=200 \n",
      "[CV]  max_depth=10, max_features=auto, min_samples_leaf=2, min_samples_split=4, n_estimators=200, total=   0.4s\n",
      "[CV] max_depth=10, max_features=auto, min_samples_leaf=2, min_samples_split=4, n_estimators=500 \n",
      "[CV]  max_depth=10, max_features=auto, min_samples_leaf=2, min_samples_split=4, n_estimators=500, total=   1.0s\n",
      "[CV] max_depth=10, max_features=auto, min_samples_leaf=2, min_samples_split=4, n_estimators=500 \n",
      "[CV]  max_depth=10, max_features=auto, min_samples_leaf=2, min_samples_split=4, n_estimators=500, total=   0.9s\n",
      "[CV] max_depth=10, max_features=auto, min_samples_leaf=2, min_samples_split=4, n_estimators=500 \n",
      "[CV]  max_depth=10, max_features=auto, min_samples_leaf=2, min_samples_split=4, n_estimators=500, total=   0.8s\n",
      "[CV] max_depth=10, max_features=auto, min_samples_leaf=2, min_samples_split=4, n_estimators=500 \n",
      "[CV]  max_depth=10, max_features=auto, min_samples_leaf=2, min_samples_split=4, n_estimators=500, total=   1.0s\n",
      "[CV] max_depth=10, max_features=auto, min_samples_leaf=2, min_samples_split=4, n_estimators=500 \n",
      "[CV]  max_depth=10, max_features=auto, min_samples_leaf=2, min_samples_split=4, n_estimators=500, total=   0.9s\n",
      "[CV] max_depth=10, max_features=sqrt, min_samples_leaf=1, min_samples_split=2, n_estimators=100 \n",
      "[CV]  max_depth=10, max_features=sqrt, min_samples_leaf=1, min_samples_split=2, n_estimators=100, total=   0.2s\n",
      "[CV] max_depth=10, max_features=sqrt, min_samples_leaf=1, min_samples_split=2, n_estimators=100 \n",
      "[CV]  max_depth=10, max_features=sqrt, min_samples_leaf=1, min_samples_split=2, n_estimators=100, total=   0.2s\n",
      "[CV] max_depth=10, max_features=sqrt, min_samples_leaf=1, min_samples_split=2, n_estimators=100 \n",
      "[CV]  max_depth=10, max_features=sqrt, min_samples_leaf=1, min_samples_split=2, n_estimators=100, total=   0.2s\n",
      "[CV] max_depth=10, max_features=sqrt, min_samples_leaf=1, min_samples_split=2, n_estimators=100 \n",
      "[CV]  max_depth=10, max_features=sqrt, min_samples_leaf=1, min_samples_split=2, n_estimators=100, total=   0.2s\n",
      "[CV] max_depth=10, max_features=sqrt, min_samples_leaf=1, min_samples_split=2, n_estimators=100 \n",
      "[CV]  max_depth=10, max_features=sqrt, min_samples_leaf=1, min_samples_split=2, n_estimators=100, total=   0.2s\n",
      "[CV] max_depth=10, max_features=sqrt, min_samples_leaf=1, min_samples_split=2, n_estimators=200 \n",
      "[CV]  max_depth=10, max_features=sqrt, min_samples_leaf=1, min_samples_split=2, n_estimators=200, total=   0.4s\n",
      "[CV] max_depth=10, max_features=sqrt, min_samples_leaf=1, min_samples_split=2, n_estimators=200 \n",
      "[CV]  max_depth=10, max_features=sqrt, min_samples_leaf=1, min_samples_split=2, n_estimators=200, total=   0.3s\n",
      "[CV] max_depth=10, max_features=sqrt, min_samples_leaf=1, min_samples_split=2, n_estimators=200 \n",
      "[CV]  max_depth=10, max_features=sqrt, min_samples_leaf=1, min_samples_split=2, n_estimators=200, total=   0.4s\n",
      "[CV] max_depth=10, max_features=sqrt, min_samples_leaf=1, min_samples_split=2, n_estimators=200 \n",
      "[CV]  max_depth=10, max_features=sqrt, min_samples_leaf=1, min_samples_split=2, n_estimators=200, total=   0.4s\n",
      "[CV] max_depth=10, max_features=sqrt, min_samples_leaf=1, min_samples_split=2, n_estimators=200 \n",
      "[CV]  max_depth=10, max_features=sqrt, min_samples_leaf=1, min_samples_split=2, n_estimators=200, total=   0.3s\n",
      "[CV] max_depth=10, max_features=sqrt, min_samples_leaf=1, min_samples_split=2, n_estimators=500 \n",
      "[CV]  max_depth=10, max_features=sqrt, min_samples_leaf=1, min_samples_split=2, n_estimators=500, total=   1.0s\n",
      "[CV] max_depth=10, max_features=sqrt, min_samples_leaf=1, min_samples_split=2, n_estimators=500 \n",
      "[CV]  max_depth=10, max_features=sqrt, min_samples_leaf=1, min_samples_split=2, n_estimators=500, total=   0.9s\n",
      "[CV] max_depth=10, max_features=sqrt, min_samples_leaf=1, min_samples_split=2, n_estimators=500 \n",
      "[CV]  max_depth=10, max_features=sqrt, min_samples_leaf=1, min_samples_split=2, n_estimators=500, total=   0.9s\n",
      "[CV] max_depth=10, max_features=sqrt, min_samples_leaf=1, min_samples_split=2, n_estimators=500 \n",
      "[CV]  max_depth=10, max_features=sqrt, min_samples_leaf=1, min_samples_split=2, n_estimators=500, total=   0.9s\n",
      "[CV] max_depth=10, max_features=sqrt, min_samples_leaf=1, min_samples_split=2, n_estimators=500 \n",
      "[CV]  max_depth=10, max_features=sqrt, min_samples_leaf=1, min_samples_split=2, n_estimators=500, total=   0.9s\n",
      "[CV] max_depth=10, max_features=sqrt, min_samples_leaf=1, min_samples_split=4, n_estimators=100 \n",
      "[CV]  max_depth=10, max_features=sqrt, min_samples_leaf=1, min_samples_split=4, n_estimators=100, total=   0.2s\n",
      "[CV] max_depth=10, max_features=sqrt, min_samples_leaf=1, min_samples_split=4, n_estimators=100 \n",
      "[CV]  max_depth=10, max_features=sqrt, min_samples_leaf=1, min_samples_split=4, n_estimators=100, total=   0.2s\n",
      "[CV] max_depth=10, max_features=sqrt, min_samples_leaf=1, min_samples_split=4, n_estimators=100 \n",
      "[CV]  max_depth=10, max_features=sqrt, min_samples_leaf=1, min_samples_split=4, n_estimators=100, total=   0.2s\n",
      "[CV] max_depth=10, max_features=sqrt, min_samples_leaf=1, min_samples_split=4, n_estimators=100 \n",
      "[CV]  max_depth=10, max_features=sqrt, min_samples_leaf=1, min_samples_split=4, n_estimators=100, total=   0.2s\n",
      "[CV] max_depth=10, max_features=sqrt, min_samples_leaf=1, min_samples_split=4, n_estimators=100 \n",
      "[CV]  max_depth=10, max_features=sqrt, min_samples_leaf=1, min_samples_split=4, n_estimators=100, total=   0.2s\n",
      "[CV] max_depth=10, max_features=sqrt, min_samples_leaf=1, min_samples_split=4, n_estimators=200 \n",
      "[CV]  max_depth=10, max_features=sqrt, min_samples_leaf=1, min_samples_split=4, n_estimators=200, total=   0.3s\n",
      "[CV] max_depth=10, max_features=sqrt, min_samples_leaf=1, min_samples_split=4, n_estimators=200 \n",
      "[CV]  max_depth=10, max_features=sqrt, min_samples_leaf=1, min_samples_split=4, n_estimators=200, total=   0.4s\n",
      "[CV] max_depth=10, max_features=sqrt, min_samples_leaf=1, min_samples_split=4, n_estimators=200 \n"
     ]
    },
    {
     "name": "stdout",
     "output_type": "stream",
     "text": [
      "[CV]  max_depth=10, max_features=sqrt, min_samples_leaf=1, min_samples_split=4, n_estimators=200, total=   0.4s\n",
      "[CV] max_depth=10, max_features=sqrt, min_samples_leaf=1, min_samples_split=4, n_estimators=200 \n",
      "[CV]  max_depth=10, max_features=sqrt, min_samples_leaf=1, min_samples_split=4, n_estimators=200, total=   0.3s\n",
      "[CV] max_depth=10, max_features=sqrt, min_samples_leaf=1, min_samples_split=4, n_estimators=200 \n",
      "[CV]  max_depth=10, max_features=sqrt, min_samples_leaf=1, min_samples_split=4, n_estimators=200, total=   0.4s\n",
      "[CV] max_depth=10, max_features=sqrt, min_samples_leaf=1, min_samples_split=4, n_estimators=500 \n",
      "[CV]  max_depth=10, max_features=sqrt, min_samples_leaf=1, min_samples_split=4, n_estimators=500, total=   0.8s\n",
      "[CV] max_depth=10, max_features=sqrt, min_samples_leaf=1, min_samples_split=4, n_estimators=500 \n",
      "[CV]  max_depth=10, max_features=sqrt, min_samples_leaf=1, min_samples_split=4, n_estimators=500, total=   0.8s\n",
      "[CV] max_depth=10, max_features=sqrt, min_samples_leaf=1, min_samples_split=4, n_estimators=500 \n",
      "[CV]  max_depth=10, max_features=sqrt, min_samples_leaf=1, min_samples_split=4, n_estimators=500, total=   0.8s\n",
      "[CV] max_depth=10, max_features=sqrt, min_samples_leaf=1, min_samples_split=4, n_estimators=500 \n",
      "[CV]  max_depth=10, max_features=sqrt, min_samples_leaf=1, min_samples_split=4, n_estimators=500, total=   0.9s\n",
      "[CV] max_depth=10, max_features=sqrt, min_samples_leaf=1, min_samples_split=4, n_estimators=500 \n",
      "[CV]  max_depth=10, max_features=sqrt, min_samples_leaf=1, min_samples_split=4, n_estimators=500, total=   0.9s\n",
      "[CV] max_depth=10, max_features=sqrt, min_samples_leaf=2, min_samples_split=2, n_estimators=100 \n",
      "[CV]  max_depth=10, max_features=sqrt, min_samples_leaf=2, min_samples_split=2, n_estimators=100, total=   0.2s\n",
      "[CV] max_depth=10, max_features=sqrt, min_samples_leaf=2, min_samples_split=2, n_estimators=100 \n",
      "[CV]  max_depth=10, max_features=sqrt, min_samples_leaf=2, min_samples_split=2, n_estimators=100, total=   0.2s\n",
      "[CV] max_depth=10, max_features=sqrt, min_samples_leaf=2, min_samples_split=2, n_estimators=100 \n",
      "[CV]  max_depth=10, max_features=sqrt, min_samples_leaf=2, min_samples_split=2, n_estimators=100, total=   0.2s\n",
      "[CV] max_depth=10, max_features=sqrt, min_samples_leaf=2, min_samples_split=2, n_estimators=100 \n",
      "[CV]  max_depth=10, max_features=sqrt, min_samples_leaf=2, min_samples_split=2, n_estimators=100, total=   0.2s\n",
      "[CV] max_depth=10, max_features=sqrt, min_samples_leaf=2, min_samples_split=2, n_estimators=100 \n",
      "[CV]  max_depth=10, max_features=sqrt, min_samples_leaf=2, min_samples_split=2, n_estimators=100, total=   0.2s\n",
      "[CV] max_depth=10, max_features=sqrt, min_samples_leaf=2, min_samples_split=2, n_estimators=200 \n",
      "[CV]  max_depth=10, max_features=sqrt, min_samples_leaf=2, min_samples_split=2, n_estimators=200, total=   0.4s\n",
      "[CV] max_depth=10, max_features=sqrt, min_samples_leaf=2, min_samples_split=2, n_estimators=200 \n",
      "[CV]  max_depth=10, max_features=sqrt, min_samples_leaf=2, min_samples_split=2, n_estimators=200, total=   0.3s\n",
      "[CV] max_depth=10, max_features=sqrt, min_samples_leaf=2, min_samples_split=2, n_estimators=200 \n",
      "[CV]  max_depth=10, max_features=sqrt, min_samples_leaf=2, min_samples_split=2, n_estimators=200, total=   0.4s\n",
      "[CV] max_depth=10, max_features=sqrt, min_samples_leaf=2, min_samples_split=2, n_estimators=200 \n",
      "[CV]  max_depth=10, max_features=sqrt, min_samples_leaf=2, min_samples_split=2, n_estimators=200, total=   0.4s\n",
      "[CV] max_depth=10, max_features=sqrt, min_samples_leaf=2, min_samples_split=2, n_estimators=200 \n",
      "[CV]  max_depth=10, max_features=sqrt, min_samples_leaf=2, min_samples_split=2, n_estimators=200, total=   0.4s\n",
      "[CV] max_depth=10, max_features=sqrt, min_samples_leaf=2, min_samples_split=2, n_estimators=500 \n",
      "[CV]  max_depth=10, max_features=sqrt, min_samples_leaf=2, min_samples_split=2, n_estimators=500, total=   0.8s\n",
      "[CV] max_depth=10, max_features=sqrt, min_samples_leaf=2, min_samples_split=2, n_estimators=500 \n",
      "[CV]  max_depth=10, max_features=sqrt, min_samples_leaf=2, min_samples_split=2, n_estimators=500, total=   0.8s\n",
      "[CV] max_depth=10, max_features=sqrt, min_samples_leaf=2, min_samples_split=2, n_estimators=500 \n",
      "[CV]  max_depth=10, max_features=sqrt, min_samples_leaf=2, min_samples_split=2, n_estimators=500, total=   0.8s\n",
      "[CV] max_depth=10, max_features=sqrt, min_samples_leaf=2, min_samples_split=2, n_estimators=500 \n",
      "[CV]  max_depth=10, max_features=sqrt, min_samples_leaf=2, min_samples_split=2, n_estimators=500, total=   0.9s\n",
      "[CV] max_depth=10, max_features=sqrt, min_samples_leaf=2, min_samples_split=2, n_estimators=500 \n",
      "[CV]  max_depth=10, max_features=sqrt, min_samples_leaf=2, min_samples_split=2, n_estimators=500, total=   0.9s\n",
      "[CV] max_depth=10, max_features=sqrt, min_samples_leaf=2, min_samples_split=4, n_estimators=100 \n",
      "[CV]  max_depth=10, max_features=sqrt, min_samples_leaf=2, min_samples_split=4, n_estimators=100, total=   0.2s\n",
      "[CV] max_depth=10, max_features=sqrt, min_samples_leaf=2, min_samples_split=4, n_estimators=100 \n",
      "[CV]  max_depth=10, max_features=sqrt, min_samples_leaf=2, min_samples_split=4, n_estimators=100, total=   0.2s\n",
      "[CV] max_depth=10, max_features=sqrt, min_samples_leaf=2, min_samples_split=4, n_estimators=100 \n",
      "[CV]  max_depth=10, max_features=sqrt, min_samples_leaf=2, min_samples_split=4, n_estimators=100, total=   0.2s\n",
      "[CV] max_depth=10, max_features=sqrt, min_samples_leaf=2, min_samples_split=4, n_estimators=100 \n",
      "[CV]  max_depth=10, max_features=sqrt, min_samples_leaf=2, min_samples_split=4, n_estimators=100, total=   0.2s\n",
      "[CV] max_depth=10, max_features=sqrt, min_samples_leaf=2, min_samples_split=4, n_estimators=100 \n",
      "[CV]  max_depth=10, max_features=sqrt, min_samples_leaf=2, min_samples_split=4, n_estimators=100, total=   0.2s\n",
      "[CV] max_depth=10, max_features=sqrt, min_samples_leaf=2, min_samples_split=4, n_estimators=200 \n",
      "[CV]  max_depth=10, max_features=sqrt, min_samples_leaf=2, min_samples_split=4, n_estimators=200, total=   0.4s\n",
      "[CV] max_depth=10, max_features=sqrt, min_samples_leaf=2, min_samples_split=4, n_estimators=200 \n",
      "[CV]  max_depth=10, max_features=sqrt, min_samples_leaf=2, min_samples_split=4, n_estimators=200, total=   0.4s\n",
      "[CV] max_depth=10, max_features=sqrt, min_samples_leaf=2, min_samples_split=4, n_estimators=200 \n",
      "[CV]  max_depth=10, max_features=sqrt, min_samples_leaf=2, min_samples_split=4, n_estimators=200, total=   0.4s\n",
      "[CV] max_depth=10, max_features=sqrt, min_samples_leaf=2, min_samples_split=4, n_estimators=200 \n",
      "[CV]  max_depth=10, max_features=sqrt, min_samples_leaf=2, min_samples_split=4, n_estimators=200, total=   0.4s\n",
      "[CV] max_depth=10, max_features=sqrt, min_samples_leaf=2, min_samples_split=4, n_estimators=200 \n",
      "[CV]  max_depth=10, max_features=sqrt, min_samples_leaf=2, min_samples_split=4, n_estimators=200, total=   0.4s\n",
      "[CV] max_depth=10, max_features=sqrt, min_samples_leaf=2, min_samples_split=4, n_estimators=500 \n",
      "[CV]  max_depth=10, max_features=sqrt, min_samples_leaf=2, min_samples_split=4, n_estimators=500, total=   0.9s\n",
      "[CV] max_depth=10, max_features=sqrt, min_samples_leaf=2, min_samples_split=4, n_estimators=500 \n",
      "[CV]  max_depth=10, max_features=sqrt, min_samples_leaf=2, min_samples_split=4, n_estimators=500, total=   0.9s\n",
      "[CV] max_depth=10, max_features=sqrt, min_samples_leaf=2, min_samples_split=4, n_estimators=500 \n",
      "[CV]  max_depth=10, max_features=sqrt, min_samples_leaf=2, min_samples_split=4, n_estimators=500, total=   0.8s\n",
      "[CV] max_depth=10, max_features=sqrt, min_samples_leaf=2, min_samples_split=4, n_estimators=500 \n",
      "[CV]  max_depth=10, max_features=sqrt, min_samples_leaf=2, min_samples_split=4, n_estimators=500, total=   0.8s\n",
      "[CV] max_depth=10, max_features=sqrt, min_samples_leaf=2, min_samples_split=4, n_estimators=500 \n",
      "[CV]  max_depth=10, max_features=sqrt, min_samples_leaf=2, min_samples_split=4, n_estimators=500, total=   0.8s\n",
      "[CV] max_depth=20, max_features=auto, min_samples_leaf=1, min_samples_split=2, n_estimators=100 \n",
      "[CV]  max_depth=20, max_features=auto, min_samples_leaf=1, min_samples_split=2, n_estimators=100, total=   0.2s\n",
      "[CV] max_depth=20, max_features=auto, min_samples_leaf=1, min_samples_split=2, n_estimators=100 \n",
      "[CV]  max_depth=20, max_features=auto, min_samples_leaf=1, min_samples_split=2, n_estimators=100, total=   0.2s\n",
      "[CV] max_depth=20, max_features=auto, min_samples_leaf=1, min_samples_split=2, n_estimators=100 \n",
      "[CV]  max_depth=20, max_features=auto, min_samples_leaf=1, min_samples_split=2, n_estimators=100, total=   0.2s\n",
      "[CV] max_depth=20, max_features=auto, min_samples_leaf=1, min_samples_split=2, n_estimators=100 \n"
     ]
    },
    {
     "name": "stdout",
     "output_type": "stream",
     "text": [
      "[CV]  max_depth=20, max_features=auto, min_samples_leaf=1, min_samples_split=2, n_estimators=100, total=   0.2s\n",
      "[CV] max_depth=20, max_features=auto, min_samples_leaf=1, min_samples_split=2, n_estimators=100 \n",
      "[CV]  max_depth=20, max_features=auto, min_samples_leaf=1, min_samples_split=2, n_estimators=100, total=   0.2s\n",
      "[CV] max_depth=20, max_features=auto, min_samples_leaf=1, min_samples_split=2, n_estimators=200 \n",
      "[CV]  max_depth=20, max_features=auto, min_samples_leaf=1, min_samples_split=2, n_estimators=200, total=   0.4s\n",
      "[CV] max_depth=20, max_features=auto, min_samples_leaf=1, min_samples_split=2, n_estimators=200 \n",
      "[CV]  max_depth=20, max_features=auto, min_samples_leaf=1, min_samples_split=2, n_estimators=200, total=   0.4s\n",
      "[CV] max_depth=20, max_features=auto, min_samples_leaf=1, min_samples_split=2, n_estimators=200 \n",
      "[CV]  max_depth=20, max_features=auto, min_samples_leaf=1, min_samples_split=2, n_estimators=200, total=   0.3s\n",
      "[CV] max_depth=20, max_features=auto, min_samples_leaf=1, min_samples_split=2, n_estimators=200 \n",
      "[CV]  max_depth=20, max_features=auto, min_samples_leaf=1, min_samples_split=2, n_estimators=200, total=   0.4s\n",
      "[CV] max_depth=20, max_features=auto, min_samples_leaf=1, min_samples_split=2, n_estimators=200 \n",
      "[CV]  max_depth=20, max_features=auto, min_samples_leaf=1, min_samples_split=2, n_estimators=200, total=   0.4s\n",
      "[CV] max_depth=20, max_features=auto, min_samples_leaf=1, min_samples_split=2, n_estimators=500 \n",
      "[CV]  max_depth=20, max_features=auto, min_samples_leaf=1, min_samples_split=2, n_estimators=500, total=   0.8s\n",
      "[CV] max_depth=20, max_features=auto, min_samples_leaf=1, min_samples_split=2, n_estimators=500 \n",
      "[CV]  max_depth=20, max_features=auto, min_samples_leaf=1, min_samples_split=2, n_estimators=500, total=   0.8s\n",
      "[CV] max_depth=20, max_features=auto, min_samples_leaf=1, min_samples_split=2, n_estimators=500 \n",
      "[CV]  max_depth=20, max_features=auto, min_samples_leaf=1, min_samples_split=2, n_estimators=500, total=   0.8s\n",
      "[CV] max_depth=20, max_features=auto, min_samples_leaf=1, min_samples_split=2, n_estimators=500 \n",
      "[CV]  max_depth=20, max_features=auto, min_samples_leaf=1, min_samples_split=2, n_estimators=500, total=   0.8s\n",
      "[CV] max_depth=20, max_features=auto, min_samples_leaf=1, min_samples_split=2, n_estimators=500 \n",
      "[CV]  max_depth=20, max_features=auto, min_samples_leaf=1, min_samples_split=2, n_estimators=500, total=   0.8s\n",
      "[CV] max_depth=20, max_features=auto, min_samples_leaf=1, min_samples_split=4, n_estimators=100 \n",
      "[CV]  max_depth=20, max_features=auto, min_samples_leaf=1, min_samples_split=4, n_estimators=100, total=   0.2s\n",
      "[CV] max_depth=20, max_features=auto, min_samples_leaf=1, min_samples_split=4, n_estimators=100 \n",
      "[CV]  max_depth=20, max_features=auto, min_samples_leaf=1, min_samples_split=4, n_estimators=100, total=   0.2s\n",
      "[CV] max_depth=20, max_features=auto, min_samples_leaf=1, min_samples_split=4, n_estimators=100 \n",
      "[CV]  max_depth=20, max_features=auto, min_samples_leaf=1, min_samples_split=4, n_estimators=100, total=   0.2s\n",
      "[CV] max_depth=20, max_features=auto, min_samples_leaf=1, min_samples_split=4, n_estimators=100 \n",
      "[CV]  max_depth=20, max_features=auto, min_samples_leaf=1, min_samples_split=4, n_estimators=100, total=   0.2s\n",
      "[CV] max_depth=20, max_features=auto, min_samples_leaf=1, min_samples_split=4, n_estimators=100 \n",
      "[CV]  max_depth=20, max_features=auto, min_samples_leaf=1, min_samples_split=4, n_estimators=100, total=   0.2s\n",
      "[CV] max_depth=20, max_features=auto, min_samples_leaf=1, min_samples_split=4, n_estimators=200 \n",
      "[CV]  max_depth=20, max_features=auto, min_samples_leaf=1, min_samples_split=4, n_estimators=200, total=   0.3s\n",
      "[CV] max_depth=20, max_features=auto, min_samples_leaf=1, min_samples_split=4, n_estimators=200 \n",
      "[CV]  max_depth=20, max_features=auto, min_samples_leaf=1, min_samples_split=4, n_estimators=200, total=   0.3s\n",
      "[CV] max_depth=20, max_features=auto, min_samples_leaf=1, min_samples_split=4, n_estimators=200 \n",
      "[CV]  max_depth=20, max_features=auto, min_samples_leaf=1, min_samples_split=4, n_estimators=200, total=   0.4s\n",
      "[CV] max_depth=20, max_features=auto, min_samples_leaf=1, min_samples_split=4, n_estimators=200 \n",
      "[CV]  max_depth=20, max_features=auto, min_samples_leaf=1, min_samples_split=4, n_estimators=200, total=   0.4s\n",
      "[CV] max_depth=20, max_features=auto, min_samples_leaf=1, min_samples_split=4, n_estimators=200 \n",
      "[CV]  max_depth=20, max_features=auto, min_samples_leaf=1, min_samples_split=4, n_estimators=200, total=   0.3s\n",
      "[CV] max_depth=20, max_features=auto, min_samples_leaf=1, min_samples_split=4, n_estimators=500 \n",
      "[CV]  max_depth=20, max_features=auto, min_samples_leaf=1, min_samples_split=4, n_estimators=500, total=   0.9s\n",
      "[CV] max_depth=20, max_features=auto, min_samples_leaf=1, min_samples_split=4, n_estimators=500 \n",
      "[CV]  max_depth=20, max_features=auto, min_samples_leaf=1, min_samples_split=4, n_estimators=500, total=   0.9s\n",
      "[CV] max_depth=20, max_features=auto, min_samples_leaf=1, min_samples_split=4, n_estimators=500 \n",
      "[CV]  max_depth=20, max_features=auto, min_samples_leaf=1, min_samples_split=4, n_estimators=500, total=   0.8s\n",
      "[CV] max_depth=20, max_features=auto, min_samples_leaf=1, min_samples_split=4, n_estimators=500 \n",
      "[CV]  max_depth=20, max_features=auto, min_samples_leaf=1, min_samples_split=4, n_estimators=500, total=   0.8s\n",
      "[CV] max_depth=20, max_features=auto, min_samples_leaf=1, min_samples_split=4, n_estimators=500 \n",
      "[CV]  max_depth=20, max_features=auto, min_samples_leaf=1, min_samples_split=4, n_estimators=500, total=   0.8s\n",
      "[CV] max_depth=20, max_features=auto, min_samples_leaf=2, min_samples_split=2, n_estimators=100 \n",
      "[CV]  max_depth=20, max_features=auto, min_samples_leaf=2, min_samples_split=2, n_estimators=100, total=   0.2s\n",
      "[CV] max_depth=20, max_features=auto, min_samples_leaf=2, min_samples_split=2, n_estimators=100 \n",
      "[CV]  max_depth=20, max_features=auto, min_samples_leaf=2, min_samples_split=2, n_estimators=100, total=   0.2s\n",
      "[CV] max_depth=20, max_features=auto, min_samples_leaf=2, min_samples_split=2, n_estimators=100 \n",
      "[CV]  max_depth=20, max_features=auto, min_samples_leaf=2, min_samples_split=2, n_estimators=100, total=   0.1s\n",
      "[CV] max_depth=20, max_features=auto, min_samples_leaf=2, min_samples_split=2, n_estimators=100 \n",
      "[CV]  max_depth=20, max_features=auto, min_samples_leaf=2, min_samples_split=2, n_estimators=100, total=   0.2s\n",
      "[CV] max_depth=20, max_features=auto, min_samples_leaf=2, min_samples_split=2, n_estimators=100 \n",
      "[CV]  max_depth=20, max_features=auto, min_samples_leaf=2, min_samples_split=2, n_estimators=100, total=   0.2s\n",
      "[CV] max_depth=20, max_features=auto, min_samples_leaf=2, min_samples_split=2, n_estimators=200 \n",
      "[CV]  max_depth=20, max_features=auto, min_samples_leaf=2, min_samples_split=2, n_estimators=200, total=   0.3s\n",
      "[CV] max_depth=20, max_features=auto, min_samples_leaf=2, min_samples_split=2, n_estimators=200 \n",
      "[CV]  max_depth=20, max_features=auto, min_samples_leaf=2, min_samples_split=2, n_estimators=200, total=   0.3s\n",
      "[CV] max_depth=20, max_features=auto, min_samples_leaf=2, min_samples_split=2, n_estimators=200 \n",
      "[CV]  max_depth=20, max_features=auto, min_samples_leaf=2, min_samples_split=2, n_estimators=200, total=   0.4s\n",
      "[CV] max_depth=20, max_features=auto, min_samples_leaf=2, min_samples_split=2, n_estimators=200 \n",
      "[CV]  max_depth=20, max_features=auto, min_samples_leaf=2, min_samples_split=2, n_estimators=200, total=   0.4s\n",
      "[CV] max_depth=20, max_features=auto, min_samples_leaf=2, min_samples_split=2, n_estimators=200 \n",
      "[CV]  max_depth=20, max_features=auto, min_samples_leaf=2, min_samples_split=2, n_estimators=200, total=   0.3s\n",
      "[CV] max_depth=20, max_features=auto, min_samples_leaf=2, min_samples_split=2, n_estimators=500 \n",
      "[CV]  max_depth=20, max_features=auto, min_samples_leaf=2, min_samples_split=2, n_estimators=500, total=   0.9s\n",
      "[CV] max_depth=20, max_features=auto, min_samples_leaf=2, min_samples_split=2, n_estimators=500 \n",
      "[CV]  max_depth=20, max_features=auto, min_samples_leaf=2, min_samples_split=2, n_estimators=500, total=   0.9s\n",
      "[CV] max_depth=20, max_features=auto, min_samples_leaf=2, min_samples_split=2, n_estimators=500 \n",
      "[CV]  max_depth=20, max_features=auto, min_samples_leaf=2, min_samples_split=2, n_estimators=500, total=   1.0s\n",
      "[CV] max_depth=20, max_features=auto, min_samples_leaf=2, min_samples_split=2, n_estimators=500 \n"
     ]
    },
    {
     "name": "stdout",
     "output_type": "stream",
     "text": [
      "[CV]  max_depth=20, max_features=auto, min_samples_leaf=2, min_samples_split=2, n_estimators=500, total=   0.9s\n",
      "[CV] max_depth=20, max_features=auto, min_samples_leaf=2, min_samples_split=2, n_estimators=500 \n",
      "[CV]  max_depth=20, max_features=auto, min_samples_leaf=2, min_samples_split=2, n_estimators=500, total=   0.9s\n",
      "[CV] max_depth=20, max_features=auto, min_samples_leaf=2, min_samples_split=4, n_estimators=100 \n",
      "[CV]  max_depth=20, max_features=auto, min_samples_leaf=2, min_samples_split=4, n_estimators=100, total=   0.2s\n",
      "[CV] max_depth=20, max_features=auto, min_samples_leaf=2, min_samples_split=4, n_estimators=100 \n",
      "[CV]  max_depth=20, max_features=auto, min_samples_leaf=2, min_samples_split=4, n_estimators=100, total=   0.2s\n",
      "[CV] max_depth=20, max_features=auto, min_samples_leaf=2, min_samples_split=4, n_estimators=100 \n",
      "[CV]  max_depth=20, max_features=auto, min_samples_leaf=2, min_samples_split=4, n_estimators=100, total=   0.2s\n",
      "[CV] max_depth=20, max_features=auto, min_samples_leaf=2, min_samples_split=4, n_estimators=100 \n",
      "[CV]  max_depth=20, max_features=auto, min_samples_leaf=2, min_samples_split=4, n_estimators=100, total=   0.2s\n",
      "[CV] max_depth=20, max_features=auto, min_samples_leaf=2, min_samples_split=4, n_estimators=100 \n",
      "[CV]  max_depth=20, max_features=auto, min_samples_leaf=2, min_samples_split=4, n_estimators=100, total=   0.2s\n",
      "[CV] max_depth=20, max_features=auto, min_samples_leaf=2, min_samples_split=4, n_estimators=200 \n",
      "[CV]  max_depth=20, max_features=auto, min_samples_leaf=2, min_samples_split=4, n_estimators=200, total=   0.4s\n",
      "[CV] max_depth=20, max_features=auto, min_samples_leaf=2, min_samples_split=4, n_estimators=200 \n",
      "[CV]  max_depth=20, max_features=auto, min_samples_leaf=2, min_samples_split=4, n_estimators=200, total=   0.3s\n",
      "[CV] max_depth=20, max_features=auto, min_samples_leaf=2, min_samples_split=4, n_estimators=200 \n",
      "[CV]  max_depth=20, max_features=auto, min_samples_leaf=2, min_samples_split=4, n_estimators=200, total=   0.3s\n",
      "[CV] max_depth=20, max_features=auto, min_samples_leaf=2, min_samples_split=4, n_estimators=200 \n",
      "[CV]  max_depth=20, max_features=auto, min_samples_leaf=2, min_samples_split=4, n_estimators=200, total=   0.4s\n",
      "[CV] max_depth=20, max_features=auto, min_samples_leaf=2, min_samples_split=4, n_estimators=200 \n",
      "[CV]  max_depth=20, max_features=auto, min_samples_leaf=2, min_samples_split=4, n_estimators=200, total=   0.3s\n",
      "[CV] max_depth=20, max_features=auto, min_samples_leaf=2, min_samples_split=4, n_estimators=500 \n",
      "[CV]  max_depth=20, max_features=auto, min_samples_leaf=2, min_samples_split=4, n_estimators=500, total=   0.9s\n",
      "[CV] max_depth=20, max_features=auto, min_samples_leaf=2, min_samples_split=4, n_estimators=500 \n",
      "[CV]  max_depth=20, max_features=auto, min_samples_leaf=2, min_samples_split=4, n_estimators=500, total=   0.8s\n",
      "[CV] max_depth=20, max_features=auto, min_samples_leaf=2, min_samples_split=4, n_estimators=500 \n",
      "[CV]  max_depth=20, max_features=auto, min_samples_leaf=2, min_samples_split=4, n_estimators=500, total=   0.8s\n",
      "[CV] max_depth=20, max_features=auto, min_samples_leaf=2, min_samples_split=4, n_estimators=500 \n",
      "[CV]  max_depth=20, max_features=auto, min_samples_leaf=2, min_samples_split=4, n_estimators=500, total=   0.8s\n",
      "[CV] max_depth=20, max_features=auto, min_samples_leaf=2, min_samples_split=4, n_estimators=500 \n",
      "[CV]  max_depth=20, max_features=auto, min_samples_leaf=2, min_samples_split=4, n_estimators=500, total=   0.8s\n",
      "[CV] max_depth=20, max_features=sqrt, min_samples_leaf=1, min_samples_split=2, n_estimators=100 \n",
      "[CV]  max_depth=20, max_features=sqrt, min_samples_leaf=1, min_samples_split=2, n_estimators=100, total=   0.2s\n",
      "[CV] max_depth=20, max_features=sqrt, min_samples_leaf=1, min_samples_split=2, n_estimators=100 \n",
      "[CV]  max_depth=20, max_features=sqrt, min_samples_leaf=1, min_samples_split=2, n_estimators=100, total=   0.2s\n",
      "[CV] max_depth=20, max_features=sqrt, min_samples_leaf=1, min_samples_split=2, n_estimators=100 \n",
      "[CV]  max_depth=20, max_features=sqrt, min_samples_leaf=1, min_samples_split=2, n_estimators=100, total=   0.2s\n",
      "[CV] max_depth=20, max_features=sqrt, min_samples_leaf=1, min_samples_split=2, n_estimators=100 \n",
      "[CV]  max_depth=20, max_features=sqrt, min_samples_leaf=1, min_samples_split=2, n_estimators=100, total=   0.2s\n",
      "[CV] max_depth=20, max_features=sqrt, min_samples_leaf=1, min_samples_split=2, n_estimators=100 \n",
      "[CV]  max_depth=20, max_features=sqrt, min_samples_leaf=1, min_samples_split=2, n_estimators=100, total=   0.2s\n",
      "[CV] max_depth=20, max_features=sqrt, min_samples_leaf=1, min_samples_split=2, n_estimators=200 \n",
      "[CV]  max_depth=20, max_features=sqrt, min_samples_leaf=1, min_samples_split=2, n_estimators=200, total=   0.4s\n",
      "[CV] max_depth=20, max_features=sqrt, min_samples_leaf=1, min_samples_split=2, n_estimators=200 \n",
      "[CV]  max_depth=20, max_features=sqrt, min_samples_leaf=1, min_samples_split=2, n_estimators=200, total=   0.3s\n",
      "[CV] max_depth=20, max_features=sqrt, min_samples_leaf=1, min_samples_split=2, n_estimators=200 \n",
      "[CV]  max_depth=20, max_features=sqrt, min_samples_leaf=1, min_samples_split=2, n_estimators=200, total=   0.4s\n",
      "[CV] max_depth=20, max_features=sqrt, min_samples_leaf=1, min_samples_split=2, n_estimators=200 \n",
      "[CV]  max_depth=20, max_features=sqrt, min_samples_leaf=1, min_samples_split=2, n_estimators=200, total=   0.4s\n",
      "[CV] max_depth=20, max_features=sqrt, min_samples_leaf=1, min_samples_split=2, n_estimators=200 \n",
      "[CV]  max_depth=20, max_features=sqrt, min_samples_leaf=1, min_samples_split=2, n_estimators=200, total=   0.3s\n",
      "[CV] max_depth=20, max_features=sqrt, min_samples_leaf=1, min_samples_split=2, n_estimators=500 \n",
      "[CV]  max_depth=20, max_features=sqrt, min_samples_leaf=1, min_samples_split=2, n_estimators=500, total=   0.8s\n",
      "[CV] max_depth=20, max_features=sqrt, min_samples_leaf=1, min_samples_split=2, n_estimators=500 \n",
      "[CV]  max_depth=20, max_features=sqrt, min_samples_leaf=1, min_samples_split=2, n_estimators=500, total=   0.8s\n",
      "[CV] max_depth=20, max_features=sqrt, min_samples_leaf=1, min_samples_split=2, n_estimators=500 \n",
      "[CV]  max_depth=20, max_features=sqrt, min_samples_leaf=1, min_samples_split=2, n_estimators=500, total=   0.8s\n",
      "[CV] max_depth=20, max_features=sqrt, min_samples_leaf=1, min_samples_split=2, n_estimators=500 \n",
      "[CV]  max_depth=20, max_features=sqrt, min_samples_leaf=1, min_samples_split=2, n_estimators=500, total=   0.8s\n",
      "[CV] max_depth=20, max_features=sqrt, min_samples_leaf=1, min_samples_split=2, n_estimators=500 \n",
      "[CV]  max_depth=20, max_features=sqrt, min_samples_leaf=1, min_samples_split=2, n_estimators=500, total=   0.8s\n",
      "[CV] max_depth=20, max_features=sqrt, min_samples_leaf=1, min_samples_split=4, n_estimators=100 \n",
      "[CV]  max_depth=20, max_features=sqrt, min_samples_leaf=1, min_samples_split=4, n_estimators=100, total=   0.2s\n",
      "[CV] max_depth=20, max_features=sqrt, min_samples_leaf=1, min_samples_split=4, n_estimators=100 \n",
      "[CV]  max_depth=20, max_features=sqrt, min_samples_leaf=1, min_samples_split=4, n_estimators=100, total=   0.2s\n",
      "[CV] max_depth=20, max_features=sqrt, min_samples_leaf=1, min_samples_split=4, n_estimators=100 \n",
      "[CV]  max_depth=20, max_features=sqrt, min_samples_leaf=1, min_samples_split=4, n_estimators=100, total=   0.2s\n",
      "[CV] max_depth=20, max_features=sqrt, min_samples_leaf=1, min_samples_split=4, n_estimators=100 \n",
      "[CV]  max_depth=20, max_features=sqrt, min_samples_leaf=1, min_samples_split=4, n_estimators=100, total=   0.2s\n",
      "[CV] max_depth=20, max_features=sqrt, min_samples_leaf=1, min_samples_split=4, n_estimators=100 \n",
      "[CV]  max_depth=20, max_features=sqrt, min_samples_leaf=1, min_samples_split=4, n_estimators=100, total=   0.2s\n",
      "[CV] max_depth=20, max_features=sqrt, min_samples_leaf=1, min_samples_split=4, n_estimators=200 \n",
      "[CV]  max_depth=20, max_features=sqrt, min_samples_leaf=1, min_samples_split=4, n_estimators=200, total=   0.4s\n",
      "[CV] max_depth=20, max_features=sqrt, min_samples_leaf=1, min_samples_split=4, n_estimators=200 \n",
      "[CV]  max_depth=20, max_features=sqrt, min_samples_leaf=1, min_samples_split=4, n_estimators=200, total=   0.3s\n",
      "[CV] max_depth=20, max_features=sqrt, min_samples_leaf=1, min_samples_split=4, n_estimators=200 \n",
      "[CV]  max_depth=20, max_features=sqrt, min_samples_leaf=1, min_samples_split=4, n_estimators=200, total=   0.4s\n",
      "[CV] max_depth=20, max_features=sqrt, min_samples_leaf=1, min_samples_split=4, n_estimators=200 \n"
     ]
    },
    {
     "name": "stdout",
     "output_type": "stream",
     "text": [
      "[CV]  max_depth=20, max_features=sqrt, min_samples_leaf=1, min_samples_split=4, n_estimators=200, total=   0.4s\n",
      "[CV] max_depth=20, max_features=sqrt, min_samples_leaf=1, min_samples_split=4, n_estimators=200 \n",
      "[CV]  max_depth=20, max_features=sqrt, min_samples_leaf=1, min_samples_split=4, n_estimators=200, total=   0.3s\n",
      "[CV] max_depth=20, max_features=sqrt, min_samples_leaf=1, min_samples_split=4, n_estimators=500 \n",
      "[CV]  max_depth=20, max_features=sqrt, min_samples_leaf=1, min_samples_split=4, n_estimators=500, total=   0.9s\n",
      "[CV] max_depth=20, max_features=sqrt, min_samples_leaf=1, min_samples_split=4, n_estimators=500 \n",
      "[CV]  max_depth=20, max_features=sqrt, min_samples_leaf=1, min_samples_split=4, n_estimators=500, total=   0.8s\n",
      "[CV] max_depth=20, max_features=sqrt, min_samples_leaf=1, min_samples_split=4, n_estimators=500 \n",
      "[CV]  max_depth=20, max_features=sqrt, min_samples_leaf=1, min_samples_split=4, n_estimators=500, total=   0.8s\n",
      "[CV] max_depth=20, max_features=sqrt, min_samples_leaf=1, min_samples_split=4, n_estimators=500 \n",
      "[CV]  max_depth=20, max_features=sqrt, min_samples_leaf=1, min_samples_split=4, n_estimators=500, total=   0.8s\n",
      "[CV] max_depth=20, max_features=sqrt, min_samples_leaf=1, min_samples_split=4, n_estimators=500 \n",
      "[CV]  max_depth=20, max_features=sqrt, min_samples_leaf=1, min_samples_split=4, n_estimators=500, total=   0.8s\n",
      "[CV] max_depth=20, max_features=sqrt, min_samples_leaf=2, min_samples_split=2, n_estimators=100 \n",
      "[CV]  max_depth=20, max_features=sqrt, min_samples_leaf=2, min_samples_split=2, n_estimators=100, total=   0.2s\n",
      "[CV] max_depth=20, max_features=sqrt, min_samples_leaf=2, min_samples_split=2, n_estimators=100 \n",
      "[CV]  max_depth=20, max_features=sqrt, min_samples_leaf=2, min_samples_split=2, n_estimators=100, total=   0.2s\n",
      "[CV] max_depth=20, max_features=sqrt, min_samples_leaf=2, min_samples_split=2, n_estimators=100 \n",
      "[CV]  max_depth=20, max_features=sqrt, min_samples_leaf=2, min_samples_split=2, n_estimators=100, total=   0.2s\n",
      "[CV] max_depth=20, max_features=sqrt, min_samples_leaf=2, min_samples_split=2, n_estimators=100 \n",
      "[CV]  max_depth=20, max_features=sqrt, min_samples_leaf=2, min_samples_split=2, n_estimators=100, total=   0.2s\n",
      "[CV] max_depth=20, max_features=sqrt, min_samples_leaf=2, min_samples_split=2, n_estimators=100 \n",
      "[CV]  max_depth=20, max_features=sqrt, min_samples_leaf=2, min_samples_split=2, n_estimators=100, total=   0.2s\n",
      "[CV] max_depth=20, max_features=sqrt, min_samples_leaf=2, min_samples_split=2, n_estimators=200 \n",
      "[CV]  max_depth=20, max_features=sqrt, min_samples_leaf=2, min_samples_split=2, n_estimators=200, total=   0.3s\n",
      "[CV] max_depth=20, max_features=sqrt, min_samples_leaf=2, min_samples_split=2, n_estimators=200 \n",
      "[CV]  max_depth=20, max_features=sqrt, min_samples_leaf=2, min_samples_split=2, n_estimators=200, total=   0.3s\n",
      "[CV] max_depth=20, max_features=sqrt, min_samples_leaf=2, min_samples_split=2, n_estimators=200 \n",
      "[CV]  max_depth=20, max_features=sqrt, min_samples_leaf=2, min_samples_split=2, n_estimators=200, total=   0.4s\n",
      "[CV] max_depth=20, max_features=sqrt, min_samples_leaf=2, min_samples_split=2, n_estimators=200 \n",
      "[CV]  max_depth=20, max_features=sqrt, min_samples_leaf=2, min_samples_split=2, n_estimators=200, total=   0.3s\n",
      "[CV] max_depth=20, max_features=sqrt, min_samples_leaf=2, min_samples_split=2, n_estimators=200 \n",
      "[CV]  max_depth=20, max_features=sqrt, min_samples_leaf=2, min_samples_split=2, n_estimators=200, total=   0.3s\n",
      "[CV] max_depth=20, max_features=sqrt, min_samples_leaf=2, min_samples_split=2, n_estimators=500 \n",
      "[CV]  max_depth=20, max_features=sqrt, min_samples_leaf=2, min_samples_split=2, n_estimators=500, total=   0.8s\n",
      "[CV] max_depth=20, max_features=sqrt, min_samples_leaf=2, min_samples_split=2, n_estimators=500 \n",
      "[CV]  max_depth=20, max_features=sqrt, min_samples_leaf=2, min_samples_split=2, n_estimators=500, total=   0.8s\n",
      "[CV] max_depth=20, max_features=sqrt, min_samples_leaf=2, min_samples_split=2, n_estimators=500 \n",
      "[CV]  max_depth=20, max_features=sqrt, min_samples_leaf=2, min_samples_split=2, n_estimators=500, total=   0.8s\n",
      "[CV] max_depth=20, max_features=sqrt, min_samples_leaf=2, min_samples_split=2, n_estimators=500 \n",
      "[CV]  max_depth=20, max_features=sqrt, min_samples_leaf=2, min_samples_split=2, n_estimators=500, total=   0.8s\n",
      "[CV] max_depth=20, max_features=sqrt, min_samples_leaf=2, min_samples_split=2, n_estimators=500 \n",
      "[CV]  max_depth=20, max_features=sqrt, min_samples_leaf=2, min_samples_split=2, n_estimators=500, total=   0.8s\n",
      "[CV] max_depth=20, max_features=sqrt, min_samples_leaf=2, min_samples_split=4, n_estimators=100 \n",
      "[CV]  max_depth=20, max_features=sqrt, min_samples_leaf=2, min_samples_split=4, n_estimators=100, total=   0.2s\n",
      "[CV] max_depth=20, max_features=sqrt, min_samples_leaf=2, min_samples_split=4, n_estimators=100 \n",
      "[CV]  max_depth=20, max_features=sqrt, min_samples_leaf=2, min_samples_split=4, n_estimators=100, total=   0.2s\n",
      "[CV] max_depth=20, max_features=sqrt, min_samples_leaf=2, min_samples_split=4, n_estimators=100 \n",
      "[CV]  max_depth=20, max_features=sqrt, min_samples_leaf=2, min_samples_split=4, n_estimators=100, total=   0.1s\n",
      "[CV] max_depth=20, max_features=sqrt, min_samples_leaf=2, min_samples_split=4, n_estimators=100 \n",
      "[CV]  max_depth=20, max_features=sqrt, min_samples_leaf=2, min_samples_split=4, n_estimators=100, total=   0.2s\n",
      "[CV] max_depth=20, max_features=sqrt, min_samples_leaf=2, min_samples_split=4, n_estimators=100 \n",
      "[CV]  max_depth=20, max_features=sqrt, min_samples_leaf=2, min_samples_split=4, n_estimators=100, total=   0.2s\n",
      "[CV] max_depth=20, max_features=sqrt, min_samples_leaf=2, min_samples_split=4, n_estimators=200 \n",
      "[CV]  max_depth=20, max_features=sqrt, min_samples_leaf=2, min_samples_split=4, n_estimators=200, total=   0.3s\n",
      "[CV] max_depth=20, max_features=sqrt, min_samples_leaf=2, min_samples_split=4, n_estimators=200 \n",
      "[CV]  max_depth=20, max_features=sqrt, min_samples_leaf=2, min_samples_split=4, n_estimators=200, total=   0.3s\n",
      "[CV] max_depth=20, max_features=sqrt, min_samples_leaf=2, min_samples_split=4, n_estimators=200 \n",
      "[CV]  max_depth=20, max_features=sqrt, min_samples_leaf=2, min_samples_split=4, n_estimators=200, total=   0.4s\n",
      "[CV] max_depth=20, max_features=sqrt, min_samples_leaf=2, min_samples_split=4, n_estimators=200 \n",
      "[CV]  max_depth=20, max_features=sqrt, min_samples_leaf=2, min_samples_split=4, n_estimators=200, total=   0.3s\n",
      "[CV] max_depth=20, max_features=sqrt, min_samples_leaf=2, min_samples_split=4, n_estimators=200 \n",
      "[CV]  max_depth=20, max_features=sqrt, min_samples_leaf=2, min_samples_split=4, n_estimators=200, total=   0.3s\n",
      "[CV] max_depth=20, max_features=sqrt, min_samples_leaf=2, min_samples_split=4, n_estimators=500 \n",
      "[CV]  max_depth=20, max_features=sqrt, min_samples_leaf=2, min_samples_split=4, n_estimators=500, total=   0.9s\n",
      "[CV] max_depth=20, max_features=sqrt, min_samples_leaf=2, min_samples_split=4, n_estimators=500 \n",
      "[CV]  max_depth=20, max_features=sqrt, min_samples_leaf=2, min_samples_split=4, n_estimators=500, total=   0.8s\n",
      "[CV] max_depth=20, max_features=sqrt, min_samples_leaf=2, min_samples_split=4, n_estimators=500 \n",
      "[CV]  max_depth=20, max_features=sqrt, min_samples_leaf=2, min_samples_split=4, n_estimators=500, total=   0.8s\n",
      "[CV] max_depth=20, max_features=sqrt, min_samples_leaf=2, min_samples_split=4, n_estimators=500 \n",
      "[CV]  max_depth=20, max_features=sqrt, min_samples_leaf=2, min_samples_split=4, n_estimators=500, total=   0.8s\n",
      "[CV] max_depth=20, max_features=sqrt, min_samples_leaf=2, min_samples_split=4, n_estimators=500 \n",
      "[CV]  max_depth=20, max_features=sqrt, min_samples_leaf=2, min_samples_split=4, n_estimators=500, total=   0.8s\n",
      "[CV] max_depth=30, max_features=auto, min_samples_leaf=1, min_samples_split=2, n_estimators=100 \n",
      "[CV]  max_depth=30, max_features=auto, min_samples_leaf=1, min_samples_split=2, n_estimators=100, total=   0.2s\n",
      "[CV] max_depth=30, max_features=auto, min_samples_leaf=1, min_samples_split=2, n_estimators=100 \n",
      "[CV]  max_depth=30, max_features=auto, min_samples_leaf=1, min_samples_split=2, n_estimators=100, total=   0.2s\n",
      "[CV] max_depth=30, max_features=auto, min_samples_leaf=1, min_samples_split=2, n_estimators=100 \n",
      "[CV]  max_depth=30, max_features=auto, min_samples_leaf=1, min_samples_split=2, n_estimators=100, total=   0.2s\n",
      "[CV] max_depth=30, max_features=auto, min_samples_leaf=1, min_samples_split=2, n_estimators=100 \n"
     ]
    },
    {
     "name": "stdout",
     "output_type": "stream",
     "text": [
      "[CV]  max_depth=30, max_features=auto, min_samples_leaf=1, min_samples_split=2, n_estimators=100, total=   0.2s\n",
      "[CV] max_depth=30, max_features=auto, min_samples_leaf=1, min_samples_split=2, n_estimators=100 \n",
      "[CV]  max_depth=30, max_features=auto, min_samples_leaf=1, min_samples_split=2, n_estimators=100, total=   0.2s\n",
      "[CV] max_depth=30, max_features=auto, min_samples_leaf=1, min_samples_split=2, n_estimators=200 \n",
      "[CV]  max_depth=30, max_features=auto, min_samples_leaf=1, min_samples_split=2, n_estimators=200, total=   0.3s\n",
      "[CV] max_depth=30, max_features=auto, min_samples_leaf=1, min_samples_split=2, n_estimators=200 \n",
      "[CV]  max_depth=30, max_features=auto, min_samples_leaf=1, min_samples_split=2, n_estimators=200, total=   0.4s\n",
      "[CV] max_depth=30, max_features=auto, min_samples_leaf=1, min_samples_split=2, n_estimators=200 \n",
      "[CV]  max_depth=30, max_features=auto, min_samples_leaf=1, min_samples_split=2, n_estimators=200, total=   0.4s\n",
      "[CV] max_depth=30, max_features=auto, min_samples_leaf=1, min_samples_split=2, n_estimators=200 \n",
      "[CV]  max_depth=30, max_features=auto, min_samples_leaf=1, min_samples_split=2, n_estimators=200, total=   0.3s\n",
      "[CV] max_depth=30, max_features=auto, min_samples_leaf=1, min_samples_split=2, n_estimators=200 \n",
      "[CV]  max_depth=30, max_features=auto, min_samples_leaf=1, min_samples_split=2, n_estimators=200, total=   0.4s\n",
      "[CV] max_depth=30, max_features=auto, min_samples_leaf=1, min_samples_split=2, n_estimators=500 \n",
      "[CV]  max_depth=30, max_features=auto, min_samples_leaf=1, min_samples_split=2, n_estimators=500, total=   0.8s\n",
      "[CV] max_depth=30, max_features=auto, min_samples_leaf=1, min_samples_split=2, n_estimators=500 \n",
      "[CV]  max_depth=30, max_features=auto, min_samples_leaf=1, min_samples_split=2, n_estimators=500, total=   0.8s\n",
      "[CV] max_depth=30, max_features=auto, min_samples_leaf=1, min_samples_split=2, n_estimators=500 \n",
      "[CV]  max_depth=30, max_features=auto, min_samples_leaf=1, min_samples_split=2, n_estimators=500, total=   0.8s\n",
      "[CV] max_depth=30, max_features=auto, min_samples_leaf=1, min_samples_split=2, n_estimators=500 \n",
      "[CV]  max_depth=30, max_features=auto, min_samples_leaf=1, min_samples_split=2, n_estimators=500, total=   0.8s\n",
      "[CV] max_depth=30, max_features=auto, min_samples_leaf=1, min_samples_split=2, n_estimators=500 \n",
      "[CV]  max_depth=30, max_features=auto, min_samples_leaf=1, min_samples_split=2, n_estimators=500, total=   0.8s\n",
      "[CV] max_depth=30, max_features=auto, min_samples_leaf=1, min_samples_split=4, n_estimators=100 \n",
      "[CV]  max_depth=30, max_features=auto, min_samples_leaf=1, min_samples_split=4, n_estimators=100, total=   0.2s\n",
      "[CV] max_depth=30, max_features=auto, min_samples_leaf=1, min_samples_split=4, n_estimators=100 \n",
      "[CV]  max_depth=30, max_features=auto, min_samples_leaf=1, min_samples_split=4, n_estimators=100, total=   0.2s\n",
      "[CV] max_depth=30, max_features=auto, min_samples_leaf=1, min_samples_split=4, n_estimators=100 \n",
      "[CV]  max_depth=30, max_features=auto, min_samples_leaf=1, min_samples_split=4, n_estimators=100, total=   0.2s\n",
      "[CV] max_depth=30, max_features=auto, min_samples_leaf=1, min_samples_split=4, n_estimators=100 \n",
      "[CV]  max_depth=30, max_features=auto, min_samples_leaf=1, min_samples_split=4, n_estimators=100, total=   0.2s\n",
      "[CV] max_depth=30, max_features=auto, min_samples_leaf=1, min_samples_split=4, n_estimators=100 \n",
      "[CV]  max_depth=30, max_features=auto, min_samples_leaf=1, min_samples_split=4, n_estimators=100, total=   0.2s\n",
      "[CV] max_depth=30, max_features=auto, min_samples_leaf=1, min_samples_split=4, n_estimators=200 \n",
      "[CV]  max_depth=30, max_features=auto, min_samples_leaf=1, min_samples_split=4, n_estimators=200, total=   0.3s\n",
      "[CV] max_depth=30, max_features=auto, min_samples_leaf=1, min_samples_split=4, n_estimators=200 \n",
      "[CV]  max_depth=30, max_features=auto, min_samples_leaf=1, min_samples_split=4, n_estimators=200, total=   0.4s\n",
      "[CV] max_depth=30, max_features=auto, min_samples_leaf=1, min_samples_split=4, n_estimators=200 \n",
      "[CV]  max_depth=30, max_features=auto, min_samples_leaf=1, min_samples_split=4, n_estimators=200, total=   0.3s\n",
      "[CV] max_depth=30, max_features=auto, min_samples_leaf=1, min_samples_split=4, n_estimators=200 \n",
      "[CV]  max_depth=30, max_features=auto, min_samples_leaf=1, min_samples_split=4, n_estimators=200, total=   0.3s\n",
      "[CV] max_depth=30, max_features=auto, min_samples_leaf=1, min_samples_split=4, n_estimators=200 \n",
      "[CV]  max_depth=30, max_features=auto, min_samples_leaf=1, min_samples_split=4, n_estimators=200, total=   0.4s\n",
      "[CV] max_depth=30, max_features=auto, min_samples_leaf=1, min_samples_split=4, n_estimators=500 \n",
      "[CV]  max_depth=30, max_features=auto, min_samples_leaf=1, min_samples_split=4, n_estimators=500, total=   0.9s\n",
      "[CV] max_depth=30, max_features=auto, min_samples_leaf=1, min_samples_split=4, n_estimators=500 \n",
      "[CV]  max_depth=30, max_features=auto, min_samples_leaf=1, min_samples_split=4, n_estimators=500, total=   0.8s\n",
      "[CV] max_depth=30, max_features=auto, min_samples_leaf=1, min_samples_split=4, n_estimators=500 \n",
      "[CV]  max_depth=30, max_features=auto, min_samples_leaf=1, min_samples_split=4, n_estimators=500, total=   0.9s\n",
      "[CV] max_depth=30, max_features=auto, min_samples_leaf=1, min_samples_split=4, n_estimators=500 \n",
      "[CV]  max_depth=30, max_features=auto, min_samples_leaf=1, min_samples_split=4, n_estimators=500, total=   0.8s\n",
      "[CV] max_depth=30, max_features=auto, min_samples_leaf=1, min_samples_split=4, n_estimators=500 \n",
      "[CV]  max_depth=30, max_features=auto, min_samples_leaf=1, min_samples_split=4, n_estimators=500, total=   0.8s\n",
      "[CV] max_depth=30, max_features=auto, min_samples_leaf=2, min_samples_split=2, n_estimators=100 \n",
      "[CV]  max_depth=30, max_features=auto, min_samples_leaf=2, min_samples_split=2, n_estimators=100, total=   0.2s\n",
      "[CV] max_depth=30, max_features=auto, min_samples_leaf=2, min_samples_split=2, n_estimators=100 \n",
      "[CV]  max_depth=30, max_features=auto, min_samples_leaf=2, min_samples_split=2, n_estimators=100, total=   0.2s\n",
      "[CV] max_depth=30, max_features=auto, min_samples_leaf=2, min_samples_split=2, n_estimators=100 \n",
      "[CV]  max_depth=30, max_features=auto, min_samples_leaf=2, min_samples_split=2, n_estimators=100, total=   0.2s\n",
      "[CV] max_depth=30, max_features=auto, min_samples_leaf=2, min_samples_split=2, n_estimators=100 \n",
      "[CV]  max_depth=30, max_features=auto, min_samples_leaf=2, min_samples_split=2, n_estimators=100, total=   0.2s\n",
      "[CV] max_depth=30, max_features=auto, min_samples_leaf=2, min_samples_split=2, n_estimators=100 \n",
      "[CV]  max_depth=30, max_features=auto, min_samples_leaf=2, min_samples_split=2, n_estimators=100, total=   0.1s\n",
      "[CV] max_depth=30, max_features=auto, min_samples_leaf=2, min_samples_split=2, n_estimators=200 \n",
      "[CV]  max_depth=30, max_features=auto, min_samples_leaf=2, min_samples_split=2, n_estimators=200, total=   0.4s\n",
      "[CV] max_depth=30, max_features=auto, min_samples_leaf=2, min_samples_split=2, n_estimators=200 \n",
      "[CV]  max_depth=30, max_features=auto, min_samples_leaf=2, min_samples_split=2, n_estimators=200, total=   0.4s\n",
      "[CV] max_depth=30, max_features=auto, min_samples_leaf=2, min_samples_split=2, n_estimators=200 \n",
      "[CV]  max_depth=30, max_features=auto, min_samples_leaf=2, min_samples_split=2, n_estimators=200, total=   0.4s\n",
      "[CV] max_depth=30, max_features=auto, min_samples_leaf=2, min_samples_split=2, n_estimators=200 \n",
      "[CV]  max_depth=30, max_features=auto, min_samples_leaf=2, min_samples_split=2, n_estimators=200, total=   0.3s\n",
      "[CV] max_depth=30, max_features=auto, min_samples_leaf=2, min_samples_split=2, n_estimators=200 \n",
      "[CV]  max_depth=30, max_features=auto, min_samples_leaf=2, min_samples_split=2, n_estimators=200, total=   0.3s\n",
      "[CV] max_depth=30, max_features=auto, min_samples_leaf=2, min_samples_split=2, n_estimators=500 \n",
      "[CV]  max_depth=30, max_features=auto, min_samples_leaf=2, min_samples_split=2, n_estimators=500, total=   0.8s\n",
      "[CV] max_depth=30, max_features=auto, min_samples_leaf=2, min_samples_split=2, n_estimators=500 \n",
      "[CV]  max_depth=30, max_features=auto, min_samples_leaf=2, min_samples_split=2, n_estimators=500, total=   0.8s\n",
      "[CV] max_depth=30, max_features=auto, min_samples_leaf=2, min_samples_split=2, n_estimators=500 \n",
      "[CV]  max_depth=30, max_features=auto, min_samples_leaf=2, min_samples_split=2, n_estimators=500, total=   0.8s\n",
      "[CV] max_depth=30, max_features=auto, min_samples_leaf=2, min_samples_split=2, n_estimators=500 \n"
     ]
    },
    {
     "name": "stdout",
     "output_type": "stream",
     "text": [
      "[CV]  max_depth=30, max_features=auto, min_samples_leaf=2, min_samples_split=2, n_estimators=500, total=   0.9s\n",
      "[CV] max_depth=30, max_features=auto, min_samples_leaf=2, min_samples_split=2, n_estimators=500 \n",
      "[CV]  max_depth=30, max_features=auto, min_samples_leaf=2, min_samples_split=2, n_estimators=500, total=   0.8s\n",
      "[CV] max_depth=30, max_features=auto, min_samples_leaf=2, min_samples_split=4, n_estimators=100 \n",
      "[CV]  max_depth=30, max_features=auto, min_samples_leaf=2, min_samples_split=4, n_estimators=100, total=   0.1s\n",
      "[CV] max_depth=30, max_features=auto, min_samples_leaf=2, min_samples_split=4, n_estimators=100 \n",
      "[CV]  max_depth=30, max_features=auto, min_samples_leaf=2, min_samples_split=4, n_estimators=100, total=   0.2s\n",
      "[CV] max_depth=30, max_features=auto, min_samples_leaf=2, min_samples_split=4, n_estimators=100 \n",
      "[CV]  max_depth=30, max_features=auto, min_samples_leaf=2, min_samples_split=4, n_estimators=100, total=   0.2s\n",
      "[CV] max_depth=30, max_features=auto, min_samples_leaf=2, min_samples_split=4, n_estimators=100 \n",
      "[CV]  max_depth=30, max_features=auto, min_samples_leaf=2, min_samples_split=4, n_estimators=100, total=   0.2s\n",
      "[CV] max_depth=30, max_features=auto, min_samples_leaf=2, min_samples_split=4, n_estimators=100 \n",
      "[CV]  max_depth=30, max_features=auto, min_samples_leaf=2, min_samples_split=4, n_estimators=100, total=   0.1s\n",
      "[CV] max_depth=30, max_features=auto, min_samples_leaf=2, min_samples_split=4, n_estimators=200 \n",
      "[CV]  max_depth=30, max_features=auto, min_samples_leaf=2, min_samples_split=4, n_estimators=200, total=   0.4s\n",
      "[CV] max_depth=30, max_features=auto, min_samples_leaf=2, min_samples_split=4, n_estimators=200 \n",
      "[CV]  max_depth=30, max_features=auto, min_samples_leaf=2, min_samples_split=4, n_estimators=200, total=   0.3s\n",
      "[CV] max_depth=30, max_features=auto, min_samples_leaf=2, min_samples_split=4, n_estimators=200 \n",
      "[CV]  max_depth=30, max_features=auto, min_samples_leaf=2, min_samples_split=4, n_estimators=200, total=   0.4s\n",
      "[CV] max_depth=30, max_features=auto, min_samples_leaf=2, min_samples_split=4, n_estimators=200 \n",
      "[CV]  max_depth=30, max_features=auto, min_samples_leaf=2, min_samples_split=4, n_estimators=200, total=   0.4s\n",
      "[CV] max_depth=30, max_features=auto, min_samples_leaf=2, min_samples_split=4, n_estimators=200 \n",
      "[CV]  max_depth=30, max_features=auto, min_samples_leaf=2, min_samples_split=4, n_estimators=200, total=   0.3s\n",
      "[CV] max_depth=30, max_features=auto, min_samples_leaf=2, min_samples_split=4, n_estimators=500 \n",
      "[CV]  max_depth=30, max_features=auto, min_samples_leaf=2, min_samples_split=4, n_estimators=500, total=   0.9s\n",
      "[CV] max_depth=30, max_features=auto, min_samples_leaf=2, min_samples_split=4, n_estimators=500 \n",
      "[CV]  max_depth=30, max_features=auto, min_samples_leaf=2, min_samples_split=4, n_estimators=500, total=   0.8s\n",
      "[CV] max_depth=30, max_features=auto, min_samples_leaf=2, min_samples_split=4, n_estimators=500 \n",
      "[CV]  max_depth=30, max_features=auto, min_samples_leaf=2, min_samples_split=4, n_estimators=500, total=   0.8s\n",
      "[CV] max_depth=30, max_features=auto, min_samples_leaf=2, min_samples_split=4, n_estimators=500 \n",
      "[CV]  max_depth=30, max_features=auto, min_samples_leaf=2, min_samples_split=4, n_estimators=500, total=   0.8s\n",
      "[CV] max_depth=30, max_features=auto, min_samples_leaf=2, min_samples_split=4, n_estimators=500 \n",
      "[CV]  max_depth=30, max_features=auto, min_samples_leaf=2, min_samples_split=4, n_estimators=500, total=   0.8s\n",
      "[CV] max_depth=30, max_features=sqrt, min_samples_leaf=1, min_samples_split=2, n_estimators=100 \n",
      "[CV]  max_depth=30, max_features=sqrt, min_samples_leaf=1, min_samples_split=2, n_estimators=100, total=   0.2s\n",
      "[CV] max_depth=30, max_features=sqrt, min_samples_leaf=1, min_samples_split=2, n_estimators=100 \n",
      "[CV]  max_depth=30, max_features=sqrt, min_samples_leaf=1, min_samples_split=2, n_estimators=100, total=   0.2s\n",
      "[CV] max_depth=30, max_features=sqrt, min_samples_leaf=1, min_samples_split=2, n_estimators=100 \n",
      "[CV]  max_depth=30, max_features=sqrt, min_samples_leaf=1, min_samples_split=2, n_estimators=100, total=   0.2s\n",
      "[CV] max_depth=30, max_features=sqrt, min_samples_leaf=1, min_samples_split=2, n_estimators=100 \n",
      "[CV]  max_depth=30, max_features=sqrt, min_samples_leaf=1, min_samples_split=2, n_estimators=100, total=   0.2s\n",
      "[CV] max_depth=30, max_features=sqrt, min_samples_leaf=1, min_samples_split=2, n_estimators=100 \n",
      "[CV]  max_depth=30, max_features=sqrt, min_samples_leaf=1, min_samples_split=2, n_estimators=100, total=   0.2s\n",
      "[CV] max_depth=30, max_features=sqrt, min_samples_leaf=1, min_samples_split=2, n_estimators=200 \n",
      "[CV]  max_depth=30, max_features=sqrt, min_samples_leaf=1, min_samples_split=2, n_estimators=200, total=   0.4s\n",
      "[CV] max_depth=30, max_features=sqrt, min_samples_leaf=1, min_samples_split=2, n_estimators=200 \n",
      "[CV]  max_depth=30, max_features=sqrt, min_samples_leaf=1, min_samples_split=2, n_estimators=200, total=   0.3s\n",
      "[CV] max_depth=30, max_features=sqrt, min_samples_leaf=1, min_samples_split=2, n_estimators=200 \n",
      "[CV]  max_depth=30, max_features=sqrt, min_samples_leaf=1, min_samples_split=2, n_estimators=200, total=   0.4s\n",
      "[CV] max_depth=30, max_features=sqrt, min_samples_leaf=1, min_samples_split=2, n_estimators=200 \n",
      "[CV]  max_depth=30, max_features=sqrt, min_samples_leaf=1, min_samples_split=2, n_estimators=200, total=   0.4s\n",
      "[CV] max_depth=30, max_features=sqrt, min_samples_leaf=1, min_samples_split=2, n_estimators=200 \n",
      "[CV]  max_depth=30, max_features=sqrt, min_samples_leaf=1, min_samples_split=2, n_estimators=200, total=   0.3s\n",
      "[CV] max_depth=30, max_features=sqrt, min_samples_leaf=1, min_samples_split=2, n_estimators=500 \n",
      "[CV]  max_depth=30, max_features=sqrt, min_samples_leaf=1, min_samples_split=2, n_estimators=500, total=   0.9s\n",
      "[CV] max_depth=30, max_features=sqrt, min_samples_leaf=1, min_samples_split=2, n_estimators=500 \n",
      "[CV]  max_depth=30, max_features=sqrt, min_samples_leaf=1, min_samples_split=2, n_estimators=500, total=   0.8s\n",
      "[CV] max_depth=30, max_features=sqrt, min_samples_leaf=1, min_samples_split=2, n_estimators=500 \n",
      "[CV]  max_depth=30, max_features=sqrt, min_samples_leaf=1, min_samples_split=2, n_estimators=500, total=   0.9s\n",
      "[CV] max_depth=30, max_features=sqrt, min_samples_leaf=1, min_samples_split=2, n_estimators=500 \n",
      "[CV]  max_depth=30, max_features=sqrt, min_samples_leaf=1, min_samples_split=2, n_estimators=500, total=   0.8s\n",
      "[CV] max_depth=30, max_features=sqrt, min_samples_leaf=1, min_samples_split=2, n_estimators=500 \n",
      "[CV]  max_depth=30, max_features=sqrt, min_samples_leaf=1, min_samples_split=2, n_estimators=500, total=   0.8s\n",
      "[CV] max_depth=30, max_features=sqrt, min_samples_leaf=1, min_samples_split=4, n_estimators=100 \n",
      "[CV]  max_depth=30, max_features=sqrt, min_samples_leaf=1, min_samples_split=4, n_estimators=100, total=   0.2s\n",
      "[CV] max_depth=30, max_features=sqrt, min_samples_leaf=1, min_samples_split=4, n_estimators=100 \n",
      "[CV]  max_depth=30, max_features=sqrt, min_samples_leaf=1, min_samples_split=4, n_estimators=100, total=   0.2s\n",
      "[CV] max_depth=30, max_features=sqrt, min_samples_leaf=1, min_samples_split=4, n_estimators=100 \n",
      "[CV]  max_depth=30, max_features=sqrt, min_samples_leaf=1, min_samples_split=4, n_estimators=100, total=   0.2s\n",
      "[CV] max_depth=30, max_features=sqrt, min_samples_leaf=1, min_samples_split=4, n_estimators=100 \n",
      "[CV]  max_depth=30, max_features=sqrt, min_samples_leaf=1, min_samples_split=4, n_estimators=100, total=   0.2s\n",
      "[CV] max_depth=30, max_features=sqrt, min_samples_leaf=1, min_samples_split=4, n_estimators=100 \n",
      "[CV]  max_depth=30, max_features=sqrt, min_samples_leaf=1, min_samples_split=4, n_estimators=100, total=   0.2s\n",
      "[CV] max_depth=30, max_features=sqrt, min_samples_leaf=1, min_samples_split=4, n_estimators=200 \n",
      "[CV]  max_depth=30, max_features=sqrt, min_samples_leaf=1, min_samples_split=4, n_estimators=200, total=   0.3s\n",
      "[CV] max_depth=30, max_features=sqrt, min_samples_leaf=1, min_samples_split=4, n_estimators=200 \n",
      "[CV]  max_depth=30, max_features=sqrt, min_samples_leaf=1, min_samples_split=4, n_estimators=200, total=   0.4s\n",
      "[CV] max_depth=30, max_features=sqrt, min_samples_leaf=1, min_samples_split=4, n_estimators=200 \n",
      "[CV]  max_depth=30, max_features=sqrt, min_samples_leaf=1, min_samples_split=4, n_estimators=200, total=   0.4s\n",
      "[CV] max_depth=30, max_features=sqrt, min_samples_leaf=1, min_samples_split=4, n_estimators=200 \n"
     ]
    },
    {
     "name": "stdout",
     "output_type": "stream",
     "text": [
      "[CV]  max_depth=30, max_features=sqrt, min_samples_leaf=1, min_samples_split=4, n_estimators=200, total=   0.5s\n",
      "[CV] max_depth=30, max_features=sqrt, min_samples_leaf=1, min_samples_split=4, n_estimators=200 \n",
      "[CV]  max_depth=30, max_features=sqrt, min_samples_leaf=1, min_samples_split=4, n_estimators=200, total=   0.5s\n",
      "[CV] max_depth=30, max_features=sqrt, min_samples_leaf=1, min_samples_split=4, n_estimators=500 \n",
      "[CV]  max_depth=30, max_features=sqrt, min_samples_leaf=1, min_samples_split=4, n_estimators=500, total=   0.9s\n",
      "[CV] max_depth=30, max_features=sqrt, min_samples_leaf=1, min_samples_split=4, n_estimators=500 \n",
      "[CV]  max_depth=30, max_features=sqrt, min_samples_leaf=1, min_samples_split=4, n_estimators=500, total=   0.8s\n",
      "[CV] max_depth=30, max_features=sqrt, min_samples_leaf=1, min_samples_split=4, n_estimators=500 \n",
      "[CV]  max_depth=30, max_features=sqrt, min_samples_leaf=1, min_samples_split=4, n_estimators=500, total=   1.0s\n",
      "[CV] max_depth=30, max_features=sqrt, min_samples_leaf=1, min_samples_split=4, n_estimators=500 \n",
      "[CV]  max_depth=30, max_features=sqrt, min_samples_leaf=1, min_samples_split=4, n_estimators=500, total=   0.8s\n",
      "[CV] max_depth=30, max_features=sqrt, min_samples_leaf=1, min_samples_split=4, n_estimators=500 \n",
      "[CV]  max_depth=30, max_features=sqrt, min_samples_leaf=1, min_samples_split=4, n_estimators=500, total=   0.8s\n",
      "[CV] max_depth=30, max_features=sqrt, min_samples_leaf=2, min_samples_split=2, n_estimators=100 \n",
      "[CV]  max_depth=30, max_features=sqrt, min_samples_leaf=2, min_samples_split=2, n_estimators=100, total=   0.2s\n",
      "[CV] max_depth=30, max_features=sqrt, min_samples_leaf=2, min_samples_split=2, n_estimators=100 \n",
      "[CV]  max_depth=30, max_features=sqrt, min_samples_leaf=2, min_samples_split=2, n_estimators=100, total=   0.2s\n",
      "[CV] max_depth=30, max_features=sqrt, min_samples_leaf=2, min_samples_split=2, n_estimators=100 \n",
      "[CV]  max_depth=30, max_features=sqrt, min_samples_leaf=2, min_samples_split=2, n_estimators=100, total=   0.2s\n",
      "[CV] max_depth=30, max_features=sqrt, min_samples_leaf=2, min_samples_split=2, n_estimators=100 \n",
      "[CV]  max_depth=30, max_features=sqrt, min_samples_leaf=2, min_samples_split=2, n_estimators=100, total=   0.2s\n",
      "[CV] max_depth=30, max_features=sqrt, min_samples_leaf=2, min_samples_split=2, n_estimators=100 \n",
      "[CV]  max_depth=30, max_features=sqrt, min_samples_leaf=2, min_samples_split=2, n_estimators=100, total=   0.2s\n",
      "[CV] max_depth=30, max_features=sqrt, min_samples_leaf=2, min_samples_split=2, n_estimators=200 \n",
      "[CV]  max_depth=30, max_features=sqrt, min_samples_leaf=2, min_samples_split=2, n_estimators=200, total=   0.3s\n",
      "[CV] max_depth=30, max_features=sqrt, min_samples_leaf=2, min_samples_split=2, n_estimators=200 \n",
      "[CV]  max_depth=30, max_features=sqrt, min_samples_leaf=2, min_samples_split=2, n_estimators=200, total=   0.4s\n",
      "[CV] max_depth=30, max_features=sqrt, min_samples_leaf=2, min_samples_split=2, n_estimators=200 \n",
      "[CV]  max_depth=30, max_features=sqrt, min_samples_leaf=2, min_samples_split=2, n_estimators=200, total=   0.4s\n",
      "[CV] max_depth=30, max_features=sqrt, min_samples_leaf=2, min_samples_split=2, n_estimators=200 \n",
      "[CV]  max_depth=30, max_features=sqrt, min_samples_leaf=2, min_samples_split=2, n_estimators=200, total=   0.4s\n",
      "[CV] max_depth=30, max_features=sqrt, min_samples_leaf=2, min_samples_split=2, n_estimators=200 \n",
      "[CV]  max_depth=30, max_features=sqrt, min_samples_leaf=2, min_samples_split=2, n_estimators=200, total=   0.3s\n",
      "[CV] max_depth=30, max_features=sqrt, min_samples_leaf=2, min_samples_split=2, n_estimators=500 \n",
      "[CV]  max_depth=30, max_features=sqrt, min_samples_leaf=2, min_samples_split=2, n_estimators=500, total=   0.8s\n",
      "[CV] max_depth=30, max_features=sqrt, min_samples_leaf=2, min_samples_split=2, n_estimators=500 \n",
      "[CV]  max_depth=30, max_features=sqrt, min_samples_leaf=2, min_samples_split=2, n_estimators=500, total=   2.6s\n",
      "[CV] max_depth=30, max_features=sqrt, min_samples_leaf=2, min_samples_split=2, n_estimators=500 \n",
      "[CV]  max_depth=30, max_features=sqrt, min_samples_leaf=2, min_samples_split=2, n_estimators=500, total=   1.1s\n",
      "[CV] max_depth=30, max_features=sqrt, min_samples_leaf=2, min_samples_split=2, n_estimators=500 \n",
      "[CV]  max_depth=30, max_features=sqrt, min_samples_leaf=2, min_samples_split=2, n_estimators=500, total=   0.9s\n",
      "[CV] max_depth=30, max_features=sqrt, min_samples_leaf=2, min_samples_split=2, n_estimators=500 \n",
      "[CV]  max_depth=30, max_features=sqrt, min_samples_leaf=2, min_samples_split=2, n_estimators=500, total=   0.9s\n",
      "[CV] max_depth=30, max_features=sqrt, min_samples_leaf=2, min_samples_split=4, n_estimators=100 \n",
      "[CV]  max_depth=30, max_features=sqrt, min_samples_leaf=2, min_samples_split=4, n_estimators=100, total=   0.2s\n",
      "[CV] max_depth=30, max_features=sqrt, min_samples_leaf=2, min_samples_split=4, n_estimators=100 \n",
      "[CV]  max_depth=30, max_features=sqrt, min_samples_leaf=2, min_samples_split=4, n_estimators=100, total=   0.2s\n",
      "[CV] max_depth=30, max_features=sqrt, min_samples_leaf=2, min_samples_split=4, n_estimators=100 \n",
      "[CV]  max_depth=30, max_features=sqrt, min_samples_leaf=2, min_samples_split=4, n_estimators=100, total=   0.2s\n",
      "[CV] max_depth=30, max_features=sqrt, min_samples_leaf=2, min_samples_split=4, n_estimators=100 \n",
      "[CV]  max_depth=30, max_features=sqrt, min_samples_leaf=2, min_samples_split=4, n_estimators=100, total=   0.2s\n",
      "[CV] max_depth=30, max_features=sqrt, min_samples_leaf=2, min_samples_split=4, n_estimators=100 \n",
      "[CV]  max_depth=30, max_features=sqrt, min_samples_leaf=2, min_samples_split=4, n_estimators=100, total=   0.2s\n",
      "[CV] max_depth=30, max_features=sqrt, min_samples_leaf=2, min_samples_split=4, n_estimators=200 \n",
      "[CV]  max_depth=30, max_features=sqrt, min_samples_leaf=2, min_samples_split=4, n_estimators=200, total=   1.2s\n",
      "[CV] max_depth=30, max_features=sqrt, min_samples_leaf=2, min_samples_split=4, n_estimators=200 \n",
      "[CV]  max_depth=30, max_features=sqrt, min_samples_leaf=2, min_samples_split=4, n_estimators=200, total=   0.6s\n",
      "[CV] max_depth=30, max_features=sqrt, min_samples_leaf=2, min_samples_split=4, n_estimators=200 \n",
      "[CV]  max_depth=30, max_features=sqrt, min_samples_leaf=2, min_samples_split=4, n_estimators=200, total=   0.4s\n",
      "[CV] max_depth=30, max_features=sqrt, min_samples_leaf=2, min_samples_split=4, n_estimators=200 \n",
      "[CV]  max_depth=30, max_features=sqrt, min_samples_leaf=2, min_samples_split=4, n_estimators=200, total=   0.4s\n",
      "[CV] max_depth=30, max_features=sqrt, min_samples_leaf=2, min_samples_split=4, n_estimators=200 \n",
      "[CV]  max_depth=30, max_features=sqrt, min_samples_leaf=2, min_samples_split=4, n_estimators=200, total=   0.4s\n",
      "[CV] max_depth=30, max_features=sqrt, min_samples_leaf=2, min_samples_split=4, n_estimators=500 \n",
      "[CV]  max_depth=30, max_features=sqrt, min_samples_leaf=2, min_samples_split=4, n_estimators=500, total=   0.9s\n",
      "[CV] max_depth=30, max_features=sqrt, min_samples_leaf=2, min_samples_split=4, n_estimators=500 \n",
      "[CV]  max_depth=30, max_features=sqrt, min_samples_leaf=2, min_samples_split=4, n_estimators=500, total=   0.9s\n",
      "[CV] max_depth=30, max_features=sqrt, min_samples_leaf=2, min_samples_split=4, n_estimators=500 \n",
      "[CV]  max_depth=30, max_features=sqrt, min_samples_leaf=2, min_samples_split=4, n_estimators=500, total=   0.8s\n",
      "[CV] max_depth=30, max_features=sqrt, min_samples_leaf=2, min_samples_split=4, n_estimators=500 \n",
      "[CV]  max_depth=30, max_features=sqrt, min_samples_leaf=2, min_samples_split=4, n_estimators=500, total=   0.9s\n",
      "[CV] max_depth=30, max_features=sqrt, min_samples_leaf=2, min_samples_split=4, n_estimators=500 \n",
      "[CV]  max_depth=30, max_features=sqrt, min_samples_leaf=2, min_samples_split=4, n_estimators=500, total=   0.8s\n"
     ]
    },
    {
     "name": "stderr",
     "output_type": "stream",
     "text": [
      "[Parallel(n_jobs=1)]: Done 360 out of 360 | elapsed:  2.9min finished\n"
     ]
    }
   ],
   "source": [
    "from sklearn.model_selection import GridSearchCV\n",
    "hparams2 = {\"max_depth\":[10,20,30],\n",
    "           \"n_estimators\":[100,200,500],\n",
    "           \"min_samples_split\":[2,4],\n",
    "           \"min_samples_leaf\":[1,2],\n",
    "           \"max_features\":[\"auto\",\"sqrt\"]}\n",
    "gscv_clf = GridSearchCV(estimator=clf,\n",
    "                             param_grid=hparams2,\n",
    "                             cv=5,\n",
    "                             verbose=2)\n",
    "gscv_clf.fit(X_train,y_train);"
   ]
  },
  {
   "cell_type": "code",
   "execution_count": 27,
   "metadata": {},
   "outputs": [
    {
     "data": {
      "text/plain": [
       "{'max_depth': 10,\n",
       " 'max_features': 'sqrt',\n",
       " 'min_samples_leaf': 2,\n",
       " 'min_samples_split': 2,\n",
       " 'n_estimators': 200}"
      ]
     },
     "execution_count": 27,
     "metadata": {},
     "output_type": "execute_result"
    }
   ],
   "source": [
    "gscv_clf.best_params_"
   ]
  },
  {
   "cell_type": "code",
   "execution_count": 28,
   "metadata": {},
   "outputs": [
    {
     "name": "stdout",
     "output_type": "stream",
     "text": [
      "Accuracy:0.89\n",
      "precision:0.84\n",
      "Recall:0.97\n",
      "f1:0.9\n"
     ]
    }
   ],
   "source": [
    "gscv_clf_y_predicted = gscv_clf.predict(X_test)\n",
    "# EValuate the metrics \n",
    "fifth_result = evaluate_hyper_metrics(y_test,gscv_clf_y_predicted)"
   ]
  },
  {
   "cell_type": "markdown",
   "metadata": {},
   "source": [
    "# WIthout RSCV\n",
    "* Accuracy:0.8\n",
    "* precision:0.91\n",
    "* Recall:0.74\n",
    "* f1:0.82\n",
    "# With RSCV\n",
    "* Accuracy:0.9\n",
    "* precision:0.89\n",
    "* Recall:0.94\n",
    "* f1:0.92\n",
    "# With GSCV\n",
    "* Accuracy:0.9\n",
    "* precision:0.92\n",
    "* Recall:0.92\n",
    "* f1:0.92"
   ]
  },
  {
   "cell_type": "code",
   "execution_count": 30,
   "metadata": {},
   "outputs": [
    {
     "data": {
      "text/plain": [
       "<matplotlib.axes._subplots.AxesSubplot at 0x23dfc17f3d0>"
      ]
     },
     "execution_count": 30,
     "metadata": {},
     "output_type": "execute_result"
    },
    {
     "data": {
      "image/png": "[encoded data removed]",
      "text/plain": [
       "<Figure size 720x576 with 1 Axes>"
      ]
     },
     "metadata": {
      "needs_background": "light"
     },
     "output_type": "display_data"
    }
   ],
   "source": [
    "comparison = pd.DataFrame({\"Baseline\": first_result,\n",
    "                           \"manaul_one_param\": second_result,\n",
    "                           \"RSCV\": fourth_result,\n",
    "                           \"GSCV\": fifth_result})\n",
    "comparison.plot.bar(figsize=(10,8))"
   ]
  },
  {
   "cell_type": "code",
   "execution_count": 31,
   "metadata": {},
   "outputs": [],
   "source": [
    "# by hand\n",
    "# RSCV\n",
    "# GSCV"
   ]
  },
  {
   "cell_type": "code",
   "execution_count": 32,
   "metadata": {},
   "outputs": [],
   "source": [
    "## 1 Getting the Data Ready\n",
    "## 2 Choosing Machine Learning Model\n",
    "## 3 Fit Model\n",
    "## 4 Evaluate Model\n",
    "## 5 Improve Model\n",
    "## 6 Saving the Model\n",
    "## 7 Summary"
   ]
  },
  {
   "cell_type": "code",
   "execution_count": 33,
   "metadata": {},
   "outputs": [],
   "source": [
    "# Save and Load Model\n",
    "# Method-1 Pickle\n",
    "# Method-2 joblib"
   ]
  },
  {
   "cell_type": "code",
   "execution_count": 39,
   "metadata": {},
   "outputs": [],
   "source": [
    "import pickle\n",
    "# Save existing Model\n",
    "pickle.dump(gscv_clf,open(\"gscv_clf_RFM.pkl\",\"wb\"))"
   ]
  },
  {
   "cell_type": "code",
   "execution_count": 40,
   "metadata": {},
   "outputs": [],
   "source": [
    "# Load saved Model\n",
    "pickled_model = pickle.load(open(\"gscv_clf_RFM.pkl\",\"rb\"))"
   ]
  },
  {
   "cell_type": "code",
   "execution_count": 41,
   "metadata": {},
   "outputs": [
    {
     "name": "stdout",
     "output_type": "stream",
     "text": [
      "Accuracy:0.89\n",
      "precision:0.84\n",
      "Recall:0.97\n",
      "f1:0.9\n"
     ]
    },
    {
     "data": {
      "text/plain": [
       "{'Accuracy': 0.8852459016393442,\n",
       " 'precision': 0.8378378378378378,\n",
       " 'recall': 0.96875,\n",
       " 'f1': 0.8985507246376812}"
      ]
     },
     "execution_count": 41,
     "metadata": {},
     "output_type": "execute_result"
    }
   ],
   "source": [
    "# Make Predicitons on the loaded Model\n",
    "predicted_pickled = pickled_model.predict(X_test)\n",
    "evaluate_hyper_metrics(y_test,predicted_pickled)"
   ]
  },
  {
   "cell_type": "code",
   "execution_count": 42,
   "metadata": {},
   "outputs": [
    {
     "data": {
      "text/plain": [
       "['joblib_gscv_model.joblib']"
      ]
     },
     "execution_count": 42,
     "metadata": {},
     "output_type": "execute_result"
    }
   ],
   "source": [
    "# Method-2 joblib\n",
    "from joblib import dump,load\n",
    "\n",
    "# Saving the Model\n",
    "dump(gscv_clf,filename=\"joblib_gscv_model.joblib\")"
   ]
  },
  {
   "cell_type": "code",
   "execution_count": 43,
   "metadata": {},
   "outputs": [],
   "source": [
    "# Loading the model\n",
    "joblib_model = load(filename=\"joblib_gscv_model.joblib\")"
   ]
  },
  {
   "cell_type": "code",
   "execution_count": 44,
   "metadata": {},
   "outputs": [
    {
     "name": "stdout",
     "output_type": "stream",
     "text": [
      "Accuracy:0.89\n",
      "precision:0.84\n",
      "Recall:0.97\n",
      "f1:0.9\n"
     ]
    },
    {
     "data": {
      "text/plain": [
       "{'Accuracy': 0.8852459016393442,\n",
       " 'precision': 0.8378378378378378,\n",
       " 'recall': 0.96875,\n",
       " 'f1': 0.8985507246376812}"
      ]
     },
     "execution_count": 44,
     "metadata": {},
     "output_type": "execute_result"
    }
   ],
   "source": [
    "y_joblib_predicted = joblib_model.predict(X_test)\n",
    "evaluate_hyper_metrics(y_test,y_joblib_predicted)"
   ]
  },
  {
   "cell_type": "markdown",
   "metadata": {},
   "source": [
    "# All in One using sklearn pipeline\n"
   ]
  },
  {
   "cell_type": "code",
   "execution_count": 49,
   "metadata": {},
   "outputs": [
    {
     "data": {
      "text/html": [
       "<div>\n",
       "<style scoped>\n",
       "    .dataframe tbody tr th:only-of-type {\n",
       "        vertical-align: middle;\n",
       "    }\n",
       "\n",
       "    .dataframe tbody tr th {\n",
       "        vertical-align: top;\n",
       "    }\n",
       "\n",
       "    .dataframe thead th {\n",
       "        text-align: right;\n",
       "    }\n",
       "</style>\n",
       "<table border=\"1\" class=\"dataframe\">\n",
       "  <thead>\n",
       "    <tr style=\"text-align: right;\">\n",
       "      <th></th>\n",
       "      <th>Make</th>\n",
       "      <th>Colour</th>\n",
       "      <th>Memory(kb)</th>\n",
       "      <th>Sim Cards</th>\n",
       "      <th>Price</th>\n",
       "    </tr>\n",
       "  </thead>\n",
       "  <tbody>\n",
       "    <tr>\n",
       "      <th>0</th>\n",
       "      <td>Iphone</td>\n",
       "      <td>Black</td>\n",
       "      <td>11179.0</td>\n",
       "      <td>5.0</td>\n",
       "      <td>$220.00</td>\n",
       "    </tr>\n",
       "    <tr>\n",
       "      <th>1</th>\n",
       "      <td>Motorolla</td>\n",
       "      <td>White</td>\n",
       "      <td>213095.0</td>\n",
       "      <td>4.0</td>\n",
       "      <td>$350.00</td>\n",
       "    </tr>\n",
       "    <tr>\n",
       "      <th>2</th>\n",
       "      <td>Nokia</td>\n",
       "      <td>Green</td>\n",
       "      <td>99213.0</td>\n",
       "      <td>4.0</td>\n",
       "      <td>$450.00</td>\n",
       "    </tr>\n",
       "    <tr>\n",
       "      <th>3</th>\n",
       "      <td>NaN</td>\n",
       "      <td>Blue</td>\n",
       "      <td>45698.0</td>\n",
       "      <td>4.0</td>\n",
       "      <td>$750.00</td>\n",
       "    </tr>\n",
       "    <tr>\n",
       "      <th>4</th>\n",
       "      <td>Nokia</td>\n",
       "      <td>White</td>\n",
       "      <td>150043.0</td>\n",
       "      <td>4.0</td>\n",
       "      <td>NaN</td>\n",
       "    </tr>\n",
       "    <tr>\n",
       "      <th>...</th>\n",
       "      <td>...</td>\n",
       "      <td>...</td>\n",
       "      <td>...</td>\n",
       "      <td>...</td>\n",
       "      <td>...</td>\n",
       "    </tr>\n",
       "    <tr>\n",
       "      <th>883</th>\n",
       "      <td>Nokia</td>\n",
       "      <td>Green</td>\n",
       "      <td>99213.0</td>\n",
       "      <td>4.0</td>\n",
       "      <td>$450.00</td>\n",
       "    </tr>\n",
       "    <tr>\n",
       "      <th>884</th>\n",
       "      <td>Ssamsung</td>\n",
       "      <td>Blue</td>\n",
       "      <td>45698.0</td>\n",
       "      <td>4.0</td>\n",
       "      <td>$750.00</td>\n",
       "    </tr>\n",
       "    <tr>\n",
       "      <th>885</th>\n",
       "      <td>NaN</td>\n",
       "      <td>Blue</td>\n",
       "      <td>54738.0</td>\n",
       "      <td>4.0</td>\n",
       "      <td>$700.00</td>\n",
       "    </tr>\n",
       "    <tr>\n",
       "      <th>886</th>\n",
       "      <td>Nokia</td>\n",
       "      <td>White</td>\n",
       "      <td>60000.0</td>\n",
       "      <td>4.0</td>\n",
       "      <td>$625.00</td>\n",
       "    </tr>\n",
       "    <tr>\n",
       "      <th>887</th>\n",
       "      <td>Motorolla</td>\n",
       "      <td>White</td>\n",
       "      <td>31600.0</td>\n",
       "      <td>4.0</td>\n",
       "      <td>$970.00</td>\n",
       "    </tr>\n",
       "  </tbody>\n",
       "</table>\n",
       "<p>888 rows × 5 columns</p>\n",
       "</div>"
      ],
      "text/plain": [
       "          Make Colour  Memory(kb)  Sim Cards     Price\n",
       "0       Iphone  Black     11179.0        5.0  $220.00 \n",
       "1    Motorolla  White    213095.0        4.0  $350.00 \n",
       "2        Nokia  Green     99213.0        4.0  $450.00 \n",
       "3          NaN   Blue     45698.0        4.0  $750.00 \n",
       "4        Nokia  White    150043.0        4.0       NaN\n",
       "..         ...    ...         ...        ...       ...\n",
       "883      Nokia  Green     99213.0        4.0  $450.00 \n",
       "884   Ssamsung   Blue     45698.0        4.0  $750.00 \n",
       "885        NaN   Blue     54738.0        4.0  $700.00 \n",
       "886      Nokia  White     60000.0        4.0  $625.00 \n",
       "887  Motorolla  White     31600.0        4.0  $970.00 \n",
       "\n",
       "[888 rows x 5 columns]"
      ]
     },
     "execution_count": 49,
     "metadata": {},
     "output_type": "execute_result"
    }
   ],
   "source": [
    "data = pd.read_csv(\"phone_data_large_missing.csv\")\n",
    "data"
   ]
  },
  {
   "cell_type": "code",
   "execution_count": 50,
   "metadata": {},
   "outputs": [
    {
     "data": {
      "text/plain": [
       "Make           object\n",
       "Colour         object\n",
       "Memory(kb)    float64\n",
       "Sim Cards     float64\n",
       "Price          object\n",
       "dtype: object"
      ]
     },
     "execution_count": 50,
     "metadata": {},
     "output_type": "execute_result"
    }
   ],
   "source": [
    "data.dtypes"
   ]
  },
  {
   "cell_type": "code",
   "execution_count": 51,
   "metadata": {},
   "outputs": [
    {
     "data": {
      "text/plain": [
       "Make          44\n",
       "Colour        22\n",
       "Memory(kb)    32\n",
       "Sim Cards     11\n",
       "Price         14\n",
       "dtype: int64"
      ]
     },
     "execution_count": 51,
     "metadata": {},
     "output_type": "execute_result"
    }
   ],
   "source": [
    "data.isna().sum()"
   ]
  },
  {
   "cell_type": "code",
   "execution_count": 52,
   "metadata": {},
   "outputs": [],
   "source": [
    "# Fill the missing values\n",
    "# COnvert the Data object type into num type\n",
    "# Build a Model on the Data\n"
   ]
  },
  {
   "cell_type": "code",
   "execution_count": 76,
   "metadata": {},
   "outputs": [],
   "source": []
  },
  {
   "cell_type": "code",
   "execution_count": 77,
   "metadata": {},
   "outputs": [
    {
     "data": {
      "text/plain": [
       "Make           object\n",
       "Colour         object\n",
       "Memory(kb)    float64\n",
       "Sim Cards     float64\n",
       "Price           int32\n",
       "dtype: object"
      ]
     },
     "execution_count": 77,
     "metadata": {},
     "output_type": "execute_result"
    }
   ],
   "source": [
    "data.dtypes"
   ]
  },
  {
   "cell_type": "code",
   "execution_count": 78,
   "metadata": {},
   "outputs": [
    {
     "data": {
      "text/plain": [
       "Make          44\n",
       "Colour        20\n",
       "Memory(kb)    31\n",
       "Sim Cards     11\n",
       "Price          0\n",
       "dtype: int64"
      ]
     },
     "execution_count": 78,
     "metadata": {},
     "output_type": "execute_result"
    }
   ],
   "source": [
    "data.isna().sum()"
   ]
  },
  {
   "cell_type": "code",
   "execution_count": 80,
   "metadata": {},
   "outputs": [
    {
     "data": {
      "text/plain": [
       "0.9555709531679715"
      ]
     },
     "execution_count": 80,
     "metadata": {},
     "output_type": "execute_result"
    }
   ],
   "source": [
    "# Getting Data Ready \n",
    "import pandas as pd\n",
    "import numpy as np\n",
    "from sklearn.compose import ColumnTransformer\n",
    "from sklearn.pipeline import Pipeline\n",
    "from sklearn.impute import SimpleImputer\n",
    "from sklearn.preprocessing import OneHotEncoder\n",
    "# Modelling\n",
    "from sklearn.ensemble import RandomForestRegressor\n",
    "from sklearn.model_selection import train_test_split,GridSearchCV\n",
    "np.random.seed(7)\n",
    "\n",
    "# Import Data and fill the missing Values\n",
    "\n",
    "data   = pd.read_csv(\"phone_data_large_missing.csv\")\n",
    "\n",
    "data.dropna(subset=[\"Price\"], inplace=True)\n",
    "data[\"Price\"]=data[\"Price\"].str[:-2]\n",
    "data[\"Price\"]= data[\"Price\"].str.replace(\"[\\$\\,\\.]\",\"\").astype(int)\n",
    "# Define Different featires and Transformer pipline\n",
    "\n",
    "#####################111111########################\n",
    "cat_features = [\"Make\",\"Colour\"]\n",
    "\n",
    "cat_tranformer = Pipeline(steps=[\n",
    "    (\"imputer\",SimpleImputer(strategy=\"constant\",fill_value='missing')),\n",
    "    (\"onehot\",OneHotEncoder(handle_unknown=\"ignore\"))\n",
    "])\n",
    "#####################222222222########################\n",
    "Sim_features = [\"Sim Cards\"]\n",
    "\n",
    "Sim_transformer = Pipeline(steps=[\n",
    "    (\"imputer\",SimpleImputer(strategy=\"constant\",fill_value=4))\n",
    "])\n",
    "######################3333333333#######################\n",
    "num_feature = [\"Memory(kb)\"]\n",
    "\n",
    "num_transform = Pipeline(steps=[\n",
    "    (\"imputer\",SimpleImputer(strategy=\"mean\"))\n",
    "])\n",
    "#############################################\n",
    "# Setup preprocessing steps (Fill the missing values, then convert to numbers)\n",
    "\n",
    "preprocessing = ColumnTransformer(\n",
    "    transformers=[\n",
    "        (\"cat\",cat_tranformer,cat_features),\n",
    "        (\"sim\",Sim_transformer,Sim_features),\n",
    "        (\"num\",num_transform,num_feature)\n",
    "    ]\n",
    ")\n",
    "\n",
    "\n",
    "model = Pipeline(steps=[\n",
    "    (\"preprocessing\",preprocessing),\n",
    "    (\"model\",RandomForestRegressor())\n",
    "])\n",
    "# SPlit data\n",
    "X = data.drop(\"Price\",axis=1)\n",
    "y = data[\"Price\"]\n",
    "\n",
    "X_train,X_test,y_train,y_test = train_test_split(X,y,test_size=0.2)\n",
    "\n",
    "# now run the fit and evalutes\n",
    "model.fit(X_train,y_train)\n",
    "model.score(X_test,y_test)\n"
   ]
  },
  {
   "cell_type": "code",
   "execution_count": 82,
   "metadata": {},
   "outputs": [
    {
     "name": "stdout",
     "output_type": "stream",
     "text": [
      "Fitting 5 folds for each of 144 candidates, totalling 720 fits\n",
      "[CV] model__max_depth=10, model__max_features=auto, model__min_samples_leaf=1, model__min_samples_split=2, model__n_estimators=100, preprocessing__num__imputer__strategy=mean \n"
     ]
    },
    {
     "name": "stderr",
     "output_type": "stream",
     "text": [
      "[Parallel(n_jobs=1)]: Using backend SequentialBackend with 1 concurrent workers.\n"
     ]
    },
    {
     "name": "stdout",
     "output_type": "stream",
     "text": [
      "[CV]  model__max_depth=10, model__max_features=auto, model__min_samples_leaf=1, model__min_samples_split=2, model__n_estimators=100, preprocessing__num__imputer__strategy=mean, total=   0.4s\n",
      "[CV] model__max_depth=10, model__max_features=auto, model__min_samples_leaf=1, model__min_samples_split=2, model__n_estimators=100, preprocessing__num__imputer__strategy=mean \n"
     ]
    },
    {
     "name": "stderr",
     "output_type": "stream",
     "text": [
      "[Parallel(n_jobs=1)]: Done   1 out of   1 | elapsed:    0.3s remaining:    0.0s\n"
     ]
    },
    {
     "name": "stdout",
     "output_type": "stream",
     "text": [
      "[CV]  model__max_depth=10, model__max_features=auto, model__min_samples_leaf=1, model__min_samples_split=2, model__n_estimators=100, preprocessing__num__imputer__strategy=mean, total=   0.3s\n",
      "[CV] model__max_depth=10, model__max_features=auto, model__min_samples_leaf=1, model__min_samples_split=2, model__n_estimators=100, preprocessing__num__imputer__strategy=mean \n",
      "[CV]  model__max_depth=10, model__max_features=auto, model__min_samples_leaf=1, model__min_samples_split=2, model__n_estimators=100, preprocessing__num__imputer__strategy=mean, total=   0.5s\n",
      "[CV] model__max_depth=10, model__max_features=auto, model__min_samples_leaf=1, model__min_samples_split=2, model__n_estimators=100, preprocessing__num__imputer__strategy=mean \n",
      "[CV]  model__max_depth=10, model__max_features=auto, model__min_samples_leaf=1, model__min_samples_split=2, model__n_estimators=100, preprocessing__num__imputer__strategy=mean, total=   1.4s\n",
      "[CV] model__max_depth=10, model__max_features=auto, model__min_samples_leaf=1, model__min_samples_split=2, model__n_estimators=100, preprocessing__num__imputer__strategy=mean \n",
      "[CV]  model__max_depth=10, model__max_features=auto, model__min_samples_leaf=1, model__min_samples_split=2, model__n_estimators=100, preprocessing__num__imputer__strategy=mean, total=   1.2s\n",
      "[CV] model__max_depth=10, model__max_features=auto, model__min_samples_leaf=1, model__min_samples_split=2, model__n_estimators=100, preprocessing__num__imputer__strategy=median \n",
      "[CV]  model__max_depth=10, model__max_features=auto, model__min_samples_leaf=1, model__min_samples_split=2, model__n_estimators=100, preprocessing__num__imputer__strategy=median, total=   0.7s\n",
      "[CV] model__max_depth=10, model__max_features=auto, model__min_samples_leaf=1, model__min_samples_split=2, model__n_estimators=100, preprocessing__num__imputer__strategy=median \n",
      "[CV]  model__max_depth=10, model__max_features=auto, model__min_samples_leaf=1, model__min_samples_split=2, model__n_estimators=100, preprocessing__num__imputer__strategy=median, total=   0.5s\n",
      "[CV] model__max_depth=10, model__max_features=auto, model__min_samples_leaf=1, model__min_samples_split=2, model__n_estimators=100, preprocessing__num__imputer__strategy=median \n",
      "[CV]  model__max_depth=10, model__max_features=auto, model__min_samples_leaf=1, model__min_samples_split=2, model__n_estimators=100, preprocessing__num__imputer__strategy=median, total=   0.5s\n",
      "[CV] model__max_depth=10, model__max_features=auto, model__min_samples_leaf=1, model__min_samples_split=2, model__n_estimators=100, preprocessing__num__imputer__strategy=median \n",
      "[CV]  model__max_depth=10, model__max_features=auto, model__min_samples_leaf=1, model__min_samples_split=2, model__n_estimators=100, preprocessing__num__imputer__strategy=median, total=   0.8s\n",
      "[CV] model__max_depth=10, model__max_features=auto, model__min_samples_leaf=1, model__min_samples_split=2, model__n_estimators=100, preprocessing__num__imputer__strategy=median \n",
      "[CV]  model__max_depth=10, model__max_features=auto, model__min_samples_leaf=1, model__min_samples_split=2, model__n_estimators=100, preprocessing__num__imputer__strategy=median, total=   0.6s\n",
      "[CV] model__max_depth=10, model__max_features=auto, model__min_samples_leaf=1, model__min_samples_split=2, model__n_estimators=200, preprocessing__num__imputer__strategy=mean \n",
      "[CV]  model__max_depth=10, model__max_features=auto, model__min_samples_leaf=1, model__min_samples_split=2, model__n_estimators=200, preprocessing__num__imputer__strategy=mean, total=   3.2s\n",
      "[CV] model__max_depth=10, model__max_features=auto, model__min_samples_leaf=1, model__min_samples_split=2, model__n_estimators=200, preprocessing__num__imputer__strategy=mean \n",
      "[CV]  model__max_depth=10, model__max_features=auto, model__min_samples_leaf=1, model__min_samples_split=2, model__n_estimators=200, preprocessing__num__imputer__strategy=mean, total=   1.5s\n",
      "[CV] model__max_depth=10, model__max_features=auto, model__min_samples_leaf=1, model__min_samples_split=2, model__n_estimators=200, preprocessing__num__imputer__strategy=mean \n",
      "[CV]  model__max_depth=10, model__max_features=auto, model__min_samples_leaf=1, model__min_samples_split=2, model__n_estimators=200, preprocessing__num__imputer__strategy=mean, total=   3.2s\n",
      "[CV] model__max_depth=10, model__max_features=auto, model__min_samples_leaf=1, model__min_samples_split=2, model__n_estimators=200, preprocessing__num__imputer__strategy=mean \n",
      "[CV]  model__max_depth=10, model__max_features=auto, model__min_samples_leaf=1, model__min_samples_split=2, model__n_estimators=200, preprocessing__num__imputer__strategy=mean, total=   0.8s\n",
      "[CV] model__max_depth=10, model__max_features=auto, model__min_samples_leaf=1, model__min_samples_split=2, model__n_estimators=200, preprocessing__num__imputer__strategy=mean \n",
      "[CV]  model__max_depth=10, model__max_features=auto, model__min_samples_leaf=1, model__min_samples_split=2, model__n_estimators=200, preprocessing__num__imputer__strategy=mean, total=   0.7s\n",
      "[CV] model__max_depth=10, model__max_features=auto, model__min_samples_leaf=1, model__min_samples_split=2, model__n_estimators=200, preprocessing__num__imputer__strategy=median \n",
      "[CV]  model__max_depth=10, model__max_features=auto, model__min_samples_leaf=1, model__min_samples_split=2, model__n_estimators=200, preprocessing__num__imputer__strategy=median, total=   0.6s\n",
      "[CV] model__max_depth=10, model__max_features=auto, model__min_samples_leaf=1, model__min_samples_split=2, model__n_estimators=200, preprocessing__num__imputer__strategy=median \n",
      "[CV]  model__max_depth=10, model__max_features=auto, model__min_samples_leaf=1, model__min_samples_split=2, model__n_estimators=200, preprocessing__num__imputer__strategy=median, total=   0.6s\n",
      "[CV] model__max_depth=10, model__max_features=auto, model__min_samples_leaf=1, model__min_samples_split=2, model__n_estimators=200, preprocessing__num__imputer__strategy=median \n",
      "[CV]  model__max_depth=10, model__max_features=auto, model__min_samples_leaf=1, model__min_samples_split=2, model__n_estimators=200, preprocessing__num__imputer__strategy=median, total=   0.6s\n",
      "[CV] model__max_depth=10, model__max_features=auto, model__min_samples_leaf=1, model__min_samples_split=2, model__n_estimators=200, preprocessing__num__imputer__strategy=median \n",
      "[CV]  model__max_depth=10, model__max_features=auto, model__min_samples_leaf=1, model__min_samples_split=2, model__n_estimators=200, preprocessing__num__imputer__strategy=median, total=   0.6s\n",
      "[CV] model__max_depth=10, model__max_features=auto, model__min_samples_leaf=1, model__min_samples_split=2, model__n_estimators=200, preprocessing__num__imputer__strategy=median \n",
      "[CV]  model__max_depth=10, model__max_features=auto, model__min_samples_leaf=1, model__min_samples_split=2, model__n_estimators=200, preprocessing__num__imputer__strategy=median, total=   0.8s\n",
      "[CV] model__max_depth=10, model__max_features=auto, model__min_samples_leaf=1, model__min_samples_split=2, model__n_estimators=500, preprocessing__num__imputer__strategy=mean \n",
      "[CV]  model__max_depth=10, model__max_features=auto, model__min_samples_leaf=1, model__min_samples_split=2, model__n_estimators=500, preprocessing__num__imputer__strategy=mean, total=   1.5s\n",
      "[CV] model__max_depth=10, model__max_features=auto, model__min_samples_leaf=1, model__min_samples_split=2, model__n_estimators=500, preprocessing__num__imputer__strategy=mean \n",
      "[CV]  model__max_depth=10, model__max_features=auto, model__min_samples_leaf=1, model__min_samples_split=2, model__n_estimators=500, preprocessing__num__imputer__strategy=mean, total=   1.8s\n",
      "[CV] model__max_depth=10, model__max_features=auto, model__min_samples_leaf=1, model__min_samples_split=2, model__n_estimators=500, preprocessing__num__imputer__strategy=mean \n",
      "[CV]  model__max_depth=10, model__max_features=auto, model__min_samples_leaf=1, model__min_samples_split=2, model__n_estimators=500, preprocessing__num__imputer__strategy=mean, total=   1.6s\n",
      "[CV] model__max_depth=10, model__max_features=auto, model__min_samples_leaf=1, model__min_samples_split=2, model__n_estimators=500, preprocessing__num__imputer__strategy=mean \n",
      "[CV]  model__max_depth=10, model__max_features=auto, model__min_samples_leaf=1, model__min_samples_split=2, model__n_estimators=500, preprocessing__num__imputer__strategy=mean, total=   2.0s\n",
      "[CV] model__max_depth=10, model__max_features=auto, model__min_samples_leaf=1, model__min_samples_split=2, model__n_estimators=500, preprocessing__num__imputer__strategy=mean \n"
     ]
    },
    {
     "name": "stdout",
     "output_type": "stream",
     "text": [
      "[CV]  model__max_depth=10, model__max_features=auto, model__min_samples_leaf=1, model__min_samples_split=2, model__n_estimators=500, preprocessing__num__imputer__strategy=mean, total=   2.0s\n",
      "[CV] model__max_depth=10, model__max_features=auto, model__min_samples_leaf=1, model__min_samples_split=2, model__n_estimators=500, preprocessing__num__imputer__strategy=median \n",
      "[CV]  model__max_depth=10, model__max_features=auto, model__min_samples_leaf=1, model__min_samples_split=2, model__n_estimators=500, preprocessing__num__imputer__strategy=median, total=   1.6s\n",
      "[CV] model__max_depth=10, model__max_features=auto, model__min_samples_leaf=1, model__min_samples_split=2, model__n_estimators=500, preprocessing__num__imputer__strategy=median \n",
      "[CV]  model__max_depth=10, model__max_features=auto, model__min_samples_leaf=1, model__min_samples_split=2, model__n_estimators=500, preprocessing__num__imputer__strategy=median, total=   1.3s\n",
      "[CV] model__max_depth=10, model__max_features=auto, model__min_samples_leaf=1, model__min_samples_split=2, model__n_estimators=500, preprocessing__num__imputer__strategy=median \n",
      "[CV]  model__max_depth=10, model__max_features=auto, model__min_samples_leaf=1, model__min_samples_split=2, model__n_estimators=500, preprocessing__num__imputer__strategy=median, total=   1.2s\n",
      "[CV] model__max_depth=10, model__max_features=auto, model__min_samples_leaf=1, model__min_samples_split=2, model__n_estimators=500, preprocessing__num__imputer__strategy=median \n",
      "[CV]  model__max_depth=10, model__max_features=auto, model__min_samples_leaf=1, model__min_samples_split=2, model__n_estimators=500, preprocessing__num__imputer__strategy=median, total=   1.2s\n",
      "[CV] model__max_depth=10, model__max_features=auto, model__min_samples_leaf=1, model__min_samples_split=2, model__n_estimators=500, preprocessing__num__imputer__strategy=median \n",
      "[CV]  model__max_depth=10, model__max_features=auto, model__min_samples_leaf=1, model__min_samples_split=2, model__n_estimators=500, preprocessing__num__imputer__strategy=median, total=   1.4s\n",
      "[CV] model__max_depth=10, model__max_features=auto, model__min_samples_leaf=1, model__min_samples_split=4, model__n_estimators=100, preprocessing__num__imputer__strategy=mean \n",
      "[CV]  model__max_depth=10, model__max_features=auto, model__min_samples_leaf=1, model__min_samples_split=4, model__n_estimators=100, preprocessing__num__imputer__strategy=mean, total=   0.3s\n",
      "[CV] model__max_depth=10, model__max_features=auto, model__min_samples_leaf=1, model__min_samples_split=4, model__n_estimators=100, preprocessing__num__imputer__strategy=mean \n",
      "[CV]  model__max_depth=10, model__max_features=auto, model__min_samples_leaf=1, model__min_samples_split=4, model__n_estimators=100, preprocessing__num__imputer__strategy=mean, total=   0.3s\n",
      "[CV] model__max_depth=10, model__max_features=auto, model__min_samples_leaf=1, model__min_samples_split=4, model__n_estimators=100, preprocessing__num__imputer__strategy=mean \n",
      "[CV]  model__max_depth=10, model__max_features=auto, model__min_samples_leaf=1, model__min_samples_split=4, model__n_estimators=100, preprocessing__num__imputer__strategy=mean, total=   0.3s\n",
      "[CV] model__max_depth=10, model__max_features=auto, model__min_samples_leaf=1, model__min_samples_split=4, model__n_estimators=100, preprocessing__num__imputer__strategy=mean \n",
      "[CV]  model__max_depth=10, model__max_features=auto, model__min_samples_leaf=1, model__min_samples_split=4, model__n_estimators=100, preprocessing__num__imputer__strategy=mean, total=   0.3s\n",
      "[CV] model__max_depth=10, model__max_features=auto, model__min_samples_leaf=1, model__min_samples_split=4, model__n_estimators=100, preprocessing__num__imputer__strategy=mean \n",
      "[CV]  model__max_depth=10, model__max_features=auto, model__min_samples_leaf=1, model__min_samples_split=4, model__n_estimators=100, preprocessing__num__imputer__strategy=mean, total=   0.3s\n",
      "[CV] model__max_depth=10, model__max_features=auto, model__min_samples_leaf=1, model__min_samples_split=4, model__n_estimators=100, preprocessing__num__imputer__strategy=median \n",
      "[CV]  model__max_depth=10, model__max_features=auto, model__min_samples_leaf=1, model__min_samples_split=4, model__n_estimators=100, preprocessing__num__imputer__strategy=median, total=   0.3s\n",
      "[CV] model__max_depth=10, model__max_features=auto, model__min_samples_leaf=1, model__min_samples_split=4, model__n_estimators=100, preprocessing__num__imputer__strategy=median \n",
      "[CV]  model__max_depth=10, model__max_features=auto, model__min_samples_leaf=1, model__min_samples_split=4, model__n_estimators=100, preprocessing__num__imputer__strategy=median, total=   0.3s\n",
      "[CV] model__max_depth=10, model__max_features=auto, model__min_samples_leaf=1, model__min_samples_split=4, model__n_estimators=100, preprocessing__num__imputer__strategy=median \n",
      "[CV]  model__max_depth=10, model__max_features=auto, model__min_samples_leaf=1, model__min_samples_split=4, model__n_estimators=100, preprocessing__num__imputer__strategy=median, total=   0.3s\n",
      "[CV] model__max_depth=10, model__max_features=auto, model__min_samples_leaf=1, model__min_samples_split=4, model__n_estimators=100, preprocessing__num__imputer__strategy=median \n",
      "[CV]  model__max_depth=10, model__max_features=auto, model__min_samples_leaf=1, model__min_samples_split=4, model__n_estimators=100, preprocessing__num__imputer__strategy=median, total=   0.4s\n",
      "[CV] model__max_depth=10, model__max_features=auto, model__min_samples_leaf=1, model__min_samples_split=4, model__n_estimators=100, preprocessing__num__imputer__strategy=median \n",
      "[CV]  model__max_depth=10, model__max_features=auto, model__min_samples_leaf=1, model__min_samples_split=4, model__n_estimators=100, preprocessing__num__imputer__strategy=median, total=   0.3s\n",
      "[CV] model__max_depth=10, model__max_features=auto, model__min_samples_leaf=1, model__min_samples_split=4, model__n_estimators=200, preprocessing__num__imputer__strategy=mean \n",
      "[CV]  model__max_depth=10, model__max_features=auto, model__min_samples_leaf=1, model__min_samples_split=4, model__n_estimators=200, preprocessing__num__imputer__strategy=mean, total=   0.5s\n",
      "[CV] model__max_depth=10, model__max_features=auto, model__min_samples_leaf=1, model__min_samples_split=4, model__n_estimators=200, preprocessing__num__imputer__strategy=mean \n",
      "[CV]  model__max_depth=10, model__max_features=auto, model__min_samples_leaf=1, model__min_samples_split=4, model__n_estimators=200, preprocessing__num__imputer__strategy=mean, total=   0.6s\n",
      "[CV] model__max_depth=10, model__max_features=auto, model__min_samples_leaf=1, model__min_samples_split=4, model__n_estimators=200, preprocessing__num__imputer__strategy=mean \n",
      "[CV]  model__max_depth=10, model__max_features=auto, model__min_samples_leaf=1, model__min_samples_split=4, model__n_estimators=200, preprocessing__num__imputer__strategy=mean, total=   0.5s\n",
      "[CV] model__max_depth=10, model__max_features=auto, model__min_samples_leaf=1, model__min_samples_split=4, model__n_estimators=200, preprocessing__num__imputer__strategy=mean \n",
      "[CV]  model__max_depth=10, model__max_features=auto, model__min_samples_leaf=1, model__min_samples_split=4, model__n_estimators=200, preprocessing__num__imputer__strategy=mean, total=   0.5s\n",
      "[CV] model__max_depth=10, model__max_features=auto, model__min_samples_leaf=1, model__min_samples_split=4, model__n_estimators=200, preprocessing__num__imputer__strategy=mean \n",
      "[CV]  model__max_depth=10, model__max_features=auto, model__min_samples_leaf=1, model__min_samples_split=4, model__n_estimators=200, preprocessing__num__imputer__strategy=mean, total=   0.5s\n",
      "[CV] model__max_depth=10, model__max_features=auto, model__min_samples_leaf=1, model__min_samples_split=4, model__n_estimators=200, preprocessing__num__imputer__strategy=median \n",
      "[CV]  model__max_depth=10, model__max_features=auto, model__min_samples_leaf=1, model__min_samples_split=4, model__n_estimators=200, preprocessing__num__imputer__strategy=median, total=   0.5s\n",
      "[CV] model__max_depth=10, model__max_features=auto, model__min_samples_leaf=1, model__min_samples_split=4, model__n_estimators=200, preprocessing__num__imputer__strategy=median \n",
      "[CV]  model__max_depth=10, model__max_features=auto, model__min_samples_leaf=1, model__min_samples_split=4, model__n_estimators=200, preprocessing__num__imputer__strategy=median, total=   1.0s\n",
      "[CV] model__max_depth=10, model__max_features=auto, model__min_samples_leaf=1, model__min_samples_split=4, model__n_estimators=200, preprocessing__num__imputer__strategy=median \n"
     ]
    },
    {
     "name": "stdout",
     "output_type": "stream",
     "text": [
      "[CV]  model__max_depth=10, model__max_features=auto, model__min_samples_leaf=1, model__min_samples_split=4, model__n_estimators=200, preprocessing__num__imputer__strategy=median, total=   0.7s\n",
      "[CV] model__max_depth=10, model__max_features=auto, model__min_samples_leaf=1, model__min_samples_split=4, model__n_estimators=200, preprocessing__num__imputer__strategy=median \n",
      "[CV]  model__max_depth=10, model__max_features=auto, model__min_samples_leaf=1, model__min_samples_split=4, model__n_estimators=200, preprocessing__num__imputer__strategy=median, total=   0.7s\n",
      "[CV] model__max_depth=10, model__max_features=auto, model__min_samples_leaf=1, model__min_samples_split=4, model__n_estimators=200, preprocessing__num__imputer__strategy=median \n",
      "[CV]  model__max_depth=10, model__max_features=auto, model__min_samples_leaf=1, model__min_samples_split=4, model__n_estimators=200, preprocessing__num__imputer__strategy=median, total=   0.7s\n",
      "[CV] model__max_depth=10, model__max_features=auto, model__min_samples_leaf=1, model__min_samples_split=4, model__n_estimators=500, preprocessing__num__imputer__strategy=mean \n",
      "[CV]  model__max_depth=10, model__max_features=auto, model__min_samples_leaf=1, model__min_samples_split=4, model__n_estimators=500, preprocessing__num__imputer__strategy=mean, total=   1.3s\n",
      "[CV] model__max_depth=10, model__max_features=auto, model__min_samples_leaf=1, model__min_samples_split=4, model__n_estimators=500, preprocessing__num__imputer__strategy=mean \n",
      "[CV]  model__max_depth=10, model__max_features=auto, model__min_samples_leaf=1, model__min_samples_split=4, model__n_estimators=500, preprocessing__num__imputer__strategy=mean, total=   1.7s\n",
      "[CV] model__max_depth=10, model__max_features=auto, model__min_samples_leaf=1, model__min_samples_split=4, model__n_estimators=500, preprocessing__num__imputer__strategy=mean \n",
      "[CV]  model__max_depth=10, model__max_features=auto, model__min_samples_leaf=1, model__min_samples_split=4, model__n_estimators=500, preprocessing__num__imputer__strategy=mean, total=   1.3s\n",
      "[CV] model__max_depth=10, model__max_features=auto, model__min_samples_leaf=1, model__min_samples_split=4, model__n_estimators=500, preprocessing__num__imputer__strategy=mean \n",
      "[CV]  model__max_depth=10, model__max_features=auto, model__min_samples_leaf=1, model__min_samples_split=4, model__n_estimators=500, preprocessing__num__imputer__strategy=mean, total=   1.1s\n",
      "[CV] model__max_depth=10, model__max_features=auto, model__min_samples_leaf=1, model__min_samples_split=4, model__n_estimators=500, preprocessing__num__imputer__strategy=mean \n",
      "[CV]  model__max_depth=10, model__max_features=auto, model__min_samples_leaf=1, model__min_samples_split=4, model__n_estimators=500, preprocessing__num__imputer__strategy=mean, total=   1.3s\n",
      "[CV] model__max_depth=10, model__max_features=auto, model__min_samples_leaf=1, model__min_samples_split=4, model__n_estimators=500, preprocessing__num__imputer__strategy=median \n",
      "[CV]  model__max_depth=10, model__max_features=auto, model__min_samples_leaf=1, model__min_samples_split=4, model__n_estimators=500, preprocessing__num__imputer__strategy=median, total=   2.0s\n",
      "[CV] model__max_depth=10, model__max_features=auto, model__min_samples_leaf=1, model__min_samples_split=4, model__n_estimators=500, preprocessing__num__imputer__strategy=median \n",
      "[CV]  model__max_depth=10, model__max_features=auto, model__min_samples_leaf=1, model__min_samples_split=4, model__n_estimators=500, preprocessing__num__imputer__strategy=median, total=   1.2s\n",
      "[CV] model__max_depth=10, model__max_features=auto, model__min_samples_leaf=1, model__min_samples_split=4, model__n_estimators=500, preprocessing__num__imputer__strategy=median \n",
      "[CV]  model__max_depth=10, model__max_features=auto, model__min_samples_leaf=1, model__min_samples_split=4, model__n_estimators=500, preprocessing__num__imputer__strategy=median, total=   1.0s\n",
      "[CV] model__max_depth=10, model__max_features=auto, model__min_samples_leaf=1, model__min_samples_split=4, model__n_estimators=500, preprocessing__num__imputer__strategy=median \n",
      "[CV]  model__max_depth=10, model__max_features=auto, model__min_samples_leaf=1, model__min_samples_split=4, model__n_estimators=500, preprocessing__num__imputer__strategy=median, total=   1.0s\n",
      "[CV] model__max_depth=10, model__max_features=auto, model__min_samples_leaf=1, model__min_samples_split=4, model__n_estimators=500, preprocessing__num__imputer__strategy=median \n",
      "[CV]  model__max_depth=10, model__max_features=auto, model__min_samples_leaf=1, model__min_samples_split=4, model__n_estimators=500, preprocessing__num__imputer__strategy=median, total=   1.0s\n",
      "[CV] model__max_depth=10, model__max_features=auto, model__min_samples_leaf=2, model__min_samples_split=2, model__n_estimators=100, preprocessing__num__imputer__strategy=mean \n",
      "[CV]  model__max_depth=10, model__max_features=auto, model__min_samples_leaf=2, model__min_samples_split=2, model__n_estimators=100, preprocessing__num__imputer__strategy=mean, total=   0.2s\n",
      "[CV] model__max_depth=10, model__max_features=auto, model__min_samples_leaf=2, model__min_samples_split=2, model__n_estimators=100, preprocessing__num__imputer__strategy=mean \n",
      "[CV]  model__max_depth=10, model__max_features=auto, model__min_samples_leaf=2, model__min_samples_split=2, model__n_estimators=100, preprocessing__num__imputer__strategy=mean, total=   0.3s\n",
      "[CV] model__max_depth=10, model__max_features=auto, model__min_samples_leaf=2, model__min_samples_split=2, model__n_estimators=100, preprocessing__num__imputer__strategy=mean \n",
      "[CV]  model__max_depth=10, model__max_features=auto, model__min_samples_leaf=2, model__min_samples_split=2, model__n_estimators=100, preprocessing__num__imputer__strategy=mean, total=   0.2s\n",
      "[CV] model__max_depth=10, model__max_features=auto, model__min_samples_leaf=2, model__min_samples_split=2, model__n_estimators=100, preprocessing__num__imputer__strategy=mean \n",
      "[CV]  model__max_depth=10, model__max_features=auto, model__min_samples_leaf=2, model__min_samples_split=2, model__n_estimators=100, preprocessing__num__imputer__strategy=mean, total=   0.2s\n",
      "[CV] model__max_depth=10, model__max_features=auto, model__min_samples_leaf=2, model__min_samples_split=2, model__n_estimators=100, preprocessing__num__imputer__strategy=mean \n",
      "[CV]  model__max_depth=10, model__max_features=auto, model__min_samples_leaf=2, model__min_samples_split=2, model__n_estimators=100, preprocessing__num__imputer__strategy=mean, total=   0.3s\n",
      "[CV] model__max_depth=10, model__max_features=auto, model__min_samples_leaf=2, model__min_samples_split=2, model__n_estimators=100, preprocessing__num__imputer__strategy=median \n",
      "[CV]  model__max_depth=10, model__max_features=auto, model__min_samples_leaf=2, model__min_samples_split=2, model__n_estimators=100, preprocessing__num__imputer__strategy=median, total=   0.2s\n",
      "[CV] model__max_depth=10, model__max_features=auto, model__min_samples_leaf=2, model__min_samples_split=2, model__n_estimators=100, preprocessing__num__imputer__strategy=median \n",
      "[CV]  model__max_depth=10, model__max_features=auto, model__min_samples_leaf=2, model__min_samples_split=2, model__n_estimators=100, preprocessing__num__imputer__strategy=median, total=   0.2s\n",
      "[CV] model__max_depth=10, model__max_features=auto, model__min_samples_leaf=2, model__min_samples_split=2, model__n_estimators=100, preprocessing__num__imputer__strategy=median \n",
      "[CV]  model__max_depth=10, model__max_features=auto, model__min_samples_leaf=2, model__min_samples_split=2, model__n_estimators=100, preprocessing__num__imputer__strategy=median, total=   0.3s\n",
      "[CV] model__max_depth=10, model__max_features=auto, model__min_samples_leaf=2, model__min_samples_split=2, model__n_estimators=100, preprocessing__num__imputer__strategy=median \n",
      "[CV]  model__max_depth=10, model__max_features=auto, model__min_samples_leaf=2, model__min_samples_split=2, model__n_estimators=100, preprocessing__num__imputer__strategy=median, total=   0.4s\n",
      "[CV] model__max_depth=10, model__max_features=auto, model__min_samples_leaf=2, model__min_samples_split=2, model__n_estimators=100, preprocessing__num__imputer__strategy=median \n",
      "[CV]  model__max_depth=10, model__max_features=auto, model__min_samples_leaf=2, model__min_samples_split=2, model__n_estimators=100, preprocessing__num__imputer__strategy=median, total=   0.3s\n",
      "[CV] model__max_depth=10, model__max_features=auto, model__min_samples_leaf=2, model__min_samples_split=2, model__n_estimators=200, preprocessing__num__imputer__strategy=mean \n"
     ]
    },
    {
     "name": "stdout",
     "output_type": "stream",
     "text": [
      "[CV]  model__max_depth=10, model__max_features=auto, model__min_samples_leaf=2, model__min_samples_split=2, model__n_estimators=200, preprocessing__num__imputer__strategy=mean, total=   0.6s\n",
      "[CV] model__max_depth=10, model__max_features=auto, model__min_samples_leaf=2, model__min_samples_split=2, model__n_estimators=200, preprocessing__num__imputer__strategy=mean \n",
      "[CV]  model__max_depth=10, model__max_features=auto, model__min_samples_leaf=2, model__min_samples_split=2, model__n_estimators=200, preprocessing__num__imputer__strategy=mean, total=   0.5s\n",
      "[CV] model__max_depth=10, model__max_features=auto, model__min_samples_leaf=2, model__min_samples_split=2, model__n_estimators=200, preprocessing__num__imputer__strategy=mean \n",
      "[CV]  model__max_depth=10, model__max_features=auto, model__min_samples_leaf=2, model__min_samples_split=2, model__n_estimators=200, preprocessing__num__imputer__strategy=mean, total=   0.5s\n",
      "[CV] model__max_depth=10, model__max_features=auto, model__min_samples_leaf=2, model__min_samples_split=2, model__n_estimators=200, preprocessing__num__imputer__strategy=mean \n",
      "[CV]  model__max_depth=10, model__max_features=auto, model__min_samples_leaf=2, model__min_samples_split=2, model__n_estimators=200, preprocessing__num__imputer__strategy=mean, total=   0.6s\n",
      "[CV] model__max_depth=10, model__max_features=auto, model__min_samples_leaf=2, model__min_samples_split=2, model__n_estimators=200, preprocessing__num__imputer__strategy=mean \n",
      "[CV]  model__max_depth=10, model__max_features=auto, model__min_samples_leaf=2, model__min_samples_split=2, model__n_estimators=200, preprocessing__num__imputer__strategy=mean, total=   0.6s\n",
      "[CV] model__max_depth=10, model__max_features=auto, model__min_samples_leaf=2, model__min_samples_split=2, model__n_estimators=200, preprocessing__num__imputer__strategy=median \n",
      "[CV]  model__max_depth=10, model__max_features=auto, model__min_samples_leaf=2, model__min_samples_split=2, model__n_estimators=200, preprocessing__num__imputer__strategy=median, total=   0.6s\n",
      "[CV] model__max_depth=10, model__max_features=auto, model__min_samples_leaf=2, model__min_samples_split=2, model__n_estimators=200, preprocessing__num__imputer__strategy=median \n",
      "[CV]  model__max_depth=10, model__max_features=auto, model__min_samples_leaf=2, model__min_samples_split=2, model__n_estimators=200, preprocessing__num__imputer__strategy=median, total=   0.7s\n",
      "[CV] model__max_depth=10, model__max_features=auto, model__min_samples_leaf=2, model__min_samples_split=2, model__n_estimators=200, preprocessing__num__imputer__strategy=median \n",
      "[CV]  model__max_depth=10, model__max_features=auto, model__min_samples_leaf=2, model__min_samples_split=2, model__n_estimators=200, preprocessing__num__imputer__strategy=median, total=   0.6s\n",
      "[CV] model__max_depth=10, model__max_features=auto, model__min_samples_leaf=2, model__min_samples_split=2, model__n_estimators=200, preprocessing__num__imputer__strategy=median \n",
      "[CV]  model__max_depth=10, model__max_features=auto, model__min_samples_leaf=2, model__min_samples_split=2, model__n_estimators=200, preprocessing__num__imputer__strategy=median, total=   0.8s\n",
      "[CV] model__max_depth=10, model__max_features=auto, model__min_samples_leaf=2, model__min_samples_split=2, model__n_estimators=200, preprocessing__num__imputer__strategy=median \n",
      "[CV]  model__max_depth=10, model__max_features=auto, model__min_samples_leaf=2, model__min_samples_split=2, model__n_estimators=200, preprocessing__num__imputer__strategy=median, total=   0.7s\n",
      "[CV] model__max_depth=10, model__max_features=auto, model__min_samples_leaf=2, model__min_samples_split=2, model__n_estimators=500, preprocessing__num__imputer__strategy=mean \n",
      "[CV]  model__max_depth=10, model__max_features=auto, model__min_samples_leaf=2, model__min_samples_split=2, model__n_estimators=500, preprocessing__num__imputer__strategy=mean, total=   1.4s\n",
      "[CV] model__max_depth=10, model__max_features=auto, model__min_samples_leaf=2, model__min_samples_split=2, model__n_estimators=500, preprocessing__num__imputer__strategy=mean \n",
      "[CV]  model__max_depth=10, model__max_features=auto, model__min_samples_leaf=2, model__min_samples_split=2, model__n_estimators=500, preprocessing__num__imputer__strategy=mean, total=   1.0s\n",
      "[CV] model__max_depth=10, model__max_features=auto, model__min_samples_leaf=2, model__min_samples_split=2, model__n_estimators=500, preprocessing__num__imputer__strategy=mean \n",
      "[CV]  model__max_depth=10, model__max_features=auto, model__min_samples_leaf=2, model__min_samples_split=2, model__n_estimators=500, preprocessing__num__imputer__strategy=mean, total=   1.0s\n",
      "[CV] model__max_depth=10, model__max_features=auto, model__min_samples_leaf=2, model__min_samples_split=2, model__n_estimators=500, preprocessing__num__imputer__strategy=mean \n",
      "[CV]  model__max_depth=10, model__max_features=auto, model__min_samples_leaf=2, model__min_samples_split=2, model__n_estimators=500, preprocessing__num__imputer__strategy=mean, total=   1.0s\n",
      "[CV] model__max_depth=10, model__max_features=auto, model__min_samples_leaf=2, model__min_samples_split=2, model__n_estimators=500, preprocessing__num__imputer__strategy=mean \n",
      "[CV]  model__max_depth=10, model__max_features=auto, model__min_samples_leaf=2, model__min_samples_split=2, model__n_estimators=500, preprocessing__num__imputer__strategy=mean, total=   0.9s\n",
      "[CV] model__max_depth=10, model__max_features=auto, model__min_samples_leaf=2, model__min_samples_split=2, model__n_estimators=500, preprocessing__num__imputer__strategy=median \n",
      "[CV]  model__max_depth=10, model__max_features=auto, model__min_samples_leaf=2, model__min_samples_split=2, model__n_estimators=500, preprocessing__num__imputer__strategy=median, total=   1.0s\n",
      "[CV] model__max_depth=10, model__max_features=auto, model__min_samples_leaf=2, model__min_samples_split=2, model__n_estimators=500, preprocessing__num__imputer__strategy=median \n",
      "[CV]  model__max_depth=10, model__max_features=auto, model__min_samples_leaf=2, model__min_samples_split=2, model__n_estimators=500, preprocessing__num__imputer__strategy=median, total=   1.1s\n",
      "[CV] model__max_depth=10, model__max_features=auto, model__min_samples_leaf=2, model__min_samples_split=2, model__n_estimators=500, preprocessing__num__imputer__strategy=median \n",
      "[CV]  model__max_depth=10, model__max_features=auto, model__min_samples_leaf=2, model__min_samples_split=2, model__n_estimators=500, preprocessing__num__imputer__strategy=median, total=   1.9s\n",
      "[CV] model__max_depth=10, model__max_features=auto, model__min_samples_leaf=2, model__min_samples_split=2, model__n_estimators=500, preprocessing__num__imputer__strategy=median \n",
      "[CV]  model__max_depth=10, model__max_features=auto, model__min_samples_leaf=2, model__min_samples_split=2, model__n_estimators=500, preprocessing__num__imputer__strategy=median, total=   3.8s\n",
      "[CV] model__max_depth=10, model__max_features=auto, model__min_samples_leaf=2, model__min_samples_split=2, model__n_estimators=500, preprocessing__num__imputer__strategy=median \n",
      "[CV]  model__max_depth=10, model__max_features=auto, model__min_samples_leaf=2, model__min_samples_split=2, model__n_estimators=500, preprocessing__num__imputer__strategy=median, total=   1.3s\n",
      "[CV] model__max_depth=10, model__max_features=auto, model__min_samples_leaf=2, model__min_samples_split=4, model__n_estimators=100, preprocessing__num__imputer__strategy=mean \n",
      "[CV]  model__max_depth=10, model__max_features=auto, model__min_samples_leaf=2, model__min_samples_split=4, model__n_estimators=100, preprocessing__num__imputer__strategy=mean, total=   0.2s\n",
      "[CV] model__max_depth=10, model__max_features=auto, model__min_samples_leaf=2, model__min_samples_split=4, model__n_estimators=100, preprocessing__num__imputer__strategy=mean \n",
      "[CV]  model__max_depth=10, model__max_features=auto, model__min_samples_leaf=2, model__min_samples_split=4, model__n_estimators=100, preprocessing__num__imputer__strategy=mean, total=   0.3s\n",
      "[CV] model__max_depth=10, model__max_features=auto, model__min_samples_leaf=2, model__min_samples_split=4, model__n_estimators=100, preprocessing__num__imputer__strategy=mean \n",
      "[CV]  model__max_depth=10, model__max_features=auto, model__min_samples_leaf=2, model__min_samples_split=4, model__n_estimators=100, preprocessing__num__imputer__strategy=mean, total=   0.2s\n",
      "[CV] model__max_depth=10, model__max_features=auto, model__min_samples_leaf=2, model__min_samples_split=4, model__n_estimators=100, preprocessing__num__imputer__strategy=mean \n"
     ]
    },
    {
     "name": "stdout",
     "output_type": "stream",
     "text": [
      "[CV]  model__max_depth=10, model__max_features=auto, model__min_samples_leaf=2, model__min_samples_split=4, model__n_estimators=100, preprocessing__num__imputer__strategy=mean, total=   0.3s\n",
      "[CV] model__max_depth=10, model__max_features=auto, model__min_samples_leaf=2, model__min_samples_split=4, model__n_estimators=100, preprocessing__num__imputer__strategy=mean \n",
      "[CV]  model__max_depth=10, model__max_features=auto, model__min_samples_leaf=2, model__min_samples_split=4, model__n_estimators=100, preprocessing__num__imputer__strategy=mean, total=   0.3s\n",
      "[CV] model__max_depth=10, model__max_features=auto, model__min_samples_leaf=2, model__min_samples_split=4, model__n_estimators=100, preprocessing__num__imputer__strategy=median \n",
      "[CV]  model__max_depth=10, model__max_features=auto, model__min_samples_leaf=2, model__min_samples_split=4, model__n_estimators=100, preprocessing__num__imputer__strategy=median, total=   0.3s\n",
      "[CV] model__max_depth=10, model__max_features=auto, model__min_samples_leaf=2, model__min_samples_split=4, model__n_estimators=100, preprocessing__num__imputer__strategy=median \n",
      "[CV]  model__max_depth=10, model__max_features=auto, model__min_samples_leaf=2, model__min_samples_split=4, model__n_estimators=100, preprocessing__num__imputer__strategy=median, total=   1.0s\n",
      "[CV] model__max_depth=10, model__max_features=auto, model__min_samples_leaf=2, model__min_samples_split=4, model__n_estimators=100, preprocessing__num__imputer__strategy=median \n",
      "[CV]  model__max_depth=10, model__max_features=auto, model__min_samples_leaf=2, model__min_samples_split=4, model__n_estimators=100, preprocessing__num__imputer__strategy=median, total=   0.8s\n",
      "[CV] model__max_depth=10, model__max_features=auto, model__min_samples_leaf=2, model__min_samples_split=4, model__n_estimators=100, preprocessing__num__imputer__strategy=median \n",
      "[CV]  model__max_depth=10, model__max_features=auto, model__min_samples_leaf=2, model__min_samples_split=4, model__n_estimators=100, preprocessing__num__imputer__strategy=median, total=   0.5s\n",
      "[CV] model__max_depth=10, model__max_features=auto, model__min_samples_leaf=2, model__min_samples_split=4, model__n_estimators=100, preprocessing__num__imputer__strategy=median \n",
      "[CV]  model__max_depth=10, model__max_features=auto, model__min_samples_leaf=2, model__min_samples_split=4, model__n_estimators=100, preprocessing__num__imputer__strategy=median, total=   0.6s\n",
      "[CV] model__max_depth=10, model__max_features=auto, model__min_samples_leaf=2, model__min_samples_split=4, model__n_estimators=200, preprocessing__num__imputer__strategy=mean \n",
      "[CV]  model__max_depth=10, model__max_features=auto, model__min_samples_leaf=2, model__min_samples_split=4, model__n_estimators=200, preprocessing__num__imputer__strategy=mean, total=   0.9s\n",
      "[CV] model__max_depth=10, model__max_features=auto, model__min_samples_leaf=2, model__min_samples_split=4, model__n_estimators=200, preprocessing__num__imputer__strategy=mean \n",
      "[CV]  model__max_depth=10, model__max_features=auto, model__min_samples_leaf=2, model__min_samples_split=4, model__n_estimators=200, preprocessing__num__imputer__strategy=mean, total=   1.2s\n",
      "[CV] model__max_depth=10, model__max_features=auto, model__min_samples_leaf=2, model__min_samples_split=4, model__n_estimators=200, preprocessing__num__imputer__strategy=mean \n",
      "[CV]  model__max_depth=10, model__max_features=auto, model__min_samples_leaf=2, model__min_samples_split=4, model__n_estimators=200, preprocessing__num__imputer__strategy=mean, total=   1.0s\n",
      "[CV] model__max_depth=10, model__max_features=auto, model__min_samples_leaf=2, model__min_samples_split=4, model__n_estimators=200, preprocessing__num__imputer__strategy=mean \n",
      "[CV]  model__max_depth=10, model__max_features=auto, model__min_samples_leaf=2, model__min_samples_split=4, model__n_estimators=200, preprocessing__num__imputer__strategy=mean, total=   1.0s\n",
      "[CV] model__max_depth=10, model__max_features=auto, model__min_samples_leaf=2, model__min_samples_split=4, model__n_estimators=200, preprocessing__num__imputer__strategy=mean \n",
      "[CV]  model__max_depth=10, model__max_features=auto, model__min_samples_leaf=2, model__min_samples_split=4, model__n_estimators=200, preprocessing__num__imputer__strategy=mean, total=   1.3s\n",
      "[CV] model__max_depth=10, model__max_features=auto, model__min_samples_leaf=2, model__min_samples_split=4, model__n_estimators=200, preprocessing__num__imputer__strategy=median \n",
      "[CV]  model__max_depth=10, model__max_features=auto, model__min_samples_leaf=2, model__min_samples_split=4, model__n_estimators=200, preprocessing__num__imputer__strategy=median, total=   1.2s\n",
      "[CV] model__max_depth=10, model__max_features=auto, model__min_samples_leaf=2, model__min_samples_split=4, model__n_estimators=200, preprocessing__num__imputer__strategy=median \n",
      "[CV]  model__max_depth=10, model__max_features=auto, model__min_samples_leaf=2, model__min_samples_split=4, model__n_estimators=200, preprocessing__num__imputer__strategy=median, total=   0.9s\n",
      "[CV] model__max_depth=10, model__max_features=auto, model__min_samples_leaf=2, model__min_samples_split=4, model__n_estimators=200, preprocessing__num__imputer__strategy=median \n",
      "[CV]  model__max_depth=10, model__max_features=auto, model__min_samples_leaf=2, model__min_samples_split=4, model__n_estimators=200, preprocessing__num__imputer__strategy=median, total=   0.6s\n",
      "[CV] model__max_depth=10, model__max_features=auto, model__min_samples_leaf=2, model__min_samples_split=4, model__n_estimators=200, preprocessing__num__imputer__strategy=median \n",
      "[CV]  model__max_depth=10, model__max_features=auto, model__min_samples_leaf=2, model__min_samples_split=4, model__n_estimators=200, preprocessing__num__imputer__strategy=median, total=   0.5s\n",
      "[CV] model__max_depth=10, model__max_features=auto, model__min_samples_leaf=2, model__min_samples_split=4, model__n_estimators=200, preprocessing__num__imputer__strategy=median \n",
      "[CV]  model__max_depth=10, model__max_features=auto, model__min_samples_leaf=2, model__min_samples_split=4, model__n_estimators=200, preprocessing__num__imputer__strategy=median, total=   0.6s\n",
      "[CV] model__max_depth=10, model__max_features=auto, model__min_samples_leaf=2, model__min_samples_split=4, model__n_estimators=500, preprocessing__num__imputer__strategy=mean \n",
      "[CV]  model__max_depth=10, model__max_features=auto, model__min_samples_leaf=2, model__min_samples_split=4, model__n_estimators=500, preprocessing__num__imputer__strategy=mean, total=   2.3s\n",
      "[CV] model__max_depth=10, model__max_features=auto, model__min_samples_leaf=2, model__min_samples_split=4, model__n_estimators=500, preprocessing__num__imputer__strategy=mean \n",
      "[CV]  model__max_depth=10, model__max_features=auto, model__min_samples_leaf=2, model__min_samples_split=4, model__n_estimators=500, preprocessing__num__imputer__strategy=mean, total=   1.8s\n",
      "[CV] model__max_depth=10, model__max_features=auto, model__min_samples_leaf=2, model__min_samples_split=4, model__n_estimators=500, preprocessing__num__imputer__strategy=mean \n",
      "[CV]  model__max_depth=10, model__max_features=auto, model__min_samples_leaf=2, model__min_samples_split=4, model__n_estimators=500, preprocessing__num__imputer__strategy=mean, total=   2.0s\n",
      "[CV] model__max_depth=10, model__max_features=auto, model__min_samples_leaf=2, model__min_samples_split=4, model__n_estimators=500, preprocessing__num__imputer__strategy=mean \n",
      "[CV]  model__max_depth=10, model__max_features=auto, model__min_samples_leaf=2, model__min_samples_split=4, model__n_estimators=500, preprocessing__num__imputer__strategy=mean, total=   1.2s\n",
      "[CV] model__max_depth=10, model__max_features=auto, model__min_samples_leaf=2, model__min_samples_split=4, model__n_estimators=500, preprocessing__num__imputer__strategy=mean \n",
      "[CV]  model__max_depth=10, model__max_features=auto, model__min_samples_leaf=2, model__min_samples_split=4, model__n_estimators=500, preprocessing__num__imputer__strategy=mean, total=   1.8s\n",
      "[CV] model__max_depth=10, model__max_features=auto, model__min_samples_leaf=2, model__min_samples_split=4, model__n_estimators=500, preprocessing__num__imputer__strategy=median \n",
      "[CV]  model__max_depth=10, model__max_features=auto, model__min_samples_leaf=2, model__min_samples_split=4, model__n_estimators=500, preprocessing__num__imputer__strategy=median, total=   1.8s\n",
      "[CV] model__max_depth=10, model__max_features=auto, model__min_samples_leaf=2, model__min_samples_split=4, model__n_estimators=500, preprocessing__num__imputer__strategy=median \n"
     ]
    },
    {
     "name": "stdout",
     "output_type": "stream",
     "text": [
      "[CV]  model__max_depth=10, model__max_features=auto, model__min_samples_leaf=2, model__min_samples_split=4, model__n_estimators=500, preprocessing__num__imputer__strategy=median, total=   0.9s\n",
      "[CV] model__max_depth=10, model__max_features=auto, model__min_samples_leaf=2, model__min_samples_split=4, model__n_estimators=500, preprocessing__num__imputer__strategy=median \n",
      "[CV]  model__max_depth=10, model__max_features=auto, model__min_samples_leaf=2, model__min_samples_split=4, model__n_estimators=500, preprocessing__num__imputer__strategy=median, total=   0.9s\n",
      "[CV] model__max_depth=10, model__max_features=auto, model__min_samples_leaf=2, model__min_samples_split=4, model__n_estimators=500, preprocessing__num__imputer__strategy=median \n",
      "[CV]  model__max_depth=10, model__max_features=auto, model__min_samples_leaf=2, model__min_samples_split=4, model__n_estimators=500, preprocessing__num__imputer__strategy=median, total=   0.9s\n",
      "[CV] model__max_depth=10, model__max_features=auto, model__min_samples_leaf=2, model__min_samples_split=4, model__n_estimators=500, preprocessing__num__imputer__strategy=median \n",
      "[CV]  model__max_depth=10, model__max_features=auto, model__min_samples_leaf=2, model__min_samples_split=4, model__n_estimators=500, preprocessing__num__imputer__strategy=median, total=   0.8s\n",
      "[CV] model__max_depth=10, model__max_features=sqrt, model__min_samples_leaf=1, model__min_samples_split=2, model__n_estimators=100, preprocessing__num__imputer__strategy=mean \n",
      "[CV]  model__max_depth=10, model__max_features=sqrt, model__min_samples_leaf=1, model__min_samples_split=2, model__n_estimators=100, preprocessing__num__imputer__strategy=mean, total=   0.2s\n",
      "[CV] model__max_depth=10, model__max_features=sqrt, model__min_samples_leaf=1, model__min_samples_split=2, model__n_estimators=100, preprocessing__num__imputer__strategy=mean \n",
      "[CV]  model__max_depth=10, model__max_features=sqrt, model__min_samples_leaf=1, model__min_samples_split=2, model__n_estimators=100, preprocessing__num__imputer__strategy=mean, total=   0.2s\n",
      "[CV] model__max_depth=10, model__max_features=sqrt, model__min_samples_leaf=1, model__min_samples_split=2, model__n_estimators=100, preprocessing__num__imputer__strategy=mean \n",
      "[CV]  model__max_depth=10, model__max_features=sqrt, model__min_samples_leaf=1, model__min_samples_split=2, model__n_estimators=100, preprocessing__num__imputer__strategy=mean, total=   0.3s\n",
      "[CV] model__max_depth=10, model__max_features=sqrt, model__min_samples_leaf=1, model__min_samples_split=2, model__n_estimators=100, preprocessing__num__imputer__strategy=mean \n",
      "[CV]  model__max_depth=10, model__max_features=sqrt, model__min_samples_leaf=1, model__min_samples_split=2, model__n_estimators=100, preprocessing__num__imputer__strategy=mean, total=   0.4s\n",
      "[CV] model__max_depth=10, model__max_features=sqrt, model__min_samples_leaf=1, model__min_samples_split=2, model__n_estimators=100, preprocessing__num__imputer__strategy=mean \n",
      "[CV]  model__max_depth=10, model__max_features=sqrt, model__min_samples_leaf=1, model__min_samples_split=2, model__n_estimators=100, preprocessing__num__imputer__strategy=mean, total=   0.4s\n",
      "[CV] model__max_depth=10, model__max_features=sqrt, model__min_samples_leaf=1, model__min_samples_split=2, model__n_estimators=100, preprocessing__num__imputer__strategy=median \n",
      "[CV]  model__max_depth=10, model__max_features=sqrt, model__min_samples_leaf=1, model__min_samples_split=2, model__n_estimators=100, preprocessing__num__imputer__strategy=median, total=   0.3s\n",
      "[CV] model__max_depth=10, model__max_features=sqrt, model__min_samples_leaf=1, model__min_samples_split=2, model__n_estimators=100, preprocessing__num__imputer__strategy=median \n",
      "[CV]  model__max_depth=10, model__max_features=sqrt, model__min_samples_leaf=1, model__min_samples_split=2, model__n_estimators=100, preprocessing__num__imputer__strategy=median, total=   0.2s\n",
      "[CV] model__max_depth=10, model__max_features=sqrt, model__min_samples_leaf=1, model__min_samples_split=2, model__n_estimators=100, preprocessing__num__imputer__strategy=median \n",
      "[CV]  model__max_depth=10, model__max_features=sqrt, model__min_samples_leaf=1, model__min_samples_split=2, model__n_estimators=100, preprocessing__num__imputer__strategy=median, total=   0.2s\n",
      "[CV] model__max_depth=10, model__max_features=sqrt, model__min_samples_leaf=1, model__min_samples_split=2, model__n_estimators=100, preprocessing__num__imputer__strategy=median \n",
      "[CV]  model__max_depth=10, model__max_features=sqrt, model__min_samples_leaf=1, model__min_samples_split=2, model__n_estimators=100, preprocessing__num__imputer__strategy=median, total=   0.2s\n",
      "[CV] model__max_depth=10, model__max_features=sqrt, model__min_samples_leaf=1, model__min_samples_split=2, model__n_estimators=100, preprocessing__num__imputer__strategy=median \n",
      "[CV]  model__max_depth=10, model__max_features=sqrt, model__min_samples_leaf=1, model__min_samples_split=2, model__n_estimators=100, preprocessing__num__imputer__strategy=median, total=   0.2s\n",
      "[CV] model__max_depth=10, model__max_features=sqrt, model__min_samples_leaf=1, model__min_samples_split=2, model__n_estimators=200, preprocessing__num__imputer__strategy=mean \n",
      "[CV]  model__max_depth=10, model__max_features=sqrt, model__min_samples_leaf=1, model__min_samples_split=2, model__n_estimators=200, preprocessing__num__imputer__strategy=mean, total=   0.4s\n",
      "[CV] model__max_depth=10, model__max_features=sqrt, model__min_samples_leaf=1, model__min_samples_split=2, model__n_estimators=200, preprocessing__num__imputer__strategy=mean \n",
      "[CV]  model__max_depth=10, model__max_features=sqrt, model__min_samples_leaf=1, model__min_samples_split=2, model__n_estimators=200, preprocessing__num__imputer__strategy=mean, total=   0.6s\n",
      "[CV] model__max_depth=10, model__max_features=sqrt, model__min_samples_leaf=1, model__min_samples_split=2, model__n_estimators=200, preprocessing__num__imputer__strategy=mean \n",
      "[CV]  model__max_depth=10, model__max_features=sqrt, model__min_samples_leaf=1, model__min_samples_split=2, model__n_estimators=200, preprocessing__num__imputer__strategy=mean, total=   0.6s\n",
      "[CV] model__max_depth=10, model__max_features=sqrt, model__min_samples_leaf=1, model__min_samples_split=2, model__n_estimators=200, preprocessing__num__imputer__strategy=mean \n",
      "[CV]  model__max_depth=10, model__max_features=sqrt, model__min_samples_leaf=1, model__min_samples_split=2, model__n_estimators=200, preprocessing__num__imputer__strategy=mean, total=   0.4s\n",
      "[CV] model__max_depth=10, model__max_features=sqrt, model__min_samples_leaf=1, model__min_samples_split=2, model__n_estimators=200, preprocessing__num__imputer__strategy=mean \n",
      "[CV]  model__max_depth=10, model__max_features=sqrt, model__min_samples_leaf=1, model__min_samples_split=2, model__n_estimators=200, preprocessing__num__imputer__strategy=mean, total=   0.4s\n",
      "[CV] model__max_depth=10, model__max_features=sqrt, model__min_samples_leaf=1, model__min_samples_split=2, model__n_estimators=200, preprocessing__num__imputer__strategy=median \n",
      "[CV]  model__max_depth=10, model__max_features=sqrt, model__min_samples_leaf=1, model__min_samples_split=2, model__n_estimators=200, preprocessing__num__imputer__strategy=median, total=   0.4s\n",
      "[CV] model__max_depth=10, model__max_features=sqrt, model__min_samples_leaf=1, model__min_samples_split=2, model__n_estimators=200, preprocessing__num__imputer__strategy=median \n",
      "[CV]  model__max_depth=10, model__max_features=sqrt, model__min_samples_leaf=1, model__min_samples_split=2, model__n_estimators=200, preprocessing__num__imputer__strategy=median, total=   0.3s\n",
      "[CV] model__max_depth=10, model__max_features=sqrt, model__min_samples_leaf=1, model__min_samples_split=2, model__n_estimators=200, preprocessing__num__imputer__strategy=median \n",
      "[CV]  model__max_depth=10, model__max_features=sqrt, model__min_samples_leaf=1, model__min_samples_split=2, model__n_estimators=200, preprocessing__num__imputer__strategy=median, total=   0.4s\n",
      "[CV] model__max_depth=10, model__max_features=sqrt, model__min_samples_leaf=1, model__min_samples_split=2, model__n_estimators=200, preprocessing__num__imputer__strategy=median \n",
      "[CV]  model__max_depth=10, model__max_features=sqrt, model__min_samples_leaf=1, model__min_samples_split=2, model__n_estimators=200, preprocessing__num__imputer__strategy=median, total=   0.3s\n",
      "[CV] model__max_depth=10, model__max_features=sqrt, model__min_samples_leaf=1, model__min_samples_split=2, model__n_estimators=200, preprocessing__num__imputer__strategy=median \n"
     ]
    },
    {
     "name": "stdout",
     "output_type": "stream",
     "text": [
      "[CV]  model__max_depth=10, model__max_features=sqrt, model__min_samples_leaf=1, model__min_samples_split=2, model__n_estimators=200, preprocessing__num__imputer__strategy=median, total=   0.3s\n",
      "[CV] model__max_depth=10, model__max_features=sqrt, model__min_samples_leaf=1, model__min_samples_split=2, model__n_estimators=500, preprocessing__num__imputer__strategy=mean \n",
      "[CV]  model__max_depth=10, model__max_features=sqrt, model__min_samples_leaf=1, model__min_samples_split=2, model__n_estimators=500, preprocessing__num__imputer__strategy=mean, total=   0.8s\n",
      "[CV] model__max_depth=10, model__max_features=sqrt, model__min_samples_leaf=1, model__min_samples_split=2, model__n_estimators=500, preprocessing__num__imputer__strategy=mean \n",
      "[CV]  model__max_depth=10, model__max_features=sqrt, model__min_samples_leaf=1, model__min_samples_split=2, model__n_estimators=500, preprocessing__num__imputer__strategy=mean, total=   0.8s\n",
      "[CV] model__max_depth=10, model__max_features=sqrt, model__min_samples_leaf=1, model__min_samples_split=2, model__n_estimators=500, preprocessing__num__imputer__strategy=mean \n",
      "[CV]  model__max_depth=10, model__max_features=sqrt, model__min_samples_leaf=1, model__min_samples_split=2, model__n_estimators=500, preprocessing__num__imputer__strategy=mean, total=   0.8s\n",
      "[CV] model__max_depth=10, model__max_features=sqrt, model__min_samples_leaf=1, model__min_samples_split=2, model__n_estimators=500, preprocessing__num__imputer__strategy=mean \n",
      "[CV]  model__max_depth=10, model__max_features=sqrt, model__min_samples_leaf=1, model__min_samples_split=2, model__n_estimators=500, preprocessing__num__imputer__strategy=mean, total=   0.8s\n",
      "[CV] model__max_depth=10, model__max_features=sqrt, model__min_samples_leaf=1, model__min_samples_split=2, model__n_estimators=500, preprocessing__num__imputer__strategy=mean \n",
      "[CV]  model__max_depth=10, model__max_features=sqrt, model__min_samples_leaf=1, model__min_samples_split=2, model__n_estimators=500, preprocessing__num__imputer__strategy=mean, total=   1.1s\n",
      "[CV] model__max_depth=10, model__max_features=sqrt, model__min_samples_leaf=1, model__min_samples_split=2, model__n_estimators=500, preprocessing__num__imputer__strategy=median \n",
      "[CV]  model__max_depth=10, model__max_features=sqrt, model__min_samples_leaf=1, model__min_samples_split=2, model__n_estimators=500, preprocessing__num__imputer__strategy=median, total=   1.1s\n",
      "[CV] model__max_depth=10, model__max_features=sqrt, model__min_samples_leaf=1, model__min_samples_split=2, model__n_estimators=500, preprocessing__num__imputer__strategy=median \n",
      "[CV]  model__max_depth=10, model__max_features=sqrt, model__min_samples_leaf=1, model__min_samples_split=2, model__n_estimators=500, preprocessing__num__imputer__strategy=median, total=   1.3s\n",
      "[CV] model__max_depth=10, model__max_features=sqrt, model__min_samples_leaf=1, model__min_samples_split=2, model__n_estimators=500, preprocessing__num__imputer__strategy=median \n",
      "[CV]  model__max_depth=10, model__max_features=sqrt, model__min_samples_leaf=1, model__min_samples_split=2, model__n_estimators=500, preprocessing__num__imputer__strategy=median, total=   1.4s\n",
      "[CV] model__max_depth=10, model__max_features=sqrt, model__min_samples_leaf=1, model__min_samples_split=2, model__n_estimators=500, preprocessing__num__imputer__strategy=median \n",
      "[CV]  model__max_depth=10, model__max_features=sqrt, model__min_samples_leaf=1, model__min_samples_split=2, model__n_estimators=500, preprocessing__num__imputer__strategy=median, total=   1.0s\n",
      "[CV] model__max_depth=10, model__max_features=sqrt, model__min_samples_leaf=1, model__min_samples_split=2, model__n_estimators=500, preprocessing__num__imputer__strategy=median \n",
      "[CV]  model__max_depth=10, model__max_features=sqrt, model__min_samples_leaf=1, model__min_samples_split=2, model__n_estimators=500, preprocessing__num__imputer__strategy=median, total=   1.0s\n",
      "[CV] model__max_depth=10, model__max_features=sqrt, model__min_samples_leaf=1, model__min_samples_split=4, model__n_estimators=100, preprocessing__num__imputer__strategy=mean \n",
      "[CV]  model__max_depth=10, model__max_features=sqrt, model__min_samples_leaf=1, model__min_samples_split=4, model__n_estimators=100, preprocessing__num__imputer__strategy=mean, total=   0.2s\n",
      "[CV] model__max_depth=10, model__max_features=sqrt, model__min_samples_leaf=1, model__min_samples_split=4, model__n_estimators=100, preprocessing__num__imputer__strategy=mean \n",
      "[CV]  model__max_depth=10, model__max_features=sqrt, model__min_samples_leaf=1, model__min_samples_split=4, model__n_estimators=100, preprocessing__num__imputer__strategy=mean, total=   0.2s\n",
      "[CV] model__max_depth=10, model__max_features=sqrt, model__min_samples_leaf=1, model__min_samples_split=4, model__n_estimators=100, preprocessing__num__imputer__strategy=mean \n",
      "[CV]  model__max_depth=10, model__max_features=sqrt, model__min_samples_leaf=1, model__min_samples_split=4, model__n_estimators=100, preprocessing__num__imputer__strategy=mean, total=   0.2s\n",
      "[CV] model__max_depth=10, model__max_features=sqrt, model__min_samples_leaf=1, model__min_samples_split=4, model__n_estimators=100, preprocessing__num__imputer__strategy=mean \n",
      "[CV]  model__max_depth=10, model__max_features=sqrt, model__min_samples_leaf=1, model__min_samples_split=4, model__n_estimators=100, preprocessing__num__imputer__strategy=mean, total=   0.2s\n",
      "[CV] model__max_depth=10, model__max_features=sqrt, model__min_samples_leaf=1, model__min_samples_split=4, model__n_estimators=100, preprocessing__num__imputer__strategy=mean \n",
      "[CV]  model__max_depth=10, model__max_features=sqrt, model__min_samples_leaf=1, model__min_samples_split=4, model__n_estimators=100, preprocessing__num__imputer__strategy=mean, total=   0.2s\n",
      "[CV] model__max_depth=10, model__max_features=sqrt, model__min_samples_leaf=1, model__min_samples_split=4, model__n_estimators=100, preprocessing__num__imputer__strategy=median \n",
      "[CV]  model__max_depth=10, model__max_features=sqrt, model__min_samples_leaf=1, model__min_samples_split=4, model__n_estimators=100, preprocessing__num__imputer__strategy=median, total=   0.2s\n",
      "[CV] model__max_depth=10, model__max_features=sqrt, model__min_samples_leaf=1, model__min_samples_split=4, model__n_estimators=100, preprocessing__num__imputer__strategy=median \n",
      "[CV]  model__max_depth=10, model__max_features=sqrt, model__min_samples_leaf=1, model__min_samples_split=4, model__n_estimators=100, preprocessing__num__imputer__strategy=median, total=   0.2s\n",
      "[CV] model__max_depth=10, model__max_features=sqrt, model__min_samples_leaf=1, model__min_samples_split=4, model__n_estimators=100, preprocessing__num__imputer__strategy=median \n",
      "[CV]  model__max_depth=10, model__max_features=sqrt, model__min_samples_leaf=1, model__min_samples_split=4, model__n_estimators=100, preprocessing__num__imputer__strategy=median, total=   0.2s\n",
      "[CV] model__max_depth=10, model__max_features=sqrt, model__min_samples_leaf=1, model__min_samples_split=4, model__n_estimators=100, preprocessing__num__imputer__strategy=median \n",
      "[CV]  model__max_depth=10, model__max_features=sqrt, model__min_samples_leaf=1, model__min_samples_split=4, model__n_estimators=100, preprocessing__num__imputer__strategy=median, total=   0.2s\n",
      "[CV] model__max_depth=10, model__max_features=sqrt, model__min_samples_leaf=1, model__min_samples_split=4, model__n_estimators=100, preprocessing__num__imputer__strategy=median \n",
      "[CV]  model__max_depth=10, model__max_features=sqrt, model__min_samples_leaf=1, model__min_samples_split=4, model__n_estimators=100, preprocessing__num__imputer__strategy=median, total=   0.2s\n",
      "[CV] model__max_depth=10, model__max_features=sqrt, model__min_samples_leaf=1, model__min_samples_split=4, model__n_estimators=200, preprocessing__num__imputer__strategy=mean \n",
      "[CV]  model__max_depth=10, model__max_features=sqrt, model__min_samples_leaf=1, model__min_samples_split=4, model__n_estimators=200, preprocessing__num__imputer__strategy=mean, total=   0.4s\n",
      "[CV] model__max_depth=10, model__max_features=sqrt, model__min_samples_leaf=1, model__min_samples_split=4, model__n_estimators=200, preprocessing__num__imputer__strategy=mean \n",
      "[CV]  model__max_depth=10, model__max_features=sqrt, model__min_samples_leaf=1, model__min_samples_split=4, model__n_estimators=200, preprocessing__num__imputer__strategy=mean, total=   0.4s\n",
      "[CV] model__max_depth=10, model__max_features=sqrt, model__min_samples_leaf=1, model__min_samples_split=4, model__n_estimators=200, preprocessing__num__imputer__strategy=mean \n"
     ]
    },
    {
     "name": "stdout",
     "output_type": "stream",
     "text": [
      "[CV]  model__max_depth=10, model__max_features=sqrt, model__min_samples_leaf=1, model__min_samples_split=4, model__n_estimators=200, preprocessing__num__imputer__strategy=mean, total=   0.3s\n",
      "[CV] model__max_depth=10, model__max_features=sqrt, model__min_samples_leaf=1, model__min_samples_split=4, model__n_estimators=200, preprocessing__num__imputer__strategy=mean \n",
      "[CV]  model__max_depth=10, model__max_features=sqrt, model__min_samples_leaf=1, model__min_samples_split=4, model__n_estimators=200, preprocessing__num__imputer__strategy=mean, total=   0.4s\n",
      "[CV] model__max_depth=10, model__max_features=sqrt, model__min_samples_leaf=1, model__min_samples_split=4, model__n_estimators=200, preprocessing__num__imputer__strategy=mean \n",
      "[CV]  model__max_depth=10, model__max_features=sqrt, model__min_samples_leaf=1, model__min_samples_split=4, model__n_estimators=200, preprocessing__num__imputer__strategy=mean, total=   0.9s\n",
      "[CV] model__max_depth=10, model__max_features=sqrt, model__min_samples_leaf=1, model__min_samples_split=4, model__n_estimators=200, preprocessing__num__imputer__strategy=median \n",
      "[CV]  model__max_depth=10, model__max_features=sqrt, model__min_samples_leaf=1, model__min_samples_split=4, model__n_estimators=200, preprocessing__num__imputer__strategy=median, total=   0.5s\n",
      "[CV] model__max_depth=10, model__max_features=sqrt, model__min_samples_leaf=1, model__min_samples_split=4, model__n_estimators=200, preprocessing__num__imputer__strategy=median \n",
      "[CV]  model__max_depth=10, model__max_features=sqrt, model__min_samples_leaf=1, model__min_samples_split=4, model__n_estimators=200, preprocessing__num__imputer__strategy=median, total=   0.6s\n",
      "[CV] model__max_depth=10, model__max_features=sqrt, model__min_samples_leaf=1, model__min_samples_split=4, model__n_estimators=200, preprocessing__num__imputer__strategy=median \n",
      "[CV]  model__max_depth=10, model__max_features=sqrt, model__min_samples_leaf=1, model__min_samples_split=4, model__n_estimators=200, preprocessing__num__imputer__strategy=median, total=   0.8s\n",
      "[CV] model__max_depth=10, model__max_features=sqrt, model__min_samples_leaf=1, model__min_samples_split=4, model__n_estimators=200, preprocessing__num__imputer__strategy=median \n",
      "[CV]  model__max_depth=10, model__max_features=sqrt, model__min_samples_leaf=1, model__min_samples_split=4, model__n_estimators=200, preprocessing__num__imputer__strategy=median, total=   0.4s\n",
      "[CV] model__max_depth=10, model__max_features=sqrt, model__min_samples_leaf=1, model__min_samples_split=4, model__n_estimators=200, preprocessing__num__imputer__strategy=median \n",
      "[CV]  model__max_depth=10, model__max_features=sqrt, model__min_samples_leaf=1, model__min_samples_split=4, model__n_estimators=200, preprocessing__num__imputer__strategy=median, total=   0.4s\n",
      "[CV] model__max_depth=10, model__max_features=sqrt, model__min_samples_leaf=1, model__min_samples_split=4, model__n_estimators=500, preprocessing__num__imputer__strategy=mean \n",
      "[CV]  model__max_depth=10, model__max_features=sqrt, model__min_samples_leaf=1, model__min_samples_split=4, model__n_estimators=500, preprocessing__num__imputer__strategy=mean, total=   1.0s\n",
      "[CV] model__max_depth=10, model__max_features=sqrt, model__min_samples_leaf=1, model__min_samples_split=4, model__n_estimators=500, preprocessing__num__imputer__strategy=mean \n",
      "[CV]  model__max_depth=10, model__max_features=sqrt, model__min_samples_leaf=1, model__min_samples_split=4, model__n_estimators=500, preprocessing__num__imputer__strategy=mean, total=   1.1s\n",
      "[CV] model__max_depth=10, model__max_features=sqrt, model__min_samples_leaf=1, model__min_samples_split=4, model__n_estimators=500, preprocessing__num__imputer__strategy=mean \n",
      "[CV]  model__max_depth=10, model__max_features=sqrt, model__min_samples_leaf=1, model__min_samples_split=4, model__n_estimators=500, preprocessing__num__imputer__strategy=mean, total=   1.4s\n",
      "[CV] model__max_depth=10, model__max_features=sqrt, model__min_samples_leaf=1, model__min_samples_split=4, model__n_estimators=500, preprocessing__num__imputer__strategy=mean \n",
      "[CV]  model__max_depth=10, model__max_features=sqrt, model__min_samples_leaf=1, model__min_samples_split=4, model__n_estimators=500, preprocessing__num__imputer__strategy=mean, total=   1.1s\n",
      "[CV] model__max_depth=10, model__max_features=sqrt, model__min_samples_leaf=1, model__min_samples_split=4, model__n_estimators=500, preprocessing__num__imputer__strategy=mean \n",
      "[CV]  model__max_depth=10, model__max_features=sqrt, model__min_samples_leaf=1, model__min_samples_split=4, model__n_estimators=500, preprocessing__num__imputer__strategy=mean, total=   0.9s\n",
      "[CV] model__max_depth=10, model__max_features=sqrt, model__min_samples_leaf=1, model__min_samples_split=4, model__n_estimators=500, preprocessing__num__imputer__strategy=median \n",
      "[CV]  model__max_depth=10, model__max_features=sqrt, model__min_samples_leaf=1, model__min_samples_split=4, model__n_estimators=500, preprocessing__num__imputer__strategy=median, total=   0.9s\n",
      "[CV] model__max_depth=10, model__max_features=sqrt, model__min_samples_leaf=1, model__min_samples_split=4, model__n_estimators=500, preprocessing__num__imputer__strategy=median \n",
      "[CV]  model__max_depth=10, model__max_features=sqrt, model__min_samples_leaf=1, model__min_samples_split=4, model__n_estimators=500, preprocessing__num__imputer__strategy=median, total=   1.0s\n",
      "[CV] model__max_depth=10, model__max_features=sqrt, model__min_samples_leaf=1, model__min_samples_split=4, model__n_estimators=500, preprocessing__num__imputer__strategy=median \n",
      "[CV]  model__max_depth=10, model__max_features=sqrt, model__min_samples_leaf=1, model__min_samples_split=4, model__n_estimators=500, preprocessing__num__imputer__strategy=median, total=   0.8s\n",
      "[CV] model__max_depth=10, model__max_features=sqrt, model__min_samples_leaf=1, model__min_samples_split=4, model__n_estimators=500, preprocessing__num__imputer__strategy=median \n",
      "[CV]  model__max_depth=10, model__max_features=sqrt, model__min_samples_leaf=1, model__min_samples_split=4, model__n_estimators=500, preprocessing__num__imputer__strategy=median, total=   0.8s\n",
      "[CV] model__max_depth=10, model__max_features=sqrt, model__min_samples_leaf=1, model__min_samples_split=4, model__n_estimators=500, preprocessing__num__imputer__strategy=median \n",
      "[CV]  model__max_depth=10, model__max_features=sqrt, model__min_samples_leaf=1, model__min_samples_split=4, model__n_estimators=500, preprocessing__num__imputer__strategy=median, total=   0.9s\n",
      "[CV] model__max_depth=10, model__max_features=sqrt, model__min_samples_leaf=2, model__min_samples_split=2, model__n_estimators=100, preprocessing__num__imputer__strategy=mean \n",
      "[CV]  model__max_depth=10, model__max_features=sqrt, model__min_samples_leaf=2, model__min_samples_split=2, model__n_estimators=100, preprocessing__num__imputer__strategy=mean, total=   0.2s\n",
      "[CV] model__max_depth=10, model__max_features=sqrt, model__min_samples_leaf=2, model__min_samples_split=2, model__n_estimators=100, preprocessing__num__imputer__strategy=mean \n",
      "[CV]  model__max_depth=10, model__max_features=sqrt, model__min_samples_leaf=2, model__min_samples_split=2, model__n_estimators=100, preprocessing__num__imputer__strategy=mean, total=   0.2s\n",
      "[CV] model__max_depth=10, model__max_features=sqrt, model__min_samples_leaf=2, model__min_samples_split=2, model__n_estimators=100, preprocessing__num__imputer__strategy=mean \n",
      "[CV]  model__max_depth=10, model__max_features=sqrt, model__min_samples_leaf=2, model__min_samples_split=2, model__n_estimators=100, preprocessing__num__imputer__strategy=mean, total=   0.2s\n",
      "[CV] model__max_depth=10, model__max_features=sqrt, model__min_samples_leaf=2, model__min_samples_split=2, model__n_estimators=100, preprocessing__num__imputer__strategy=mean \n",
      "[CV]  model__max_depth=10, model__max_features=sqrt, model__min_samples_leaf=2, model__min_samples_split=2, model__n_estimators=100, preprocessing__num__imputer__strategy=mean, total=   0.2s\n",
      "[CV] model__max_depth=10, model__max_features=sqrt, model__min_samples_leaf=2, model__min_samples_split=2, model__n_estimators=100, preprocessing__num__imputer__strategy=mean \n",
      "[CV]  model__max_depth=10, model__max_features=sqrt, model__min_samples_leaf=2, model__min_samples_split=2, model__n_estimators=100, preprocessing__num__imputer__strategy=mean, total=   0.3s\n",
      "[CV] model__max_depth=10, model__max_features=sqrt, model__min_samples_leaf=2, model__min_samples_split=2, model__n_estimators=100, preprocessing__num__imputer__strategy=median \n"
     ]
    },
    {
     "name": "stdout",
     "output_type": "stream",
     "text": [
      "[CV]  model__max_depth=10, model__max_features=sqrt, model__min_samples_leaf=2, model__min_samples_split=2, model__n_estimators=100, preprocessing__num__imputer__strategy=median, total=   0.2s\n",
      "[CV] model__max_depth=10, model__max_features=sqrt, model__min_samples_leaf=2, model__min_samples_split=2, model__n_estimators=100, preprocessing__num__imputer__strategy=median \n",
      "[CV]  model__max_depth=10, model__max_features=sqrt, model__min_samples_leaf=2, model__min_samples_split=2, model__n_estimators=100, preprocessing__num__imputer__strategy=median, total=   0.3s\n",
      "[CV] model__max_depth=10, model__max_features=sqrt, model__min_samples_leaf=2, model__min_samples_split=2, model__n_estimators=100, preprocessing__num__imputer__strategy=median \n",
      "[CV]  model__max_depth=10, model__max_features=sqrt, model__min_samples_leaf=2, model__min_samples_split=2, model__n_estimators=100, preprocessing__num__imputer__strategy=median, total=   0.3s\n",
      "[CV] model__max_depth=10, model__max_features=sqrt, model__min_samples_leaf=2, model__min_samples_split=2, model__n_estimators=100, preprocessing__num__imputer__strategy=median \n",
      "[CV]  model__max_depth=10, model__max_features=sqrt, model__min_samples_leaf=2, model__min_samples_split=2, model__n_estimators=100, preprocessing__num__imputer__strategy=median, total=   0.3s\n",
      "[CV] model__max_depth=10, model__max_features=sqrt, model__min_samples_leaf=2, model__min_samples_split=2, model__n_estimators=100, preprocessing__num__imputer__strategy=median \n",
      "[CV]  model__max_depth=10, model__max_features=sqrt, model__min_samples_leaf=2, model__min_samples_split=2, model__n_estimators=100, preprocessing__num__imputer__strategy=median, total=   0.2s\n",
      "[CV] model__max_depth=10, model__max_features=sqrt, model__min_samples_leaf=2, model__min_samples_split=2, model__n_estimators=200, preprocessing__num__imputer__strategy=mean \n",
      "[CV]  model__max_depth=10, model__max_features=sqrt, model__min_samples_leaf=2, model__min_samples_split=2, model__n_estimators=200, preprocessing__num__imputer__strategy=mean, total=   0.4s\n",
      "[CV] model__max_depth=10, model__max_features=sqrt, model__min_samples_leaf=2, model__min_samples_split=2, model__n_estimators=200, preprocessing__num__imputer__strategy=mean \n",
      "[CV]  model__max_depth=10, model__max_features=sqrt, model__min_samples_leaf=2, model__min_samples_split=2, model__n_estimators=200, preprocessing__num__imputer__strategy=mean, total=   0.4s\n",
      "[CV] model__max_depth=10, model__max_features=sqrt, model__min_samples_leaf=2, model__min_samples_split=2, model__n_estimators=200, preprocessing__num__imputer__strategy=mean \n",
      "[CV]  model__max_depth=10, model__max_features=sqrt, model__min_samples_leaf=2, model__min_samples_split=2, model__n_estimators=200, preprocessing__num__imputer__strategy=mean, total=   0.5s\n",
      "[CV] model__max_depth=10, model__max_features=sqrt, model__min_samples_leaf=2, model__min_samples_split=2, model__n_estimators=200, preprocessing__num__imputer__strategy=mean \n",
      "[CV]  model__max_depth=10, model__max_features=sqrt, model__min_samples_leaf=2, model__min_samples_split=2, model__n_estimators=200, preprocessing__num__imputer__strategy=mean, total=   0.4s\n",
      "[CV] model__max_depth=10, model__max_features=sqrt, model__min_samples_leaf=2, model__min_samples_split=2, model__n_estimators=200, preprocessing__num__imputer__strategy=mean \n",
      "[CV]  model__max_depth=10, model__max_features=sqrt, model__min_samples_leaf=2, model__min_samples_split=2, model__n_estimators=200, preprocessing__num__imputer__strategy=mean, total=   0.4s\n",
      "[CV] model__max_depth=10, model__max_features=sqrt, model__min_samples_leaf=2, model__min_samples_split=2, model__n_estimators=200, preprocessing__num__imputer__strategy=median \n",
      "[CV]  model__max_depth=10, model__max_features=sqrt, model__min_samples_leaf=2, model__min_samples_split=2, model__n_estimators=200, preprocessing__num__imputer__strategy=median, total=   1.1s\n",
      "[CV] model__max_depth=10, model__max_features=sqrt, model__min_samples_leaf=2, model__min_samples_split=2, model__n_estimators=200, preprocessing__num__imputer__strategy=median \n",
      "[CV]  model__max_depth=10, model__max_features=sqrt, model__min_samples_leaf=2, model__min_samples_split=2, model__n_estimators=200, preprocessing__num__imputer__strategy=median, total=   0.5s\n",
      "[CV] model__max_depth=10, model__max_features=sqrt, model__min_samples_leaf=2, model__min_samples_split=2, model__n_estimators=200, preprocessing__num__imputer__strategy=median \n",
      "[CV]  model__max_depth=10, model__max_features=sqrt, model__min_samples_leaf=2, model__min_samples_split=2, model__n_estimators=200, preprocessing__num__imputer__strategy=median, total=   0.4s\n",
      "[CV] model__max_depth=10, model__max_features=sqrt, model__min_samples_leaf=2, model__min_samples_split=2, model__n_estimators=200, preprocessing__num__imputer__strategy=median \n",
      "[CV]  model__max_depth=10, model__max_features=sqrt, model__min_samples_leaf=2, model__min_samples_split=2, model__n_estimators=200, preprocessing__num__imputer__strategy=median, total=   0.4s\n",
      "[CV] model__max_depth=10, model__max_features=sqrt, model__min_samples_leaf=2, model__min_samples_split=2, model__n_estimators=200, preprocessing__num__imputer__strategy=median \n",
      "[CV]  model__max_depth=10, model__max_features=sqrt, model__min_samples_leaf=2, model__min_samples_split=2, model__n_estimators=200, preprocessing__num__imputer__strategy=median, total=   0.4s\n",
      "[CV] model__max_depth=10, model__max_features=sqrt, model__min_samples_leaf=2, model__min_samples_split=2, model__n_estimators=500, preprocessing__num__imputer__strategy=mean \n",
      "[CV]  model__max_depth=10, model__max_features=sqrt, model__min_samples_leaf=2, model__min_samples_split=2, model__n_estimators=500, preprocessing__num__imputer__strategy=mean, total=   1.4s\n",
      "[CV] model__max_depth=10, model__max_features=sqrt, model__min_samples_leaf=2, model__min_samples_split=2, model__n_estimators=500, preprocessing__num__imputer__strategy=mean \n",
      "[CV]  model__max_depth=10, model__max_features=sqrt, model__min_samples_leaf=2, model__min_samples_split=2, model__n_estimators=500, preprocessing__num__imputer__strategy=mean, total=   2.4s\n",
      "[CV] model__max_depth=10, model__max_features=sqrt, model__min_samples_leaf=2, model__min_samples_split=2, model__n_estimators=500, preprocessing__num__imputer__strategy=mean \n",
      "[CV]  model__max_depth=10, model__max_features=sqrt, model__min_samples_leaf=2, model__min_samples_split=2, model__n_estimators=500, preprocessing__num__imputer__strategy=mean, total=   2.0s\n",
      "[CV] model__max_depth=10, model__max_features=sqrt, model__min_samples_leaf=2, model__min_samples_split=2, model__n_estimators=500, preprocessing__num__imputer__strategy=mean \n",
      "[CV]  model__max_depth=10, model__max_features=sqrt, model__min_samples_leaf=2, model__min_samples_split=2, model__n_estimators=500, preprocessing__num__imputer__strategy=mean, total=   1.2s\n",
      "[CV] model__max_depth=10, model__max_features=sqrt, model__min_samples_leaf=2, model__min_samples_split=2, model__n_estimators=500, preprocessing__num__imputer__strategy=mean \n",
      "[CV]  model__max_depth=10, model__max_features=sqrt, model__min_samples_leaf=2, model__min_samples_split=2, model__n_estimators=500, preprocessing__num__imputer__strategy=mean, total=   1.0s\n",
      "[CV] model__max_depth=10, model__max_features=sqrt, model__min_samples_leaf=2, model__min_samples_split=2, model__n_estimators=500, preprocessing__num__imputer__strategy=median \n",
      "[CV]  model__max_depth=10, model__max_features=sqrt, model__min_samples_leaf=2, model__min_samples_split=2, model__n_estimators=500, preprocessing__num__imputer__strategy=median, total=   1.0s\n",
      "[CV] model__max_depth=10, model__max_features=sqrt, model__min_samples_leaf=2, model__min_samples_split=2, model__n_estimators=500, preprocessing__num__imputer__strategy=median \n",
      "[CV]  model__max_depth=10, model__max_features=sqrt, model__min_samples_leaf=2, model__min_samples_split=2, model__n_estimators=500, preprocessing__num__imputer__strategy=median, total=   1.1s\n",
      "[CV] model__max_depth=10, model__max_features=sqrt, model__min_samples_leaf=2, model__min_samples_split=2, model__n_estimators=500, preprocessing__num__imputer__strategy=median \n",
      "[CV]  model__max_depth=10, model__max_features=sqrt, model__min_samples_leaf=2, model__min_samples_split=2, model__n_estimators=500, preprocessing__num__imputer__strategy=median, total=   0.9s\n",
      "[CV] model__max_depth=10, model__max_features=sqrt, model__min_samples_leaf=2, model__min_samples_split=2, model__n_estimators=500, preprocessing__num__imputer__strategy=median \n"
     ]
    },
    {
     "name": "stdout",
     "output_type": "stream",
     "text": [
      "[CV]  model__max_depth=10, model__max_features=sqrt, model__min_samples_leaf=2, model__min_samples_split=2, model__n_estimators=500, preprocessing__num__imputer__strategy=median, total=   1.3s\n",
      "[CV] model__max_depth=10, model__max_features=sqrt, model__min_samples_leaf=2, model__min_samples_split=2, model__n_estimators=500, preprocessing__num__imputer__strategy=median \n",
      "[CV]  model__max_depth=10, model__max_features=sqrt, model__min_samples_leaf=2, model__min_samples_split=2, model__n_estimators=500, preprocessing__num__imputer__strategy=median, total=   1.0s\n",
      "[CV] model__max_depth=10, model__max_features=sqrt, model__min_samples_leaf=2, model__min_samples_split=4, model__n_estimators=100, preprocessing__num__imputer__strategy=mean \n",
      "[CV]  model__max_depth=10, model__max_features=sqrt, model__min_samples_leaf=2, model__min_samples_split=4, model__n_estimators=100, preprocessing__num__imputer__strategy=mean, total=   0.2s\n",
      "[CV] model__max_depth=10, model__max_features=sqrt, model__min_samples_leaf=2, model__min_samples_split=4, model__n_estimators=100, preprocessing__num__imputer__strategy=mean \n",
      "[CV]  model__max_depth=10, model__max_features=sqrt, model__min_samples_leaf=2, model__min_samples_split=4, model__n_estimators=100, preprocessing__num__imputer__strategy=mean, total=   0.5s\n",
      "[CV] model__max_depth=10, model__max_features=sqrt, model__min_samples_leaf=2, model__min_samples_split=4, model__n_estimators=100, preprocessing__num__imputer__strategy=mean \n",
      "[CV]  model__max_depth=10, model__max_features=sqrt, model__min_samples_leaf=2, model__min_samples_split=4, model__n_estimators=100, preprocessing__num__imputer__strategy=mean, total=   0.4s\n",
      "[CV] model__max_depth=10, model__max_features=sqrt, model__min_samples_leaf=2, model__min_samples_split=4, model__n_estimators=100, preprocessing__num__imputer__strategy=mean \n",
      "[CV]  model__max_depth=10, model__max_features=sqrt, model__min_samples_leaf=2, model__min_samples_split=4, model__n_estimators=100, preprocessing__num__imputer__strategy=mean, total=   0.3s\n",
      "[CV] model__max_depth=10, model__max_features=sqrt, model__min_samples_leaf=2, model__min_samples_split=4, model__n_estimators=100, preprocessing__num__imputer__strategy=mean \n",
      "[CV]  model__max_depth=10, model__max_features=sqrt, model__min_samples_leaf=2, model__min_samples_split=4, model__n_estimators=100, preprocessing__num__imputer__strategy=mean, total=   0.4s\n",
      "[CV] model__max_depth=10, model__max_features=sqrt, model__min_samples_leaf=2, model__min_samples_split=4, model__n_estimators=100, preprocessing__num__imputer__strategy=median \n",
      "[CV]  model__max_depth=10, model__max_features=sqrt, model__min_samples_leaf=2, model__min_samples_split=4, model__n_estimators=100, preprocessing__num__imputer__strategy=median, total=   0.3s\n",
      "[CV] model__max_depth=10, model__max_features=sqrt, model__min_samples_leaf=2, model__min_samples_split=4, model__n_estimators=100, preprocessing__num__imputer__strategy=median \n",
      "[CV]  model__max_depth=10, model__max_features=sqrt, model__min_samples_leaf=2, model__min_samples_split=4, model__n_estimators=100, preprocessing__num__imputer__strategy=median, total=   0.3s\n",
      "[CV] model__max_depth=10, model__max_features=sqrt, model__min_samples_leaf=2, model__min_samples_split=4, model__n_estimators=100, preprocessing__num__imputer__strategy=median \n",
      "[CV]  model__max_depth=10, model__max_features=sqrt, model__min_samples_leaf=2, model__min_samples_split=4, model__n_estimators=100, preprocessing__num__imputer__strategy=median, total=   0.4s\n",
      "[CV] model__max_depth=10, model__max_features=sqrt, model__min_samples_leaf=2, model__min_samples_split=4, model__n_estimators=100, preprocessing__num__imputer__strategy=median \n",
      "[CV]  model__max_depth=10, model__max_features=sqrt, model__min_samples_leaf=2, model__min_samples_split=4, model__n_estimators=100, preprocessing__num__imputer__strategy=median, total=   0.4s\n",
      "[CV] model__max_depth=10, model__max_features=sqrt, model__min_samples_leaf=2, model__min_samples_split=4, model__n_estimators=100, preprocessing__num__imputer__strategy=median \n",
      "[CV]  model__max_depth=10, model__max_features=sqrt, model__min_samples_leaf=2, model__min_samples_split=4, model__n_estimators=100, preprocessing__num__imputer__strategy=median, total=   0.4s\n",
      "[CV] model__max_depth=10, model__max_features=sqrt, model__min_samples_leaf=2, model__min_samples_split=4, model__n_estimators=200, preprocessing__num__imputer__strategy=mean \n",
      "[CV]  model__max_depth=10, model__max_features=sqrt, model__min_samples_leaf=2, model__min_samples_split=4, model__n_estimators=200, preprocessing__num__imputer__strategy=mean, total=   0.8s\n",
      "[CV] model__max_depth=10, model__max_features=sqrt, model__min_samples_leaf=2, model__min_samples_split=4, model__n_estimators=200, preprocessing__num__imputer__strategy=mean \n",
      "[CV]  model__max_depth=10, model__max_features=sqrt, model__min_samples_leaf=2, model__min_samples_split=4, model__n_estimators=200, preprocessing__num__imputer__strategy=mean, total=   1.2s\n",
      "[CV] model__max_depth=10, model__max_features=sqrt, model__min_samples_leaf=2, model__min_samples_split=4, model__n_estimators=200, preprocessing__num__imputer__strategy=mean \n",
      "[CV]  model__max_depth=10, model__max_features=sqrt, model__min_samples_leaf=2, model__min_samples_split=4, model__n_estimators=200, preprocessing__num__imputer__strategy=mean, total=   1.0s\n",
      "[CV] model__max_depth=10, model__max_features=sqrt, model__min_samples_leaf=2, model__min_samples_split=4, model__n_estimators=200, preprocessing__num__imputer__strategy=mean \n",
      "[CV]  model__max_depth=10, model__max_features=sqrt, model__min_samples_leaf=2, model__min_samples_split=4, model__n_estimators=200, preprocessing__num__imputer__strategy=mean, total=   1.1s\n",
      "[CV] model__max_depth=10, model__max_features=sqrt, model__min_samples_leaf=2, model__min_samples_split=4, model__n_estimators=200, preprocessing__num__imputer__strategy=mean \n",
      "[CV]  model__max_depth=10, model__max_features=sqrt, model__min_samples_leaf=2, model__min_samples_split=4, model__n_estimators=200, preprocessing__num__imputer__strategy=mean, total=   1.3s\n",
      "[CV] model__max_depth=10, model__max_features=sqrt, model__min_samples_leaf=2, model__min_samples_split=4, model__n_estimators=200, preprocessing__num__imputer__strategy=median \n",
      "[CV]  model__max_depth=10, model__max_features=sqrt, model__min_samples_leaf=2, model__min_samples_split=4, model__n_estimators=200, preprocessing__num__imputer__strategy=median, total=   1.3s\n",
      "[CV] model__max_depth=10, model__max_features=sqrt, model__min_samples_leaf=2, model__min_samples_split=4, model__n_estimators=200, preprocessing__num__imputer__strategy=median \n",
      "[CV]  model__max_depth=10, model__max_features=sqrt, model__min_samples_leaf=2, model__min_samples_split=4, model__n_estimators=200, preprocessing__num__imputer__strategy=median, total=   1.1s\n",
      "[CV] model__max_depth=10, model__max_features=sqrt, model__min_samples_leaf=2, model__min_samples_split=4, model__n_estimators=200, preprocessing__num__imputer__strategy=median \n",
      "[CV]  model__max_depth=10, model__max_features=sqrt, model__min_samples_leaf=2, model__min_samples_split=4, model__n_estimators=200, preprocessing__num__imputer__strategy=median, total=   0.9s\n",
      "[CV] model__max_depth=10, model__max_features=sqrt, model__min_samples_leaf=2, model__min_samples_split=4, model__n_estimators=200, preprocessing__num__imputer__strategy=median \n",
      "[CV]  model__max_depth=10, model__max_features=sqrt, model__min_samples_leaf=2, model__min_samples_split=4, model__n_estimators=200, preprocessing__num__imputer__strategy=median, total=   0.8s\n",
      "[CV] model__max_depth=10, model__max_features=sqrt, model__min_samples_leaf=2, model__min_samples_split=4, model__n_estimators=200, preprocessing__num__imputer__strategy=median \n",
      "[CV]  model__max_depth=10, model__max_features=sqrt, model__min_samples_leaf=2, model__min_samples_split=4, model__n_estimators=200, preprocessing__num__imputer__strategy=median, total=   0.5s\n",
      "[CV] model__max_depth=10, model__max_features=sqrt, model__min_samples_leaf=2, model__min_samples_split=4, model__n_estimators=500, preprocessing__num__imputer__strategy=mean \n",
      "[CV]  model__max_depth=10, model__max_features=sqrt, model__min_samples_leaf=2, model__min_samples_split=4, model__n_estimators=500, preprocessing__num__imputer__strategy=mean, total=   1.9s\n",
      "[CV] model__max_depth=10, model__max_features=sqrt, model__min_samples_leaf=2, model__min_samples_split=4, model__n_estimators=500, preprocessing__num__imputer__strategy=mean \n"
     ]
    },
    {
     "name": "stdout",
     "output_type": "stream",
     "text": [
      "[CV]  model__max_depth=10, model__max_features=sqrt, model__min_samples_leaf=2, model__min_samples_split=4, model__n_estimators=500, preprocessing__num__imputer__strategy=mean, total=   2.7s\n",
      "[CV] model__max_depth=10, model__max_features=sqrt, model__min_samples_leaf=2, model__min_samples_split=4, model__n_estimators=500, preprocessing__num__imputer__strategy=mean \n",
      "[CV]  model__max_depth=10, model__max_features=sqrt, model__min_samples_leaf=2, model__min_samples_split=4, model__n_estimators=500, preprocessing__num__imputer__strategy=mean, total=   3.3s\n",
      "[CV] model__max_depth=10, model__max_features=sqrt, model__min_samples_leaf=2, model__min_samples_split=4, model__n_estimators=500, preprocessing__num__imputer__strategy=mean \n",
      "[CV]  model__max_depth=10, model__max_features=sqrt, model__min_samples_leaf=2, model__min_samples_split=4, model__n_estimators=500, preprocessing__num__imputer__strategy=mean, total=   1.9s\n",
      "[CV] model__max_depth=10, model__max_features=sqrt, model__min_samples_leaf=2, model__min_samples_split=4, model__n_estimators=500, preprocessing__num__imputer__strategy=mean \n",
      "[CV]  model__max_depth=10, model__max_features=sqrt, model__min_samples_leaf=2, model__min_samples_split=4, model__n_estimators=500, preprocessing__num__imputer__strategy=mean, total=   2.0s\n",
      "[CV] model__max_depth=10, model__max_features=sqrt, model__min_samples_leaf=2, model__min_samples_split=4, model__n_estimators=500, preprocessing__num__imputer__strategy=median \n",
      "[CV]  model__max_depth=10, model__max_features=sqrt, model__min_samples_leaf=2, model__min_samples_split=4, model__n_estimators=500, preprocessing__num__imputer__strategy=median, total=   1.9s\n",
      "[CV] model__max_depth=10, model__max_features=sqrt, model__min_samples_leaf=2, model__min_samples_split=4, model__n_estimators=500, preprocessing__num__imputer__strategy=median \n",
      "[CV]  model__max_depth=10, model__max_features=sqrt, model__min_samples_leaf=2, model__min_samples_split=4, model__n_estimators=500, preprocessing__num__imputer__strategy=median, total=   2.0s\n",
      "[CV] model__max_depth=10, model__max_features=sqrt, model__min_samples_leaf=2, model__min_samples_split=4, model__n_estimators=500, preprocessing__num__imputer__strategy=median \n",
      "[CV]  model__max_depth=10, model__max_features=sqrt, model__min_samples_leaf=2, model__min_samples_split=4, model__n_estimators=500, preprocessing__num__imputer__strategy=median, total=   1.5s\n",
      "[CV] model__max_depth=10, model__max_features=sqrt, model__min_samples_leaf=2, model__min_samples_split=4, model__n_estimators=500, preprocessing__num__imputer__strategy=median \n",
      "[CV]  model__max_depth=10, model__max_features=sqrt, model__min_samples_leaf=2, model__min_samples_split=4, model__n_estimators=500, preprocessing__num__imputer__strategy=median, total=   1.3s\n",
      "[CV] model__max_depth=10, model__max_features=sqrt, model__min_samples_leaf=2, model__min_samples_split=4, model__n_estimators=500, preprocessing__num__imputer__strategy=median \n",
      "[CV]  model__max_depth=10, model__max_features=sqrt, model__min_samples_leaf=2, model__min_samples_split=4, model__n_estimators=500, preprocessing__num__imputer__strategy=median, total=   1.3s\n",
      "[CV] model__max_depth=20, model__max_features=auto, model__min_samples_leaf=1, model__min_samples_split=2, model__n_estimators=100, preprocessing__num__imputer__strategy=mean \n",
      "[CV]  model__max_depth=20, model__max_features=auto, model__min_samples_leaf=1, model__min_samples_split=2, model__n_estimators=100, preprocessing__num__imputer__strategy=mean, total=   0.3s\n",
      "[CV] model__max_depth=20, model__max_features=auto, model__min_samples_leaf=1, model__min_samples_split=2, model__n_estimators=100, preprocessing__num__imputer__strategy=mean \n",
      "[CV]  model__max_depth=20, model__max_features=auto, model__min_samples_leaf=1, model__min_samples_split=2, model__n_estimators=100, preprocessing__num__imputer__strategy=mean, total=   0.3s\n",
      "[CV] model__max_depth=20, model__max_features=auto, model__min_samples_leaf=1, model__min_samples_split=2, model__n_estimators=100, preprocessing__num__imputer__strategy=mean \n",
      "[CV]  model__max_depth=20, model__max_features=auto, model__min_samples_leaf=1, model__min_samples_split=2, model__n_estimators=100, preprocessing__num__imputer__strategy=mean, total=   0.3s\n",
      "[CV] model__max_depth=20, model__max_features=auto, model__min_samples_leaf=1, model__min_samples_split=2, model__n_estimators=100, preprocessing__num__imputer__strategy=mean \n",
      "[CV]  model__max_depth=20, model__max_features=auto, model__min_samples_leaf=1, model__min_samples_split=2, model__n_estimators=100, preprocessing__num__imputer__strategy=mean, total=   0.4s\n",
      "[CV] model__max_depth=20, model__max_features=auto, model__min_samples_leaf=1, model__min_samples_split=2, model__n_estimators=100, preprocessing__num__imputer__strategy=mean \n",
      "[CV]  model__max_depth=20, model__max_features=auto, model__min_samples_leaf=1, model__min_samples_split=2, model__n_estimators=100, preprocessing__num__imputer__strategy=mean, total=   0.3s\n",
      "[CV] model__max_depth=20, model__max_features=auto, model__min_samples_leaf=1, model__min_samples_split=2, model__n_estimators=100, preprocessing__num__imputer__strategy=median \n",
      "[CV]  model__max_depth=20, model__max_features=auto, model__min_samples_leaf=1, model__min_samples_split=2, model__n_estimators=100, preprocessing__num__imputer__strategy=median, total=   0.3s\n",
      "[CV] model__max_depth=20, model__max_features=auto, model__min_samples_leaf=1, model__min_samples_split=2, model__n_estimators=100, preprocessing__num__imputer__strategy=median \n",
      "[CV]  model__max_depth=20, model__max_features=auto, model__min_samples_leaf=1, model__min_samples_split=2, model__n_estimators=100, preprocessing__num__imputer__strategy=median, total=   0.3s\n",
      "[CV] model__max_depth=20, model__max_features=auto, model__min_samples_leaf=1, model__min_samples_split=2, model__n_estimators=100, preprocessing__num__imputer__strategy=median \n",
      "[CV]  model__max_depth=20, model__max_features=auto, model__min_samples_leaf=1, model__min_samples_split=2, model__n_estimators=100, preprocessing__num__imputer__strategy=median, total=   0.3s\n",
      "[CV] model__max_depth=20, model__max_features=auto, model__min_samples_leaf=1, model__min_samples_split=2, model__n_estimators=100, preprocessing__num__imputer__strategy=median \n",
      "[CV]  model__max_depth=20, model__max_features=auto, model__min_samples_leaf=1, model__min_samples_split=2, model__n_estimators=100, preprocessing__num__imputer__strategy=median, total=   0.3s\n",
      "[CV] model__max_depth=20, model__max_features=auto, model__min_samples_leaf=1, model__min_samples_split=2, model__n_estimators=100, preprocessing__num__imputer__strategy=median \n",
      "[CV]  model__max_depth=20, model__max_features=auto, model__min_samples_leaf=1, model__min_samples_split=2, model__n_estimators=100, preprocessing__num__imputer__strategy=median, total=   0.3s\n",
      "[CV] model__max_depth=20, model__max_features=auto, model__min_samples_leaf=1, model__min_samples_split=2, model__n_estimators=200, preprocessing__num__imputer__strategy=mean \n",
      "[CV]  model__max_depth=20, model__max_features=auto, model__min_samples_leaf=1, model__min_samples_split=2, model__n_estimators=200, preprocessing__num__imputer__strategy=mean, total=   0.6s\n",
      "[CV] model__max_depth=20, model__max_features=auto, model__min_samples_leaf=1, model__min_samples_split=2, model__n_estimators=200, preprocessing__num__imputer__strategy=mean \n",
      "[CV]  model__max_depth=20, model__max_features=auto, model__min_samples_leaf=1, model__min_samples_split=2, model__n_estimators=200, preprocessing__num__imputer__strategy=mean, total=   0.9s\n",
      "[CV] model__max_depth=20, model__max_features=auto, model__min_samples_leaf=1, model__min_samples_split=2, model__n_estimators=200, preprocessing__num__imputer__strategy=mean \n",
      "[CV]  model__max_depth=20, model__max_features=auto, model__min_samples_leaf=1, model__min_samples_split=2, model__n_estimators=200, preprocessing__num__imputer__strategy=mean, total=   0.8s\n",
      "[CV] model__max_depth=20, model__max_features=auto, model__min_samples_leaf=1, model__min_samples_split=2, model__n_estimators=200, preprocessing__num__imputer__strategy=mean \n",
      "[CV]  model__max_depth=20, model__max_features=auto, model__min_samples_leaf=1, model__min_samples_split=2, model__n_estimators=200, preprocessing__num__imputer__strategy=mean, total=   0.6s\n",
      "[CV] model__max_depth=20, model__max_features=auto, model__min_samples_leaf=1, model__min_samples_split=2, model__n_estimators=200, preprocessing__num__imputer__strategy=mean \n"
     ]
    },
    {
     "name": "stdout",
     "output_type": "stream",
     "text": [
      "[CV]  model__max_depth=20, model__max_features=auto, model__min_samples_leaf=1, model__min_samples_split=2, model__n_estimators=200, preprocessing__num__imputer__strategy=mean, total=   0.7s\n",
      "[CV] model__max_depth=20, model__max_features=auto, model__min_samples_leaf=1, model__min_samples_split=2, model__n_estimators=200, preprocessing__num__imputer__strategy=median \n",
      "[CV]  model__max_depth=20, model__max_features=auto, model__min_samples_leaf=1, model__min_samples_split=2, model__n_estimators=200, preprocessing__num__imputer__strategy=median, total=   0.6s\n",
      "[CV] model__max_depth=20, model__max_features=auto, model__min_samples_leaf=1, model__min_samples_split=2, model__n_estimators=200, preprocessing__num__imputer__strategy=median \n",
      "[CV]  model__max_depth=20, model__max_features=auto, model__min_samples_leaf=1, model__min_samples_split=2, model__n_estimators=200, preprocessing__num__imputer__strategy=median, total=   0.6s\n",
      "[CV] model__max_depth=20, model__max_features=auto, model__min_samples_leaf=1, model__min_samples_split=2, model__n_estimators=200, preprocessing__num__imputer__strategy=median \n",
      "[CV]  model__max_depth=20, model__max_features=auto, model__min_samples_leaf=1, model__min_samples_split=2, model__n_estimators=200, preprocessing__num__imputer__strategy=median, total=   0.6s\n",
      "[CV] model__max_depth=20, model__max_features=auto, model__min_samples_leaf=1, model__min_samples_split=2, model__n_estimators=200, preprocessing__num__imputer__strategy=median \n",
      "[CV]  model__max_depth=20, model__max_features=auto, model__min_samples_leaf=1, model__min_samples_split=2, model__n_estimators=200, preprocessing__num__imputer__strategy=median, total=   0.6s\n",
      "[CV] model__max_depth=20, model__max_features=auto, model__min_samples_leaf=1, model__min_samples_split=2, model__n_estimators=200, preprocessing__num__imputer__strategy=median \n",
      "[CV]  model__max_depth=20, model__max_features=auto, model__min_samples_leaf=1, model__min_samples_split=2, model__n_estimators=200, preprocessing__num__imputer__strategy=median, total=   0.6s\n",
      "[CV] model__max_depth=20, model__max_features=auto, model__min_samples_leaf=1, model__min_samples_split=2, model__n_estimators=500, preprocessing__num__imputer__strategy=mean \n",
      "[CV]  model__max_depth=20, model__max_features=auto, model__min_samples_leaf=1, model__min_samples_split=2, model__n_estimators=500, preprocessing__num__imputer__strategy=mean, total=   1.5s\n",
      "[CV] model__max_depth=20, model__max_features=auto, model__min_samples_leaf=1, model__min_samples_split=2, model__n_estimators=500, preprocessing__num__imputer__strategy=mean \n",
      "[CV]  model__max_depth=20, model__max_features=auto, model__min_samples_leaf=1, model__min_samples_split=2, model__n_estimators=500, preprocessing__num__imputer__strategy=mean, total=   1.4s\n",
      "[CV] model__max_depth=20, model__max_features=auto, model__min_samples_leaf=1, model__min_samples_split=2, model__n_estimators=500, preprocessing__num__imputer__strategy=mean \n",
      "[CV]  model__max_depth=20, model__max_features=auto, model__min_samples_leaf=1, model__min_samples_split=2, model__n_estimators=500, preprocessing__num__imputer__strategy=mean, total=   1.3s\n",
      "[CV] model__max_depth=20, model__max_features=auto, model__min_samples_leaf=1, model__min_samples_split=2, model__n_estimators=500, preprocessing__num__imputer__strategy=mean \n",
      "[CV]  model__max_depth=20, model__max_features=auto, model__min_samples_leaf=1, model__min_samples_split=2, model__n_estimators=500, preprocessing__num__imputer__strategy=mean, total=   1.3s\n",
      "[CV] model__max_depth=20, model__max_features=auto, model__min_samples_leaf=1, model__min_samples_split=2, model__n_estimators=500, preprocessing__num__imputer__strategy=mean \n",
      "[CV]  model__max_depth=20, model__max_features=auto, model__min_samples_leaf=1, model__min_samples_split=2, model__n_estimators=500, preprocessing__num__imputer__strategy=mean, total=   1.4s\n",
      "[CV] model__max_depth=20, model__max_features=auto, model__min_samples_leaf=1, model__min_samples_split=2, model__n_estimators=500, preprocessing__num__imputer__strategy=median \n",
      "[CV]  model__max_depth=20, model__max_features=auto, model__min_samples_leaf=1, model__min_samples_split=2, model__n_estimators=500, preprocessing__num__imputer__strategy=median, total=   1.3s\n",
      "[CV] model__max_depth=20, model__max_features=auto, model__min_samples_leaf=1, model__min_samples_split=2, model__n_estimators=500, preprocessing__num__imputer__strategy=median \n",
      "[CV]  model__max_depth=20, model__max_features=auto, model__min_samples_leaf=1, model__min_samples_split=2, model__n_estimators=500, preprocessing__num__imputer__strategy=median, total=   1.4s\n",
      "[CV] model__max_depth=20, model__max_features=auto, model__min_samples_leaf=1, model__min_samples_split=2, model__n_estimators=500, preprocessing__num__imputer__strategy=median \n",
      "[CV]  model__max_depth=20, model__max_features=auto, model__min_samples_leaf=1, model__min_samples_split=2, model__n_estimators=500, preprocessing__num__imputer__strategy=median, total=   1.7s\n",
      "[CV] model__max_depth=20, model__max_features=auto, model__min_samples_leaf=1, model__min_samples_split=2, model__n_estimators=500, preprocessing__num__imputer__strategy=median \n",
      "[CV]  model__max_depth=20, model__max_features=auto, model__min_samples_leaf=1, model__min_samples_split=2, model__n_estimators=500, preprocessing__num__imputer__strategy=median, total=   2.2s\n",
      "[CV] model__max_depth=20, model__max_features=auto, model__min_samples_leaf=1, model__min_samples_split=2, model__n_estimators=500, preprocessing__num__imputer__strategy=median \n",
      "[CV]  model__max_depth=20, model__max_features=auto, model__min_samples_leaf=1, model__min_samples_split=2, model__n_estimators=500, preprocessing__num__imputer__strategy=median, total=   3.6s\n",
      "[CV] model__max_depth=20, model__max_features=auto, model__min_samples_leaf=1, model__min_samples_split=4, model__n_estimators=100, preprocessing__num__imputer__strategy=mean \n",
      "[CV]  model__max_depth=20, model__max_features=auto, model__min_samples_leaf=1, model__min_samples_split=4, model__n_estimators=100, preprocessing__num__imputer__strategy=mean, total=   0.7s\n",
      "[CV] model__max_depth=20, model__max_features=auto, model__min_samples_leaf=1, model__min_samples_split=4, model__n_estimators=100, preprocessing__num__imputer__strategy=mean \n",
      "[CV]  model__max_depth=20, model__max_features=auto, model__min_samples_leaf=1, model__min_samples_split=4, model__n_estimators=100, preprocessing__num__imputer__strategy=mean, total=   0.9s\n",
      "[CV] model__max_depth=20, model__max_features=auto, model__min_samples_leaf=1, model__min_samples_split=4, model__n_estimators=100, preprocessing__num__imputer__strategy=mean \n",
      "[CV]  model__max_depth=20, model__max_features=auto, model__min_samples_leaf=1, model__min_samples_split=4, model__n_estimators=100, preprocessing__num__imputer__strategy=mean, total=   0.6s\n",
      "[CV] model__max_depth=20, model__max_features=auto, model__min_samples_leaf=1, model__min_samples_split=4, model__n_estimators=100, preprocessing__num__imputer__strategy=mean \n",
      "[CV]  model__max_depth=20, model__max_features=auto, model__min_samples_leaf=1, model__min_samples_split=4, model__n_estimators=100, preprocessing__num__imputer__strategy=mean, total=   0.5s\n",
      "[CV] model__max_depth=20, model__max_features=auto, model__min_samples_leaf=1, model__min_samples_split=4, model__n_estimators=100, preprocessing__num__imputer__strategy=mean \n",
      "[CV]  model__max_depth=20, model__max_features=auto, model__min_samples_leaf=1, model__min_samples_split=4, model__n_estimators=100, preprocessing__num__imputer__strategy=mean, total=   1.1s\n",
      "[CV] model__max_depth=20, model__max_features=auto, model__min_samples_leaf=1, model__min_samples_split=4, model__n_estimators=100, preprocessing__num__imputer__strategy=median \n",
      "[CV]  model__max_depth=20, model__max_features=auto, model__min_samples_leaf=1, model__min_samples_split=4, model__n_estimators=100, preprocessing__num__imputer__strategy=median, total=   0.9s\n",
      "[CV] model__max_depth=20, model__max_features=auto, model__min_samples_leaf=1, model__min_samples_split=4, model__n_estimators=100, preprocessing__num__imputer__strategy=median \n",
      "[CV]  model__max_depth=20, model__max_features=auto, model__min_samples_leaf=1, model__min_samples_split=4, model__n_estimators=100, preprocessing__num__imputer__strategy=median, total=   1.3s\n",
      "[CV] model__max_depth=20, model__max_features=auto, model__min_samples_leaf=1, model__min_samples_split=4, model__n_estimators=100, preprocessing__num__imputer__strategy=median \n"
     ]
    },
    {
     "name": "stdout",
     "output_type": "stream",
     "text": [
      "[CV]  model__max_depth=20, model__max_features=auto, model__min_samples_leaf=1, model__min_samples_split=4, model__n_estimators=100, preprocessing__num__imputer__strategy=median, total=   0.8s\n",
      "[CV] model__max_depth=20, model__max_features=auto, model__min_samples_leaf=1, model__min_samples_split=4, model__n_estimators=100, preprocessing__num__imputer__strategy=median \n",
      "[CV]  model__max_depth=20, model__max_features=auto, model__min_samples_leaf=1, model__min_samples_split=4, model__n_estimators=100, preprocessing__num__imputer__strategy=median, total=   0.7s\n",
      "[CV] model__max_depth=20, model__max_features=auto, model__min_samples_leaf=1, model__min_samples_split=4, model__n_estimators=100, preprocessing__num__imputer__strategy=median \n",
      "[CV]  model__max_depth=20, model__max_features=auto, model__min_samples_leaf=1, model__min_samples_split=4, model__n_estimators=100, preprocessing__num__imputer__strategy=median, total=   0.7s\n",
      "[CV] model__max_depth=20, model__max_features=auto, model__min_samples_leaf=1, model__min_samples_split=4, model__n_estimators=200, preprocessing__num__imputer__strategy=mean \n",
      "[CV]  model__max_depth=20, model__max_features=auto, model__min_samples_leaf=1, model__min_samples_split=4, model__n_estimators=200, preprocessing__num__imputer__strategy=mean, total=   1.2s\n",
      "[CV] model__max_depth=20, model__max_features=auto, model__min_samples_leaf=1, model__min_samples_split=4, model__n_estimators=200, preprocessing__num__imputer__strategy=mean \n",
      "[CV]  model__max_depth=20, model__max_features=auto, model__min_samples_leaf=1, model__min_samples_split=4, model__n_estimators=200, preprocessing__num__imputer__strategy=mean, total=   1.3s\n",
      "[CV] model__max_depth=20, model__max_features=auto, model__min_samples_leaf=1, model__min_samples_split=4, model__n_estimators=200, preprocessing__num__imputer__strategy=mean \n",
      "[CV]  model__max_depth=20, model__max_features=auto, model__min_samples_leaf=1, model__min_samples_split=4, model__n_estimators=200, preprocessing__num__imputer__strategy=mean, total=   1.2s\n",
      "[CV] model__max_depth=20, model__max_features=auto, model__min_samples_leaf=1, model__min_samples_split=4, model__n_estimators=200, preprocessing__num__imputer__strategy=mean \n",
      "[CV]  model__max_depth=20, model__max_features=auto, model__min_samples_leaf=1, model__min_samples_split=4, model__n_estimators=200, preprocessing__num__imputer__strategy=mean, total=   1.2s\n",
      "[CV] model__max_depth=20, model__max_features=auto, model__min_samples_leaf=1, model__min_samples_split=4, model__n_estimators=200, preprocessing__num__imputer__strategy=mean \n",
      "[CV]  model__max_depth=20, model__max_features=auto, model__min_samples_leaf=1, model__min_samples_split=4, model__n_estimators=200, preprocessing__num__imputer__strategy=mean, total=   1.2s\n",
      "[CV] model__max_depth=20, model__max_features=auto, model__min_samples_leaf=1, model__min_samples_split=4, model__n_estimators=200, preprocessing__num__imputer__strategy=median \n",
      "[CV]  model__max_depth=20, model__max_features=auto, model__min_samples_leaf=1, model__min_samples_split=4, model__n_estimators=200, preprocessing__num__imputer__strategy=median, total=   1.3s\n",
      "[CV] model__max_depth=20, model__max_features=auto, model__min_samples_leaf=1, model__min_samples_split=4, model__n_estimators=200, preprocessing__num__imputer__strategy=median \n",
      "[CV]  model__max_depth=20, model__max_features=auto, model__min_samples_leaf=1, model__min_samples_split=4, model__n_estimators=200, preprocessing__num__imputer__strategy=median, total=   1.2s\n",
      "[CV] model__max_depth=20, model__max_features=auto, model__min_samples_leaf=1, model__min_samples_split=4, model__n_estimators=200, preprocessing__num__imputer__strategy=median \n",
      "[CV]  model__max_depth=20, model__max_features=auto, model__min_samples_leaf=1, model__min_samples_split=4, model__n_estimators=200, preprocessing__num__imputer__strategy=median, total=   1.3s\n",
      "[CV] model__max_depth=20, model__max_features=auto, model__min_samples_leaf=1, model__min_samples_split=4, model__n_estimators=200, preprocessing__num__imputer__strategy=median \n",
      "[CV]  model__max_depth=20, model__max_features=auto, model__min_samples_leaf=1, model__min_samples_split=4, model__n_estimators=200, preprocessing__num__imputer__strategy=median, total=   1.2s\n",
      "[CV] model__max_depth=20, model__max_features=auto, model__min_samples_leaf=1, model__min_samples_split=4, model__n_estimators=200, preprocessing__num__imputer__strategy=median \n",
      "[CV]  model__max_depth=20, model__max_features=auto, model__min_samples_leaf=1, model__min_samples_split=4, model__n_estimators=200, preprocessing__num__imputer__strategy=median, total=   1.2s\n",
      "[CV] model__max_depth=20, model__max_features=auto, model__min_samples_leaf=1, model__min_samples_split=4, model__n_estimators=500, preprocessing__num__imputer__strategy=mean \n",
      "[CV]  model__max_depth=20, model__max_features=auto, model__min_samples_leaf=1, model__min_samples_split=4, model__n_estimators=500, preprocessing__num__imputer__strategy=mean, total=   2.9s\n",
      "[CV] model__max_depth=20, model__max_features=auto, model__min_samples_leaf=1, model__min_samples_split=4, model__n_estimators=500, preprocessing__num__imputer__strategy=mean \n",
      "[CV]  model__max_depth=20, model__max_features=auto, model__min_samples_leaf=1, model__min_samples_split=4, model__n_estimators=500, preprocessing__num__imputer__strategy=mean, total=   3.4s\n",
      "[CV] model__max_depth=20, model__max_features=auto, model__min_samples_leaf=1, model__min_samples_split=4, model__n_estimators=500, preprocessing__num__imputer__strategy=mean \n",
      "[CV]  model__max_depth=20, model__max_features=auto, model__min_samples_leaf=1, model__min_samples_split=4, model__n_estimators=500, preprocessing__num__imputer__strategy=mean, total=   3.4s\n",
      "[CV] model__max_depth=20, model__max_features=auto, model__min_samples_leaf=1, model__min_samples_split=4, model__n_estimators=500, preprocessing__num__imputer__strategy=mean \n",
      "[CV]  model__max_depth=20, model__max_features=auto, model__min_samples_leaf=1, model__min_samples_split=4, model__n_estimators=500, preprocessing__num__imputer__strategy=mean, total=   2.6s\n",
      "[CV] model__max_depth=20, model__max_features=auto, model__min_samples_leaf=1, model__min_samples_split=4, model__n_estimators=500, preprocessing__num__imputer__strategy=mean \n",
      "[CV]  model__max_depth=20, model__max_features=auto, model__min_samples_leaf=1, model__min_samples_split=4, model__n_estimators=500, preprocessing__num__imputer__strategy=mean, total=   1.2s\n",
      "[CV] model__max_depth=20, model__max_features=auto, model__min_samples_leaf=1, model__min_samples_split=4, model__n_estimators=500, preprocessing__num__imputer__strategy=median \n",
      "[CV]  model__max_depth=20, model__max_features=auto, model__min_samples_leaf=1, model__min_samples_split=4, model__n_estimators=500, preprocessing__num__imputer__strategy=median, total=   1.5s\n",
      "[CV] model__max_depth=20, model__max_features=auto, model__min_samples_leaf=1, model__min_samples_split=4, model__n_estimators=500, preprocessing__num__imputer__strategy=median \n",
      "[CV]  model__max_depth=20, model__max_features=auto, model__min_samples_leaf=1, model__min_samples_split=4, model__n_estimators=500, preprocessing__num__imputer__strategy=median, total=   2.2s\n",
      "[CV] model__max_depth=20, model__max_features=auto, model__min_samples_leaf=1, model__min_samples_split=4, model__n_estimators=500, preprocessing__num__imputer__strategy=median \n",
      "[CV]  model__max_depth=20, model__max_features=auto, model__min_samples_leaf=1, model__min_samples_split=4, model__n_estimators=500, preprocessing__num__imputer__strategy=median, total=   1.1s\n",
      "[CV] model__max_depth=20, model__max_features=auto, model__min_samples_leaf=1, model__min_samples_split=4, model__n_estimators=500, preprocessing__num__imputer__strategy=median \n",
      "[CV]  model__max_depth=20, model__max_features=auto, model__min_samples_leaf=1, model__min_samples_split=4, model__n_estimators=500, preprocessing__num__imputer__strategy=median, total=   1.2s\n",
      "[CV] model__max_depth=20, model__max_features=auto, model__min_samples_leaf=1, model__min_samples_split=4, model__n_estimators=500, preprocessing__num__imputer__strategy=median \n",
      "[CV]  model__max_depth=20, model__max_features=auto, model__min_samples_leaf=1, model__min_samples_split=4, model__n_estimators=500, preprocessing__num__imputer__strategy=median, total=   1.2s\n",
      "[CV] model__max_depth=20, model__max_features=auto, model__min_samples_leaf=2, model__min_samples_split=2, model__n_estimators=100, preprocessing__num__imputer__strategy=mean \n"
     ]
    },
    {
     "name": "stdout",
     "output_type": "stream",
     "text": [
      "[CV]  model__max_depth=20, model__max_features=auto, model__min_samples_leaf=2, model__min_samples_split=2, model__n_estimators=100, preprocessing__num__imputer__strategy=mean, total=   0.4s\n",
      "[CV] model__max_depth=20, model__max_features=auto, model__min_samples_leaf=2, model__min_samples_split=2, model__n_estimators=100, preprocessing__num__imputer__strategy=mean \n",
      "[CV]  model__max_depth=20, model__max_features=auto, model__min_samples_leaf=2, model__min_samples_split=2, model__n_estimators=100, preprocessing__num__imputer__strategy=mean, total=   0.3s\n",
      "[CV] model__max_depth=20, model__max_features=auto, model__min_samples_leaf=2, model__min_samples_split=2, model__n_estimators=100, preprocessing__num__imputer__strategy=mean \n",
      "[CV]  model__max_depth=20, model__max_features=auto, model__min_samples_leaf=2, model__min_samples_split=2, model__n_estimators=100, preprocessing__num__imputer__strategy=mean, total=   0.3s\n",
      "[CV] model__max_depth=20, model__max_features=auto, model__min_samples_leaf=2, model__min_samples_split=2, model__n_estimators=100, preprocessing__num__imputer__strategy=mean \n",
      "[CV]  model__max_depth=20, model__max_features=auto, model__min_samples_leaf=2, model__min_samples_split=2, model__n_estimators=100, preprocessing__num__imputer__strategy=mean, total=   0.3s\n",
      "[CV] model__max_depth=20, model__max_features=auto, model__min_samples_leaf=2, model__min_samples_split=2, model__n_estimators=100, preprocessing__num__imputer__strategy=mean \n",
      "[CV]  model__max_depth=20, model__max_features=auto, model__min_samples_leaf=2, model__min_samples_split=2, model__n_estimators=100, preprocessing__num__imputer__strategy=mean, total=   0.3s\n",
      "[CV] model__max_depth=20, model__max_features=auto, model__min_samples_leaf=2, model__min_samples_split=2, model__n_estimators=100, preprocessing__num__imputer__strategy=median \n",
      "[CV]  model__max_depth=20, model__max_features=auto, model__min_samples_leaf=2, model__min_samples_split=2, model__n_estimators=100, preprocessing__num__imputer__strategy=median, total=   0.4s\n",
      "[CV] model__max_depth=20, model__max_features=auto, model__min_samples_leaf=2, model__min_samples_split=2, model__n_estimators=100, preprocessing__num__imputer__strategy=median \n",
      "[CV]  model__max_depth=20, model__max_features=auto, model__min_samples_leaf=2, model__min_samples_split=2, model__n_estimators=100, preprocessing__num__imputer__strategy=median, total=   0.8s\n",
      "[CV] model__max_depth=20, model__max_features=auto, model__min_samples_leaf=2, model__min_samples_split=2, model__n_estimators=100, preprocessing__num__imputer__strategy=median \n",
      "[CV]  model__max_depth=20, model__max_features=auto, model__min_samples_leaf=2, model__min_samples_split=2, model__n_estimators=100, preprocessing__num__imputer__strategy=median, total=   1.1s\n",
      "[CV] model__max_depth=20, model__max_features=auto, model__min_samples_leaf=2, model__min_samples_split=2, model__n_estimators=100, preprocessing__num__imputer__strategy=median \n",
      "[CV]  model__max_depth=20, model__max_features=auto, model__min_samples_leaf=2, model__min_samples_split=2, model__n_estimators=100, preprocessing__num__imputer__strategy=median, total=   1.3s\n",
      "[CV] model__max_depth=20, model__max_features=auto, model__min_samples_leaf=2, model__min_samples_split=2, model__n_estimators=100, preprocessing__num__imputer__strategy=median \n",
      "[CV]  model__max_depth=20, model__max_features=auto, model__min_samples_leaf=2, model__min_samples_split=2, model__n_estimators=100, preprocessing__num__imputer__strategy=median, total=   1.4s\n",
      "[CV] model__max_depth=20, model__max_features=auto, model__min_samples_leaf=2, model__min_samples_split=2, model__n_estimators=200, preprocessing__num__imputer__strategy=mean \n",
      "[CV]  model__max_depth=20, model__max_features=auto, model__min_samples_leaf=2, model__min_samples_split=2, model__n_estimators=200, preprocessing__num__imputer__strategy=mean, total=   1.6s\n",
      "[CV] model__max_depth=20, model__max_features=auto, model__min_samples_leaf=2, model__min_samples_split=2, model__n_estimators=200, preprocessing__num__imputer__strategy=mean \n",
      "[CV]  model__max_depth=20, model__max_features=auto, model__min_samples_leaf=2, model__min_samples_split=2, model__n_estimators=200, preprocessing__num__imputer__strategy=mean, total=   0.8s\n",
      "[CV] model__max_depth=20, model__max_features=auto, model__min_samples_leaf=2, model__min_samples_split=2, model__n_estimators=200, preprocessing__num__imputer__strategy=mean \n",
      "[CV]  model__max_depth=20, model__max_features=auto, model__min_samples_leaf=2, model__min_samples_split=2, model__n_estimators=200, preprocessing__num__imputer__strategy=mean, total=   0.7s\n",
      "[CV] model__max_depth=20, model__max_features=auto, model__min_samples_leaf=2, model__min_samples_split=2, model__n_estimators=200, preprocessing__num__imputer__strategy=mean \n",
      "[CV]  model__max_depth=20, model__max_features=auto, model__min_samples_leaf=2, model__min_samples_split=2, model__n_estimators=200, preprocessing__num__imputer__strategy=mean, total=   0.7s\n",
      "[CV] model__max_depth=20, model__max_features=auto, model__min_samples_leaf=2, model__min_samples_split=2, model__n_estimators=200, preprocessing__num__imputer__strategy=mean \n",
      "[CV]  model__max_depth=20, model__max_features=auto, model__min_samples_leaf=2, model__min_samples_split=2, model__n_estimators=200, preprocessing__num__imputer__strategy=mean, total=   0.6s\n",
      "[CV] model__max_depth=20, model__max_features=auto, model__min_samples_leaf=2, model__min_samples_split=2, model__n_estimators=200, preprocessing__num__imputer__strategy=median \n",
      "[CV]  model__max_depth=20, model__max_features=auto, model__min_samples_leaf=2, model__min_samples_split=2, model__n_estimators=200, preprocessing__num__imputer__strategy=median, total=   0.7s\n",
      "[CV] model__max_depth=20, model__max_features=auto, model__min_samples_leaf=2, model__min_samples_split=2, model__n_estimators=200, preprocessing__num__imputer__strategy=median \n",
      "[CV]  model__max_depth=20, model__max_features=auto, model__min_samples_leaf=2, model__min_samples_split=2, model__n_estimators=200, preprocessing__num__imputer__strategy=median, total=   0.8s\n",
      "[CV] model__max_depth=20, model__max_features=auto, model__min_samples_leaf=2, model__min_samples_split=2, model__n_estimators=200, preprocessing__num__imputer__strategy=median \n",
      "[CV]  model__max_depth=20, model__max_features=auto, model__min_samples_leaf=2, model__min_samples_split=2, model__n_estimators=200, preprocessing__num__imputer__strategy=median, total=   0.8s\n",
      "[CV] model__max_depth=20, model__max_features=auto, model__min_samples_leaf=2, model__min_samples_split=2, model__n_estimators=200, preprocessing__num__imputer__strategy=median \n",
      "[CV]  model__max_depth=20, model__max_features=auto, model__min_samples_leaf=2, model__min_samples_split=2, model__n_estimators=200, preprocessing__num__imputer__strategy=median, total=   0.7s\n",
      "[CV] model__max_depth=20, model__max_features=auto, model__min_samples_leaf=2, model__min_samples_split=2, model__n_estimators=200, preprocessing__num__imputer__strategy=median \n",
      "[CV]  model__max_depth=20, model__max_features=auto, model__min_samples_leaf=2, model__min_samples_split=2, model__n_estimators=200, preprocessing__num__imputer__strategy=median, total=   0.7s\n",
      "[CV] model__max_depth=20, model__max_features=auto, model__min_samples_leaf=2, model__min_samples_split=2, model__n_estimators=500, preprocessing__num__imputer__strategy=mean \n",
      "[CV]  model__max_depth=20, model__max_features=auto, model__min_samples_leaf=2, model__min_samples_split=2, model__n_estimators=500, preprocessing__num__imputer__strategy=mean, total=   1.2s\n",
      "[CV] model__max_depth=20, model__max_features=auto, model__min_samples_leaf=2, model__min_samples_split=2, model__n_estimators=500, preprocessing__num__imputer__strategy=mean \n",
      "[CV]  model__max_depth=20, model__max_features=auto, model__min_samples_leaf=2, model__min_samples_split=2, model__n_estimators=500, preprocessing__num__imputer__strategy=mean, total=   1.2s\n",
      "[CV] model__max_depth=20, model__max_features=auto, model__min_samples_leaf=2, model__min_samples_split=2, model__n_estimators=500, preprocessing__num__imputer__strategy=mean \n",
      "[CV]  model__max_depth=20, model__max_features=auto, model__min_samples_leaf=2, model__min_samples_split=2, model__n_estimators=500, preprocessing__num__imputer__strategy=mean, total=   1.2s\n",
      "[CV] model__max_depth=20, model__max_features=auto, model__min_samples_leaf=2, model__min_samples_split=2, model__n_estimators=500, preprocessing__num__imputer__strategy=mean \n"
     ]
    },
    {
     "name": "stdout",
     "output_type": "stream",
     "text": [
      "[CV]  model__max_depth=20, model__max_features=auto, model__min_samples_leaf=2, model__min_samples_split=2, model__n_estimators=500, preprocessing__num__imputer__strategy=mean, total=   1.1s\n",
      "[CV] model__max_depth=20, model__max_features=auto, model__min_samples_leaf=2, model__min_samples_split=2, model__n_estimators=500, preprocessing__num__imputer__strategy=mean \n",
      "[CV]  model__max_depth=20, model__max_features=auto, model__min_samples_leaf=2, model__min_samples_split=2, model__n_estimators=500, preprocessing__num__imputer__strategy=mean, total=   1.0s\n",
      "[CV] model__max_depth=20, model__max_features=auto, model__min_samples_leaf=2, model__min_samples_split=2, model__n_estimators=500, preprocessing__num__imputer__strategy=median \n",
      "[CV]  model__max_depth=20, model__max_features=auto, model__min_samples_leaf=2, model__min_samples_split=2, model__n_estimators=500, preprocessing__num__imputer__strategy=median, total=   1.0s\n",
      "[CV] model__max_depth=20, model__max_features=auto, model__min_samples_leaf=2, model__min_samples_split=2, model__n_estimators=500, preprocessing__num__imputer__strategy=median \n",
      "[CV]  model__max_depth=20, model__max_features=auto, model__min_samples_leaf=2, model__min_samples_split=2, model__n_estimators=500, preprocessing__num__imputer__strategy=median, total=   1.1s\n",
      "[CV] model__max_depth=20, model__max_features=auto, model__min_samples_leaf=2, model__min_samples_split=2, model__n_estimators=500, preprocessing__num__imputer__strategy=median \n",
      "[CV]  model__max_depth=20, model__max_features=auto, model__min_samples_leaf=2, model__min_samples_split=2, model__n_estimators=500, preprocessing__num__imputer__strategy=median, total=   1.1s\n",
      "[CV] model__max_depth=20, model__max_features=auto, model__min_samples_leaf=2, model__min_samples_split=2, model__n_estimators=500, preprocessing__num__imputer__strategy=median \n",
      "[CV]  model__max_depth=20, model__max_features=auto, model__min_samples_leaf=2, model__min_samples_split=2, model__n_estimators=500, preprocessing__num__imputer__strategy=median, total=   1.2s\n",
      "[CV] model__max_depth=20, model__max_features=auto, model__min_samples_leaf=2, model__min_samples_split=2, model__n_estimators=500, preprocessing__num__imputer__strategy=median \n",
      "[CV]  model__max_depth=20, model__max_features=auto, model__min_samples_leaf=2, model__min_samples_split=2, model__n_estimators=500, preprocessing__num__imputer__strategy=median, total=   1.0s\n",
      "[CV] model__max_depth=20, model__max_features=auto, model__min_samples_leaf=2, model__min_samples_split=4, model__n_estimators=100, preprocessing__num__imputer__strategy=mean \n",
      "[CV]  model__max_depth=20, model__max_features=auto, model__min_samples_leaf=2, model__min_samples_split=4, model__n_estimators=100, preprocessing__num__imputer__strategy=mean, total=   0.2s\n",
      "[CV] model__max_depth=20, model__max_features=auto, model__min_samples_leaf=2, model__min_samples_split=4, model__n_estimators=100, preprocessing__num__imputer__strategy=mean \n",
      "[CV]  model__max_depth=20, model__max_features=auto, model__min_samples_leaf=2, model__min_samples_split=4, model__n_estimators=100, preprocessing__num__imputer__strategy=mean, total=   0.3s\n",
      "[CV] model__max_depth=20, model__max_features=auto, model__min_samples_leaf=2, model__min_samples_split=4, model__n_estimators=100, preprocessing__num__imputer__strategy=mean \n",
      "[CV]  model__max_depth=20, model__max_features=auto, model__min_samples_leaf=2, model__min_samples_split=4, model__n_estimators=100, preprocessing__num__imputer__strategy=mean, total=   0.3s\n",
      "[CV] model__max_depth=20, model__max_features=auto, model__min_samples_leaf=2, model__min_samples_split=4, model__n_estimators=100, preprocessing__num__imputer__strategy=mean \n",
      "[CV]  model__max_depth=20, model__max_features=auto, model__min_samples_leaf=2, model__min_samples_split=4, model__n_estimators=100, preprocessing__num__imputer__strategy=mean, total=   0.3s\n",
      "[CV] model__max_depth=20, model__max_features=auto, model__min_samples_leaf=2, model__min_samples_split=4, model__n_estimators=100, preprocessing__num__imputer__strategy=mean \n",
      "[CV]  model__max_depth=20, model__max_features=auto, model__min_samples_leaf=2, model__min_samples_split=4, model__n_estimators=100, preprocessing__num__imputer__strategy=mean, total=   0.3s\n",
      "[CV] model__max_depth=20, model__max_features=auto, model__min_samples_leaf=2, model__min_samples_split=4, model__n_estimators=100, preprocessing__num__imputer__strategy=median \n",
      "[CV]  model__max_depth=20, model__max_features=auto, model__min_samples_leaf=2, model__min_samples_split=4, model__n_estimators=100, preprocessing__num__imputer__strategy=median, total=   0.3s\n",
      "[CV] model__max_depth=20, model__max_features=auto, model__min_samples_leaf=2, model__min_samples_split=4, model__n_estimators=100, preprocessing__num__imputer__strategy=median \n",
      "[CV]  model__max_depth=20, model__max_features=auto, model__min_samples_leaf=2, model__min_samples_split=4, model__n_estimators=100, preprocessing__num__imputer__strategy=median, total=   0.3s\n",
      "[CV] model__max_depth=20, model__max_features=auto, model__min_samples_leaf=2, model__min_samples_split=4, model__n_estimators=100, preprocessing__num__imputer__strategy=median \n",
      "[CV]  model__max_depth=20, model__max_features=auto, model__min_samples_leaf=2, model__min_samples_split=4, model__n_estimators=100, preprocessing__num__imputer__strategy=median, total=   0.3s\n",
      "[CV] model__max_depth=20, model__max_features=auto, model__min_samples_leaf=2, model__min_samples_split=4, model__n_estimators=100, preprocessing__num__imputer__strategy=median \n",
      "[CV]  model__max_depth=20, model__max_features=auto, model__min_samples_leaf=2, model__min_samples_split=4, model__n_estimators=100, preprocessing__num__imputer__strategy=median, total=   0.3s\n",
      "[CV] model__max_depth=20, model__max_features=auto, model__min_samples_leaf=2, model__min_samples_split=4, model__n_estimators=100, preprocessing__num__imputer__strategy=median \n",
      "[CV]  model__max_depth=20, model__max_features=auto, model__min_samples_leaf=2, model__min_samples_split=4, model__n_estimators=100, preprocessing__num__imputer__strategy=median, total=   0.3s\n",
      "[CV] model__max_depth=20, model__max_features=auto, model__min_samples_leaf=2, model__min_samples_split=4, model__n_estimators=200, preprocessing__num__imputer__strategy=mean \n",
      "[CV]  model__max_depth=20, model__max_features=auto, model__min_samples_leaf=2, model__min_samples_split=4, model__n_estimators=200, preprocessing__num__imputer__strategy=mean, total=   0.5s\n",
      "[CV] model__max_depth=20, model__max_features=auto, model__min_samples_leaf=2, model__min_samples_split=4, model__n_estimators=200, preprocessing__num__imputer__strategy=mean \n",
      "[CV]  model__max_depth=20, model__max_features=auto, model__min_samples_leaf=2, model__min_samples_split=4, model__n_estimators=200, preprocessing__num__imputer__strategy=mean, total=   0.6s\n",
      "[CV] model__max_depth=20, model__max_features=auto, model__min_samples_leaf=2, model__min_samples_split=4, model__n_estimators=200, preprocessing__num__imputer__strategy=mean \n",
      "[CV]  model__max_depth=20, model__max_features=auto, model__min_samples_leaf=2, model__min_samples_split=4, model__n_estimators=200, preprocessing__num__imputer__strategy=mean, total=   0.5s\n",
      "[CV] model__max_depth=20, model__max_features=auto, model__min_samples_leaf=2, model__min_samples_split=4, model__n_estimators=200, preprocessing__num__imputer__strategy=mean \n",
      "[CV]  model__max_depth=20, model__max_features=auto, model__min_samples_leaf=2, model__min_samples_split=4, model__n_estimators=200, preprocessing__num__imputer__strategy=mean, total=   0.6s\n",
      "[CV] model__max_depth=20, model__max_features=auto, model__min_samples_leaf=2, model__min_samples_split=4, model__n_estimators=200, preprocessing__num__imputer__strategy=mean \n",
      "[CV]  model__max_depth=20, model__max_features=auto, model__min_samples_leaf=2, model__min_samples_split=4, model__n_estimators=200, preprocessing__num__imputer__strategy=mean, total=   2.2s\n",
      "[CV] model__max_depth=20, model__max_features=auto, model__min_samples_leaf=2, model__min_samples_split=4, model__n_estimators=200, preprocessing__num__imputer__strategy=median \n",
      "[CV]  model__max_depth=20, model__max_features=auto, model__min_samples_leaf=2, model__min_samples_split=4, model__n_estimators=200, preprocessing__num__imputer__strategy=median, total=   1.7s\n",
      "[CV] model__max_depth=20, model__max_features=auto, model__min_samples_leaf=2, model__min_samples_split=4, model__n_estimators=200, preprocessing__num__imputer__strategy=median \n"
     ]
    },
    {
     "name": "stdout",
     "output_type": "stream",
     "text": [
      "[CV]  model__max_depth=20, model__max_features=auto, model__min_samples_leaf=2, model__min_samples_split=4, model__n_estimators=200, preprocessing__num__imputer__strategy=median, total=   2.0s\n",
      "[CV] model__max_depth=20, model__max_features=auto, model__min_samples_leaf=2, model__min_samples_split=4, model__n_estimators=200, preprocessing__num__imputer__strategy=median \n",
      "[CV]  model__max_depth=20, model__max_features=auto, model__min_samples_leaf=2, model__min_samples_split=4, model__n_estimators=200, preprocessing__num__imputer__strategy=median, total=   2.3s\n",
      "[CV] model__max_depth=20, model__max_features=auto, model__min_samples_leaf=2, model__min_samples_split=4, model__n_estimators=200, preprocessing__num__imputer__strategy=median \n",
      "[CV]  model__max_depth=20, model__max_features=auto, model__min_samples_leaf=2, model__min_samples_split=4, model__n_estimators=200, preprocessing__num__imputer__strategy=median, total=   2.1s\n",
      "[CV] model__max_depth=20, model__max_features=auto, model__min_samples_leaf=2, model__min_samples_split=4, model__n_estimators=200, preprocessing__num__imputer__strategy=median \n",
      "[CV]  model__max_depth=20, model__max_features=auto, model__min_samples_leaf=2, model__min_samples_split=4, model__n_estimators=200, preprocessing__num__imputer__strategy=median, total=   2.6s\n",
      "[CV] model__max_depth=20, model__max_features=auto, model__min_samples_leaf=2, model__min_samples_split=4, model__n_estimators=500, preprocessing__num__imputer__strategy=mean \n",
      "[CV]  model__max_depth=20, model__max_features=auto, model__min_samples_leaf=2, model__min_samples_split=4, model__n_estimators=500, preprocessing__num__imputer__strategy=mean, total=   4.5s\n",
      "[CV] model__max_depth=20, model__max_features=auto, model__min_samples_leaf=2, model__min_samples_split=4, model__n_estimators=500, preprocessing__num__imputer__strategy=mean \n",
      "[CV]  model__max_depth=20, model__max_features=auto, model__min_samples_leaf=2, model__min_samples_split=4, model__n_estimators=500, preprocessing__num__imputer__strategy=mean, total=   4.6s\n",
      "[CV] model__max_depth=20, model__max_features=auto, model__min_samples_leaf=2, model__min_samples_split=4, model__n_estimators=500, preprocessing__num__imputer__strategy=mean \n",
      "[CV]  model__max_depth=20, model__max_features=auto, model__min_samples_leaf=2, model__min_samples_split=4, model__n_estimators=500, preprocessing__num__imputer__strategy=mean, total=   6.1s\n",
      "[CV] model__max_depth=20, model__max_features=auto, model__min_samples_leaf=2, model__min_samples_split=4, model__n_estimators=500, preprocessing__num__imputer__strategy=mean \n",
      "[CV]  model__max_depth=20, model__max_features=auto, model__min_samples_leaf=2, model__min_samples_split=4, model__n_estimators=500, preprocessing__num__imputer__strategy=mean, total=   6.2s\n",
      "[CV] model__max_depth=20, model__max_features=auto, model__min_samples_leaf=2, model__min_samples_split=4, model__n_estimators=500, preprocessing__num__imputer__strategy=mean \n",
      "[CV]  model__max_depth=20, model__max_features=auto, model__min_samples_leaf=2, model__min_samples_split=4, model__n_estimators=500, preprocessing__num__imputer__strategy=mean, total=   5.5s\n",
      "[CV] model__max_depth=20, model__max_features=auto, model__min_samples_leaf=2, model__min_samples_split=4, model__n_estimators=500, preprocessing__num__imputer__strategy=median \n",
      "[CV]  model__max_depth=20, model__max_features=auto, model__min_samples_leaf=2, model__min_samples_split=4, model__n_estimators=500, preprocessing__num__imputer__strategy=median, total=   3.4s\n",
      "[CV] model__max_depth=20, model__max_features=auto, model__min_samples_leaf=2, model__min_samples_split=4, model__n_estimators=500, preprocessing__num__imputer__strategy=median \n",
      "[CV]  model__max_depth=20, model__max_features=auto, model__min_samples_leaf=2, model__min_samples_split=4, model__n_estimators=500, preprocessing__num__imputer__strategy=median, total=   2.7s\n",
      "[CV] model__max_depth=20, model__max_features=auto, model__min_samples_leaf=2, model__min_samples_split=4, model__n_estimators=500, preprocessing__num__imputer__strategy=median \n",
      "[CV]  model__max_depth=20, model__max_features=auto, model__min_samples_leaf=2, model__min_samples_split=4, model__n_estimators=500, preprocessing__num__imputer__strategy=median, total=   1.3s\n",
      "[CV] model__max_depth=20, model__max_features=auto, model__min_samples_leaf=2, model__min_samples_split=4, model__n_estimators=500, preprocessing__num__imputer__strategy=median \n",
      "[CV]  model__max_depth=20, model__max_features=auto, model__min_samples_leaf=2, model__min_samples_split=4, model__n_estimators=500, preprocessing__num__imputer__strategy=median, total=   1.3s\n",
      "[CV] model__max_depth=20, model__max_features=auto, model__min_samples_leaf=2, model__min_samples_split=4, model__n_estimators=500, preprocessing__num__imputer__strategy=median \n",
      "[CV]  model__max_depth=20, model__max_features=auto, model__min_samples_leaf=2, model__min_samples_split=4, model__n_estimators=500, preprocessing__num__imputer__strategy=median, total=   1.7s\n",
      "[CV] model__max_depth=20, model__max_features=sqrt, model__min_samples_leaf=1, model__min_samples_split=2, model__n_estimators=100, preprocessing__num__imputer__strategy=mean \n",
      "[CV]  model__max_depth=20, model__max_features=sqrt, model__min_samples_leaf=1, model__min_samples_split=2, model__n_estimators=100, preprocessing__num__imputer__strategy=mean, total=   0.3s\n",
      "[CV] model__max_depth=20, model__max_features=sqrt, model__min_samples_leaf=1, model__min_samples_split=2, model__n_estimators=100, preprocessing__num__imputer__strategy=mean \n",
      "[CV]  model__max_depth=20, model__max_features=sqrt, model__min_samples_leaf=1, model__min_samples_split=2, model__n_estimators=100, preprocessing__num__imputer__strategy=mean, total=   0.5s\n",
      "[CV] model__max_depth=20, model__max_features=sqrt, model__min_samples_leaf=1, model__min_samples_split=2, model__n_estimators=100, preprocessing__num__imputer__strategy=mean \n",
      "[CV]  model__max_depth=20, model__max_features=sqrt, model__min_samples_leaf=1, model__min_samples_split=2, model__n_estimators=100, preprocessing__num__imputer__strategy=mean, total=   0.6s\n",
      "[CV] model__max_depth=20, model__max_features=sqrt, model__min_samples_leaf=1, model__min_samples_split=2, model__n_estimators=100, preprocessing__num__imputer__strategy=mean \n",
      "[CV]  model__max_depth=20, model__max_features=sqrt, model__min_samples_leaf=1, model__min_samples_split=2, model__n_estimators=100, preprocessing__num__imputer__strategy=mean, total=   0.3s\n",
      "[CV] model__max_depth=20, model__max_features=sqrt, model__min_samples_leaf=1, model__min_samples_split=2, model__n_estimators=100, preprocessing__num__imputer__strategy=mean \n",
      "[CV]  model__max_depth=20, model__max_features=sqrt, model__min_samples_leaf=1, model__min_samples_split=2, model__n_estimators=100, preprocessing__num__imputer__strategy=mean, total=   0.8s\n",
      "[CV] model__max_depth=20, model__max_features=sqrt, model__min_samples_leaf=1, model__min_samples_split=2, model__n_estimators=100, preprocessing__num__imputer__strategy=median \n",
      "[CV]  model__max_depth=20, model__max_features=sqrt, model__min_samples_leaf=1, model__min_samples_split=2, model__n_estimators=100, preprocessing__num__imputer__strategy=median, total=   0.5s\n",
      "[CV] model__max_depth=20, model__max_features=sqrt, model__min_samples_leaf=1, model__min_samples_split=2, model__n_estimators=100, preprocessing__num__imputer__strategy=median \n",
      "[CV]  model__max_depth=20, model__max_features=sqrt, model__min_samples_leaf=1, model__min_samples_split=2, model__n_estimators=100, preprocessing__num__imputer__strategy=median, total=   0.5s\n",
      "[CV] model__max_depth=20, model__max_features=sqrt, model__min_samples_leaf=1, model__min_samples_split=2, model__n_estimators=100, preprocessing__num__imputer__strategy=median \n",
      "[CV]  model__max_depth=20, model__max_features=sqrt, model__min_samples_leaf=1, model__min_samples_split=2, model__n_estimators=100, preprocessing__num__imputer__strategy=median, total=   0.4s\n",
      "[CV] model__max_depth=20, model__max_features=sqrt, model__min_samples_leaf=1, model__min_samples_split=2, model__n_estimators=100, preprocessing__num__imputer__strategy=median \n",
      "[CV]  model__max_depth=20, model__max_features=sqrt, model__min_samples_leaf=1, model__min_samples_split=2, model__n_estimators=100, preprocessing__num__imputer__strategy=median, total=   0.4s\n",
      "[CV] model__max_depth=20, model__max_features=sqrt, model__min_samples_leaf=1, model__min_samples_split=2, model__n_estimators=100, preprocessing__num__imputer__strategy=median \n"
     ]
    },
    {
     "name": "stdout",
     "output_type": "stream",
     "text": [
      "[CV]  model__max_depth=20, model__max_features=sqrt, model__min_samples_leaf=1, model__min_samples_split=2, model__n_estimators=100, preprocessing__num__imputer__strategy=median, total=   0.3s\n",
      "[CV] model__max_depth=20, model__max_features=sqrt, model__min_samples_leaf=1, model__min_samples_split=2, model__n_estimators=200, preprocessing__num__imputer__strategy=mean \n",
      "[CV]  model__max_depth=20, model__max_features=sqrt, model__min_samples_leaf=1, model__min_samples_split=2, model__n_estimators=200, preprocessing__num__imputer__strategy=mean, total=   0.6s\n",
      "[CV] model__max_depth=20, model__max_features=sqrt, model__min_samples_leaf=1, model__min_samples_split=2, model__n_estimators=200, preprocessing__num__imputer__strategy=mean \n",
      "[CV]  model__max_depth=20, model__max_features=sqrt, model__min_samples_leaf=1, model__min_samples_split=2, model__n_estimators=200, preprocessing__num__imputer__strategy=mean, total=   0.6s\n",
      "[CV] model__max_depth=20, model__max_features=sqrt, model__min_samples_leaf=1, model__min_samples_split=2, model__n_estimators=200, preprocessing__num__imputer__strategy=mean \n",
      "[CV]  model__max_depth=20, model__max_features=sqrt, model__min_samples_leaf=1, model__min_samples_split=2, model__n_estimators=200, preprocessing__num__imputer__strategy=mean, total=   0.5s\n",
      "[CV] model__max_depth=20, model__max_features=sqrt, model__min_samples_leaf=1, model__min_samples_split=2, model__n_estimators=200, preprocessing__num__imputer__strategy=mean \n",
      "[CV]  model__max_depth=20, model__max_features=sqrt, model__min_samples_leaf=1, model__min_samples_split=2, model__n_estimators=200, preprocessing__num__imputer__strategy=mean, total=   1.0s\n",
      "[CV] model__max_depth=20, model__max_features=sqrt, model__min_samples_leaf=1, model__min_samples_split=2, model__n_estimators=200, preprocessing__num__imputer__strategy=mean \n",
      "[CV]  model__max_depth=20, model__max_features=sqrt, model__min_samples_leaf=1, model__min_samples_split=2, model__n_estimators=200, preprocessing__num__imputer__strategy=mean, total=   1.1s\n",
      "[CV] model__max_depth=20, model__max_features=sqrt, model__min_samples_leaf=1, model__min_samples_split=2, model__n_estimators=200, preprocessing__num__imputer__strategy=median \n",
      "[CV]  model__max_depth=20, model__max_features=sqrt, model__min_samples_leaf=1, model__min_samples_split=2, model__n_estimators=200, preprocessing__num__imputer__strategy=median, total=   1.1s\n",
      "[CV] model__max_depth=20, model__max_features=sqrt, model__min_samples_leaf=1, model__min_samples_split=2, model__n_estimators=200, preprocessing__num__imputer__strategy=median \n",
      "[CV]  model__max_depth=20, model__max_features=sqrt, model__min_samples_leaf=1, model__min_samples_split=2, model__n_estimators=200, preprocessing__num__imputer__strategy=median, total=   1.8s\n",
      "[CV] model__max_depth=20, model__max_features=sqrt, model__min_samples_leaf=1, model__min_samples_split=2, model__n_estimators=200, preprocessing__num__imputer__strategy=median \n",
      "[CV]  model__max_depth=20, model__max_features=sqrt, model__min_samples_leaf=1, model__min_samples_split=2, model__n_estimators=200, preprocessing__num__imputer__strategy=median, total=   1.0s\n",
      "[CV] model__max_depth=20, model__max_features=sqrt, model__min_samples_leaf=1, model__min_samples_split=2, model__n_estimators=200, preprocessing__num__imputer__strategy=median \n",
      "[CV]  model__max_depth=20, model__max_features=sqrt, model__min_samples_leaf=1, model__min_samples_split=2, model__n_estimators=200, preprocessing__num__imputer__strategy=median, total=   0.8s\n",
      "[CV] model__max_depth=20, model__max_features=sqrt, model__min_samples_leaf=1, model__min_samples_split=2, model__n_estimators=200, preprocessing__num__imputer__strategy=median \n",
      "[CV]  model__max_depth=20, model__max_features=sqrt, model__min_samples_leaf=1, model__min_samples_split=2, model__n_estimators=200, preprocessing__num__imputer__strategy=median, total=   1.1s\n",
      "[CV] model__max_depth=20, model__max_features=sqrt, model__min_samples_leaf=1, model__min_samples_split=2, model__n_estimators=500, preprocessing__num__imputer__strategy=mean \n",
      "[CV]  model__max_depth=20, model__max_features=sqrt, model__min_samples_leaf=1, model__min_samples_split=2, model__n_estimators=500, preprocessing__num__imputer__strategy=mean, total=   2.7s\n",
      "[CV] model__max_depth=20, model__max_features=sqrt, model__min_samples_leaf=1, model__min_samples_split=2, model__n_estimators=500, preprocessing__num__imputer__strategy=mean \n",
      "[CV]  model__max_depth=20, model__max_features=sqrt, model__min_samples_leaf=1, model__min_samples_split=2, model__n_estimators=500, preprocessing__num__imputer__strategy=mean, total=   2.8s\n",
      "[CV] model__max_depth=20, model__max_features=sqrt, model__min_samples_leaf=1, model__min_samples_split=2, model__n_estimators=500, preprocessing__num__imputer__strategy=mean \n",
      "[CV]  model__max_depth=20, model__max_features=sqrt, model__min_samples_leaf=1, model__min_samples_split=2, model__n_estimators=500, preprocessing__num__imputer__strategy=mean, total=   3.9s\n",
      "[CV] model__max_depth=20, model__max_features=sqrt, model__min_samples_leaf=1, model__min_samples_split=2, model__n_estimators=500, preprocessing__num__imputer__strategy=mean \n",
      "[CV]  model__max_depth=20, model__max_features=sqrt, model__min_samples_leaf=1, model__min_samples_split=2, model__n_estimators=500, preprocessing__num__imputer__strategy=mean, total=   1.9s\n",
      "[CV] model__max_depth=20, model__max_features=sqrt, model__min_samples_leaf=1, model__min_samples_split=2, model__n_estimators=500, preprocessing__num__imputer__strategy=mean \n",
      "[CV]  model__max_depth=20, model__max_features=sqrt, model__min_samples_leaf=1, model__min_samples_split=2, model__n_estimators=500, preprocessing__num__imputer__strategy=mean, total=   1.5s\n",
      "[CV] model__max_depth=20, model__max_features=sqrt, model__min_samples_leaf=1, model__min_samples_split=2, model__n_estimators=500, preprocessing__num__imputer__strategy=median \n",
      "[CV]  model__max_depth=20, model__max_features=sqrt, model__min_samples_leaf=1, model__min_samples_split=2, model__n_estimators=500, preprocessing__num__imputer__strategy=median, total=   1.2s\n",
      "[CV] model__max_depth=20, model__max_features=sqrt, model__min_samples_leaf=1, model__min_samples_split=2, model__n_estimators=500, preprocessing__num__imputer__strategy=median \n",
      "[CV]  model__max_depth=20, model__max_features=sqrt, model__min_samples_leaf=1, model__min_samples_split=2, model__n_estimators=500, preprocessing__num__imputer__strategy=median, total=   2.8s\n",
      "[CV] model__max_depth=20, model__max_features=sqrt, model__min_samples_leaf=1, model__min_samples_split=2, model__n_estimators=500, preprocessing__num__imputer__strategy=median \n",
      "[CV]  model__max_depth=20, model__max_features=sqrt, model__min_samples_leaf=1, model__min_samples_split=2, model__n_estimators=500, preprocessing__num__imputer__strategy=median, total=   2.3s\n",
      "[CV] model__max_depth=20, model__max_features=sqrt, model__min_samples_leaf=1, model__min_samples_split=2, model__n_estimators=500, preprocessing__num__imputer__strategy=median \n",
      "[CV]  model__max_depth=20, model__max_features=sqrt, model__min_samples_leaf=1, model__min_samples_split=2, model__n_estimators=500, preprocessing__num__imputer__strategy=median, total=   1.1s\n",
      "[CV] model__max_depth=20, model__max_features=sqrt, model__min_samples_leaf=1, model__min_samples_split=2, model__n_estimators=500, preprocessing__num__imputer__strategy=median \n",
      "[CV]  model__max_depth=20, model__max_features=sqrt, model__min_samples_leaf=1, model__min_samples_split=2, model__n_estimators=500, preprocessing__num__imputer__strategy=median, total=   1.1s\n",
      "[CV] model__max_depth=20, model__max_features=sqrt, model__min_samples_leaf=1, model__min_samples_split=4, model__n_estimators=100, preprocessing__num__imputer__strategy=mean \n",
      "[CV]  model__max_depth=20, model__max_features=sqrt, model__min_samples_leaf=1, model__min_samples_split=4, model__n_estimators=100, preprocessing__num__imputer__strategy=mean, total=   0.2s\n",
      "[CV] model__max_depth=20, model__max_features=sqrt, model__min_samples_leaf=1, model__min_samples_split=4, model__n_estimators=100, preprocessing__num__imputer__strategy=mean \n",
      "[CV]  model__max_depth=20, model__max_features=sqrt, model__min_samples_leaf=1, model__min_samples_split=4, model__n_estimators=100, preprocessing__num__imputer__strategy=mean, total=   0.3s\n",
      "[CV] model__max_depth=20, model__max_features=sqrt, model__min_samples_leaf=1, model__min_samples_split=4, model__n_estimators=100, preprocessing__num__imputer__strategy=mean \n"
     ]
    },
    {
     "name": "stdout",
     "output_type": "stream",
     "text": [
      "[CV]  model__max_depth=20, model__max_features=sqrt, model__min_samples_leaf=1, model__min_samples_split=4, model__n_estimators=100, preprocessing__num__imputer__strategy=mean, total=   0.2s\n",
      "[CV] model__max_depth=20, model__max_features=sqrt, model__min_samples_leaf=1, model__min_samples_split=4, model__n_estimators=100, preprocessing__num__imputer__strategy=mean \n",
      "[CV]  model__max_depth=20, model__max_features=sqrt, model__min_samples_leaf=1, model__min_samples_split=4, model__n_estimators=100, preprocessing__num__imputer__strategy=mean, total=   0.3s\n",
      "[CV] model__max_depth=20, model__max_features=sqrt, model__min_samples_leaf=1, model__min_samples_split=4, model__n_estimators=100, preprocessing__num__imputer__strategy=mean \n",
      "[CV]  model__max_depth=20, model__max_features=sqrt, model__min_samples_leaf=1, model__min_samples_split=4, model__n_estimators=100, preprocessing__num__imputer__strategy=mean, total=   0.3s\n",
      "[CV] model__max_depth=20, model__max_features=sqrt, model__min_samples_leaf=1, model__min_samples_split=4, model__n_estimators=100, preprocessing__num__imputer__strategy=median \n",
      "[CV]  model__max_depth=20, model__max_features=sqrt, model__min_samples_leaf=1, model__min_samples_split=4, model__n_estimators=100, preprocessing__num__imputer__strategy=median, total=   0.2s\n",
      "[CV] model__max_depth=20, model__max_features=sqrt, model__min_samples_leaf=1, model__min_samples_split=4, model__n_estimators=100, preprocessing__num__imputer__strategy=median \n",
      "[CV]  model__max_depth=20, model__max_features=sqrt, model__min_samples_leaf=1, model__min_samples_split=4, model__n_estimators=100, preprocessing__num__imputer__strategy=median, total=   0.3s\n",
      "[CV] model__max_depth=20, model__max_features=sqrt, model__min_samples_leaf=1, model__min_samples_split=4, model__n_estimators=100, preprocessing__num__imputer__strategy=median \n",
      "[CV]  model__max_depth=20, model__max_features=sqrt, model__min_samples_leaf=1, model__min_samples_split=4, model__n_estimators=100, preprocessing__num__imputer__strategy=median, total=   0.2s\n",
      "[CV] model__max_depth=20, model__max_features=sqrt, model__min_samples_leaf=1, model__min_samples_split=4, model__n_estimators=100, preprocessing__num__imputer__strategy=median \n",
      "[CV]  model__max_depth=20, model__max_features=sqrt, model__min_samples_leaf=1, model__min_samples_split=4, model__n_estimators=100, preprocessing__num__imputer__strategy=median, total=   0.3s\n",
      "[CV] model__max_depth=20, model__max_features=sqrt, model__min_samples_leaf=1, model__min_samples_split=4, model__n_estimators=100, preprocessing__num__imputer__strategy=median \n",
      "[CV]  model__max_depth=20, model__max_features=sqrt, model__min_samples_leaf=1, model__min_samples_split=4, model__n_estimators=100, preprocessing__num__imputer__strategy=median, total=   0.3s\n",
      "[CV] model__max_depth=20, model__max_features=sqrt, model__min_samples_leaf=1, model__min_samples_split=4, model__n_estimators=200, preprocessing__num__imputer__strategy=mean \n",
      "[CV]  model__max_depth=20, model__max_features=sqrt, model__min_samples_leaf=1, model__min_samples_split=4, model__n_estimators=200, preprocessing__num__imputer__strategy=mean, total=   0.4s\n",
      "[CV] model__max_depth=20, model__max_features=sqrt, model__min_samples_leaf=1, model__min_samples_split=4, model__n_estimators=200, preprocessing__num__imputer__strategy=mean \n",
      "[CV]  model__max_depth=20, model__max_features=sqrt, model__min_samples_leaf=1, model__min_samples_split=4, model__n_estimators=200, preprocessing__num__imputer__strategy=mean, total=   0.4s\n",
      "[CV] model__max_depth=20, model__max_features=sqrt, model__min_samples_leaf=1, model__min_samples_split=4, model__n_estimators=200, preprocessing__num__imputer__strategy=mean \n",
      "[CV]  model__max_depth=20, model__max_features=sqrt, model__min_samples_leaf=1, model__min_samples_split=4, model__n_estimators=200, preprocessing__num__imputer__strategy=mean, total=   0.4s\n",
      "[CV] model__max_depth=20, model__max_features=sqrt, model__min_samples_leaf=1, model__min_samples_split=4, model__n_estimators=200, preprocessing__num__imputer__strategy=mean \n",
      "[CV]  model__max_depth=20, model__max_features=sqrt, model__min_samples_leaf=1, model__min_samples_split=4, model__n_estimators=200, preprocessing__num__imputer__strategy=mean, total=   0.4s\n",
      "[CV] model__max_depth=20, model__max_features=sqrt, model__min_samples_leaf=1, model__min_samples_split=4, model__n_estimators=200, preprocessing__num__imputer__strategy=mean \n",
      "[CV]  model__max_depth=20, model__max_features=sqrt, model__min_samples_leaf=1, model__min_samples_split=4, model__n_estimators=200, preprocessing__num__imputer__strategy=mean, total=   0.4s\n",
      "[CV] model__max_depth=20, model__max_features=sqrt, model__min_samples_leaf=1, model__min_samples_split=4, model__n_estimators=200, preprocessing__num__imputer__strategy=median \n",
      "[CV]  model__max_depth=20, model__max_features=sqrt, model__min_samples_leaf=1, model__min_samples_split=4, model__n_estimators=200, preprocessing__num__imputer__strategy=median, total=   0.5s\n",
      "[CV] model__max_depth=20, model__max_features=sqrt, model__min_samples_leaf=1, model__min_samples_split=4, model__n_estimators=200, preprocessing__num__imputer__strategy=median \n",
      "[CV]  model__max_depth=20, model__max_features=sqrt, model__min_samples_leaf=1, model__min_samples_split=4, model__n_estimators=200, preprocessing__num__imputer__strategy=median, total=   0.5s\n",
      "[CV] model__max_depth=20, model__max_features=sqrt, model__min_samples_leaf=1, model__min_samples_split=4, model__n_estimators=200, preprocessing__num__imputer__strategy=median \n",
      "[CV]  model__max_depth=20, model__max_features=sqrt, model__min_samples_leaf=1, model__min_samples_split=4, model__n_estimators=200, preprocessing__num__imputer__strategy=median, total=   0.4s\n",
      "[CV] model__max_depth=20, model__max_features=sqrt, model__min_samples_leaf=1, model__min_samples_split=4, model__n_estimators=200, preprocessing__num__imputer__strategy=median \n",
      "[CV]  model__max_depth=20, model__max_features=sqrt, model__min_samples_leaf=1, model__min_samples_split=4, model__n_estimators=200, preprocessing__num__imputer__strategy=median, total=   0.5s\n",
      "[CV] model__max_depth=20, model__max_features=sqrt, model__min_samples_leaf=1, model__min_samples_split=4, model__n_estimators=200, preprocessing__num__imputer__strategy=median \n",
      "[CV]  model__max_depth=20, model__max_features=sqrt, model__min_samples_leaf=1, model__min_samples_split=4, model__n_estimators=200, preprocessing__num__imputer__strategy=median, total=   0.4s\n",
      "[CV] model__max_depth=20, model__max_features=sqrt, model__min_samples_leaf=1, model__min_samples_split=4, model__n_estimators=500, preprocessing__num__imputer__strategy=mean \n",
      "[CV]  model__max_depth=20, model__max_features=sqrt, model__min_samples_leaf=1, model__min_samples_split=4, model__n_estimators=500, preprocessing__num__imputer__strategy=mean, total=   1.0s\n",
      "[CV] model__max_depth=20, model__max_features=sqrt, model__min_samples_leaf=1, model__min_samples_split=4, model__n_estimators=500, preprocessing__num__imputer__strategy=mean \n",
      "[CV]  model__max_depth=20, model__max_features=sqrt, model__min_samples_leaf=1, model__min_samples_split=4, model__n_estimators=500, preprocessing__num__imputer__strategy=mean, total=   1.0s\n",
      "[CV] model__max_depth=20, model__max_features=sqrt, model__min_samples_leaf=1, model__min_samples_split=4, model__n_estimators=500, preprocessing__num__imputer__strategy=mean \n",
      "[CV]  model__max_depth=20, model__max_features=sqrt, model__min_samples_leaf=1, model__min_samples_split=4, model__n_estimators=500, preprocessing__num__imputer__strategy=mean, total=   1.0s\n",
      "[CV] model__max_depth=20, model__max_features=sqrt, model__min_samples_leaf=1, model__min_samples_split=4, model__n_estimators=500, preprocessing__num__imputer__strategy=mean \n",
      "[CV]  model__max_depth=20, model__max_features=sqrt, model__min_samples_leaf=1, model__min_samples_split=4, model__n_estimators=500, preprocessing__num__imputer__strategy=mean, total=   1.0s\n",
      "[CV] model__max_depth=20, model__max_features=sqrt, model__min_samples_leaf=1, model__min_samples_split=4, model__n_estimators=500, preprocessing__num__imputer__strategy=mean \n",
      "[CV]  model__max_depth=20, model__max_features=sqrt, model__min_samples_leaf=1, model__min_samples_split=4, model__n_estimators=500, preprocessing__num__imputer__strategy=mean, total=   1.0s\n",
      "[CV] model__max_depth=20, model__max_features=sqrt, model__min_samples_leaf=1, model__min_samples_split=4, model__n_estimators=500, preprocessing__num__imputer__strategy=median \n"
     ]
    },
    {
     "name": "stdout",
     "output_type": "stream",
     "text": [
      "[CV]  model__max_depth=20, model__max_features=sqrt, model__min_samples_leaf=1, model__min_samples_split=4, model__n_estimators=500, preprocessing__num__imputer__strategy=median, total=   1.0s\n",
      "[CV] model__max_depth=20, model__max_features=sqrt, model__min_samples_leaf=1, model__min_samples_split=4, model__n_estimators=500, preprocessing__num__imputer__strategy=median \n",
      "[CV]  model__max_depth=20, model__max_features=sqrt, model__min_samples_leaf=1, model__min_samples_split=4, model__n_estimators=500, preprocessing__num__imputer__strategy=median, total=   1.9s\n",
      "[CV] model__max_depth=20, model__max_features=sqrt, model__min_samples_leaf=1, model__min_samples_split=4, model__n_estimators=500, preprocessing__num__imputer__strategy=median \n",
      "[CV]  model__max_depth=20, model__max_features=sqrt, model__min_samples_leaf=1, model__min_samples_split=4, model__n_estimators=500, preprocessing__num__imputer__strategy=median, total=   3.4s\n",
      "[CV] model__max_depth=20, model__max_features=sqrt, model__min_samples_leaf=1, model__min_samples_split=4, model__n_estimators=500, preprocessing__num__imputer__strategy=median \n",
      "[CV]  model__max_depth=20, model__max_features=sqrt, model__min_samples_leaf=1, model__min_samples_split=4, model__n_estimators=500, preprocessing__num__imputer__strategy=median, total=   1.8s\n",
      "[CV] model__max_depth=20, model__max_features=sqrt, model__min_samples_leaf=1, model__min_samples_split=4, model__n_estimators=500, preprocessing__num__imputer__strategy=median \n",
      "[CV]  model__max_depth=20, model__max_features=sqrt, model__min_samples_leaf=1, model__min_samples_split=4, model__n_estimators=500, preprocessing__num__imputer__strategy=median, total=   1.2s\n",
      "[CV] model__max_depth=20, model__max_features=sqrt, model__min_samples_leaf=2, model__min_samples_split=2, model__n_estimators=100, preprocessing__num__imputer__strategy=mean \n",
      "[CV]  model__max_depth=20, model__max_features=sqrt, model__min_samples_leaf=2, model__min_samples_split=2, model__n_estimators=100, preprocessing__num__imputer__strategy=mean, total=   0.2s\n",
      "[CV] model__max_depth=20, model__max_features=sqrt, model__min_samples_leaf=2, model__min_samples_split=2, model__n_estimators=100, preprocessing__num__imputer__strategy=mean \n",
      "[CV]  model__max_depth=20, model__max_features=sqrt, model__min_samples_leaf=2, model__min_samples_split=2, model__n_estimators=100, preprocessing__num__imputer__strategy=mean, total=   0.2s\n",
      "[CV] model__max_depth=20, model__max_features=sqrt, model__min_samples_leaf=2, model__min_samples_split=2, model__n_estimators=100, preprocessing__num__imputer__strategy=mean \n",
      "[CV]  model__max_depth=20, model__max_features=sqrt, model__min_samples_leaf=2, model__min_samples_split=2, model__n_estimators=100, preprocessing__num__imputer__strategy=mean, total=   0.2s\n",
      "[CV] model__max_depth=20, model__max_features=sqrt, model__min_samples_leaf=2, model__min_samples_split=2, model__n_estimators=100, preprocessing__num__imputer__strategy=mean \n",
      "[CV]  model__max_depth=20, model__max_features=sqrt, model__min_samples_leaf=2, model__min_samples_split=2, model__n_estimators=100, preprocessing__num__imputer__strategy=mean, total=   0.2s\n",
      "[CV] model__max_depth=20, model__max_features=sqrt, model__min_samples_leaf=2, model__min_samples_split=2, model__n_estimators=100, preprocessing__num__imputer__strategy=mean \n",
      "[CV]  model__max_depth=20, model__max_features=sqrt, model__min_samples_leaf=2, model__min_samples_split=2, model__n_estimators=100, preprocessing__num__imputer__strategy=mean, total=   0.2s\n",
      "[CV] model__max_depth=20, model__max_features=sqrt, model__min_samples_leaf=2, model__min_samples_split=2, model__n_estimators=100, preprocessing__num__imputer__strategy=median \n",
      "[CV]  model__max_depth=20, model__max_features=sqrt, model__min_samples_leaf=2, model__min_samples_split=2, model__n_estimators=100, preprocessing__num__imputer__strategy=median, total=   0.6s\n",
      "[CV] model__max_depth=20, model__max_features=sqrt, model__min_samples_leaf=2, model__min_samples_split=2, model__n_estimators=100, preprocessing__num__imputer__strategy=median \n",
      "[CV]  model__max_depth=20, model__max_features=sqrt, model__min_samples_leaf=2, model__min_samples_split=2, model__n_estimators=100, preprocessing__num__imputer__strategy=median, total=   0.7s\n",
      "[CV] model__max_depth=20, model__max_features=sqrt, model__min_samples_leaf=2, model__min_samples_split=2, model__n_estimators=100, preprocessing__num__imputer__strategy=median \n",
      "[CV]  model__max_depth=20, model__max_features=sqrt, model__min_samples_leaf=2, model__min_samples_split=2, model__n_estimators=100, preprocessing__num__imputer__strategy=median, total=   0.6s\n",
      "[CV] model__max_depth=20, model__max_features=sqrt, model__min_samples_leaf=2, model__min_samples_split=2, model__n_estimators=100, preprocessing__num__imputer__strategy=median \n",
      "[CV]  model__max_depth=20, model__max_features=sqrt, model__min_samples_leaf=2, model__min_samples_split=2, model__n_estimators=100, preprocessing__num__imputer__strategy=median, total=   0.4s\n",
      "[CV] model__max_depth=20, model__max_features=sqrt, model__min_samples_leaf=2, model__min_samples_split=2, model__n_estimators=100, preprocessing__num__imputer__strategy=median \n",
      "[CV]  model__max_depth=20, model__max_features=sqrt, model__min_samples_leaf=2, model__min_samples_split=2, model__n_estimators=100, preprocessing__num__imputer__strategy=median, total=   0.3s\n",
      "[CV] model__max_depth=20, model__max_features=sqrt, model__min_samples_leaf=2, model__min_samples_split=2, model__n_estimators=200, preprocessing__num__imputer__strategy=mean \n",
      "[CV]  model__max_depth=20, model__max_features=sqrt, model__min_samples_leaf=2, model__min_samples_split=2, model__n_estimators=200, preprocessing__num__imputer__strategy=mean, total=   0.5s\n",
      "[CV] model__max_depth=20, model__max_features=sqrt, model__min_samples_leaf=2, model__min_samples_split=2, model__n_estimators=200, preprocessing__num__imputer__strategy=mean \n",
      "[CV]  model__max_depth=20, model__max_features=sqrt, model__min_samples_leaf=2, model__min_samples_split=2, model__n_estimators=200, preprocessing__num__imputer__strategy=mean, total=   0.5s\n",
      "[CV] model__max_depth=20, model__max_features=sqrt, model__min_samples_leaf=2, model__min_samples_split=2, model__n_estimators=200, preprocessing__num__imputer__strategy=mean \n",
      "[CV]  model__max_depth=20, model__max_features=sqrt, model__min_samples_leaf=2, model__min_samples_split=2, model__n_estimators=200, preprocessing__num__imputer__strategy=mean, total=   0.4s\n",
      "[CV] model__max_depth=20, model__max_features=sqrt, model__min_samples_leaf=2, model__min_samples_split=2, model__n_estimators=200, preprocessing__num__imputer__strategy=mean \n",
      "[CV]  model__max_depth=20, model__max_features=sqrt, model__min_samples_leaf=2, model__min_samples_split=2, model__n_estimators=200, preprocessing__num__imputer__strategy=mean, total=   0.4s\n",
      "[CV] model__max_depth=20, model__max_features=sqrt, model__min_samples_leaf=2, model__min_samples_split=2, model__n_estimators=200, preprocessing__num__imputer__strategy=mean \n",
      "[CV]  model__max_depth=20, model__max_features=sqrt, model__min_samples_leaf=2, model__min_samples_split=2, model__n_estimators=200, preprocessing__num__imputer__strategy=mean, total=   0.4s\n",
      "[CV] model__max_depth=20, model__max_features=sqrt, model__min_samples_leaf=2, model__min_samples_split=2, model__n_estimators=200, preprocessing__num__imputer__strategy=median \n",
      "[CV]  model__max_depth=20, model__max_features=sqrt, model__min_samples_leaf=2, model__min_samples_split=2, model__n_estimators=200, preprocessing__num__imputer__strategy=median, total=   0.4s\n",
      "[CV] model__max_depth=20, model__max_features=sqrt, model__min_samples_leaf=2, model__min_samples_split=2, model__n_estimators=200, preprocessing__num__imputer__strategy=median \n",
      "[CV]  model__max_depth=20, model__max_features=sqrt, model__min_samples_leaf=2, model__min_samples_split=2, model__n_estimators=200, preprocessing__num__imputer__strategy=median, total=   0.4s\n",
      "[CV] model__max_depth=20, model__max_features=sqrt, model__min_samples_leaf=2, model__min_samples_split=2, model__n_estimators=200, preprocessing__num__imputer__strategy=median \n",
      "[CV]  model__max_depth=20, model__max_features=sqrt, model__min_samples_leaf=2, model__min_samples_split=2, model__n_estimators=200, preprocessing__num__imputer__strategy=median, total=   0.4s\n",
      "[CV] model__max_depth=20, model__max_features=sqrt, model__min_samples_leaf=2, model__min_samples_split=2, model__n_estimators=200, preprocessing__num__imputer__strategy=median \n"
     ]
    },
    {
     "name": "stdout",
     "output_type": "stream",
     "text": [
      "[CV]  model__max_depth=20, model__max_features=sqrt, model__min_samples_leaf=2, model__min_samples_split=2, model__n_estimators=200, preprocessing__num__imputer__strategy=median, total=   0.4s\n",
      "[CV] model__max_depth=20, model__max_features=sqrt, model__min_samples_leaf=2, model__min_samples_split=2, model__n_estimators=200, preprocessing__num__imputer__strategy=median \n",
      "[CV]  model__max_depth=20, model__max_features=sqrt, model__min_samples_leaf=2, model__min_samples_split=2, model__n_estimators=200, preprocessing__num__imputer__strategy=median, total=   0.5s\n",
      "[CV] model__max_depth=20, model__max_features=sqrt, model__min_samples_leaf=2, model__min_samples_split=2, model__n_estimators=500, preprocessing__num__imputer__strategy=mean \n",
      "[CV]  model__max_depth=20, model__max_features=sqrt, model__min_samples_leaf=2, model__min_samples_split=2, model__n_estimators=500, preprocessing__num__imputer__strategy=mean, total=   1.0s\n",
      "[CV] model__max_depth=20, model__max_features=sqrt, model__min_samples_leaf=2, model__min_samples_split=2, model__n_estimators=500, preprocessing__num__imputer__strategy=mean \n",
      "[CV]  model__max_depth=20, model__max_features=sqrt, model__min_samples_leaf=2, model__min_samples_split=2, model__n_estimators=500, preprocessing__num__imputer__strategy=mean, total=   1.0s\n",
      "[CV] model__max_depth=20, model__max_features=sqrt, model__min_samples_leaf=2, model__min_samples_split=2, model__n_estimators=500, preprocessing__num__imputer__strategy=mean \n",
      "[CV]  model__max_depth=20, model__max_features=sqrt, model__min_samples_leaf=2, model__min_samples_split=2, model__n_estimators=500, preprocessing__num__imputer__strategy=mean, total=   1.0s\n",
      "[CV] model__max_depth=20, model__max_features=sqrt, model__min_samples_leaf=2, model__min_samples_split=2, model__n_estimators=500, preprocessing__num__imputer__strategy=mean \n",
      "[CV]  model__max_depth=20, model__max_features=sqrt, model__min_samples_leaf=2, model__min_samples_split=2, model__n_estimators=500, preprocessing__num__imputer__strategy=mean, total=   1.0s\n",
      "[CV] model__max_depth=20, model__max_features=sqrt, model__min_samples_leaf=2, model__min_samples_split=2, model__n_estimators=500, preprocessing__num__imputer__strategy=mean \n",
      "[CV]  model__max_depth=20, model__max_features=sqrt, model__min_samples_leaf=2, model__min_samples_split=2, model__n_estimators=500, preprocessing__num__imputer__strategy=mean, total=   2.4s\n",
      "[CV] model__max_depth=20, model__max_features=sqrt, model__min_samples_leaf=2, model__min_samples_split=2, model__n_estimators=500, preprocessing__num__imputer__strategy=median \n",
      "[CV]  model__max_depth=20, model__max_features=sqrt, model__min_samples_leaf=2, model__min_samples_split=2, model__n_estimators=500, preprocessing__num__imputer__strategy=median, total=   2.4s\n",
      "[CV] model__max_depth=20, model__max_features=sqrt, model__min_samples_leaf=2, model__min_samples_split=2, model__n_estimators=500, preprocessing__num__imputer__strategy=median \n",
      "[CV]  model__max_depth=20, model__max_features=sqrt, model__min_samples_leaf=2, model__min_samples_split=2, model__n_estimators=500, preprocessing__num__imputer__strategy=median, total=   1.1s\n",
      "[CV] model__max_depth=20, model__max_features=sqrt, model__min_samples_leaf=2, model__min_samples_split=2, model__n_estimators=500, preprocessing__num__imputer__strategy=median \n",
      "[CV]  model__max_depth=20, model__max_features=sqrt, model__min_samples_leaf=2, model__min_samples_split=2, model__n_estimators=500, preprocessing__num__imputer__strategy=median, total=   1.0s\n",
      "[CV] model__max_depth=20, model__max_features=sqrt, model__min_samples_leaf=2, model__min_samples_split=2, model__n_estimators=500, preprocessing__num__imputer__strategy=median \n",
      "[CV]  model__max_depth=20, model__max_features=sqrt, model__min_samples_leaf=2, model__min_samples_split=2, model__n_estimators=500, preprocessing__num__imputer__strategy=median, total=   1.0s\n",
      "[CV] model__max_depth=20, model__max_features=sqrt, model__min_samples_leaf=2, model__min_samples_split=2, model__n_estimators=500, preprocessing__num__imputer__strategy=median \n",
      "[CV]  model__max_depth=20, model__max_features=sqrt, model__min_samples_leaf=2, model__min_samples_split=2, model__n_estimators=500, preprocessing__num__imputer__strategy=median, total=   1.0s\n",
      "[CV] model__max_depth=20, model__max_features=sqrt, model__min_samples_leaf=2, model__min_samples_split=4, model__n_estimators=100, preprocessing__num__imputer__strategy=mean \n",
      "[CV]  model__max_depth=20, model__max_features=sqrt, model__min_samples_leaf=2, model__min_samples_split=4, model__n_estimators=100, preprocessing__num__imputer__strategy=mean, total=   0.2s\n",
      "[CV] model__max_depth=20, model__max_features=sqrt, model__min_samples_leaf=2, model__min_samples_split=4, model__n_estimators=100, preprocessing__num__imputer__strategy=mean \n",
      "[CV]  model__max_depth=20, model__max_features=sqrt, model__min_samples_leaf=2, model__min_samples_split=4, model__n_estimators=100, preprocessing__num__imputer__strategy=mean, total=   0.2s\n",
      "[CV] model__max_depth=20, model__max_features=sqrt, model__min_samples_leaf=2, model__min_samples_split=4, model__n_estimators=100, preprocessing__num__imputer__strategy=mean \n",
      "[CV]  model__max_depth=20, model__max_features=sqrt, model__min_samples_leaf=2, model__min_samples_split=4, model__n_estimators=100, preprocessing__num__imputer__strategy=mean, total=   0.3s\n",
      "[CV] model__max_depth=20, model__max_features=sqrt, model__min_samples_leaf=2, model__min_samples_split=4, model__n_estimators=100, preprocessing__num__imputer__strategy=mean \n",
      "[CV]  model__max_depth=20, model__max_features=sqrt, model__min_samples_leaf=2, model__min_samples_split=4, model__n_estimators=100, preprocessing__num__imputer__strategy=mean, total=   0.5s\n",
      "[CV] model__max_depth=20, model__max_features=sqrt, model__min_samples_leaf=2, model__min_samples_split=4, model__n_estimators=100, preprocessing__num__imputer__strategy=mean \n",
      "[CV]  model__max_depth=20, model__max_features=sqrt, model__min_samples_leaf=2, model__min_samples_split=4, model__n_estimators=100, preprocessing__num__imputer__strategy=mean, total=   0.7s\n",
      "[CV] model__max_depth=20, model__max_features=sqrt, model__min_samples_leaf=2, model__min_samples_split=4, model__n_estimators=100, preprocessing__num__imputer__strategy=median \n",
      "[CV]  model__max_depth=20, model__max_features=sqrt, model__min_samples_leaf=2, model__min_samples_split=4, model__n_estimators=100, preprocessing__num__imputer__strategy=median, total=   0.6s\n",
      "[CV] model__max_depth=20, model__max_features=sqrt, model__min_samples_leaf=2, model__min_samples_split=4, model__n_estimators=100, preprocessing__num__imputer__strategy=median \n",
      "[CV]  model__max_depth=20, model__max_features=sqrt, model__min_samples_leaf=2, model__min_samples_split=4, model__n_estimators=100, preprocessing__num__imputer__strategy=median, total=   0.8s\n",
      "[CV] model__max_depth=20, model__max_features=sqrt, model__min_samples_leaf=2, model__min_samples_split=4, model__n_estimators=100, preprocessing__num__imputer__strategy=median \n",
      "[CV]  model__max_depth=20, model__max_features=sqrt, model__min_samples_leaf=2, model__min_samples_split=4, model__n_estimators=100, preprocessing__num__imputer__strategy=median, total=   1.1s\n",
      "[CV] model__max_depth=20, model__max_features=sqrt, model__min_samples_leaf=2, model__min_samples_split=4, model__n_estimators=100, preprocessing__num__imputer__strategy=median \n",
      "[CV]  model__max_depth=20, model__max_features=sqrt, model__min_samples_leaf=2, model__min_samples_split=4, model__n_estimators=100, preprocessing__num__imputer__strategy=median, total=   0.8s\n",
      "[CV] model__max_depth=20, model__max_features=sqrt, model__min_samples_leaf=2, model__min_samples_split=4, model__n_estimators=100, preprocessing__num__imputer__strategy=median \n",
      "[CV]  model__max_depth=20, model__max_features=sqrt, model__min_samples_leaf=2, model__min_samples_split=4, model__n_estimators=100, preprocessing__num__imputer__strategy=median, total=   0.8s\n",
      "[CV] model__max_depth=20, model__max_features=sqrt, model__min_samples_leaf=2, model__min_samples_split=4, model__n_estimators=200, preprocessing__num__imputer__strategy=mean \n",
      "[CV]  model__max_depth=20, model__max_features=sqrt, model__min_samples_leaf=2, model__min_samples_split=4, model__n_estimators=200, preprocessing__num__imputer__strategy=mean, total=   1.5s\n",
      "[CV] model__max_depth=20, model__max_features=sqrt, model__min_samples_leaf=2, model__min_samples_split=4, model__n_estimators=200, preprocessing__num__imputer__strategy=mean \n"
     ]
    },
    {
     "name": "stdout",
     "output_type": "stream",
     "text": [
      "[CV]  model__max_depth=20, model__max_features=sqrt, model__min_samples_leaf=2, model__min_samples_split=4, model__n_estimators=200, preprocessing__num__imputer__strategy=mean, total=   1.0s\n",
      "[CV] model__max_depth=20, model__max_features=sqrt, model__min_samples_leaf=2, model__min_samples_split=4, model__n_estimators=200, preprocessing__num__imputer__strategy=mean \n",
      "[CV]  model__max_depth=20, model__max_features=sqrt, model__min_samples_leaf=2, model__min_samples_split=4, model__n_estimators=200, preprocessing__num__imputer__strategy=mean, total=   0.5s\n",
      "[CV] model__max_depth=20, model__max_features=sqrt, model__min_samples_leaf=2, model__min_samples_split=4, model__n_estimators=200, preprocessing__num__imputer__strategy=mean \n",
      "[CV]  model__max_depth=20, model__max_features=sqrt, model__min_samples_leaf=2, model__min_samples_split=4, model__n_estimators=200, preprocessing__num__imputer__strategy=mean, total=   0.8s\n",
      "[CV] model__max_depth=20, model__max_features=sqrt, model__min_samples_leaf=2, model__min_samples_split=4, model__n_estimators=200, preprocessing__num__imputer__strategy=mean \n",
      "[CV]  model__max_depth=20, model__max_features=sqrt, model__min_samples_leaf=2, model__min_samples_split=4, model__n_estimators=200, preprocessing__num__imputer__strategy=mean, total=   1.0s\n",
      "[CV] model__max_depth=20, model__max_features=sqrt, model__min_samples_leaf=2, model__min_samples_split=4, model__n_estimators=200, preprocessing__num__imputer__strategy=median \n",
      "[CV]  model__max_depth=20, model__max_features=sqrt, model__min_samples_leaf=2, model__min_samples_split=4, model__n_estimators=200, preprocessing__num__imputer__strategy=median, total=   0.5s\n",
      "[CV] model__max_depth=20, model__max_features=sqrt, model__min_samples_leaf=2, model__min_samples_split=4, model__n_estimators=200, preprocessing__num__imputer__strategy=median \n",
      "[CV]  model__max_depth=20, model__max_features=sqrt, model__min_samples_leaf=2, model__min_samples_split=4, model__n_estimators=200, preprocessing__num__imputer__strategy=median, total=   0.5s\n",
      "[CV] model__max_depth=20, model__max_features=sqrt, model__min_samples_leaf=2, model__min_samples_split=4, model__n_estimators=200, preprocessing__num__imputer__strategy=median \n",
      "[CV]  model__max_depth=20, model__max_features=sqrt, model__min_samples_leaf=2, model__min_samples_split=4, model__n_estimators=200, preprocessing__num__imputer__strategy=median, total=   0.6s\n",
      "[CV] model__max_depth=20, model__max_features=sqrt, model__min_samples_leaf=2, model__min_samples_split=4, model__n_estimators=200, preprocessing__num__imputer__strategy=median \n",
      "[CV]  model__max_depth=20, model__max_features=sqrt, model__min_samples_leaf=2, model__min_samples_split=4, model__n_estimators=200, preprocessing__num__imputer__strategy=median, total=   1.3s\n",
      "[CV] model__max_depth=20, model__max_features=sqrt, model__min_samples_leaf=2, model__min_samples_split=4, model__n_estimators=200, preprocessing__num__imputer__strategy=median \n",
      "[CV]  model__max_depth=20, model__max_features=sqrt, model__min_samples_leaf=2, model__min_samples_split=4, model__n_estimators=200, preprocessing__num__imputer__strategy=median, total=   0.8s\n",
      "[CV] model__max_depth=20, model__max_features=sqrt, model__min_samples_leaf=2, model__min_samples_split=4, model__n_estimators=500, preprocessing__num__imputer__strategy=mean \n",
      "[CV]  model__max_depth=20, model__max_features=sqrt, model__min_samples_leaf=2, model__min_samples_split=4, model__n_estimators=500, preprocessing__num__imputer__strategy=mean, total=   3.4s\n",
      "[CV] model__max_depth=20, model__max_features=sqrt, model__min_samples_leaf=2, model__min_samples_split=4, model__n_estimators=500, preprocessing__num__imputer__strategy=mean \n",
      "[CV]  model__max_depth=20, model__max_features=sqrt, model__min_samples_leaf=2, model__min_samples_split=4, model__n_estimators=500, preprocessing__num__imputer__strategy=mean, total=   1.4s\n",
      "[CV] model__max_depth=20, model__max_features=sqrt, model__min_samples_leaf=2, model__min_samples_split=4, model__n_estimators=500, preprocessing__num__imputer__strategy=mean \n",
      "[CV]  model__max_depth=20, model__max_features=sqrt, model__min_samples_leaf=2, model__min_samples_split=4, model__n_estimators=500, preprocessing__num__imputer__strategy=mean, total=   1.2s\n",
      "[CV] model__max_depth=20, model__max_features=sqrt, model__min_samples_leaf=2, model__min_samples_split=4, model__n_estimators=500, preprocessing__num__imputer__strategy=mean \n",
      "[CV]  model__max_depth=20, model__max_features=sqrt, model__min_samples_leaf=2, model__min_samples_split=4, model__n_estimators=500, preprocessing__num__imputer__strategy=mean, total=   1.2s\n",
      "[CV] model__max_depth=20, model__max_features=sqrt, model__min_samples_leaf=2, model__min_samples_split=4, model__n_estimators=500, preprocessing__num__imputer__strategy=mean \n",
      "[CV]  model__max_depth=20, model__max_features=sqrt, model__min_samples_leaf=2, model__min_samples_split=4, model__n_estimators=500, preprocessing__num__imputer__strategy=mean, total=   1.3s\n",
      "[CV] model__max_depth=20, model__max_features=sqrt, model__min_samples_leaf=2, model__min_samples_split=4, model__n_estimators=500, preprocessing__num__imputer__strategy=median \n",
      "[CV]  model__max_depth=20, model__max_features=sqrt, model__min_samples_leaf=2, model__min_samples_split=4, model__n_estimators=500, preprocessing__num__imputer__strategy=median, total=   1.2s\n",
      "[CV] model__max_depth=20, model__max_features=sqrt, model__min_samples_leaf=2, model__min_samples_split=4, model__n_estimators=500, preprocessing__num__imputer__strategy=median \n",
      "[CV]  model__max_depth=20, model__max_features=sqrt, model__min_samples_leaf=2, model__min_samples_split=4, model__n_estimators=500, preprocessing__num__imputer__strategy=median, total=   1.2s\n",
      "[CV] model__max_depth=20, model__max_features=sqrt, model__min_samples_leaf=2, model__min_samples_split=4, model__n_estimators=500, preprocessing__num__imputer__strategy=median \n",
      "[CV]  model__max_depth=20, model__max_features=sqrt, model__min_samples_leaf=2, model__min_samples_split=4, model__n_estimators=500, preprocessing__num__imputer__strategy=median, total=   1.3s\n",
      "[CV] model__max_depth=20, model__max_features=sqrt, model__min_samples_leaf=2, model__min_samples_split=4, model__n_estimators=500, preprocessing__num__imputer__strategy=median \n",
      "[CV]  model__max_depth=20, model__max_features=sqrt, model__min_samples_leaf=2, model__min_samples_split=4, model__n_estimators=500, preprocessing__num__imputer__strategy=median, total=   1.5s\n",
      "[CV] model__max_depth=20, model__max_features=sqrt, model__min_samples_leaf=2, model__min_samples_split=4, model__n_estimators=500, preprocessing__num__imputer__strategy=median \n",
      "[CV]  model__max_depth=20, model__max_features=sqrt, model__min_samples_leaf=2, model__min_samples_split=4, model__n_estimators=500, preprocessing__num__imputer__strategy=median, total=   2.3s\n",
      "[CV] model__max_depth=30, model__max_features=auto, model__min_samples_leaf=1, model__min_samples_split=2, model__n_estimators=100, preprocessing__num__imputer__strategy=mean \n",
      "[CV]  model__max_depth=30, model__max_features=auto, model__min_samples_leaf=1, model__min_samples_split=2, model__n_estimators=100, preprocessing__num__imputer__strategy=mean, total=   0.4s\n",
      "[CV] model__max_depth=30, model__max_features=auto, model__min_samples_leaf=1, model__min_samples_split=2, model__n_estimators=100, preprocessing__num__imputer__strategy=mean \n",
      "[CV]  model__max_depth=30, model__max_features=auto, model__min_samples_leaf=1, model__min_samples_split=2, model__n_estimators=100, preprocessing__num__imputer__strategy=mean, total=   0.4s\n",
      "[CV] model__max_depth=30, model__max_features=auto, model__min_samples_leaf=1, model__min_samples_split=2, model__n_estimators=100, preprocessing__num__imputer__strategy=mean \n",
      "[CV]  model__max_depth=30, model__max_features=auto, model__min_samples_leaf=1, model__min_samples_split=2, model__n_estimators=100, preprocessing__num__imputer__strategy=mean, total=   0.4s\n",
      "[CV] model__max_depth=30, model__max_features=auto, model__min_samples_leaf=1, model__min_samples_split=2, model__n_estimators=100, preprocessing__num__imputer__strategy=mean \n",
      "[CV]  model__max_depth=30, model__max_features=auto, model__min_samples_leaf=1, model__min_samples_split=2, model__n_estimators=100, preprocessing__num__imputer__strategy=mean, total=   0.4s\n",
      "[CV] model__max_depth=30, model__max_features=auto, model__min_samples_leaf=1, model__min_samples_split=2, model__n_estimators=100, preprocessing__num__imputer__strategy=mean \n"
     ]
    },
    {
     "name": "stdout",
     "output_type": "stream",
     "text": [
      "[CV]  model__max_depth=30, model__max_features=auto, model__min_samples_leaf=1, model__min_samples_split=2, model__n_estimators=100, preprocessing__num__imputer__strategy=mean, total=   0.3s\n",
      "[CV] model__max_depth=30, model__max_features=auto, model__min_samples_leaf=1, model__min_samples_split=2, model__n_estimators=100, preprocessing__num__imputer__strategy=median \n",
      "[CV]  model__max_depth=30, model__max_features=auto, model__min_samples_leaf=1, model__min_samples_split=2, model__n_estimators=100, preprocessing__num__imputer__strategy=median, total=   0.3s\n",
      "[CV] model__max_depth=30, model__max_features=auto, model__min_samples_leaf=1, model__min_samples_split=2, model__n_estimators=100, preprocessing__num__imputer__strategy=median \n",
      "[CV]  model__max_depth=30, model__max_features=auto, model__min_samples_leaf=1, model__min_samples_split=2, model__n_estimators=100, preprocessing__num__imputer__strategy=median, total=   0.3s\n",
      "[CV] model__max_depth=30, model__max_features=auto, model__min_samples_leaf=1, model__min_samples_split=2, model__n_estimators=100, preprocessing__num__imputer__strategy=median \n",
      "[CV]  model__max_depth=30, model__max_features=auto, model__min_samples_leaf=1, model__min_samples_split=2, model__n_estimators=100, preprocessing__num__imputer__strategy=median, total=   0.3s\n",
      "[CV] model__max_depth=30, model__max_features=auto, model__min_samples_leaf=1, model__min_samples_split=2, model__n_estimators=100, preprocessing__num__imputer__strategy=median \n",
      "[CV]  model__max_depth=30, model__max_features=auto, model__min_samples_leaf=1, model__min_samples_split=2, model__n_estimators=100, preprocessing__num__imputer__strategy=median, total=   0.3s\n",
      "[CV] model__max_depth=30, model__max_features=auto, model__min_samples_leaf=1, model__min_samples_split=2, model__n_estimators=100, preprocessing__num__imputer__strategy=median \n",
      "[CV]  model__max_depth=30, model__max_features=auto, model__min_samples_leaf=1, model__min_samples_split=2, model__n_estimators=100, preprocessing__num__imputer__strategy=median, total=   0.3s\n",
      "[CV] model__max_depth=30, model__max_features=auto, model__min_samples_leaf=1, model__min_samples_split=2, model__n_estimators=200, preprocessing__num__imputer__strategy=mean \n",
      "[CV]  model__max_depth=30, model__max_features=auto, model__min_samples_leaf=1, model__min_samples_split=2, model__n_estimators=200, preprocessing__num__imputer__strategy=mean, total=   0.6s\n",
      "[CV] model__max_depth=30, model__max_features=auto, model__min_samples_leaf=1, model__min_samples_split=2, model__n_estimators=200, preprocessing__num__imputer__strategy=mean \n",
      "[CV]  model__max_depth=30, model__max_features=auto, model__min_samples_leaf=1, model__min_samples_split=2, model__n_estimators=200, preprocessing__num__imputer__strategy=mean, total=   0.6s\n",
      "[CV] model__max_depth=30, model__max_features=auto, model__min_samples_leaf=1, model__min_samples_split=2, model__n_estimators=200, preprocessing__num__imputer__strategy=mean \n",
      "[CV]  model__max_depth=30, model__max_features=auto, model__min_samples_leaf=1, model__min_samples_split=2, model__n_estimators=200, preprocessing__num__imputer__strategy=mean, total=   0.6s\n",
      "[CV] model__max_depth=30, model__max_features=auto, model__min_samples_leaf=1, model__min_samples_split=2, model__n_estimators=200, preprocessing__num__imputer__strategy=mean \n",
      "[CV]  model__max_depth=30, model__max_features=auto, model__min_samples_leaf=1, model__min_samples_split=2, model__n_estimators=200, preprocessing__num__imputer__strategy=mean, total=   2.0s\n",
      "[CV] model__max_depth=30, model__max_features=auto, model__min_samples_leaf=1, model__min_samples_split=2, model__n_estimators=200, preprocessing__num__imputer__strategy=mean \n",
      "[CV]  model__max_depth=30, model__max_features=auto, model__min_samples_leaf=1, model__min_samples_split=2, model__n_estimators=200, preprocessing__num__imputer__strategy=mean, total=   0.7s\n",
      "[CV] model__max_depth=30, model__max_features=auto, model__min_samples_leaf=1, model__min_samples_split=2, model__n_estimators=200, preprocessing__num__imputer__strategy=median \n",
      "[CV]  model__max_depth=30, model__max_features=auto, model__min_samples_leaf=1, model__min_samples_split=2, model__n_estimators=200, preprocessing__num__imputer__strategy=median, total=   0.7s\n",
      "[CV] model__max_depth=30, model__max_features=auto, model__min_samples_leaf=1, model__min_samples_split=2, model__n_estimators=200, preprocessing__num__imputer__strategy=median \n",
      "[CV]  model__max_depth=30, model__max_features=auto, model__min_samples_leaf=1, model__min_samples_split=2, model__n_estimators=200, preprocessing__num__imputer__strategy=median, total=   0.7s\n",
      "[CV] model__max_depth=30, model__max_features=auto, model__min_samples_leaf=1, model__min_samples_split=2, model__n_estimators=200, preprocessing__num__imputer__strategy=median \n",
      "[CV]  model__max_depth=30, model__max_features=auto, model__min_samples_leaf=1, model__min_samples_split=2, model__n_estimators=200, preprocessing__num__imputer__strategy=median, total=   0.6s\n",
      "[CV] model__max_depth=30, model__max_features=auto, model__min_samples_leaf=1, model__min_samples_split=2, model__n_estimators=200, preprocessing__num__imputer__strategy=median \n",
      "[CV]  model__max_depth=30, model__max_features=auto, model__min_samples_leaf=1, model__min_samples_split=2, model__n_estimators=200, preprocessing__num__imputer__strategy=median, total=   0.6s\n",
      "[CV] model__max_depth=30, model__max_features=auto, model__min_samples_leaf=1, model__min_samples_split=2, model__n_estimators=200, preprocessing__num__imputer__strategy=median \n",
      "[CV]  model__max_depth=30, model__max_features=auto, model__min_samples_leaf=1, model__min_samples_split=2, model__n_estimators=200, preprocessing__num__imputer__strategy=median, total=   0.6s\n",
      "[CV] model__max_depth=30, model__max_features=auto, model__min_samples_leaf=1, model__min_samples_split=2, model__n_estimators=500, preprocessing__num__imputer__strategy=mean \n",
      "[CV]  model__max_depth=30, model__max_features=auto, model__min_samples_leaf=1, model__min_samples_split=2, model__n_estimators=500, preprocessing__num__imputer__strategy=mean, total=   1.6s\n",
      "[CV] model__max_depth=30, model__max_features=auto, model__min_samples_leaf=1, model__min_samples_split=2, model__n_estimators=500, preprocessing__num__imputer__strategy=mean \n",
      "[CV]  model__max_depth=30, model__max_features=auto, model__min_samples_leaf=1, model__min_samples_split=2, model__n_estimators=500, preprocessing__num__imputer__strategy=mean, total=   1.3s\n",
      "[CV] model__max_depth=30, model__max_features=auto, model__min_samples_leaf=1, model__min_samples_split=2, model__n_estimators=500, preprocessing__num__imputer__strategy=mean \n",
      "[CV]  model__max_depth=30, model__max_features=auto, model__min_samples_leaf=1, model__min_samples_split=2, model__n_estimators=500, preprocessing__num__imputer__strategy=mean, total=   1.2s\n",
      "[CV] model__max_depth=30, model__max_features=auto, model__min_samples_leaf=1, model__min_samples_split=2, model__n_estimators=500, preprocessing__num__imputer__strategy=mean \n",
      "[CV]  model__max_depth=30, model__max_features=auto, model__min_samples_leaf=1, model__min_samples_split=2, model__n_estimators=500, preprocessing__num__imputer__strategy=mean, total=   1.3s\n",
      "[CV] model__max_depth=30, model__max_features=auto, model__min_samples_leaf=1, model__min_samples_split=2, model__n_estimators=500, preprocessing__num__imputer__strategy=mean \n",
      "[CV]  model__max_depth=30, model__max_features=auto, model__min_samples_leaf=1, model__min_samples_split=2, model__n_estimators=500, preprocessing__num__imputer__strategy=mean, total=   1.6s\n",
      "[CV] model__max_depth=30, model__max_features=auto, model__min_samples_leaf=1, model__min_samples_split=2, model__n_estimators=500, preprocessing__num__imputer__strategy=median \n",
      "[CV]  model__max_depth=30, model__max_features=auto, model__min_samples_leaf=1, model__min_samples_split=2, model__n_estimators=500, preprocessing__num__imputer__strategy=median, total=   1.4s\n",
      "[CV] model__max_depth=30, model__max_features=auto, model__min_samples_leaf=1, model__min_samples_split=2, model__n_estimators=500, preprocessing__num__imputer__strategy=median \n",
      "[CV]  model__max_depth=30, model__max_features=auto, model__min_samples_leaf=1, model__min_samples_split=2, model__n_estimators=500, preprocessing__num__imputer__strategy=median, total=   1.4s\n",
      "[CV] model__max_depth=30, model__max_features=auto, model__min_samples_leaf=1, model__min_samples_split=2, model__n_estimators=500, preprocessing__num__imputer__strategy=median \n"
     ]
    },
    {
     "name": "stdout",
     "output_type": "stream",
     "text": [
      "[CV]  model__max_depth=30, model__max_features=auto, model__min_samples_leaf=1, model__min_samples_split=2, model__n_estimators=500, preprocessing__num__imputer__strategy=median, total=   1.3s\n",
      "[CV] model__max_depth=30, model__max_features=auto, model__min_samples_leaf=1, model__min_samples_split=2, model__n_estimators=500, preprocessing__num__imputer__strategy=median \n",
      "[CV]  model__max_depth=30, model__max_features=auto, model__min_samples_leaf=1, model__min_samples_split=2, model__n_estimators=500, preprocessing__num__imputer__strategy=median, total=   1.3s\n",
      "[CV] model__max_depth=30, model__max_features=auto, model__min_samples_leaf=1, model__min_samples_split=2, model__n_estimators=500, preprocessing__num__imputer__strategy=median \n",
      "[CV]  model__max_depth=30, model__max_features=auto, model__min_samples_leaf=1, model__min_samples_split=2, model__n_estimators=500, preprocessing__num__imputer__strategy=median, total=   1.3s\n",
      "[CV] model__max_depth=30, model__max_features=auto, model__min_samples_leaf=1, model__min_samples_split=4, model__n_estimators=100, preprocessing__num__imputer__strategy=mean \n",
      "[CV]  model__max_depth=30, model__max_features=auto, model__min_samples_leaf=1, model__min_samples_split=4, model__n_estimators=100, preprocessing__num__imputer__strategy=mean, total=   0.3s\n",
      "[CV] model__max_depth=30, model__max_features=auto, model__min_samples_leaf=1, model__min_samples_split=4, model__n_estimators=100, preprocessing__num__imputer__strategy=mean \n",
      "[CV]  model__max_depth=30, model__max_features=auto, model__min_samples_leaf=1, model__min_samples_split=4, model__n_estimators=100, preprocessing__num__imputer__strategy=mean, total=   0.3s\n",
      "[CV] model__max_depth=30, model__max_features=auto, model__min_samples_leaf=1, model__min_samples_split=4, model__n_estimators=100, preprocessing__num__imputer__strategy=mean \n",
      "[CV]  model__max_depth=30, model__max_features=auto, model__min_samples_leaf=1, model__min_samples_split=4, model__n_estimators=100, preprocessing__num__imputer__strategy=mean, total=   0.4s\n",
      "[CV] model__max_depth=30, model__max_features=auto, model__min_samples_leaf=1, model__min_samples_split=4, model__n_estimators=100, preprocessing__num__imputer__strategy=mean \n",
      "[CV]  model__max_depth=30, model__max_features=auto, model__min_samples_leaf=1, model__min_samples_split=4, model__n_estimators=100, preprocessing__num__imputer__strategy=mean, total=   0.4s\n",
      "[CV] model__max_depth=30, model__max_features=auto, model__min_samples_leaf=1, model__min_samples_split=4, model__n_estimators=100, preprocessing__num__imputer__strategy=mean \n",
      "[CV]  model__max_depth=30, model__max_features=auto, model__min_samples_leaf=1, model__min_samples_split=4, model__n_estimators=100, preprocessing__num__imputer__strategy=mean, total=   0.6s\n",
      "[CV] model__max_depth=30, model__max_features=auto, model__min_samples_leaf=1, model__min_samples_split=4, model__n_estimators=100, preprocessing__num__imputer__strategy=median \n",
      "[CV]  model__max_depth=30, model__max_features=auto, model__min_samples_leaf=1, model__min_samples_split=4, model__n_estimators=100, preprocessing__num__imputer__strategy=median, total=   0.3s\n",
      "[CV] model__max_depth=30, model__max_features=auto, model__min_samples_leaf=1, model__min_samples_split=4, model__n_estimators=100, preprocessing__num__imputer__strategy=median \n",
      "[CV]  model__max_depth=30, model__max_features=auto, model__min_samples_leaf=1, model__min_samples_split=4, model__n_estimators=100, preprocessing__num__imputer__strategy=median, total=   0.5s\n",
      "[CV] model__max_depth=30, model__max_features=auto, model__min_samples_leaf=1, model__min_samples_split=4, model__n_estimators=100, preprocessing__num__imputer__strategy=median \n",
      "[CV]  model__max_depth=30, model__max_features=auto, model__min_samples_leaf=1, model__min_samples_split=4, model__n_estimators=100, preprocessing__num__imputer__strategy=median, total=   0.5s\n",
      "[CV] model__max_depth=30, model__max_features=auto, model__min_samples_leaf=1, model__min_samples_split=4, model__n_estimators=100, preprocessing__num__imputer__strategy=median \n",
      "[CV]  model__max_depth=30, model__max_features=auto, model__min_samples_leaf=1, model__min_samples_split=4, model__n_estimators=100, preprocessing__num__imputer__strategy=median, total=   0.4s\n",
      "[CV] model__max_depth=30, model__max_features=auto, model__min_samples_leaf=1, model__min_samples_split=4, model__n_estimators=100, preprocessing__num__imputer__strategy=median \n",
      "[CV]  model__max_depth=30, model__max_features=auto, model__min_samples_leaf=1, model__min_samples_split=4, model__n_estimators=100, preprocessing__num__imputer__strategy=median, total=   0.5s\n",
      "[CV] model__max_depth=30, model__max_features=auto, model__min_samples_leaf=1, model__min_samples_split=4, model__n_estimators=200, preprocessing__num__imputer__strategy=mean \n",
      "[CV]  model__max_depth=30, model__max_features=auto, model__min_samples_leaf=1, model__min_samples_split=4, model__n_estimators=200, preprocessing__num__imputer__strategy=mean, total=   0.6s\n",
      "[CV] model__max_depth=30, model__max_features=auto, model__min_samples_leaf=1, model__min_samples_split=4, model__n_estimators=200, preprocessing__num__imputer__strategy=mean \n",
      "[CV]  model__max_depth=30, model__max_features=auto, model__min_samples_leaf=1, model__min_samples_split=4, model__n_estimators=200, preprocessing__num__imputer__strategy=mean, total=   0.5s\n",
      "[CV] model__max_depth=30, model__max_features=auto, model__min_samples_leaf=1, model__min_samples_split=4, model__n_estimators=200, preprocessing__num__imputer__strategy=mean \n",
      "[CV]  model__max_depth=30, model__max_features=auto, model__min_samples_leaf=1, model__min_samples_split=4, model__n_estimators=200, preprocessing__num__imputer__strategy=mean, total=   0.6s\n",
      "[CV] model__max_depth=30, model__max_features=auto, model__min_samples_leaf=1, model__min_samples_split=4, model__n_estimators=200, preprocessing__num__imputer__strategy=mean \n",
      "[CV]  model__max_depth=30, model__max_features=auto, model__min_samples_leaf=1, model__min_samples_split=4, model__n_estimators=200, preprocessing__num__imputer__strategy=mean, total=   0.6s\n",
      "[CV] model__max_depth=30, model__max_features=auto, model__min_samples_leaf=1, model__min_samples_split=4, model__n_estimators=200, preprocessing__num__imputer__strategy=mean \n",
      "[CV]  model__max_depth=30, model__max_features=auto, model__min_samples_leaf=1, model__min_samples_split=4, model__n_estimators=200, preprocessing__num__imputer__strategy=mean, total=   0.6s\n",
      "[CV] model__max_depth=30, model__max_features=auto, model__min_samples_leaf=1, model__min_samples_split=4, model__n_estimators=200, preprocessing__num__imputer__strategy=median \n",
      "[CV]  model__max_depth=30, model__max_features=auto, model__min_samples_leaf=1, model__min_samples_split=4, model__n_estimators=200, preprocessing__num__imputer__strategy=median, total=   0.6s\n",
      "[CV] model__max_depth=30, model__max_features=auto, model__min_samples_leaf=1, model__min_samples_split=4, model__n_estimators=200, preprocessing__num__imputer__strategy=median \n",
      "[CV]  model__max_depth=30, model__max_features=auto, model__min_samples_leaf=1, model__min_samples_split=4, model__n_estimators=200, preprocessing__num__imputer__strategy=median, total=   0.5s\n",
      "[CV] model__max_depth=30, model__max_features=auto, model__min_samples_leaf=1, model__min_samples_split=4, model__n_estimators=200, preprocessing__num__imputer__strategy=median \n",
      "[CV]  model__max_depth=30, model__max_features=auto, model__min_samples_leaf=1, model__min_samples_split=4, model__n_estimators=200, preprocessing__num__imputer__strategy=median, total=   0.6s\n",
      "[CV] model__max_depth=30, model__max_features=auto, model__min_samples_leaf=1, model__min_samples_split=4, model__n_estimators=200, preprocessing__num__imputer__strategy=median \n",
      "[CV]  model__max_depth=30, model__max_features=auto, model__min_samples_leaf=1, model__min_samples_split=4, model__n_estimators=200, preprocessing__num__imputer__strategy=median, total=   0.6s\n",
      "[CV] model__max_depth=30, model__max_features=auto, model__min_samples_leaf=1, model__min_samples_split=4, model__n_estimators=200, preprocessing__num__imputer__strategy=median \n",
      "[CV]  model__max_depth=30, model__max_features=auto, model__min_samples_leaf=1, model__min_samples_split=4, model__n_estimators=200, preprocessing__num__imputer__strategy=median, total=   0.6s\n",
      "[CV] model__max_depth=30, model__max_features=auto, model__min_samples_leaf=1, model__min_samples_split=4, model__n_estimators=500, preprocessing__num__imputer__strategy=mean \n"
     ]
    },
    {
     "name": "stdout",
     "output_type": "stream",
     "text": [
      "[CV]  model__max_depth=30, model__max_features=auto, model__min_samples_leaf=1, model__min_samples_split=4, model__n_estimators=500, preprocessing__num__imputer__strategy=mean, total=   1.4s\n",
      "[CV] model__max_depth=30, model__max_features=auto, model__min_samples_leaf=1, model__min_samples_split=4, model__n_estimators=500, preprocessing__num__imputer__strategy=mean \n",
      "[CV]  model__max_depth=30, model__max_features=auto, model__min_samples_leaf=1, model__min_samples_split=4, model__n_estimators=500, preprocessing__num__imputer__strategy=mean, total=   1.3s\n",
      "[CV] model__max_depth=30, model__max_features=auto, model__min_samples_leaf=1, model__min_samples_split=4, model__n_estimators=500, preprocessing__num__imputer__strategy=mean \n",
      "[CV]  model__max_depth=30, model__max_features=auto, model__min_samples_leaf=1, model__min_samples_split=4, model__n_estimators=500, preprocessing__num__imputer__strategy=mean, total=   1.2s\n",
      "[CV] model__max_depth=30, model__max_features=auto, model__min_samples_leaf=1, model__min_samples_split=4, model__n_estimators=500, preprocessing__num__imputer__strategy=mean \n",
      "[CV]  model__max_depth=30, model__max_features=auto, model__min_samples_leaf=1, model__min_samples_split=4, model__n_estimators=500, preprocessing__num__imputer__strategy=mean, total=   1.3s\n",
      "[CV] model__max_depth=30, model__max_features=auto, model__min_samples_leaf=1, model__min_samples_split=4, model__n_estimators=500, preprocessing__num__imputer__strategy=mean \n",
      "[CV]  model__max_depth=30, model__max_features=auto, model__min_samples_leaf=1, model__min_samples_split=4, model__n_estimators=500, preprocessing__num__imputer__strategy=mean, total=   1.3s\n",
      "[CV] model__max_depth=30, model__max_features=auto, model__min_samples_leaf=1, model__min_samples_split=4, model__n_estimators=500, preprocessing__num__imputer__strategy=median \n",
      "[CV]  model__max_depth=30, model__max_features=auto, model__min_samples_leaf=1, model__min_samples_split=4, model__n_estimators=500, preprocessing__num__imputer__strategy=median, total=   1.3s\n",
      "[CV] model__max_depth=30, model__max_features=auto, model__min_samples_leaf=1, model__min_samples_split=4, model__n_estimators=500, preprocessing__num__imputer__strategy=median \n",
      "[CV]  model__max_depth=30, model__max_features=auto, model__min_samples_leaf=1, model__min_samples_split=4, model__n_estimators=500, preprocessing__num__imputer__strategy=median, total=   1.2s\n",
      "[CV] model__max_depth=30, model__max_features=auto, model__min_samples_leaf=1, model__min_samples_split=4, model__n_estimators=500, preprocessing__num__imputer__strategy=median \n",
      "[CV]  model__max_depth=30, model__max_features=auto, model__min_samples_leaf=1, model__min_samples_split=4, model__n_estimators=500, preprocessing__num__imputer__strategy=median, total=   1.3s\n",
      "[CV] model__max_depth=30, model__max_features=auto, model__min_samples_leaf=1, model__min_samples_split=4, model__n_estimators=500, preprocessing__num__imputer__strategy=median \n",
      "[CV]  model__max_depth=30, model__max_features=auto, model__min_samples_leaf=1, model__min_samples_split=4, model__n_estimators=500, preprocessing__num__imputer__strategy=median, total=   1.3s\n",
      "[CV] model__max_depth=30, model__max_features=auto, model__min_samples_leaf=1, model__min_samples_split=4, model__n_estimators=500, preprocessing__num__imputer__strategy=median \n",
      "[CV]  model__max_depth=30, model__max_features=auto, model__min_samples_leaf=1, model__min_samples_split=4, model__n_estimators=500, preprocessing__num__imputer__strategy=median, total=   1.2s\n",
      "[CV] model__max_depth=30, model__max_features=auto, model__min_samples_leaf=2, model__min_samples_split=2, model__n_estimators=100, preprocessing__num__imputer__strategy=mean \n",
      "[CV]  model__max_depth=30, model__max_features=auto, model__min_samples_leaf=2, model__min_samples_split=2, model__n_estimators=100, preprocessing__num__imputer__strategy=mean, total=   0.3s\n",
      "[CV] model__max_depth=30, model__max_features=auto, model__min_samples_leaf=2, model__min_samples_split=2, model__n_estimators=100, preprocessing__num__imputer__strategy=mean \n",
      "[CV]  model__max_depth=30, model__max_features=auto, model__min_samples_leaf=2, model__min_samples_split=2, model__n_estimators=100, preprocessing__num__imputer__strategy=mean, total=   0.3s\n",
      "[CV] model__max_depth=30, model__max_features=auto, model__min_samples_leaf=2, model__min_samples_split=2, model__n_estimators=100, preprocessing__num__imputer__strategy=mean \n",
      "[CV]  model__max_depth=30, model__max_features=auto, model__min_samples_leaf=2, model__min_samples_split=2, model__n_estimators=100, preprocessing__num__imputer__strategy=mean, total=   0.3s\n",
      "[CV] model__max_depth=30, model__max_features=auto, model__min_samples_leaf=2, model__min_samples_split=2, model__n_estimators=100, preprocessing__num__imputer__strategy=mean \n",
      "[CV]  model__max_depth=30, model__max_features=auto, model__min_samples_leaf=2, model__min_samples_split=2, model__n_estimators=100, preprocessing__num__imputer__strategy=mean, total=   0.3s\n",
      "[CV] model__max_depth=30, model__max_features=auto, model__min_samples_leaf=2, model__min_samples_split=2, model__n_estimators=100, preprocessing__num__imputer__strategy=mean \n",
      "[CV]  model__max_depth=30, model__max_features=auto, model__min_samples_leaf=2, model__min_samples_split=2, model__n_estimators=100, preprocessing__num__imputer__strategy=mean, total=   0.3s\n",
      "[CV] model__max_depth=30, model__max_features=auto, model__min_samples_leaf=2, model__min_samples_split=2, model__n_estimators=100, preprocessing__num__imputer__strategy=median \n",
      "[CV]  model__max_depth=30, model__max_features=auto, model__min_samples_leaf=2, model__min_samples_split=2, model__n_estimators=100, preprocessing__num__imputer__strategy=median, total=   0.3s\n",
      "[CV] model__max_depth=30, model__max_features=auto, model__min_samples_leaf=2, model__min_samples_split=2, model__n_estimators=100, preprocessing__num__imputer__strategy=median \n",
      "[CV]  model__max_depth=30, model__max_features=auto, model__min_samples_leaf=2, model__min_samples_split=2, model__n_estimators=100, preprocessing__num__imputer__strategy=median, total=   0.3s\n",
      "[CV] model__max_depth=30, model__max_features=auto, model__min_samples_leaf=2, model__min_samples_split=2, model__n_estimators=100, preprocessing__num__imputer__strategy=median \n",
      "[CV]  model__max_depth=30, model__max_features=auto, model__min_samples_leaf=2, model__min_samples_split=2, model__n_estimators=100, preprocessing__num__imputer__strategy=median, total=   0.3s\n",
      "[CV] model__max_depth=30, model__max_features=auto, model__min_samples_leaf=2, model__min_samples_split=2, model__n_estimators=100, preprocessing__num__imputer__strategy=median \n",
      "[CV]  model__max_depth=30, model__max_features=auto, model__min_samples_leaf=2, model__min_samples_split=2, model__n_estimators=100, preprocessing__num__imputer__strategy=median, total=   0.4s\n",
      "[CV] model__max_depth=30, model__max_features=auto, model__min_samples_leaf=2, model__min_samples_split=2, model__n_estimators=100, preprocessing__num__imputer__strategy=median \n",
      "[CV]  model__max_depth=30, model__max_features=auto, model__min_samples_leaf=2, model__min_samples_split=2, model__n_estimators=100, preprocessing__num__imputer__strategy=median, total=   0.3s\n",
      "[CV] model__max_depth=30, model__max_features=auto, model__min_samples_leaf=2, model__min_samples_split=2, model__n_estimators=200, preprocessing__num__imputer__strategy=mean \n",
      "[CV]  model__max_depth=30, model__max_features=auto, model__min_samples_leaf=2, model__min_samples_split=2, model__n_estimators=200, preprocessing__num__imputer__strategy=mean, total=   0.6s\n",
      "[CV] model__max_depth=30, model__max_features=auto, model__min_samples_leaf=2, model__min_samples_split=2, model__n_estimators=200, preprocessing__num__imputer__strategy=mean \n",
      "[CV]  model__max_depth=30, model__max_features=auto, model__min_samples_leaf=2, model__min_samples_split=2, model__n_estimators=200, preprocessing__num__imputer__strategy=mean, total=   0.6s\n",
      "[CV] model__max_depth=30, model__max_features=auto, model__min_samples_leaf=2, model__min_samples_split=2, model__n_estimators=200, preprocessing__num__imputer__strategy=mean \n",
      "[CV]  model__max_depth=30, model__max_features=auto, model__min_samples_leaf=2, model__min_samples_split=2, model__n_estimators=200, preprocessing__num__imputer__strategy=mean, total=   0.6s\n",
      "[CV] model__max_depth=30, model__max_features=auto, model__min_samples_leaf=2, model__min_samples_split=2, model__n_estimators=200, preprocessing__num__imputer__strategy=mean \n"
     ]
    },
    {
     "name": "stdout",
     "output_type": "stream",
     "text": [
      "[CV]  model__max_depth=30, model__max_features=auto, model__min_samples_leaf=2, model__min_samples_split=2, model__n_estimators=200, preprocessing__num__imputer__strategy=mean, total=   0.5s\n",
      "[CV] model__max_depth=30, model__max_features=auto, model__min_samples_leaf=2, model__min_samples_split=2, model__n_estimators=200, preprocessing__num__imputer__strategy=mean \n",
      "[CV]  model__max_depth=30, model__max_features=auto, model__min_samples_leaf=2, model__min_samples_split=2, model__n_estimators=200, preprocessing__num__imputer__strategy=mean, total=   0.7s\n",
      "[CV] model__max_depth=30, model__max_features=auto, model__min_samples_leaf=2, model__min_samples_split=2, model__n_estimators=200, preprocessing__num__imputer__strategy=median \n",
      "[CV]  model__max_depth=30, model__max_features=auto, model__min_samples_leaf=2, model__min_samples_split=2, model__n_estimators=200, preprocessing__num__imputer__strategy=median, total=   0.6s\n",
      "[CV] model__max_depth=30, model__max_features=auto, model__min_samples_leaf=2, model__min_samples_split=2, model__n_estimators=200, preprocessing__num__imputer__strategy=median \n",
      "[CV]  model__max_depth=30, model__max_features=auto, model__min_samples_leaf=2, model__min_samples_split=2, model__n_estimators=200, preprocessing__num__imputer__strategy=median, total=   0.5s\n",
      "[CV] model__max_depth=30, model__max_features=auto, model__min_samples_leaf=2, model__min_samples_split=2, model__n_estimators=200, preprocessing__num__imputer__strategy=median \n",
      "[CV]  model__max_depth=30, model__max_features=auto, model__min_samples_leaf=2, model__min_samples_split=2, model__n_estimators=200, preprocessing__num__imputer__strategy=median, total=   0.6s\n",
      "[CV] model__max_depth=30, model__max_features=auto, model__min_samples_leaf=2, model__min_samples_split=2, model__n_estimators=200, preprocessing__num__imputer__strategy=median \n",
      "[CV]  model__max_depth=30, model__max_features=auto, model__min_samples_leaf=2, model__min_samples_split=2, model__n_estimators=200, preprocessing__num__imputer__strategy=median, total=   0.6s\n",
      "[CV] model__max_depth=30, model__max_features=auto, model__min_samples_leaf=2, model__min_samples_split=2, model__n_estimators=200, preprocessing__num__imputer__strategy=median \n",
      "[CV]  model__max_depth=30, model__max_features=auto, model__min_samples_leaf=2, model__min_samples_split=2, model__n_estimators=200, preprocessing__num__imputer__strategy=median, total=   0.5s\n",
      "[CV] model__max_depth=30, model__max_features=auto, model__min_samples_leaf=2, model__min_samples_split=2, model__n_estimators=500, preprocessing__num__imputer__strategy=mean \n",
      "[CV]  model__max_depth=30, model__max_features=auto, model__min_samples_leaf=2, model__min_samples_split=2, model__n_estimators=500, preprocessing__num__imputer__strategy=mean, total=   2.0s\n",
      "[CV] model__max_depth=30, model__max_features=auto, model__min_samples_leaf=2, model__min_samples_split=2, model__n_estimators=500, preprocessing__num__imputer__strategy=mean \n",
      "[CV]  model__max_depth=30, model__max_features=auto, model__min_samples_leaf=2, model__min_samples_split=2, model__n_estimators=500, preprocessing__num__imputer__strategy=mean, total=   3.0s\n",
      "[CV] model__max_depth=30, model__max_features=auto, model__min_samples_leaf=2, model__min_samples_split=2, model__n_estimators=500, preprocessing__num__imputer__strategy=mean \n",
      "[CV]  model__max_depth=30, model__max_features=auto, model__min_samples_leaf=2, model__min_samples_split=2, model__n_estimators=500, preprocessing__num__imputer__strategy=mean, total=   3.6s\n",
      "[CV] model__max_depth=30, model__max_features=auto, model__min_samples_leaf=2, model__min_samples_split=2, model__n_estimators=500, preprocessing__num__imputer__strategy=mean \n",
      "[CV]  model__max_depth=30, model__max_features=auto, model__min_samples_leaf=2, model__min_samples_split=2, model__n_estimators=500, preprocessing__num__imputer__strategy=mean, total=   3.2s\n",
      "[CV] model__max_depth=30, model__max_features=auto, model__min_samples_leaf=2, model__min_samples_split=2, model__n_estimators=500, preprocessing__num__imputer__strategy=mean \n",
      "[CV]  model__max_depth=30, model__max_features=auto, model__min_samples_leaf=2, model__min_samples_split=2, model__n_estimators=500, preprocessing__num__imputer__strategy=mean, total=   4.1s\n",
      "[CV] model__max_depth=30, model__max_features=auto, model__min_samples_leaf=2, model__min_samples_split=2, model__n_estimators=500, preprocessing__num__imputer__strategy=median \n",
      "[CV]  model__max_depth=30, model__max_features=auto, model__min_samples_leaf=2, model__min_samples_split=2, model__n_estimators=500, preprocessing__num__imputer__strategy=median, total=   1.4s\n",
      "[CV] model__max_depth=30, model__max_features=auto, model__min_samples_leaf=2, model__min_samples_split=2, model__n_estimators=500, preprocessing__num__imputer__strategy=median \n",
      "[CV]  model__max_depth=30, model__max_features=auto, model__min_samples_leaf=2, model__min_samples_split=2, model__n_estimators=500, preprocessing__num__imputer__strategy=median, total=   1.1s\n",
      "[CV] model__max_depth=30, model__max_features=auto, model__min_samples_leaf=2, model__min_samples_split=2, model__n_estimators=500, preprocessing__num__imputer__strategy=median \n",
      "[CV]  model__max_depth=30, model__max_features=auto, model__min_samples_leaf=2, model__min_samples_split=2, model__n_estimators=500, preprocessing__num__imputer__strategy=median, total=   1.1s\n",
      "[CV] model__max_depth=30, model__max_features=auto, model__min_samples_leaf=2, model__min_samples_split=2, model__n_estimators=500, preprocessing__num__imputer__strategy=median \n",
      "[CV]  model__max_depth=30, model__max_features=auto, model__min_samples_leaf=2, model__min_samples_split=2, model__n_estimators=500, preprocessing__num__imputer__strategy=median, total=   1.0s\n",
      "[CV] model__max_depth=30, model__max_features=auto, model__min_samples_leaf=2, model__min_samples_split=2, model__n_estimators=500, preprocessing__num__imputer__strategy=median \n",
      "[CV]  model__max_depth=30, model__max_features=auto, model__min_samples_leaf=2, model__min_samples_split=2, model__n_estimators=500, preprocessing__num__imputer__strategy=median, total=   1.1s\n",
      "[CV] model__max_depth=30, model__max_features=auto, model__min_samples_leaf=2, model__min_samples_split=4, model__n_estimators=100, preprocessing__num__imputer__strategy=mean \n",
      "[CV]  model__max_depth=30, model__max_features=auto, model__min_samples_leaf=2, model__min_samples_split=4, model__n_estimators=100, preprocessing__num__imputer__strategy=mean, total=   0.2s\n",
      "[CV] model__max_depth=30, model__max_features=auto, model__min_samples_leaf=2, model__min_samples_split=4, model__n_estimators=100, preprocessing__num__imputer__strategy=mean \n",
      "[CV]  model__max_depth=30, model__max_features=auto, model__min_samples_leaf=2, model__min_samples_split=4, model__n_estimators=100, preprocessing__num__imputer__strategy=mean, total=   0.3s\n",
      "[CV] model__max_depth=30, model__max_features=auto, model__min_samples_leaf=2, model__min_samples_split=4, model__n_estimators=100, preprocessing__num__imputer__strategy=mean \n",
      "[CV]  model__max_depth=30, model__max_features=auto, model__min_samples_leaf=2, model__min_samples_split=4, model__n_estimators=100, preprocessing__num__imputer__strategy=mean, total=   0.3s\n",
      "[CV] model__max_depth=30, model__max_features=auto, model__min_samples_leaf=2, model__min_samples_split=4, model__n_estimators=100, preprocessing__num__imputer__strategy=mean \n",
      "[CV]  model__max_depth=30, model__max_features=auto, model__min_samples_leaf=2, model__min_samples_split=4, model__n_estimators=100, preprocessing__num__imputer__strategy=mean, total=   0.3s\n",
      "[CV] model__max_depth=30, model__max_features=auto, model__min_samples_leaf=2, model__min_samples_split=4, model__n_estimators=100, preprocessing__num__imputer__strategy=mean \n",
      "[CV]  model__max_depth=30, model__max_features=auto, model__min_samples_leaf=2, model__min_samples_split=4, model__n_estimators=100, preprocessing__num__imputer__strategy=mean, total=   0.3s\n",
      "[CV] model__max_depth=30, model__max_features=auto, model__min_samples_leaf=2, model__min_samples_split=4, model__n_estimators=100, preprocessing__num__imputer__strategy=median \n",
      "[CV]  model__max_depth=30, model__max_features=auto, model__min_samples_leaf=2, model__min_samples_split=4, model__n_estimators=100, preprocessing__num__imputer__strategy=median, total=   0.3s\n",
      "[CV] model__max_depth=30, model__max_features=auto, model__min_samples_leaf=2, model__min_samples_split=4, model__n_estimators=100, preprocessing__num__imputer__strategy=median \n"
     ]
    },
    {
     "name": "stdout",
     "output_type": "stream",
     "text": [
      "[CV]  model__max_depth=30, model__max_features=auto, model__min_samples_leaf=2, model__min_samples_split=4, model__n_estimators=100, preprocessing__num__imputer__strategy=median, total=   0.3s\n",
      "[CV] model__max_depth=30, model__max_features=auto, model__min_samples_leaf=2, model__min_samples_split=4, model__n_estimators=100, preprocessing__num__imputer__strategy=median \n",
      "[CV]  model__max_depth=30, model__max_features=auto, model__min_samples_leaf=2, model__min_samples_split=4, model__n_estimators=100, preprocessing__num__imputer__strategy=median, total=   0.3s\n",
      "[CV] model__max_depth=30, model__max_features=auto, model__min_samples_leaf=2, model__min_samples_split=4, model__n_estimators=100, preprocessing__num__imputer__strategy=median \n",
      "[CV]  model__max_depth=30, model__max_features=auto, model__min_samples_leaf=2, model__min_samples_split=4, model__n_estimators=100, preprocessing__num__imputer__strategy=median, total=   0.3s\n",
      "[CV] model__max_depth=30, model__max_features=auto, model__min_samples_leaf=2, model__min_samples_split=4, model__n_estimators=100, preprocessing__num__imputer__strategy=median \n",
      "[CV]  model__max_depth=30, model__max_features=auto, model__min_samples_leaf=2, model__min_samples_split=4, model__n_estimators=100, preprocessing__num__imputer__strategy=median, total=   0.3s\n",
      "[CV] model__max_depth=30, model__max_features=auto, model__min_samples_leaf=2, model__min_samples_split=4, model__n_estimators=200, preprocessing__num__imputer__strategy=mean \n",
      "[CV]  model__max_depth=30, model__max_features=auto, model__min_samples_leaf=2, model__min_samples_split=4, model__n_estimators=200, preprocessing__num__imputer__strategy=mean, total=   0.5s\n",
      "[CV] model__max_depth=30, model__max_features=auto, model__min_samples_leaf=2, model__min_samples_split=4, model__n_estimators=200, preprocessing__num__imputer__strategy=mean \n",
      "[CV]  model__max_depth=30, model__max_features=auto, model__min_samples_leaf=2, model__min_samples_split=4, model__n_estimators=200, preprocessing__num__imputer__strategy=mean, total=   0.5s\n",
      "[CV] model__max_depth=30, model__max_features=auto, model__min_samples_leaf=2, model__min_samples_split=4, model__n_estimators=200, preprocessing__num__imputer__strategy=mean \n",
      "[CV]  model__max_depth=30, model__max_features=auto, model__min_samples_leaf=2, model__min_samples_split=4, model__n_estimators=200, preprocessing__num__imputer__strategy=mean, total=   1.0s\n",
      "[CV] model__max_depth=30, model__max_features=auto, model__min_samples_leaf=2, model__min_samples_split=4, model__n_estimators=200, preprocessing__num__imputer__strategy=mean \n",
      "[CV]  model__max_depth=30, model__max_features=auto, model__min_samples_leaf=2, model__min_samples_split=4, model__n_estimators=200, preprocessing__num__imputer__strategy=mean, total=   0.9s\n",
      "[CV] model__max_depth=30, model__max_features=auto, model__min_samples_leaf=2, model__min_samples_split=4, model__n_estimators=200, preprocessing__num__imputer__strategy=mean \n",
      "[CV]  model__max_depth=30, model__max_features=auto, model__min_samples_leaf=2, model__min_samples_split=4, model__n_estimators=200, preprocessing__num__imputer__strategy=mean, total=   0.6s\n",
      "[CV] model__max_depth=30, model__max_features=auto, model__min_samples_leaf=2, model__min_samples_split=4, model__n_estimators=200, preprocessing__num__imputer__strategy=median \n",
      "[CV]  model__max_depth=30, model__max_features=auto, model__min_samples_leaf=2, model__min_samples_split=4, model__n_estimators=200, preprocessing__num__imputer__strategy=median, total=   0.5s\n",
      "[CV] model__max_depth=30, model__max_features=auto, model__min_samples_leaf=2, model__min_samples_split=4, model__n_estimators=200, preprocessing__num__imputer__strategy=median \n",
      "[CV]  model__max_depth=30, model__max_features=auto, model__min_samples_leaf=2, model__min_samples_split=4, model__n_estimators=200, preprocessing__num__imputer__strategy=median, total=   0.5s\n",
      "[CV] model__max_depth=30, model__max_features=auto, model__min_samples_leaf=2, model__min_samples_split=4, model__n_estimators=200, preprocessing__num__imputer__strategy=median \n",
      "[CV]  model__max_depth=30, model__max_features=auto, model__min_samples_leaf=2, model__min_samples_split=4, model__n_estimators=200, preprocessing__num__imputer__strategy=median, total=   0.5s\n",
      "[CV] model__max_depth=30, model__max_features=auto, model__min_samples_leaf=2, model__min_samples_split=4, model__n_estimators=200, preprocessing__num__imputer__strategy=median \n",
      "[CV]  model__max_depth=30, model__max_features=auto, model__min_samples_leaf=2, model__min_samples_split=4, model__n_estimators=200, preprocessing__num__imputer__strategy=median, total=   0.5s\n",
      "[CV] model__max_depth=30, model__max_features=auto, model__min_samples_leaf=2, model__min_samples_split=4, model__n_estimators=200, preprocessing__num__imputer__strategy=median \n",
      "[CV]  model__max_depth=30, model__max_features=auto, model__min_samples_leaf=2, model__min_samples_split=4, model__n_estimators=200, preprocessing__num__imputer__strategy=median, total=   0.5s\n",
      "[CV] model__max_depth=30, model__max_features=auto, model__min_samples_leaf=2, model__min_samples_split=4, model__n_estimators=500, preprocessing__num__imputer__strategy=mean \n",
      "[CV]  model__max_depth=30, model__max_features=auto, model__min_samples_leaf=2, model__min_samples_split=4, model__n_estimators=500, preprocessing__num__imputer__strategy=mean, total=   1.1s\n",
      "[CV] model__max_depth=30, model__max_features=auto, model__min_samples_leaf=2, model__min_samples_split=4, model__n_estimators=500, preprocessing__num__imputer__strategy=mean \n",
      "[CV]  model__max_depth=30, model__max_features=auto, model__min_samples_leaf=2, model__min_samples_split=4, model__n_estimators=500, preprocessing__num__imputer__strategy=mean, total=   1.1s\n",
      "[CV] model__max_depth=30, model__max_features=auto, model__min_samples_leaf=2, model__min_samples_split=4, model__n_estimators=500, preprocessing__num__imputer__strategy=mean \n",
      "[CV]  model__max_depth=30, model__max_features=auto, model__min_samples_leaf=2, model__min_samples_split=4, model__n_estimators=500, preprocessing__num__imputer__strategy=mean, total=   1.0s\n",
      "[CV] model__max_depth=30, model__max_features=auto, model__min_samples_leaf=2, model__min_samples_split=4, model__n_estimators=500, preprocessing__num__imputer__strategy=mean \n",
      "[CV]  model__max_depth=30, model__max_features=auto, model__min_samples_leaf=2, model__min_samples_split=4, model__n_estimators=500, preprocessing__num__imputer__strategy=mean, total=   1.0s\n",
      "[CV] model__max_depth=30, model__max_features=auto, model__min_samples_leaf=2, model__min_samples_split=4, model__n_estimators=500, preprocessing__num__imputer__strategy=mean \n",
      "[CV]  model__max_depth=30, model__max_features=auto, model__min_samples_leaf=2, model__min_samples_split=4, model__n_estimators=500, preprocessing__num__imputer__strategy=mean, total=   1.1s\n",
      "[CV] model__max_depth=30, model__max_features=auto, model__min_samples_leaf=2, model__min_samples_split=4, model__n_estimators=500, preprocessing__num__imputer__strategy=median \n",
      "[CV]  model__max_depth=30, model__max_features=auto, model__min_samples_leaf=2, model__min_samples_split=4, model__n_estimators=500, preprocessing__num__imputer__strategy=median, total=   1.0s\n",
      "[CV] model__max_depth=30, model__max_features=auto, model__min_samples_leaf=2, model__min_samples_split=4, model__n_estimators=500, preprocessing__num__imputer__strategy=median \n",
      "[CV]  model__max_depth=30, model__max_features=auto, model__min_samples_leaf=2, model__min_samples_split=4, model__n_estimators=500, preprocessing__num__imputer__strategy=median, total=   1.1s\n",
      "[CV] model__max_depth=30, model__max_features=auto, model__min_samples_leaf=2, model__min_samples_split=4, model__n_estimators=500, preprocessing__num__imputer__strategy=median \n",
      "[CV]  model__max_depth=30, model__max_features=auto, model__min_samples_leaf=2, model__min_samples_split=4, model__n_estimators=500, preprocessing__num__imputer__strategy=median, total=   1.1s\n",
      "[CV] model__max_depth=30, model__max_features=auto, model__min_samples_leaf=2, model__min_samples_split=4, model__n_estimators=500, preprocessing__num__imputer__strategy=median \n",
      "[CV]  model__max_depth=30, model__max_features=auto, model__min_samples_leaf=2, model__min_samples_split=4, model__n_estimators=500, preprocessing__num__imputer__strategy=median, total=   1.1s\n",
      "[CV] model__max_depth=30, model__max_features=auto, model__min_samples_leaf=2, model__min_samples_split=4, model__n_estimators=500, preprocessing__num__imputer__strategy=median \n"
     ]
    },
    {
     "name": "stdout",
     "output_type": "stream",
     "text": [
      "[CV]  model__max_depth=30, model__max_features=auto, model__min_samples_leaf=2, model__min_samples_split=4, model__n_estimators=500, preprocessing__num__imputer__strategy=median, total=   1.1s\n",
      "[CV] model__max_depth=30, model__max_features=sqrt, model__min_samples_leaf=1, model__min_samples_split=2, model__n_estimators=100, preprocessing__num__imputer__strategy=mean \n",
      "[CV]  model__max_depth=30, model__max_features=sqrt, model__min_samples_leaf=1, model__min_samples_split=2, model__n_estimators=100, preprocessing__num__imputer__strategy=mean, total=   0.2s\n",
      "[CV] model__max_depth=30, model__max_features=sqrt, model__min_samples_leaf=1, model__min_samples_split=2, model__n_estimators=100, preprocessing__num__imputer__strategy=mean \n",
      "[CV]  model__max_depth=30, model__max_features=sqrt, model__min_samples_leaf=1, model__min_samples_split=2, model__n_estimators=100, preprocessing__num__imputer__strategy=mean, total=   0.3s\n",
      "[CV] model__max_depth=30, model__max_features=sqrt, model__min_samples_leaf=1, model__min_samples_split=2, model__n_estimators=100, preprocessing__num__imputer__strategy=mean \n",
      "[CV]  model__max_depth=30, model__max_features=sqrt, model__min_samples_leaf=1, model__min_samples_split=2, model__n_estimators=100, preprocessing__num__imputer__strategy=mean, total=   0.2s\n",
      "[CV] model__max_depth=30, model__max_features=sqrt, model__min_samples_leaf=1, model__min_samples_split=2, model__n_estimators=100, preprocessing__num__imputer__strategy=mean \n",
      "[CV]  model__max_depth=30, model__max_features=sqrt, model__min_samples_leaf=1, model__min_samples_split=2, model__n_estimators=100, preprocessing__num__imputer__strategy=mean, total=   0.2s\n",
      "[CV] model__max_depth=30, model__max_features=sqrt, model__min_samples_leaf=1, model__min_samples_split=2, model__n_estimators=100, preprocessing__num__imputer__strategy=mean \n",
      "[CV]  model__max_depth=30, model__max_features=sqrt, model__min_samples_leaf=1, model__min_samples_split=2, model__n_estimators=100, preprocessing__num__imputer__strategy=mean, total=   0.3s\n",
      "[CV] model__max_depth=30, model__max_features=sqrt, model__min_samples_leaf=1, model__min_samples_split=2, model__n_estimators=100, preprocessing__num__imputer__strategy=median \n",
      "[CV]  model__max_depth=30, model__max_features=sqrt, model__min_samples_leaf=1, model__min_samples_split=2, model__n_estimators=100, preprocessing__num__imputer__strategy=median, total=   0.2s\n",
      "[CV] model__max_depth=30, model__max_features=sqrt, model__min_samples_leaf=1, model__min_samples_split=2, model__n_estimators=100, preprocessing__num__imputer__strategy=median \n",
      "[CV]  model__max_depth=30, model__max_features=sqrt, model__min_samples_leaf=1, model__min_samples_split=2, model__n_estimators=100, preprocessing__num__imputer__strategy=median, total=   0.3s\n",
      "[CV] model__max_depth=30, model__max_features=sqrt, model__min_samples_leaf=1, model__min_samples_split=2, model__n_estimators=100, preprocessing__num__imputer__strategy=median \n",
      "[CV]  model__max_depth=30, model__max_features=sqrt, model__min_samples_leaf=1, model__min_samples_split=2, model__n_estimators=100, preprocessing__num__imputer__strategy=median, total=   0.2s\n",
      "[CV] model__max_depth=30, model__max_features=sqrt, model__min_samples_leaf=1, model__min_samples_split=2, model__n_estimators=100, preprocessing__num__imputer__strategy=median \n",
      "[CV]  model__max_depth=30, model__max_features=sqrt, model__min_samples_leaf=1, model__min_samples_split=2, model__n_estimators=100, preprocessing__num__imputer__strategy=median, total=   0.2s\n",
      "[CV] model__max_depth=30, model__max_features=sqrt, model__min_samples_leaf=1, model__min_samples_split=2, model__n_estimators=100, preprocessing__num__imputer__strategy=median \n",
      "[CV]  model__max_depth=30, model__max_features=sqrt, model__min_samples_leaf=1, model__min_samples_split=2, model__n_estimators=100, preprocessing__num__imputer__strategy=median, total=   0.2s\n",
      "[CV] model__max_depth=30, model__max_features=sqrt, model__min_samples_leaf=1, model__min_samples_split=2, model__n_estimators=200, preprocessing__num__imputer__strategy=mean \n",
      "[CV]  model__max_depth=30, model__max_features=sqrt, model__min_samples_leaf=1, model__min_samples_split=2, model__n_estimators=200, preprocessing__num__imputer__strategy=mean, total=   0.5s\n",
      "[CV] model__max_depth=30, model__max_features=sqrt, model__min_samples_leaf=1, model__min_samples_split=2, model__n_estimators=200, preprocessing__num__imputer__strategy=mean \n",
      "[CV]  model__max_depth=30, model__max_features=sqrt, model__min_samples_leaf=1, model__min_samples_split=2, model__n_estimators=200, preprocessing__num__imputer__strategy=mean, total=   0.7s\n",
      "[CV] model__max_depth=30, model__max_features=sqrt, model__min_samples_leaf=1, model__min_samples_split=2, model__n_estimators=200, preprocessing__num__imputer__strategy=mean \n",
      "[CV]  model__max_depth=30, model__max_features=sqrt, model__min_samples_leaf=1, model__min_samples_split=2, model__n_estimators=200, preprocessing__num__imputer__strategy=mean, total=   0.5s\n",
      "[CV] model__max_depth=30, model__max_features=sqrt, model__min_samples_leaf=1, model__min_samples_split=2, model__n_estimators=200, preprocessing__num__imputer__strategy=mean \n",
      "[CV]  model__max_depth=30, model__max_features=sqrt, model__min_samples_leaf=1, model__min_samples_split=2, model__n_estimators=200, preprocessing__num__imputer__strategy=mean, total=   0.5s\n",
      "[CV] model__max_depth=30, model__max_features=sqrt, model__min_samples_leaf=1, model__min_samples_split=2, model__n_estimators=200, preprocessing__num__imputer__strategy=mean \n",
      "[CV]  model__max_depth=30, model__max_features=sqrt, model__min_samples_leaf=1, model__min_samples_split=2, model__n_estimators=200, preprocessing__num__imputer__strategy=mean, total=   0.4s\n",
      "[CV] model__max_depth=30, model__max_features=sqrt, model__min_samples_leaf=1, model__min_samples_split=2, model__n_estimators=200, preprocessing__num__imputer__strategy=median \n",
      "[CV]  model__max_depth=30, model__max_features=sqrt, model__min_samples_leaf=1, model__min_samples_split=2, model__n_estimators=200, preprocessing__num__imputer__strategy=median, total=   0.5s\n",
      "[CV] model__max_depth=30, model__max_features=sqrt, model__min_samples_leaf=1, model__min_samples_split=2, model__n_estimators=200, preprocessing__num__imputer__strategy=median \n",
      "[CV]  model__max_depth=30, model__max_features=sqrt, model__min_samples_leaf=1, model__min_samples_split=2, model__n_estimators=200, preprocessing__num__imputer__strategy=median, total=   0.6s\n",
      "[CV] model__max_depth=30, model__max_features=sqrt, model__min_samples_leaf=1, model__min_samples_split=2, model__n_estimators=200, preprocessing__num__imputer__strategy=median \n",
      "[CV]  model__max_depth=30, model__max_features=sqrt, model__min_samples_leaf=1, model__min_samples_split=2, model__n_estimators=200, preprocessing__num__imputer__strategy=median, total=   0.6s\n",
      "[CV] model__max_depth=30, model__max_features=sqrt, model__min_samples_leaf=1, model__min_samples_split=2, model__n_estimators=200, preprocessing__num__imputer__strategy=median \n",
      "[CV]  model__max_depth=30, model__max_features=sqrt, model__min_samples_leaf=1, model__min_samples_split=2, model__n_estimators=200, preprocessing__num__imputer__strategy=median, total=   0.5s\n",
      "[CV] model__max_depth=30, model__max_features=sqrt, model__min_samples_leaf=1, model__min_samples_split=2, model__n_estimators=200, preprocessing__num__imputer__strategy=median \n",
      "[CV]  model__max_depth=30, model__max_features=sqrt, model__min_samples_leaf=1, model__min_samples_split=2, model__n_estimators=200, preprocessing__num__imputer__strategy=median, total=   0.5s\n",
      "[CV] model__max_depth=30, model__max_features=sqrt, model__min_samples_leaf=1, model__min_samples_split=2, model__n_estimators=500, preprocessing__num__imputer__strategy=mean \n",
      "[CV]  model__max_depth=30, model__max_features=sqrt, model__min_samples_leaf=1, model__min_samples_split=2, model__n_estimators=500, preprocessing__num__imputer__strategy=mean, total=   1.1s\n",
      "[CV] model__max_depth=30, model__max_features=sqrt, model__min_samples_leaf=1, model__min_samples_split=2, model__n_estimators=500, preprocessing__num__imputer__strategy=mean \n",
      "[CV]  model__max_depth=30, model__max_features=sqrt, model__min_samples_leaf=1, model__min_samples_split=2, model__n_estimators=500, preprocessing__num__imputer__strategy=mean, total=   1.0s\n",
      "[CV] model__max_depth=30, model__max_features=sqrt, model__min_samples_leaf=1, model__min_samples_split=2, model__n_estimators=500, preprocessing__num__imputer__strategy=mean \n"
     ]
    },
    {
     "name": "stdout",
     "output_type": "stream",
     "text": [
      "[CV]  model__max_depth=30, model__max_features=sqrt, model__min_samples_leaf=1, model__min_samples_split=2, model__n_estimators=500, preprocessing__num__imputer__strategy=mean, total=   1.1s\n",
      "[CV] model__max_depth=30, model__max_features=sqrt, model__min_samples_leaf=1, model__min_samples_split=2, model__n_estimators=500, preprocessing__num__imputer__strategy=mean \n",
      "[CV]  model__max_depth=30, model__max_features=sqrt, model__min_samples_leaf=1, model__min_samples_split=2, model__n_estimators=500, preprocessing__num__imputer__strategy=mean, total=   1.1s\n",
      "[CV] model__max_depth=30, model__max_features=sqrt, model__min_samples_leaf=1, model__min_samples_split=2, model__n_estimators=500, preprocessing__num__imputer__strategy=mean \n",
      "[CV]  model__max_depth=30, model__max_features=sqrt, model__min_samples_leaf=1, model__min_samples_split=2, model__n_estimators=500, preprocessing__num__imputer__strategy=mean, total=   2.3s\n",
      "[CV] model__max_depth=30, model__max_features=sqrt, model__min_samples_leaf=1, model__min_samples_split=2, model__n_estimators=500, preprocessing__num__imputer__strategy=median \n",
      "[CV]  model__max_depth=30, model__max_features=sqrt, model__min_samples_leaf=1, model__min_samples_split=2, model__n_estimators=500, preprocessing__num__imputer__strategy=median, total=   1.1s\n",
      "[CV] model__max_depth=30, model__max_features=sqrt, model__min_samples_leaf=1, model__min_samples_split=2, model__n_estimators=500, preprocessing__num__imputer__strategy=median \n",
      "[CV]  model__max_depth=30, model__max_features=sqrt, model__min_samples_leaf=1, model__min_samples_split=2, model__n_estimators=500, preprocessing__num__imputer__strategy=median, total=   1.0s\n",
      "[CV] model__max_depth=30, model__max_features=sqrt, model__min_samples_leaf=1, model__min_samples_split=2, model__n_estimators=500, preprocessing__num__imputer__strategy=median \n",
      "[CV]  model__max_depth=30, model__max_features=sqrt, model__min_samples_leaf=1, model__min_samples_split=2, model__n_estimators=500, preprocessing__num__imputer__strategy=median, total=   1.0s\n",
      "[CV] model__max_depth=30, model__max_features=sqrt, model__min_samples_leaf=1, model__min_samples_split=2, model__n_estimators=500, preprocessing__num__imputer__strategy=median \n",
      "[CV]  model__max_depth=30, model__max_features=sqrt, model__min_samples_leaf=1, model__min_samples_split=2, model__n_estimators=500, preprocessing__num__imputer__strategy=median, total=   1.6s\n",
      "[CV] model__max_depth=30, model__max_features=sqrt, model__min_samples_leaf=1, model__min_samples_split=2, model__n_estimators=500, preprocessing__num__imputer__strategy=median \n",
      "[CV]  model__max_depth=30, model__max_features=sqrt, model__min_samples_leaf=1, model__min_samples_split=2, model__n_estimators=500, preprocessing__num__imputer__strategy=median, total=   1.1s\n",
      "[CV] model__max_depth=30, model__max_features=sqrt, model__min_samples_leaf=1, model__min_samples_split=4, model__n_estimators=100, preprocessing__num__imputer__strategy=mean \n",
      "[CV]  model__max_depth=30, model__max_features=sqrt, model__min_samples_leaf=1, model__min_samples_split=4, model__n_estimators=100, preprocessing__num__imputer__strategy=mean, total=   0.2s\n",
      "[CV] model__max_depth=30, model__max_features=sqrt, model__min_samples_leaf=1, model__min_samples_split=4, model__n_estimators=100, preprocessing__num__imputer__strategy=mean \n",
      "[CV]  model__max_depth=30, model__max_features=sqrt, model__min_samples_leaf=1, model__min_samples_split=4, model__n_estimators=100, preprocessing__num__imputer__strategy=mean, total=   0.5s\n",
      "[CV] model__max_depth=30, model__max_features=sqrt, model__min_samples_leaf=1, model__min_samples_split=4, model__n_estimators=100, preprocessing__num__imputer__strategy=mean \n",
      "[CV]  model__max_depth=30, model__max_features=sqrt, model__min_samples_leaf=1, model__min_samples_split=4, model__n_estimators=100, preprocessing__num__imputer__strategy=mean, total=   0.6s\n",
      "[CV] model__max_depth=30, model__max_features=sqrt, model__min_samples_leaf=1, model__min_samples_split=4, model__n_estimators=100, preprocessing__num__imputer__strategy=mean \n",
      "[CV]  model__max_depth=30, model__max_features=sqrt, model__min_samples_leaf=1, model__min_samples_split=4, model__n_estimators=100, preprocessing__num__imputer__strategy=mean, total=   0.6s\n",
      "[CV] model__max_depth=30, model__max_features=sqrt, model__min_samples_leaf=1, model__min_samples_split=4, model__n_estimators=100, preprocessing__num__imputer__strategy=mean \n",
      "[CV]  model__max_depth=30, model__max_features=sqrt, model__min_samples_leaf=1, model__min_samples_split=4, model__n_estimators=100, preprocessing__num__imputer__strategy=mean, total=   0.6s\n",
      "[CV] model__max_depth=30, model__max_features=sqrt, model__min_samples_leaf=1, model__min_samples_split=4, model__n_estimators=100, preprocessing__num__imputer__strategy=median \n",
      "[CV]  model__max_depth=30, model__max_features=sqrt, model__min_samples_leaf=1, model__min_samples_split=4, model__n_estimators=100, preprocessing__num__imputer__strategy=median, total=   0.7s\n",
      "[CV] model__max_depth=30, model__max_features=sqrt, model__min_samples_leaf=1, model__min_samples_split=4, model__n_estimators=100, preprocessing__num__imputer__strategy=median \n",
      "[CV]  model__max_depth=30, model__max_features=sqrt, model__min_samples_leaf=1, model__min_samples_split=4, model__n_estimators=100, preprocessing__num__imputer__strategy=median, total=   0.5s\n",
      "[CV] model__max_depth=30, model__max_features=sqrt, model__min_samples_leaf=1, model__min_samples_split=4, model__n_estimators=100, preprocessing__num__imputer__strategy=median \n",
      "[CV]  model__max_depth=30, model__max_features=sqrt, model__min_samples_leaf=1, model__min_samples_split=4, model__n_estimators=100, preprocessing__num__imputer__strategy=median, total=   0.6s\n",
      "[CV] model__max_depth=30, model__max_features=sqrt, model__min_samples_leaf=1, model__min_samples_split=4, model__n_estimators=100, preprocessing__num__imputer__strategy=median \n",
      "[CV]  model__max_depth=30, model__max_features=sqrt, model__min_samples_leaf=1, model__min_samples_split=4, model__n_estimators=100, preprocessing__num__imputer__strategy=median, total=   0.6s\n",
      "[CV] model__max_depth=30, model__max_features=sqrt, model__min_samples_leaf=1, model__min_samples_split=4, model__n_estimators=100, preprocessing__num__imputer__strategy=median \n",
      "[CV]  model__max_depth=30, model__max_features=sqrt, model__min_samples_leaf=1, model__min_samples_split=4, model__n_estimators=100, preprocessing__num__imputer__strategy=median, total=   0.8s\n",
      "[CV] model__max_depth=30, model__max_features=sqrt, model__min_samples_leaf=1, model__min_samples_split=4, model__n_estimators=200, preprocessing__num__imputer__strategy=mean \n",
      "[CV]  model__max_depth=30, model__max_features=sqrt, model__min_samples_leaf=1, model__min_samples_split=4, model__n_estimators=200, preprocessing__num__imputer__strategy=mean, total=   0.6s\n",
      "[CV] model__max_depth=30, model__max_features=sqrt, model__min_samples_leaf=1, model__min_samples_split=4, model__n_estimators=200, preprocessing__num__imputer__strategy=mean \n",
      "[CV]  model__max_depth=30, model__max_features=sqrt, model__min_samples_leaf=1, model__min_samples_split=4, model__n_estimators=200, preprocessing__num__imputer__strategy=mean, total=   0.5s\n",
      "[CV] model__max_depth=30, model__max_features=sqrt, model__min_samples_leaf=1, model__min_samples_split=4, model__n_estimators=200, preprocessing__num__imputer__strategy=mean \n",
      "[CV]  model__max_depth=30, model__max_features=sqrt, model__min_samples_leaf=1, model__min_samples_split=4, model__n_estimators=200, preprocessing__num__imputer__strategy=mean, total=   0.4s\n",
      "[CV] model__max_depth=30, model__max_features=sqrt, model__min_samples_leaf=1, model__min_samples_split=4, model__n_estimators=200, preprocessing__num__imputer__strategy=mean \n",
      "[CV]  model__max_depth=30, model__max_features=sqrt, model__min_samples_leaf=1, model__min_samples_split=4, model__n_estimators=200, preprocessing__num__imputer__strategy=mean, total=   0.4s\n",
      "[CV] model__max_depth=30, model__max_features=sqrt, model__min_samples_leaf=1, model__min_samples_split=4, model__n_estimators=200, preprocessing__num__imputer__strategy=mean \n",
      "[CV]  model__max_depth=30, model__max_features=sqrt, model__min_samples_leaf=1, model__min_samples_split=4, model__n_estimators=200, preprocessing__num__imputer__strategy=mean, total=   0.4s\n",
      "[CV] model__max_depth=30, model__max_features=sqrt, model__min_samples_leaf=1, model__min_samples_split=4, model__n_estimators=200, preprocessing__num__imputer__strategy=median \n"
     ]
    },
    {
     "name": "stdout",
     "output_type": "stream",
     "text": [
      "[CV]  model__max_depth=30, model__max_features=sqrt, model__min_samples_leaf=1, model__min_samples_split=4, model__n_estimators=200, preprocessing__num__imputer__strategy=median, total=   0.4s\n",
      "[CV] model__max_depth=30, model__max_features=sqrt, model__min_samples_leaf=1, model__min_samples_split=4, model__n_estimators=200, preprocessing__num__imputer__strategy=median \n",
      "[CV]  model__max_depth=30, model__max_features=sqrt, model__min_samples_leaf=1, model__min_samples_split=4, model__n_estimators=200, preprocessing__num__imputer__strategy=median, total=   0.4s\n",
      "[CV] model__max_depth=30, model__max_features=sqrt, model__min_samples_leaf=1, model__min_samples_split=4, model__n_estimators=200, preprocessing__num__imputer__strategy=median \n",
      "[CV]  model__max_depth=30, model__max_features=sqrt, model__min_samples_leaf=1, model__min_samples_split=4, model__n_estimators=200, preprocessing__num__imputer__strategy=median, total=   0.4s\n",
      "[CV] model__max_depth=30, model__max_features=sqrt, model__min_samples_leaf=1, model__min_samples_split=4, model__n_estimators=200, preprocessing__num__imputer__strategy=median \n",
      "[CV]  model__max_depth=30, model__max_features=sqrt, model__min_samples_leaf=1, model__min_samples_split=4, model__n_estimators=200, preprocessing__num__imputer__strategy=median, total=   0.4s\n",
      "[CV] model__max_depth=30, model__max_features=sqrt, model__min_samples_leaf=1, model__min_samples_split=4, model__n_estimators=200, preprocessing__num__imputer__strategy=median \n",
      "[CV]  model__max_depth=30, model__max_features=sqrt, model__min_samples_leaf=1, model__min_samples_split=4, model__n_estimators=200, preprocessing__num__imputer__strategy=median, total=   0.4s\n",
      "[CV] model__max_depth=30, model__max_features=sqrt, model__min_samples_leaf=1, model__min_samples_split=4, model__n_estimators=500, preprocessing__num__imputer__strategy=mean \n",
      "[CV]  model__max_depth=30, model__max_features=sqrt, model__min_samples_leaf=1, model__min_samples_split=4, model__n_estimators=500, preprocessing__num__imputer__strategy=mean, total=   1.0s\n",
      "[CV] model__max_depth=30, model__max_features=sqrt, model__min_samples_leaf=1, model__min_samples_split=4, model__n_estimators=500, preprocessing__num__imputer__strategy=mean \n",
      "[CV]  model__max_depth=30, model__max_features=sqrt, model__min_samples_leaf=1, model__min_samples_split=4, model__n_estimators=500, preprocessing__num__imputer__strategy=mean, total=   0.9s\n",
      "[CV] model__max_depth=30, model__max_features=sqrt, model__min_samples_leaf=1, model__min_samples_split=4, model__n_estimators=500, preprocessing__num__imputer__strategy=mean \n",
      "[CV]  model__max_depth=30, model__max_features=sqrt, model__min_samples_leaf=1, model__min_samples_split=4, model__n_estimators=500, preprocessing__num__imputer__strategy=mean, total=   1.9s\n",
      "[CV] model__max_depth=30, model__max_features=sqrt, model__min_samples_leaf=1, model__min_samples_split=4, model__n_estimators=500, preprocessing__num__imputer__strategy=mean \n",
      "[CV]  model__max_depth=30, model__max_features=sqrt, model__min_samples_leaf=1, model__min_samples_split=4, model__n_estimators=500, preprocessing__num__imputer__strategy=mean, total=   2.5s\n",
      "[CV] model__max_depth=30, model__max_features=sqrt, model__min_samples_leaf=1, model__min_samples_split=4, model__n_estimators=500, preprocessing__num__imputer__strategy=mean \n",
      "[CV]  model__max_depth=30, model__max_features=sqrt, model__min_samples_leaf=1, model__min_samples_split=4, model__n_estimators=500, preprocessing__num__imputer__strategy=mean, total=   1.3s\n",
      "[CV] model__max_depth=30, model__max_features=sqrt, model__min_samples_leaf=1, model__min_samples_split=4, model__n_estimators=500, preprocessing__num__imputer__strategy=median \n",
      "[CV]  model__max_depth=30, model__max_features=sqrt, model__min_samples_leaf=1, model__min_samples_split=4, model__n_estimators=500, preprocessing__num__imputer__strategy=median, total=   1.3s\n",
      "[CV] model__max_depth=30, model__max_features=sqrt, model__min_samples_leaf=1, model__min_samples_split=4, model__n_estimators=500, preprocessing__num__imputer__strategy=median \n",
      "[CV]  model__max_depth=30, model__max_features=sqrt, model__min_samples_leaf=1, model__min_samples_split=4, model__n_estimators=500, preprocessing__num__imputer__strategy=median, total=   2.9s\n",
      "[CV] model__max_depth=30, model__max_features=sqrt, model__min_samples_leaf=1, model__min_samples_split=4, model__n_estimators=500, preprocessing__num__imputer__strategy=median \n",
      "[CV]  model__max_depth=30, model__max_features=sqrt, model__min_samples_leaf=1, model__min_samples_split=4, model__n_estimators=500, preprocessing__num__imputer__strategy=median, total=   1.1s\n",
      "[CV] model__max_depth=30, model__max_features=sqrt, model__min_samples_leaf=1, model__min_samples_split=4, model__n_estimators=500, preprocessing__num__imputer__strategy=median \n",
      "[CV]  model__max_depth=30, model__max_features=sqrt, model__min_samples_leaf=1, model__min_samples_split=4, model__n_estimators=500, preprocessing__num__imputer__strategy=median, total=   1.0s\n",
      "[CV] model__max_depth=30, model__max_features=sqrt, model__min_samples_leaf=1, model__min_samples_split=4, model__n_estimators=500, preprocessing__num__imputer__strategy=median \n",
      "[CV]  model__max_depth=30, model__max_features=sqrt, model__min_samples_leaf=1, model__min_samples_split=4, model__n_estimators=500, preprocessing__num__imputer__strategy=median, total=   1.1s\n",
      "[CV] model__max_depth=30, model__max_features=sqrt, model__min_samples_leaf=2, model__min_samples_split=2, model__n_estimators=100, preprocessing__num__imputer__strategy=mean \n",
      "[CV]  model__max_depth=30, model__max_features=sqrt, model__min_samples_leaf=2, model__min_samples_split=2, model__n_estimators=100, preprocessing__num__imputer__strategy=mean, total=   0.3s\n",
      "[CV] model__max_depth=30, model__max_features=sqrt, model__min_samples_leaf=2, model__min_samples_split=2, model__n_estimators=100, preprocessing__num__imputer__strategy=mean \n",
      "[CV]  model__max_depth=30, model__max_features=sqrt, model__min_samples_leaf=2, model__min_samples_split=2, model__n_estimators=100, preprocessing__num__imputer__strategy=mean, total=   0.2s\n",
      "[CV] model__max_depth=30, model__max_features=sqrt, model__min_samples_leaf=2, model__min_samples_split=2, model__n_estimators=100, preprocessing__num__imputer__strategy=mean \n",
      "[CV]  model__max_depth=30, model__max_features=sqrt, model__min_samples_leaf=2, model__min_samples_split=2, model__n_estimators=100, preprocessing__num__imputer__strategy=mean, total=   0.3s\n",
      "[CV] model__max_depth=30, model__max_features=sqrt, model__min_samples_leaf=2, model__min_samples_split=2, model__n_estimators=100, preprocessing__num__imputer__strategy=mean \n",
      "[CV]  model__max_depth=30, model__max_features=sqrt, model__min_samples_leaf=2, model__min_samples_split=2, model__n_estimators=100, preprocessing__num__imputer__strategy=mean, total=   0.2s\n",
      "[CV] model__max_depth=30, model__max_features=sqrt, model__min_samples_leaf=2, model__min_samples_split=2, model__n_estimators=100, preprocessing__num__imputer__strategy=mean \n",
      "[CV]  model__max_depth=30, model__max_features=sqrt, model__min_samples_leaf=2, model__min_samples_split=2, model__n_estimators=100, preprocessing__num__imputer__strategy=mean, total=   0.2s\n",
      "[CV] model__max_depth=30, model__max_features=sqrt, model__min_samples_leaf=2, model__min_samples_split=2, model__n_estimators=100, preprocessing__num__imputer__strategy=median \n",
      "[CV]  model__max_depth=30, model__max_features=sqrt, model__min_samples_leaf=2, model__min_samples_split=2, model__n_estimators=100, preprocessing__num__imputer__strategy=median, total=   0.3s\n",
      "[CV] model__max_depth=30, model__max_features=sqrt, model__min_samples_leaf=2, model__min_samples_split=2, model__n_estimators=100, preprocessing__num__imputer__strategy=median \n",
      "[CV]  model__max_depth=30, model__max_features=sqrt, model__min_samples_leaf=2, model__min_samples_split=2, model__n_estimators=100, preprocessing__num__imputer__strategy=median, total=   0.2s\n",
      "[CV] model__max_depth=30, model__max_features=sqrt, model__min_samples_leaf=2, model__min_samples_split=2, model__n_estimators=100, preprocessing__num__imputer__strategy=median \n",
      "[CV]  model__max_depth=30, model__max_features=sqrt, model__min_samples_leaf=2, model__min_samples_split=2, model__n_estimators=100, preprocessing__num__imputer__strategy=median, total=   0.2s\n",
      "[CV] model__max_depth=30, model__max_features=sqrt, model__min_samples_leaf=2, model__min_samples_split=2, model__n_estimators=100, preprocessing__num__imputer__strategy=median \n"
     ]
    },
    {
     "name": "stdout",
     "output_type": "stream",
     "text": [
      "[CV]  model__max_depth=30, model__max_features=sqrt, model__min_samples_leaf=2, model__min_samples_split=2, model__n_estimators=100, preprocessing__num__imputer__strategy=median, total=   0.2s\n",
      "[CV] model__max_depth=30, model__max_features=sqrt, model__min_samples_leaf=2, model__min_samples_split=2, model__n_estimators=100, preprocessing__num__imputer__strategy=median \n",
      "[CV]  model__max_depth=30, model__max_features=sqrt, model__min_samples_leaf=2, model__min_samples_split=2, model__n_estimators=100, preprocessing__num__imputer__strategy=median, total=   0.2s\n",
      "[CV] model__max_depth=30, model__max_features=sqrt, model__min_samples_leaf=2, model__min_samples_split=2, model__n_estimators=200, preprocessing__num__imputer__strategy=mean \n",
      "[CV]  model__max_depth=30, model__max_features=sqrt, model__min_samples_leaf=2, model__min_samples_split=2, model__n_estimators=200, preprocessing__num__imputer__strategy=mean, total=   0.4s\n",
      "[CV] model__max_depth=30, model__max_features=sqrt, model__min_samples_leaf=2, model__min_samples_split=2, model__n_estimators=200, preprocessing__num__imputer__strategy=mean \n",
      "[CV]  model__max_depth=30, model__max_features=sqrt, model__min_samples_leaf=2, model__min_samples_split=2, model__n_estimators=200, preprocessing__num__imputer__strategy=mean, total=   0.4s\n",
      "[CV] model__max_depth=30, model__max_features=sqrt, model__min_samples_leaf=2, model__min_samples_split=2, model__n_estimators=200, preprocessing__num__imputer__strategy=mean \n",
      "[CV]  model__max_depth=30, model__max_features=sqrt, model__min_samples_leaf=2, model__min_samples_split=2, model__n_estimators=200, preprocessing__num__imputer__strategy=mean, total=   0.7s\n",
      "[CV] model__max_depth=30, model__max_features=sqrt, model__min_samples_leaf=2, model__min_samples_split=2, model__n_estimators=200, preprocessing__num__imputer__strategy=mean \n",
      "[CV]  model__max_depth=30, model__max_features=sqrt, model__min_samples_leaf=2, model__min_samples_split=2, model__n_estimators=200, preprocessing__num__imputer__strategy=mean, total=   0.9s\n",
      "[CV] model__max_depth=30, model__max_features=sqrt, model__min_samples_leaf=2, model__min_samples_split=2, model__n_estimators=200, preprocessing__num__imputer__strategy=mean \n",
      "[CV]  model__max_depth=30, model__max_features=sqrt, model__min_samples_leaf=2, model__min_samples_split=2, model__n_estimators=200, preprocessing__num__imputer__strategy=mean, total=   0.4s\n",
      "[CV] model__max_depth=30, model__max_features=sqrt, model__min_samples_leaf=2, model__min_samples_split=2, model__n_estimators=200, preprocessing__num__imputer__strategy=median \n",
      "[CV]  model__max_depth=30, model__max_features=sqrt, model__min_samples_leaf=2, model__min_samples_split=2, model__n_estimators=200, preprocessing__num__imputer__strategy=median, total=   0.4s\n",
      "[CV] model__max_depth=30, model__max_features=sqrt, model__min_samples_leaf=2, model__min_samples_split=2, model__n_estimators=200, preprocessing__num__imputer__strategy=median \n",
      "[CV]  model__max_depth=30, model__max_features=sqrt, model__min_samples_leaf=2, model__min_samples_split=2, model__n_estimators=200, preprocessing__num__imputer__strategy=median, total=   1.5s\n",
      "[CV] model__max_depth=30, model__max_features=sqrt, model__min_samples_leaf=2, model__min_samples_split=2, model__n_estimators=200, preprocessing__num__imputer__strategy=median \n",
      "[CV]  model__max_depth=30, model__max_features=sqrt, model__min_samples_leaf=2, model__min_samples_split=2, model__n_estimators=200, preprocessing__num__imputer__strategy=median, total=   2.0s\n",
      "[CV] model__max_depth=30, model__max_features=sqrt, model__min_samples_leaf=2, model__min_samples_split=2, model__n_estimators=200, preprocessing__num__imputer__strategy=median \n",
      "[CV]  model__max_depth=30, model__max_features=sqrt, model__min_samples_leaf=2, model__min_samples_split=2, model__n_estimators=200, preprocessing__num__imputer__strategy=median, total=   1.4s\n",
      "[CV] model__max_depth=30, model__max_features=sqrt, model__min_samples_leaf=2, model__min_samples_split=2, model__n_estimators=200, preprocessing__num__imputer__strategy=median \n",
      "[CV]  model__max_depth=30, model__max_features=sqrt, model__min_samples_leaf=2, model__min_samples_split=2, model__n_estimators=200, preprocessing__num__imputer__strategy=median, total=   0.4s\n",
      "[CV] model__max_depth=30, model__max_features=sqrt, model__min_samples_leaf=2, model__min_samples_split=2, model__n_estimators=500, preprocessing__num__imputer__strategy=mean \n",
      "[CV]  model__max_depth=30, model__max_features=sqrt, model__min_samples_leaf=2, model__min_samples_split=2, model__n_estimators=500, preprocessing__num__imputer__strategy=mean, total=   1.0s\n",
      "[CV] model__max_depth=30, model__max_features=sqrt, model__min_samples_leaf=2, model__min_samples_split=2, model__n_estimators=500, preprocessing__num__imputer__strategy=mean \n",
      "[CV]  model__max_depth=30, model__max_features=sqrt, model__min_samples_leaf=2, model__min_samples_split=2, model__n_estimators=500, preprocessing__num__imputer__strategy=mean, total=   0.9s\n",
      "[CV] model__max_depth=30, model__max_features=sqrt, model__min_samples_leaf=2, model__min_samples_split=2, model__n_estimators=500, preprocessing__num__imputer__strategy=mean \n",
      "[CV]  model__max_depth=30, model__max_features=sqrt, model__min_samples_leaf=2, model__min_samples_split=2, model__n_estimators=500, preprocessing__num__imputer__strategy=mean, total=   1.7s\n",
      "[CV] model__max_depth=30, model__max_features=sqrt, model__min_samples_leaf=2, model__min_samples_split=2, model__n_estimators=500, preprocessing__num__imputer__strategy=mean \n",
      "[CV]  model__max_depth=30, model__max_features=sqrt, model__min_samples_leaf=2, model__min_samples_split=2, model__n_estimators=500, preprocessing__num__imputer__strategy=mean, total=   1.2s\n",
      "[CV] model__max_depth=30, model__max_features=sqrt, model__min_samples_leaf=2, model__min_samples_split=2, model__n_estimators=500, preprocessing__num__imputer__strategy=mean \n",
      "[CV]  model__max_depth=30, model__max_features=sqrt, model__min_samples_leaf=2, model__min_samples_split=2, model__n_estimators=500, preprocessing__num__imputer__strategy=mean, total=   1.9s\n",
      "[CV] model__max_depth=30, model__max_features=sqrt, model__min_samples_leaf=2, model__min_samples_split=2, model__n_estimators=500, preprocessing__num__imputer__strategy=median \n",
      "[CV]  model__max_depth=30, model__max_features=sqrt, model__min_samples_leaf=2, model__min_samples_split=2, model__n_estimators=500, preprocessing__num__imputer__strategy=median, total=   4.2s\n",
      "[CV] model__max_depth=30, model__max_features=sqrt, model__min_samples_leaf=2, model__min_samples_split=2, model__n_estimators=500, preprocessing__num__imputer__strategy=median \n",
      "[CV]  model__max_depth=30, model__max_features=sqrt, model__min_samples_leaf=2, model__min_samples_split=2, model__n_estimators=500, preprocessing__num__imputer__strategy=median, total=   4.3s\n",
      "[CV] model__max_depth=30, model__max_features=sqrt, model__min_samples_leaf=2, model__min_samples_split=2, model__n_estimators=500, preprocessing__num__imputer__strategy=median \n",
      "[CV]  model__max_depth=30, model__max_features=sqrt, model__min_samples_leaf=2, model__min_samples_split=2, model__n_estimators=500, preprocessing__num__imputer__strategy=median, total=   5.3s\n",
      "[CV] model__max_depth=30, model__max_features=sqrt, model__min_samples_leaf=2, model__min_samples_split=2, model__n_estimators=500, preprocessing__num__imputer__strategy=median \n",
      "[CV]  model__max_depth=30, model__max_features=sqrt, model__min_samples_leaf=2, model__min_samples_split=2, model__n_estimators=500, preprocessing__num__imputer__strategy=median, total=   3.0s\n",
      "[CV] model__max_depth=30, model__max_features=sqrt, model__min_samples_leaf=2, model__min_samples_split=2, model__n_estimators=500, preprocessing__num__imputer__strategy=median \n",
      "[CV]  model__max_depth=30, model__max_features=sqrt, model__min_samples_leaf=2, model__min_samples_split=2, model__n_estimators=500, preprocessing__num__imputer__strategy=median, total=   1.8s\n",
      "[CV] model__max_depth=30, model__max_features=sqrt, model__min_samples_leaf=2, model__min_samples_split=4, model__n_estimators=100, preprocessing__num__imputer__strategy=mean \n",
      "[CV]  model__max_depth=30, model__max_features=sqrt, model__min_samples_leaf=2, model__min_samples_split=4, model__n_estimators=100, preprocessing__num__imputer__strategy=mean, total=   0.6s\n",
      "[CV] model__max_depth=30, model__max_features=sqrt, model__min_samples_leaf=2, model__min_samples_split=4, model__n_estimators=100, preprocessing__num__imputer__strategy=mean \n"
     ]
    },
    {
     "name": "stdout",
     "output_type": "stream",
     "text": [
      "[CV]  model__max_depth=30, model__max_features=sqrt, model__min_samples_leaf=2, model__min_samples_split=4, model__n_estimators=100, preprocessing__num__imputer__strategy=mean, total=   0.8s\n",
      "[CV] model__max_depth=30, model__max_features=sqrt, model__min_samples_leaf=2, model__min_samples_split=4, model__n_estimators=100, preprocessing__num__imputer__strategy=mean \n",
      "[CV]  model__max_depth=30, model__max_features=sqrt, model__min_samples_leaf=2, model__min_samples_split=4, model__n_estimators=100, preprocessing__num__imputer__strategy=mean, total=   0.4s\n",
      "[CV] model__max_depth=30, model__max_features=sqrt, model__min_samples_leaf=2, model__min_samples_split=4, model__n_estimators=100, preprocessing__num__imputer__strategy=mean \n",
      "[CV]  model__max_depth=30, model__max_features=sqrt, model__min_samples_leaf=2, model__min_samples_split=4, model__n_estimators=100, preprocessing__num__imputer__strategy=mean, total=   0.6s\n",
      "[CV] model__max_depth=30, model__max_features=sqrt, model__min_samples_leaf=2, model__min_samples_split=4, model__n_estimators=100, preprocessing__num__imputer__strategy=mean \n",
      "[CV]  model__max_depth=30, model__max_features=sqrt, model__min_samples_leaf=2, model__min_samples_split=4, model__n_estimators=100, preprocessing__num__imputer__strategy=mean, total=   0.9s\n",
      "[CV] model__max_depth=30, model__max_features=sqrt, model__min_samples_leaf=2, model__min_samples_split=4, model__n_estimators=100, preprocessing__num__imputer__strategy=median \n",
      "[CV]  model__max_depth=30, model__max_features=sqrt, model__min_samples_leaf=2, model__min_samples_split=4, model__n_estimators=100, preprocessing__num__imputer__strategy=median, total=   0.4s\n",
      "[CV] model__max_depth=30, model__max_features=sqrt, model__min_samples_leaf=2, model__min_samples_split=4, model__n_estimators=100, preprocessing__num__imputer__strategy=median \n",
      "[CV]  model__max_depth=30, model__max_features=sqrt, model__min_samples_leaf=2, model__min_samples_split=4, model__n_estimators=100, preprocessing__num__imputer__strategy=median, total=   0.6s\n",
      "[CV] model__max_depth=30, model__max_features=sqrt, model__min_samples_leaf=2, model__min_samples_split=4, model__n_estimators=100, preprocessing__num__imputer__strategy=median \n",
      "[CV]  model__max_depth=30, model__max_features=sqrt, model__min_samples_leaf=2, model__min_samples_split=4, model__n_estimators=100, preprocessing__num__imputer__strategy=median, total=   1.1s\n",
      "[CV] model__max_depth=30, model__max_features=sqrt, model__min_samples_leaf=2, model__min_samples_split=4, model__n_estimators=100, preprocessing__num__imputer__strategy=median \n",
      "[CV]  model__max_depth=30, model__max_features=sqrt, model__min_samples_leaf=2, model__min_samples_split=4, model__n_estimators=100, preprocessing__num__imputer__strategy=median, total=   0.9s\n",
      "[CV] model__max_depth=30, model__max_features=sqrt, model__min_samples_leaf=2, model__min_samples_split=4, model__n_estimators=100, preprocessing__num__imputer__strategy=median \n",
      "[CV]  model__max_depth=30, model__max_features=sqrt, model__min_samples_leaf=2, model__min_samples_split=4, model__n_estimators=100, preprocessing__num__imputer__strategy=median, total=   1.0s\n",
      "[CV] model__max_depth=30, model__max_features=sqrt, model__min_samples_leaf=2, model__min_samples_split=4, model__n_estimators=200, preprocessing__num__imputer__strategy=mean \n",
      "[CV]  model__max_depth=30, model__max_features=sqrt, model__min_samples_leaf=2, model__min_samples_split=4, model__n_estimators=200, preprocessing__num__imputer__strategy=mean, total=   0.8s\n",
      "[CV] model__max_depth=30, model__max_features=sqrt, model__min_samples_leaf=2, model__min_samples_split=4, model__n_estimators=200, preprocessing__num__imputer__strategy=mean \n",
      "[CV]  model__max_depth=30, model__max_features=sqrt, model__min_samples_leaf=2, model__min_samples_split=4, model__n_estimators=200, preprocessing__num__imputer__strategy=mean, total=   0.6s\n",
      "[CV] model__max_depth=30, model__max_features=sqrt, model__min_samples_leaf=2, model__min_samples_split=4, model__n_estimators=200, preprocessing__num__imputer__strategy=mean \n",
      "[CV]  model__max_depth=30, model__max_features=sqrt, model__min_samples_leaf=2, model__min_samples_split=4, model__n_estimators=200, preprocessing__num__imputer__strategy=mean, total=   1.1s\n",
      "[CV] model__max_depth=30, model__max_features=sqrt, model__min_samples_leaf=2, model__min_samples_split=4, model__n_estimators=200, preprocessing__num__imputer__strategy=mean \n",
      "[CV]  model__max_depth=30, model__max_features=sqrt, model__min_samples_leaf=2, model__min_samples_split=4, model__n_estimators=200, preprocessing__num__imputer__strategy=mean, total=   1.1s\n",
      "[CV] model__max_depth=30, model__max_features=sqrt, model__min_samples_leaf=2, model__min_samples_split=4, model__n_estimators=200, preprocessing__num__imputer__strategy=mean \n",
      "[CV]  model__max_depth=30, model__max_features=sqrt, model__min_samples_leaf=2, model__min_samples_split=4, model__n_estimators=200, preprocessing__num__imputer__strategy=mean, total=   0.5s\n",
      "[CV] model__max_depth=30, model__max_features=sqrt, model__min_samples_leaf=2, model__min_samples_split=4, model__n_estimators=200, preprocessing__num__imputer__strategy=median \n",
      "[CV]  model__max_depth=30, model__max_features=sqrt, model__min_samples_leaf=2, model__min_samples_split=4, model__n_estimators=200, preprocessing__num__imputer__strategy=median, total=   0.5s\n",
      "[CV] model__max_depth=30, model__max_features=sqrt, model__min_samples_leaf=2, model__min_samples_split=4, model__n_estimators=200, preprocessing__num__imputer__strategy=median \n",
      "[CV]  model__max_depth=30, model__max_features=sqrt, model__min_samples_leaf=2, model__min_samples_split=4, model__n_estimators=200, preprocessing__num__imputer__strategy=median, total=   1.0s\n",
      "[CV] model__max_depth=30, model__max_features=sqrt, model__min_samples_leaf=2, model__min_samples_split=4, model__n_estimators=200, preprocessing__num__imputer__strategy=median \n",
      "[CV]  model__max_depth=30, model__max_features=sqrt, model__min_samples_leaf=2, model__min_samples_split=4, model__n_estimators=200, preprocessing__num__imputer__strategy=median, total=   0.7s\n",
      "[CV] model__max_depth=30, model__max_features=sqrt, model__min_samples_leaf=2, model__min_samples_split=4, model__n_estimators=200, preprocessing__num__imputer__strategy=median \n",
      "[CV]  model__max_depth=30, model__max_features=sqrt, model__min_samples_leaf=2, model__min_samples_split=4, model__n_estimators=200, preprocessing__num__imputer__strategy=median, total=   0.5s\n",
      "[CV] model__max_depth=30, model__max_features=sqrt, model__min_samples_leaf=2, model__min_samples_split=4, model__n_estimators=200, preprocessing__num__imputer__strategy=median \n",
      "[CV]  model__max_depth=30, model__max_features=sqrt, model__min_samples_leaf=2, model__min_samples_split=4, model__n_estimators=200, preprocessing__num__imputer__strategy=median, total=   0.4s\n",
      "[CV] model__max_depth=30, model__max_features=sqrt, model__min_samples_leaf=2, model__min_samples_split=4, model__n_estimators=500, preprocessing__num__imputer__strategy=mean \n",
      "[CV]  model__max_depth=30, model__max_features=sqrt, model__min_samples_leaf=2, model__min_samples_split=4, model__n_estimators=500, preprocessing__num__imputer__strategy=mean, total=   0.9s\n",
      "[CV] model__max_depth=30, model__max_features=sqrt, model__min_samples_leaf=2, model__min_samples_split=4, model__n_estimators=500, preprocessing__num__imputer__strategy=mean \n",
      "[CV]  model__max_depth=30, model__max_features=sqrt, model__min_samples_leaf=2, model__min_samples_split=4, model__n_estimators=500, preprocessing__num__imputer__strategy=mean, total=   0.9s\n",
      "[CV] model__max_depth=30, model__max_features=sqrt, model__min_samples_leaf=2, model__min_samples_split=4, model__n_estimators=500, preprocessing__num__imputer__strategy=mean \n",
      "[CV]  model__max_depth=30, model__max_features=sqrt, model__min_samples_leaf=2, model__min_samples_split=4, model__n_estimators=500, preprocessing__num__imputer__strategy=mean, total=   0.9s\n",
      "[CV] model__max_depth=30, model__max_features=sqrt, model__min_samples_leaf=2, model__min_samples_split=4, model__n_estimators=500, preprocessing__num__imputer__strategy=mean \n",
      "[CV]  model__max_depth=30, model__max_features=sqrt, model__min_samples_leaf=2, model__min_samples_split=4, model__n_estimators=500, preprocessing__num__imputer__strategy=mean, total=   1.8s\n",
      "[CV] model__max_depth=30, model__max_features=sqrt, model__min_samples_leaf=2, model__min_samples_split=4, model__n_estimators=500, preprocessing__num__imputer__strategy=mean \n"
     ]
    },
    {
     "name": "stdout",
     "output_type": "stream",
     "text": [
      "[CV]  model__max_depth=30, model__max_features=sqrt, model__min_samples_leaf=2, model__min_samples_split=4, model__n_estimators=500, preprocessing__num__imputer__strategy=mean, total=   2.6s\n",
      "[CV] model__max_depth=30, model__max_features=sqrt, model__min_samples_leaf=2, model__min_samples_split=4, model__n_estimators=500, preprocessing__num__imputer__strategy=median \n",
      "[CV]  model__max_depth=30, model__max_features=sqrt, model__min_samples_leaf=2, model__min_samples_split=4, model__n_estimators=500, preprocessing__num__imputer__strategy=median, total=   1.1s\n",
      "[CV] model__max_depth=30, model__max_features=sqrt, model__min_samples_leaf=2, model__min_samples_split=4, model__n_estimators=500, preprocessing__num__imputer__strategy=median \n",
      "[CV]  model__max_depth=30, model__max_features=sqrt, model__min_samples_leaf=2, model__min_samples_split=4, model__n_estimators=500, preprocessing__num__imputer__strategy=median, total=   0.9s\n",
      "[CV] model__max_depth=30, model__max_features=sqrt, model__min_samples_leaf=2, model__min_samples_split=4, model__n_estimators=500, preprocessing__num__imputer__strategy=median \n",
      "[CV]  model__max_depth=30, model__max_features=sqrt, model__min_samples_leaf=2, model__min_samples_split=4, model__n_estimators=500, preprocessing__num__imputer__strategy=median, total=   0.9s\n",
      "[CV] model__max_depth=30, model__max_features=sqrt, model__min_samples_leaf=2, model__min_samples_split=4, model__n_estimators=500, preprocessing__num__imputer__strategy=median \n",
      "[CV]  model__max_depth=30, model__max_features=sqrt, model__min_samples_leaf=2, model__min_samples_split=4, model__n_estimators=500, preprocessing__num__imputer__strategy=median, total=   0.9s\n",
      "[CV] model__max_depth=30, model__max_features=sqrt, model__min_samples_leaf=2, model__min_samples_split=4, model__n_estimators=500, preprocessing__num__imputer__strategy=median \n",
      "[CV]  model__max_depth=30, model__max_features=sqrt, model__min_samples_leaf=2, model__min_samples_split=4, model__n_estimators=500, preprocessing__num__imputer__strategy=median, total=   0.9s\n"
     ]
    },
    {
     "name": "stderr",
     "output_type": "stream",
     "text": [
      "[Parallel(n_jobs=1)]: Done 720 out of 720 | elapsed: 11.1min finished\n"
     ]
    },
    {
     "data": {
      "text/plain": [
       "GridSearchCV(cv=5, error_score=nan,\n",
       "             estimator=Pipeline(memory=None,\n",
       "                                steps=[('preprocessing',\n",
       "                                        ColumnTransformer(n_jobs=None,\n",
       "                                                          remainder='drop',\n",
       "                                                          sparse_threshold=0.3,\n",
       "                                                          transformer_weights=None,\n",
       "                                                          transformers=[('cat',\n",
       "                                                                         Pipeline(memory=None,\n",
       "                                                                                  steps=[('imputer',\n",
       "                                                                                          SimpleImputer(add_indicator=False,\n",
       "                                                                                                        copy=True,\n",
       "                                                                                                        fill_value='missing',\n",
       "                                                                                                        missing_values=nan,\n",
       "                                                                                                        strategy='constant',\n",
       "                                                                                                        verb...\n",
       "             iid='deprecated', n_jobs=None,\n",
       "             param_grid={'model__max_depth': [10, 20, 30],\n",
       "                         'model__max_features': ['auto', 'sqrt'],\n",
       "                         'model__min_samples_leaf': [1, 2],\n",
       "                         'model__min_samples_split': [2, 4],\n",
       "                         'model__n_estimators': [100, 200, 500],\n",
       "                         'preprocessing__num__imputer__strategy': ['mean',\n",
       "                                                                   'median']},\n",
       "             pre_dispatch='2*n_jobs', refit=True, return_train_score=False,\n",
       "             scoring=None, verbose=2)"
      ]
     },
     "execution_count": 82,
     "metadata": {},
     "output_type": "execute_result"
    }
   ],
   "source": [
    "# Tuning the hyper parameters using GridSearchCV using pipline\n",
    "\n",
    "hparams3 = {\n",
    "    \"preprocessing__num__imputer__strategy\":['mean',\"median\"],\n",
    "    \"model__max_depth\":[10,20,30],\n",
    "    \"model__n_estimators\":[100,200,500],\n",
    "    \"model__min_samples_split\":[2,4],\n",
    "    \"model__min_samples_leaf\":[1,2],\n",
    "    \"model__max_features\":[\"auto\",\"sqrt\"]}\n",
    "\n",
    "my_gscv_model = GridSearchCV(model,hparams3,cv=5,verbose=2)\n",
    "my_gscv_model.fit(X_train,y_train)\n",
    "my_gscv_model.score(X_test,y_test)"
   ]
  },
  {
   "cell_type": "code",
   "execution_count": 83,
   "metadata": {},
   "outputs": [
    {
     "data": {
      "text/plain": [
       "0.9595265915140465"
      ]
     },
     "execution_count": 83,
     "metadata": {},
     "output_type": "execute_result"
    }
   ],
   "source": []
  },
  {
   "cell_type": "code",
   "execution_count": null,
   "metadata": {},
   "outputs": [],
   "source": []
  }
 ],
 "metadata": {
  "kernelspec": {
   "display_name": "Python 3",
   "language": "python",
   "name": "python3"
  },
  "language_info": {
   "codemirror_mode": {
    "name": "ipython",
    "version": 3
   },
   "file_extension": ".py",
   "mimetype": "text/x-python",
   "name": "python",
   "nbconvert_exporter": "python",
   "pygments_lexer": "ipython3",
   "version": "3.8.3"
  }
 },
 "nbformat": 4,
 "nbformat_minor": 4
}
